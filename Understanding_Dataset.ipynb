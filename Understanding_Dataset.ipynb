{
  "nbformat": 4,
  "nbformat_minor": 0,
  "metadata": {
    "colab": {
      "name": "Understanding Dataset.ipynb",
      "provenance": []
    },
    "kernelspec": {
      "name": "python3",
      "display_name": "Python 3"
    },
    "language_info": {
      "name": "python"
    }
  },
  "cells": [
    {
      "cell_type": "code",
      "execution_count": 1,
      "metadata": {
        "id": "NdRbiHS-Wdba"
      },
      "outputs": [],
      "source": [
        "import numpy as np\n",
        "import pandas as pd\n",
        "import matplotlib.pyplot as plt"
      ]
    },
    {
      "cell_type": "code",
      "source": [
        "df2=pd.read_csv(\"/content/mis_ratings_consumer.csv\")"
      ],
      "metadata": {
        "id": "MYJI8H6WW9_C"
      },
      "execution_count": 2,
      "outputs": []
    },
    {
      "cell_type": "code",
      "source": [
        "df2.rename({'Review Submit Date and Time': 'date'}, axis=1, inplace=True)"
      ],
      "metadata": {
        "id": "6-e3wXOxXAlV"
      },
      "execution_count": 3,
      "outputs": []
    },
    {
      "cell_type": "code",
      "source": [
        "from datetime import datetime\n",
        "df2['Finaldates']=pd.to_datetime(df2['date'], format=\"%Y-%m-%dT%H:%M:%SZ\")"
      ],
      "metadata": {
        "id": "GL_hHbdcXCGY"
      },
      "execution_count": 4,
      "outputs": []
    },
    {
      "cell_type": "code",
      "source": [
        "df2['Date&Hour']=df2['Finaldates'].dt.strftime('%Y-%m-%d %H')"
      ],
      "metadata": {
        "id": "r6LtyMydXD46"
      },
      "execution_count": 5,
      "outputs": []
    },
    {
      "cell_type": "code",
      "source": [
        "df2['Year']=df2['Finaldates'].dt.year\n",
        "df2['Month']=df2['Finaldates'].dt.month\n",
        "df2['Hour']=df2['Finaldates'].dt.hour\n",
        "df2['Day']=df2['Finaldates'].dt.day\n",
        "df2['Date']=df2['Finaldates'].dt.date"
      ],
      "metadata": {
        "id": "72nFyVZ1XFT2"
      },
      "execution_count": 6,
      "outputs": []
    },
    {
      "cell_type": "code",
      "source": [
        "df2.head()"
      ],
      "metadata": {
        "colab": {
          "base_uri": "https://localhost:8080/",
          "height": 456
        },
        "id": "fJ00-o7zYhD0",
        "outputId": "5302a432-64ac-48ad-97f1-4f51504f1f1e"
      },
      "execution_count": 7,
      "outputs": [
        {
          "output_type": "execute_result",
          "data": {
            "text/plain": [
              "      Package Name  App Version Code App Version Name Reviewer Language  \\\n",
              "0  com.phonepe.app               NaN              NaN                en   \n",
              "1  com.phonepe.app               NaN              NaN                en   \n",
              "2  com.phonepe.app               NaN              NaN                en   \n",
              "3  com.phonepe.app               NaN              NaN                en   \n",
              "4  com.phonepe.app               NaN              NaN                en   \n",
              "\n",
              "       Device                  date  Review Submit Millis Since Epoch  \\\n",
              "0  hammerhead  2016-08-29T11:27:07Z                     1472470027099   \n",
              "1       P1a42  2016-08-29T11:28:54Z                     1472470134124   \n",
              "2   HM2014818  2016-08-29T11:31:26Z                     1472470286370   \n",
              "3       shamu  2016-08-29T11:32:34Z                     1472470354180   \n",
              "4   HM2014818  2016-08-29T11:31:13Z                     1472470273752   \n",
              "\n",
              "  Review Last Update Date and Time  Review Last Update Millis Since Epoch  \\\n",
              "0             2016-08-29T11:27:07Z                          1472470027099   \n",
              "1             2016-08-29T11:28:54Z                          1472470134124   \n",
              "2             2016-08-29T11:31:26Z                          1472470286370   \n",
              "3             2016-08-29T11:32:34Z                          1472470354180   \n",
              "4             2016-08-29T11:44:48Z                          1472471088140   \n",
              "\n",
              "   Star Rating  ... Developer Reply Millis Since Epoch Developer Reply Text  \\\n",
              "0            5  ...                                NaN                  NaN   \n",
              "1            5  ...                                NaN                  NaN   \n",
              "2            5  ...                                NaN                  NaN   \n",
              "3            5  ...                                NaN                  NaN   \n",
              "4            5  ...                                NaN                  NaN   \n",
              "\n",
              "                                         Review Link          Finaldates  \\\n",
              "0                                                NaN 2016-08-29 11:27:07   \n",
              "1                                                NaN 2016-08-29 11:28:54   \n",
              "2                                                NaN 2016-08-29 11:31:26   \n",
              "3                                                NaN 2016-08-29 11:32:34   \n",
              "4  http://play.google.com/console/developers/6275... 2016-08-29 11:31:13   \n",
              "\n",
              "       Date&Hour  Year Month Hour  Day        Date  \n",
              "0  2016-08-29 11  2016     8   11   29  2016-08-29  \n",
              "1  2016-08-29 11  2016     8   11   29  2016-08-29  \n",
              "2  2016-08-29 11  2016     8   11   29  2016-08-29  \n",
              "3  2016-08-29 11  2016     8   11   29  2016-08-29  \n",
              "4  2016-08-29 11  2016     8   11   29  2016-08-29  \n",
              "\n",
              "[5 rows x 23 columns]"
            ],
            "text/html": [
              "\n",
              "  <div id=\"df-458bd44e-d640-4a74-8e9c-43d69710041f\">\n",
              "    <div class=\"colab-df-container\">\n",
              "      <div>\n",
              "<style scoped>\n",
              "    .dataframe tbody tr th:only-of-type {\n",
              "        vertical-align: middle;\n",
              "    }\n",
              "\n",
              "    .dataframe tbody tr th {\n",
              "        vertical-align: top;\n",
              "    }\n",
              "\n",
              "    .dataframe thead th {\n",
              "        text-align: right;\n",
              "    }\n",
              "</style>\n",
              "<table border=\"1\" class=\"dataframe\">\n",
              "  <thead>\n",
              "    <tr style=\"text-align: right;\">\n",
              "      <th></th>\n",
              "      <th>Package Name</th>\n",
              "      <th>App Version Code</th>\n",
              "      <th>App Version Name</th>\n",
              "      <th>Reviewer Language</th>\n",
              "      <th>Device</th>\n",
              "      <th>date</th>\n",
              "      <th>Review Submit Millis Since Epoch</th>\n",
              "      <th>Review Last Update Date and Time</th>\n",
              "      <th>Review Last Update Millis Since Epoch</th>\n",
              "      <th>Star Rating</th>\n",
              "      <th>...</th>\n",
              "      <th>Developer Reply Millis Since Epoch</th>\n",
              "      <th>Developer Reply Text</th>\n",
              "      <th>Review Link</th>\n",
              "      <th>Finaldates</th>\n",
              "      <th>Date&amp;Hour</th>\n",
              "      <th>Year</th>\n",
              "      <th>Month</th>\n",
              "      <th>Hour</th>\n",
              "      <th>Day</th>\n",
              "      <th>Date</th>\n",
              "    </tr>\n",
              "  </thead>\n",
              "  <tbody>\n",
              "    <tr>\n",
              "      <th>0</th>\n",
              "      <td>com.phonepe.app</td>\n",
              "      <td>NaN</td>\n",
              "      <td>NaN</td>\n",
              "      <td>en</td>\n",
              "      <td>hammerhead</td>\n",
              "      <td>2016-08-29T11:27:07Z</td>\n",
              "      <td>1472470027099</td>\n",
              "      <td>2016-08-29T11:27:07Z</td>\n",
              "      <td>1472470027099</td>\n",
              "      <td>5</td>\n",
              "      <td>...</td>\n",
              "      <td>NaN</td>\n",
              "      <td>NaN</td>\n",
              "      <td>NaN</td>\n",
              "      <td>2016-08-29 11:27:07</td>\n",
              "      <td>2016-08-29 11</td>\n",
              "      <td>2016</td>\n",
              "      <td>8</td>\n",
              "      <td>11</td>\n",
              "      <td>29</td>\n",
              "      <td>2016-08-29</td>\n",
              "    </tr>\n",
              "    <tr>\n",
              "      <th>1</th>\n",
              "      <td>com.phonepe.app</td>\n",
              "      <td>NaN</td>\n",
              "      <td>NaN</td>\n",
              "      <td>en</td>\n",
              "      <td>P1a42</td>\n",
              "      <td>2016-08-29T11:28:54Z</td>\n",
              "      <td>1472470134124</td>\n",
              "      <td>2016-08-29T11:28:54Z</td>\n",
              "      <td>1472470134124</td>\n",
              "      <td>5</td>\n",
              "      <td>...</td>\n",
              "      <td>NaN</td>\n",
              "      <td>NaN</td>\n",
              "      <td>NaN</td>\n",
              "      <td>2016-08-29 11:28:54</td>\n",
              "      <td>2016-08-29 11</td>\n",
              "      <td>2016</td>\n",
              "      <td>8</td>\n",
              "      <td>11</td>\n",
              "      <td>29</td>\n",
              "      <td>2016-08-29</td>\n",
              "    </tr>\n",
              "    <tr>\n",
              "      <th>2</th>\n",
              "      <td>com.phonepe.app</td>\n",
              "      <td>NaN</td>\n",
              "      <td>NaN</td>\n",
              "      <td>en</td>\n",
              "      <td>HM2014818</td>\n",
              "      <td>2016-08-29T11:31:26Z</td>\n",
              "      <td>1472470286370</td>\n",
              "      <td>2016-08-29T11:31:26Z</td>\n",
              "      <td>1472470286370</td>\n",
              "      <td>5</td>\n",
              "      <td>...</td>\n",
              "      <td>NaN</td>\n",
              "      <td>NaN</td>\n",
              "      <td>NaN</td>\n",
              "      <td>2016-08-29 11:31:26</td>\n",
              "      <td>2016-08-29 11</td>\n",
              "      <td>2016</td>\n",
              "      <td>8</td>\n",
              "      <td>11</td>\n",
              "      <td>29</td>\n",
              "      <td>2016-08-29</td>\n",
              "    </tr>\n",
              "    <tr>\n",
              "      <th>3</th>\n",
              "      <td>com.phonepe.app</td>\n",
              "      <td>NaN</td>\n",
              "      <td>NaN</td>\n",
              "      <td>en</td>\n",
              "      <td>shamu</td>\n",
              "      <td>2016-08-29T11:32:34Z</td>\n",
              "      <td>1472470354180</td>\n",
              "      <td>2016-08-29T11:32:34Z</td>\n",
              "      <td>1472470354180</td>\n",
              "      <td>5</td>\n",
              "      <td>...</td>\n",
              "      <td>NaN</td>\n",
              "      <td>NaN</td>\n",
              "      <td>NaN</td>\n",
              "      <td>2016-08-29 11:32:34</td>\n",
              "      <td>2016-08-29 11</td>\n",
              "      <td>2016</td>\n",
              "      <td>8</td>\n",
              "      <td>11</td>\n",
              "      <td>29</td>\n",
              "      <td>2016-08-29</td>\n",
              "    </tr>\n",
              "    <tr>\n",
              "      <th>4</th>\n",
              "      <td>com.phonepe.app</td>\n",
              "      <td>NaN</td>\n",
              "      <td>NaN</td>\n",
              "      <td>en</td>\n",
              "      <td>HM2014818</td>\n",
              "      <td>2016-08-29T11:31:13Z</td>\n",
              "      <td>1472470273752</td>\n",
              "      <td>2016-08-29T11:44:48Z</td>\n",
              "      <td>1472471088140</td>\n",
              "      <td>5</td>\n",
              "      <td>...</td>\n",
              "      <td>NaN</td>\n",
              "      <td>NaN</td>\n",
              "      <td>http://play.google.com/console/developers/6275...</td>\n",
              "      <td>2016-08-29 11:31:13</td>\n",
              "      <td>2016-08-29 11</td>\n",
              "      <td>2016</td>\n",
              "      <td>8</td>\n",
              "      <td>11</td>\n",
              "      <td>29</td>\n",
              "      <td>2016-08-29</td>\n",
              "    </tr>\n",
              "  </tbody>\n",
              "</table>\n",
              "<p>5 rows × 23 columns</p>\n",
              "</div>\n",
              "      <button class=\"colab-df-convert\" onclick=\"convertToInteractive('df-458bd44e-d640-4a74-8e9c-43d69710041f')\"\n",
              "              title=\"Convert this dataframe to an interactive table.\"\n",
              "              style=\"display:none;\">\n",
              "        \n",
              "  <svg xmlns=\"http://www.w3.org/2000/svg\" height=\"24px\"viewBox=\"0 0 24 24\"\n",
              "       width=\"24px\">\n",
              "    <path d=\"M0 0h24v24H0V0z\" fill=\"none\"/>\n",
              "    <path d=\"M18.56 5.44l.94 2.06.94-2.06 2.06-.94-2.06-.94-.94-2.06-.94 2.06-2.06.94zm-11 1L8.5 8.5l.94-2.06 2.06-.94-2.06-.94L8.5 2.5l-.94 2.06-2.06.94zm10 10l.94 2.06.94-2.06 2.06-.94-2.06-.94-.94-2.06-.94 2.06-2.06.94z\"/><path d=\"M17.41 7.96l-1.37-1.37c-.4-.4-.92-.59-1.43-.59-.52 0-1.04.2-1.43.59L10.3 9.45l-7.72 7.72c-.78.78-.78 2.05 0 2.83L4 21.41c.39.39.9.59 1.41.59.51 0 1.02-.2 1.41-.59l7.78-7.78 2.81-2.81c.8-.78.8-2.07 0-2.86zM5.41 20L4 18.59l7.72-7.72 1.47 1.35L5.41 20z\"/>\n",
              "  </svg>\n",
              "      </button>\n",
              "      \n",
              "  <style>\n",
              "    .colab-df-container {\n",
              "      display:flex;\n",
              "      flex-wrap:wrap;\n",
              "      gap: 12px;\n",
              "    }\n",
              "\n",
              "    .colab-df-convert {\n",
              "      background-color: #E8F0FE;\n",
              "      border: none;\n",
              "      border-radius: 50%;\n",
              "      cursor: pointer;\n",
              "      display: none;\n",
              "      fill: #1967D2;\n",
              "      height: 32px;\n",
              "      padding: 0 0 0 0;\n",
              "      width: 32px;\n",
              "    }\n",
              "\n",
              "    .colab-df-convert:hover {\n",
              "      background-color: #E2EBFA;\n",
              "      box-shadow: 0px 1px 2px rgba(60, 64, 67, 0.3), 0px 1px 3px 1px rgba(60, 64, 67, 0.15);\n",
              "      fill: #174EA6;\n",
              "    }\n",
              "\n",
              "    [theme=dark] .colab-df-convert {\n",
              "      background-color: #3B4455;\n",
              "      fill: #D2E3FC;\n",
              "    }\n",
              "\n",
              "    [theme=dark] .colab-df-convert:hover {\n",
              "      background-color: #434B5C;\n",
              "      box-shadow: 0px 1px 3px 1px rgba(0, 0, 0, 0.15);\n",
              "      filter: drop-shadow(0px 1px 2px rgba(0, 0, 0, 0.3));\n",
              "      fill: #FFFFFF;\n",
              "    }\n",
              "  </style>\n",
              "\n",
              "      <script>\n",
              "        const buttonEl =\n",
              "          document.querySelector('#df-458bd44e-d640-4a74-8e9c-43d69710041f button.colab-df-convert');\n",
              "        buttonEl.style.display =\n",
              "          google.colab.kernel.accessAllowed ? 'block' : 'none';\n",
              "\n",
              "        async function convertToInteractive(key) {\n",
              "          const element = document.querySelector('#df-458bd44e-d640-4a74-8e9c-43d69710041f');\n",
              "          const dataTable =\n",
              "            await google.colab.kernel.invokeFunction('convertToInteractive',\n",
              "                                                     [key], {});\n",
              "          if (!dataTable) return;\n",
              "\n",
              "          const docLinkHtml = 'Like what you see? Visit the ' +\n",
              "            '<a target=\"_blank\" href=https://colab.research.google.com/notebooks/data_table.ipynb>data table notebook</a>'\n",
              "            + ' to learn more about interactive tables.';\n",
              "          element.innerHTML = '';\n",
              "          dataTable['output_type'] = 'display_data';\n",
              "          await google.colab.output.renderOutput(dataTable, element);\n",
              "          const docLink = document.createElement('div');\n",
              "          docLink.innerHTML = docLinkHtml;\n",
              "          element.appendChild(docLink);\n",
              "        }\n",
              "      </script>\n",
              "    </div>\n",
              "  </div>\n",
              "  "
            ]
          },
          "metadata": {},
          "execution_count": 7
        }
      ]
    },
    {
      "cell_type": "code",
      "source": [
        "df2['Package Name'].unique()"
      ],
      "metadata": {
        "colab": {
          "base_uri": "https://localhost:8080/"
        },
        "id": "FyIHNBKXZ6VL",
        "outputId": "6587c2d8-aa8e-4af3-f374-77578c84e9c4"
      },
      "execution_count": 8,
      "outputs": [
        {
          "output_type": "execute_result",
          "data": {
            "text/plain": [
              "array(['com.phonepe.app'], dtype=object)"
            ]
          },
          "metadata": {},
          "execution_count": 8
        }
      ]
    },
    {
      "cell_type": "code",
      "source": [
        "df2['App Version Code'].unique()\n",
        "# Replace Null values with most popular version"
      ],
      "metadata": {
        "colab": {
          "base_uri": "https://localhost:8080/"
        },
        "id": "8PX0-DvLaR5q",
        "outputId": "f75c79e8-384f-4a0a-bc24-aada897b92bc"
      },
      "execution_count": 9,
      "outputs": [
        {
          "output_type": "execute_result",
          "data": {
            "text/plain": [
              "array([       nan, 1.0020e+03, 3.0000e+01, 2.0000e+03, 3.5000e+01,\n",
              "       3.0010e+03, 4.0000e+03, 3.0020e+03, 5.0000e+03, 6.0000e+03,\n",
              "       7.0000e+03, 8.0010e+03, 8.0030e+03, 8.0040e+03, 9.0010e+03,\n",
              "       9.0030e+03, 1.1000e+04, 1.1001e+04, 1.1002e+04, 1.1003e+04,\n",
              "       1.1004e+04, 1.1005e+04, 1.2001e+04, 1.2002e+04, 1.3001e+04,\n",
              "       1.3002e+04, 1.3003e+04, 1.3004e+04, 1.3021e+04, 1.4000e+04,\n",
              "       1.4001e+04, 1.4003e+04, 1.5001e+04, 1.5002e+04, 1.5003e+04,\n",
              "       1.8000e+04, 1.8005e+04, 1.8006e+04, 1.8007e+04, 1.9000e+04,\n",
              "       1.9002e+04, 1.9006e+04, 1.9011e+04, 1.9012e+04, 2.0003e+04,\n",
              "       3.0003e+04, 3.0005e+04, 3.0006e+04, 4.0001e+04, 4.0006e+04,\n",
              "       4.0009e+04, 5.0000e+04, 5.0001e+04, 5.0002e+04, 5.0003e+04,\n",
              "       4.0005e+04, 6.0000e+04, 6.0001e+04, 6.0002e+04, 7.0002e+04,\n",
              "       7.0003e+04])"
            ]
          },
          "metadata": {},
          "execution_count": 9
        }
      ]
    },
    {
      "cell_type": "code",
      "source": [
        "df2['App Version Name'].unique()"
      ],
      "metadata": {
        "colab": {
          "base_uri": "https://localhost:8080/"
        },
        "id": "daLFEMuUaZ_o",
        "outputId": "7588063e-026a-4d86-e891-ed38ac7fda5a"
      },
      "execution_count": 10,
      "outputs": [
        {
          "output_type": "execute_result",
          "data": {
            "text/plain": [
              "array([nan, '1.0', '0.9.7.7', '1.0.1', '0.9.8.2', '1.0.2', '1.0.3',\n",
              "       '1.1.0', '1.1.1', '1.1.2', '1.2.0', '1.2.1', '1.3.0', '2.0',\n",
              "       '2.0.0', '2.0.1', '3.0.0', '3.0.1', '3.0.2', '3.0.3', '3.0.4',\n",
              "       '3.0.5', '3.0.6', '3.0.7', '3.0.8', '3.0.9', '3.1.0', '3.1.1',\n",
              "       '3.1.2', '3.1.3', '3.1.4', '3.2.0', '3.2.1', '3.2.2', '3.2.3'],\n",
              "      dtype=object)"
            ]
          },
          "metadata": {},
          "execution_count": 10
        }
      ]
    },
    {
      "cell_type": "code",
      "source": [
        "df2['Reviewer Language'].unique()\n",
        "# convert into integers"
      ],
      "metadata": {
        "colab": {
          "base_uri": "https://localhost:8080/"
        },
        "id": "aE--ogecaods",
        "outputId": "d47dd609-6ac3-4f07-f826-c98b1a70bd76"
      },
      "execution_count": 11,
      "outputs": [
        {
          "output_type": "execute_result",
          "data": {
            "text/plain": [
              "array(['en', 'hi', 'bn', 'kn', 'mr', 'te', 'ar', 'ru', 'ml', 'lo', 'es',\n",
              "       'id', 'ta', 'ms', 'pt', 'fr', 'pl', 'th', 'de', 'ne', 'tr', 'km',\n",
              "       'ro', 'af', 'hu', 'zh-Hant'], dtype=object)"
            ]
          },
          "metadata": {},
          "execution_count": 11
        }
      ]
    },
    {
      "cell_type": "code",
      "source": [
        "df2['Device'].unique()"
      ],
      "metadata": {
        "colab": {
          "base_uri": "https://localhost:8080/"
        },
        "id": "nja0HgBjaogu",
        "outputId": "16dab321-e043-4b64-deb2-768ec464b9e1"
      },
      "execution_count": 12,
      "outputs": [
        {
          "output_type": "execute_result",
          "data": {
            "text/plain": [
              "array(['hammerhead', 'P1a42', 'HM2014818', ..., 'Mi-519', 'G3226', 'Me_4'],\n",
              "      dtype=object)"
            ]
          },
          "metadata": {},
          "execution_count": 12
        }
      ]
    },
    {
      "cell_type": "code",
      "source": [
        "from sklearn.preprocessing import LabelEncoder\n",
        "labelencoder=LabelEncoder()\n",
        "df2['Language']=labelencoder.fit_transform(df2['Reviewer Language'])\n",
        "df2.head()"
      ],
      "metadata": {
        "colab": {
          "base_uri": "https://localhost:8080/",
          "height": 421
        },
        "id": "R2BTR768b1vs",
        "outputId": "ecd198c6-b94c-4334-cbfb-8bcc065327de"
      },
      "execution_count": 13,
      "outputs": [
        {
          "output_type": "execute_result",
          "data": {
            "text/plain": [
              "      Package Name  App Version Code App Version Name Reviewer Language  \\\n",
              "0  com.phonepe.app               NaN              NaN                en   \n",
              "1  com.phonepe.app               NaN              NaN                en   \n",
              "2  com.phonepe.app               NaN              NaN                en   \n",
              "3  com.phonepe.app               NaN              NaN                en   \n",
              "4  com.phonepe.app               NaN              NaN                en   \n",
              "\n",
              "       Device                  date  Review Submit Millis Since Epoch  \\\n",
              "0  hammerhead  2016-08-29T11:27:07Z                     1472470027099   \n",
              "1       P1a42  2016-08-29T11:28:54Z                     1472470134124   \n",
              "2   HM2014818  2016-08-29T11:31:26Z                     1472470286370   \n",
              "3       shamu  2016-08-29T11:32:34Z                     1472470354180   \n",
              "4   HM2014818  2016-08-29T11:31:13Z                     1472470273752   \n",
              "\n",
              "  Review Last Update Date and Time  Review Last Update Millis Since Epoch  \\\n",
              "0             2016-08-29T11:27:07Z                          1472470027099   \n",
              "1             2016-08-29T11:28:54Z                          1472470134124   \n",
              "2             2016-08-29T11:31:26Z                          1472470286370   \n",
              "3             2016-08-29T11:32:34Z                          1472470354180   \n",
              "4             2016-08-29T11:44:48Z                          1472471088140   \n",
              "\n",
              "   Star Rating  ... Developer Reply Text  \\\n",
              "0            5  ...                  NaN   \n",
              "1            5  ...                  NaN   \n",
              "2            5  ...                  NaN   \n",
              "3            5  ...                  NaN   \n",
              "4            5  ...                  NaN   \n",
              "\n",
              "                                         Review Link          Finaldates  \\\n",
              "0                                                NaN 2016-08-29 11:27:07   \n",
              "1                                                NaN 2016-08-29 11:28:54   \n",
              "2                                                NaN 2016-08-29 11:31:26   \n",
              "3                                                NaN 2016-08-29 11:32:34   \n",
              "4  http://play.google.com/console/developers/6275... 2016-08-29 11:31:13   \n",
              "\n",
              "       Date&Hour  Year Month Hour Day        Date  Language  \n",
              "0  2016-08-29 11  2016     8   11  29  2016-08-29         4  \n",
              "1  2016-08-29 11  2016     8   11  29  2016-08-29         4  \n",
              "2  2016-08-29 11  2016     8   11  29  2016-08-29         4  \n",
              "3  2016-08-29 11  2016     8   11  29  2016-08-29         4  \n",
              "4  2016-08-29 11  2016     8   11  29  2016-08-29         4  \n",
              "\n",
              "[5 rows x 24 columns]"
            ],
            "text/html": [
              "\n",
              "  <div id=\"df-5e2e2e76-50f6-4ade-8548-6bafd770b489\">\n",
              "    <div class=\"colab-df-container\">\n",
              "      <div>\n",
              "<style scoped>\n",
              "    .dataframe tbody tr th:only-of-type {\n",
              "        vertical-align: middle;\n",
              "    }\n",
              "\n",
              "    .dataframe tbody tr th {\n",
              "        vertical-align: top;\n",
              "    }\n",
              "\n",
              "    .dataframe thead th {\n",
              "        text-align: right;\n",
              "    }\n",
              "</style>\n",
              "<table border=\"1\" class=\"dataframe\">\n",
              "  <thead>\n",
              "    <tr style=\"text-align: right;\">\n",
              "      <th></th>\n",
              "      <th>Package Name</th>\n",
              "      <th>App Version Code</th>\n",
              "      <th>App Version Name</th>\n",
              "      <th>Reviewer Language</th>\n",
              "      <th>Device</th>\n",
              "      <th>date</th>\n",
              "      <th>Review Submit Millis Since Epoch</th>\n",
              "      <th>Review Last Update Date and Time</th>\n",
              "      <th>Review Last Update Millis Since Epoch</th>\n",
              "      <th>Star Rating</th>\n",
              "      <th>...</th>\n",
              "      <th>Developer Reply Text</th>\n",
              "      <th>Review Link</th>\n",
              "      <th>Finaldates</th>\n",
              "      <th>Date&amp;Hour</th>\n",
              "      <th>Year</th>\n",
              "      <th>Month</th>\n",
              "      <th>Hour</th>\n",
              "      <th>Day</th>\n",
              "      <th>Date</th>\n",
              "      <th>Language</th>\n",
              "    </tr>\n",
              "  </thead>\n",
              "  <tbody>\n",
              "    <tr>\n",
              "      <th>0</th>\n",
              "      <td>com.phonepe.app</td>\n",
              "      <td>NaN</td>\n",
              "      <td>NaN</td>\n",
              "      <td>en</td>\n",
              "      <td>hammerhead</td>\n",
              "      <td>2016-08-29T11:27:07Z</td>\n",
              "      <td>1472470027099</td>\n",
              "      <td>2016-08-29T11:27:07Z</td>\n",
              "      <td>1472470027099</td>\n",
              "      <td>5</td>\n",
              "      <td>...</td>\n",
              "      <td>NaN</td>\n",
              "      <td>NaN</td>\n",
              "      <td>2016-08-29 11:27:07</td>\n",
              "      <td>2016-08-29 11</td>\n",
              "      <td>2016</td>\n",
              "      <td>8</td>\n",
              "      <td>11</td>\n",
              "      <td>29</td>\n",
              "      <td>2016-08-29</td>\n",
              "      <td>4</td>\n",
              "    </tr>\n",
              "    <tr>\n",
              "      <th>1</th>\n",
              "      <td>com.phonepe.app</td>\n",
              "      <td>NaN</td>\n",
              "      <td>NaN</td>\n",
              "      <td>en</td>\n",
              "      <td>P1a42</td>\n",
              "      <td>2016-08-29T11:28:54Z</td>\n",
              "      <td>1472470134124</td>\n",
              "      <td>2016-08-29T11:28:54Z</td>\n",
              "      <td>1472470134124</td>\n",
              "      <td>5</td>\n",
              "      <td>...</td>\n",
              "      <td>NaN</td>\n",
              "      <td>NaN</td>\n",
              "      <td>2016-08-29 11:28:54</td>\n",
              "      <td>2016-08-29 11</td>\n",
              "      <td>2016</td>\n",
              "      <td>8</td>\n",
              "      <td>11</td>\n",
              "      <td>29</td>\n",
              "      <td>2016-08-29</td>\n",
              "      <td>4</td>\n",
              "    </tr>\n",
              "    <tr>\n",
              "      <th>2</th>\n",
              "      <td>com.phonepe.app</td>\n",
              "      <td>NaN</td>\n",
              "      <td>NaN</td>\n",
              "      <td>en</td>\n",
              "      <td>HM2014818</td>\n",
              "      <td>2016-08-29T11:31:26Z</td>\n",
              "      <td>1472470286370</td>\n",
              "      <td>2016-08-29T11:31:26Z</td>\n",
              "      <td>1472470286370</td>\n",
              "      <td>5</td>\n",
              "      <td>...</td>\n",
              "      <td>NaN</td>\n",
              "      <td>NaN</td>\n",
              "      <td>2016-08-29 11:31:26</td>\n",
              "      <td>2016-08-29 11</td>\n",
              "      <td>2016</td>\n",
              "      <td>8</td>\n",
              "      <td>11</td>\n",
              "      <td>29</td>\n",
              "      <td>2016-08-29</td>\n",
              "      <td>4</td>\n",
              "    </tr>\n",
              "    <tr>\n",
              "      <th>3</th>\n",
              "      <td>com.phonepe.app</td>\n",
              "      <td>NaN</td>\n",
              "      <td>NaN</td>\n",
              "      <td>en</td>\n",
              "      <td>shamu</td>\n",
              "      <td>2016-08-29T11:32:34Z</td>\n",
              "      <td>1472470354180</td>\n",
              "      <td>2016-08-29T11:32:34Z</td>\n",
              "      <td>1472470354180</td>\n",
              "      <td>5</td>\n",
              "      <td>...</td>\n",
              "      <td>NaN</td>\n",
              "      <td>NaN</td>\n",
              "      <td>2016-08-29 11:32:34</td>\n",
              "      <td>2016-08-29 11</td>\n",
              "      <td>2016</td>\n",
              "      <td>8</td>\n",
              "      <td>11</td>\n",
              "      <td>29</td>\n",
              "      <td>2016-08-29</td>\n",
              "      <td>4</td>\n",
              "    </tr>\n",
              "    <tr>\n",
              "      <th>4</th>\n",
              "      <td>com.phonepe.app</td>\n",
              "      <td>NaN</td>\n",
              "      <td>NaN</td>\n",
              "      <td>en</td>\n",
              "      <td>HM2014818</td>\n",
              "      <td>2016-08-29T11:31:13Z</td>\n",
              "      <td>1472470273752</td>\n",
              "      <td>2016-08-29T11:44:48Z</td>\n",
              "      <td>1472471088140</td>\n",
              "      <td>5</td>\n",
              "      <td>...</td>\n",
              "      <td>NaN</td>\n",
              "      <td>http://play.google.com/console/developers/6275...</td>\n",
              "      <td>2016-08-29 11:31:13</td>\n",
              "      <td>2016-08-29 11</td>\n",
              "      <td>2016</td>\n",
              "      <td>8</td>\n",
              "      <td>11</td>\n",
              "      <td>29</td>\n",
              "      <td>2016-08-29</td>\n",
              "      <td>4</td>\n",
              "    </tr>\n",
              "  </tbody>\n",
              "</table>\n",
              "<p>5 rows × 24 columns</p>\n",
              "</div>\n",
              "      <button class=\"colab-df-convert\" onclick=\"convertToInteractive('df-5e2e2e76-50f6-4ade-8548-6bafd770b489')\"\n",
              "              title=\"Convert this dataframe to an interactive table.\"\n",
              "              style=\"display:none;\">\n",
              "        \n",
              "  <svg xmlns=\"http://www.w3.org/2000/svg\" height=\"24px\"viewBox=\"0 0 24 24\"\n",
              "       width=\"24px\">\n",
              "    <path d=\"M0 0h24v24H0V0z\" fill=\"none\"/>\n",
              "    <path d=\"M18.56 5.44l.94 2.06.94-2.06 2.06-.94-2.06-.94-.94-2.06-.94 2.06-2.06.94zm-11 1L8.5 8.5l.94-2.06 2.06-.94-2.06-.94L8.5 2.5l-.94 2.06-2.06.94zm10 10l.94 2.06.94-2.06 2.06-.94-2.06-.94-.94-2.06-.94 2.06-2.06.94z\"/><path d=\"M17.41 7.96l-1.37-1.37c-.4-.4-.92-.59-1.43-.59-.52 0-1.04.2-1.43.59L10.3 9.45l-7.72 7.72c-.78.78-.78 2.05 0 2.83L4 21.41c.39.39.9.59 1.41.59.51 0 1.02-.2 1.41-.59l7.78-7.78 2.81-2.81c.8-.78.8-2.07 0-2.86zM5.41 20L4 18.59l7.72-7.72 1.47 1.35L5.41 20z\"/>\n",
              "  </svg>\n",
              "      </button>\n",
              "      \n",
              "  <style>\n",
              "    .colab-df-container {\n",
              "      display:flex;\n",
              "      flex-wrap:wrap;\n",
              "      gap: 12px;\n",
              "    }\n",
              "\n",
              "    .colab-df-convert {\n",
              "      background-color: #E8F0FE;\n",
              "      border: none;\n",
              "      border-radius: 50%;\n",
              "      cursor: pointer;\n",
              "      display: none;\n",
              "      fill: #1967D2;\n",
              "      height: 32px;\n",
              "      padding: 0 0 0 0;\n",
              "      width: 32px;\n",
              "    }\n",
              "\n",
              "    .colab-df-convert:hover {\n",
              "      background-color: #E2EBFA;\n",
              "      box-shadow: 0px 1px 2px rgba(60, 64, 67, 0.3), 0px 1px 3px 1px rgba(60, 64, 67, 0.15);\n",
              "      fill: #174EA6;\n",
              "    }\n",
              "\n",
              "    [theme=dark] .colab-df-convert {\n",
              "      background-color: #3B4455;\n",
              "      fill: #D2E3FC;\n",
              "    }\n",
              "\n",
              "    [theme=dark] .colab-df-convert:hover {\n",
              "      background-color: #434B5C;\n",
              "      box-shadow: 0px 1px 3px 1px rgba(0, 0, 0, 0.15);\n",
              "      filter: drop-shadow(0px 1px 2px rgba(0, 0, 0, 0.3));\n",
              "      fill: #FFFFFF;\n",
              "    }\n",
              "  </style>\n",
              "\n",
              "      <script>\n",
              "        const buttonEl =\n",
              "          document.querySelector('#df-5e2e2e76-50f6-4ade-8548-6bafd770b489 button.colab-df-convert');\n",
              "        buttonEl.style.display =\n",
              "          google.colab.kernel.accessAllowed ? 'block' : 'none';\n",
              "\n",
              "        async function convertToInteractive(key) {\n",
              "          const element = document.querySelector('#df-5e2e2e76-50f6-4ade-8548-6bafd770b489');\n",
              "          const dataTable =\n",
              "            await google.colab.kernel.invokeFunction('convertToInteractive',\n",
              "                                                     [key], {});\n",
              "          if (!dataTable) return;\n",
              "\n",
              "          const docLinkHtml = 'Like what you see? Visit the ' +\n",
              "            '<a target=\"_blank\" href=https://colab.research.google.com/notebooks/data_table.ipynb>data table notebook</a>'\n",
              "            + ' to learn more about interactive tables.';\n",
              "          element.innerHTML = '';\n",
              "          dataTable['output_type'] = 'display_data';\n",
              "          await google.colab.output.renderOutput(dataTable, element);\n",
              "          const docLink = document.createElement('div');\n",
              "          docLink.innerHTML = docLinkHtml;\n",
              "          element.appendChild(docLink);\n",
              "        }\n",
              "      </script>\n",
              "    </div>\n",
              "  </div>\n",
              "  "
            ]
          },
          "metadata": {},
          "execution_count": 13
        }
      ]
    },
    {
      "cell_type": "code",
      "source": [
        "df2.info()"
      ],
      "metadata": {
        "colab": {
          "base_uri": "https://localhost:8080/"
        },
        "id": "5Ol4ZzXpbaEe",
        "outputId": "3f15e4b5-20c7-464a-b2cd-45ef30fb04af"
      },
      "execution_count": 14,
      "outputs": [
        {
          "output_type": "stream",
          "name": "stdout",
          "text": [
            "<class 'pandas.core.frame.DataFrame'>\n",
            "RangeIndex: 288925 entries, 0 to 288924\n",
            "Data columns (total 24 columns):\n",
            " #   Column                                 Non-Null Count   Dtype         \n",
            "---  ------                                 --------------   -----         \n",
            " 0   Package Name                           288925 non-null  object        \n",
            " 1   App Version Code                       193976 non-null  float64       \n",
            " 2   App Version Name                       193976 non-null  object        \n",
            " 3   Reviewer Language                      288925 non-null  object        \n",
            " 4   Device                                 288872 non-null  object        \n",
            " 5   date                                   288925 non-null  object        \n",
            " 6   Review Submit Millis Since Epoch       288925 non-null  int64         \n",
            " 7   Review Last Update Date and Time       288925 non-null  object        \n",
            " 8   Review Last Update Millis Since Epoch  288925 non-null  int64         \n",
            " 9   Star Rating                            288925 non-null  int64         \n",
            " 10  Review Title                           16506 non-null   object        \n",
            " 11  Review Text                            101915 non-null  object        \n",
            " 12  Developer Reply Date and Time          19788 non-null   object        \n",
            " 13  Developer Reply Millis Since Epoch     19788 non-null   float64       \n",
            " 14  Developer Reply Text                   19788 non-null   object        \n",
            " 15  Review Link                            101955 non-null  object        \n",
            " 16  Finaldates                             288925 non-null  datetime64[ns]\n",
            " 17  Date&Hour                              288925 non-null  object        \n",
            " 18  Year                                   288925 non-null  int64         \n",
            " 19  Month                                  288925 non-null  int64         \n",
            " 20  Hour                                   288925 non-null  int64         \n",
            " 21  Day                                    288925 non-null  int64         \n",
            " 22  Date                                   288925 non-null  object        \n",
            " 23  Language                               288925 non-null  int64         \n",
            "dtypes: datetime64[ns](1), float64(2), int64(8), object(13)\n",
            "memory usage: 52.9+ MB\n"
          ]
        }
      ]
    },
    {
      "cell_type": "code",
      "source": [
        "dffinal=df2[['Date&Hour', 'Star Rating', 'Language', 'Year', 'Month', 'Hour', 'Day', 'Date']]"
      ],
      "metadata": {
        "id": "959hhws6XKRw"
      },
      "execution_count": 15,
      "outputs": []
    },
    {
      "cell_type": "code",
      "source": [
        "dff=dffinal.groupby(['Date&Hour'])['Star Rating'].count().reset_index()"
      ],
      "metadata": {
        "id": "q2wnRNf83BYb"
      },
      "execution_count": 16,
      "outputs": []
    },
    {
      "cell_type": "code",
      "source": [
        "print(type(dff))"
      ],
      "metadata": {
        "colab": {
          "base_uri": "https://localhost:8080/"
        },
        "id": "8U3zdXgYxfQm",
        "outputId": "c3ea6b95-3dbe-4943-cd95-c9af0b3746a3"
      },
      "execution_count": 17,
      "outputs": [
        {
          "output_type": "stream",
          "name": "stdout",
          "text": [
            "<class 'pandas.core.frame.DataFrame'>\n"
          ]
        }
      ]
    },
    {
      "cell_type": "code",
      "source": [
        "dff.head()"
      ],
      "metadata": {
        "colab": {
          "base_uri": "https://localhost:8080/",
          "height": 206
        },
        "id": "nboXa8fU48bd",
        "outputId": "a4a28bd1-da22-40cf-fc5f-a40d7b0b731a"
      },
      "execution_count": 18,
      "outputs": [
        {
          "output_type": "execute_result",
          "data": {
            "text/plain": [
              "       Date&Hour  Star Rating\n",
              "0  2016-08-29 11           20\n",
              "1  2016-08-29 12           10\n",
              "2  2016-08-29 13           16\n",
              "3  2016-08-29 14           44\n",
              "4  2016-08-29 15           29"
            ],
            "text/html": [
              "\n",
              "  <div id=\"df-8feb7a18-f061-4b51-962d-87ca39946cde\">\n",
              "    <div class=\"colab-df-container\">\n",
              "      <div>\n",
              "<style scoped>\n",
              "    .dataframe tbody tr th:only-of-type {\n",
              "        vertical-align: middle;\n",
              "    }\n",
              "\n",
              "    .dataframe tbody tr th {\n",
              "        vertical-align: top;\n",
              "    }\n",
              "\n",
              "    .dataframe thead th {\n",
              "        text-align: right;\n",
              "    }\n",
              "</style>\n",
              "<table border=\"1\" class=\"dataframe\">\n",
              "  <thead>\n",
              "    <tr style=\"text-align: right;\">\n",
              "      <th></th>\n",
              "      <th>Date&amp;Hour</th>\n",
              "      <th>Star Rating</th>\n",
              "    </tr>\n",
              "  </thead>\n",
              "  <tbody>\n",
              "    <tr>\n",
              "      <th>0</th>\n",
              "      <td>2016-08-29 11</td>\n",
              "      <td>20</td>\n",
              "    </tr>\n",
              "    <tr>\n",
              "      <th>1</th>\n",
              "      <td>2016-08-29 12</td>\n",
              "      <td>10</td>\n",
              "    </tr>\n",
              "    <tr>\n",
              "      <th>2</th>\n",
              "      <td>2016-08-29 13</td>\n",
              "      <td>16</td>\n",
              "    </tr>\n",
              "    <tr>\n",
              "      <th>3</th>\n",
              "      <td>2016-08-29 14</td>\n",
              "      <td>44</td>\n",
              "    </tr>\n",
              "    <tr>\n",
              "      <th>4</th>\n",
              "      <td>2016-08-29 15</td>\n",
              "      <td>29</td>\n",
              "    </tr>\n",
              "  </tbody>\n",
              "</table>\n",
              "</div>\n",
              "      <button class=\"colab-df-convert\" onclick=\"convertToInteractive('df-8feb7a18-f061-4b51-962d-87ca39946cde')\"\n",
              "              title=\"Convert this dataframe to an interactive table.\"\n",
              "              style=\"display:none;\">\n",
              "        \n",
              "  <svg xmlns=\"http://www.w3.org/2000/svg\" height=\"24px\"viewBox=\"0 0 24 24\"\n",
              "       width=\"24px\">\n",
              "    <path d=\"M0 0h24v24H0V0z\" fill=\"none\"/>\n",
              "    <path d=\"M18.56 5.44l.94 2.06.94-2.06 2.06-.94-2.06-.94-.94-2.06-.94 2.06-2.06.94zm-11 1L8.5 8.5l.94-2.06 2.06-.94-2.06-.94L8.5 2.5l-.94 2.06-2.06.94zm10 10l.94 2.06.94-2.06 2.06-.94-2.06-.94-.94-2.06-.94 2.06-2.06.94z\"/><path d=\"M17.41 7.96l-1.37-1.37c-.4-.4-.92-.59-1.43-.59-.52 0-1.04.2-1.43.59L10.3 9.45l-7.72 7.72c-.78.78-.78 2.05 0 2.83L4 21.41c.39.39.9.59 1.41.59.51 0 1.02-.2 1.41-.59l7.78-7.78 2.81-2.81c.8-.78.8-2.07 0-2.86zM5.41 20L4 18.59l7.72-7.72 1.47 1.35L5.41 20z\"/>\n",
              "  </svg>\n",
              "      </button>\n",
              "      \n",
              "  <style>\n",
              "    .colab-df-container {\n",
              "      display:flex;\n",
              "      flex-wrap:wrap;\n",
              "      gap: 12px;\n",
              "    }\n",
              "\n",
              "    .colab-df-convert {\n",
              "      background-color: #E8F0FE;\n",
              "      border: none;\n",
              "      border-radius: 50%;\n",
              "      cursor: pointer;\n",
              "      display: none;\n",
              "      fill: #1967D2;\n",
              "      height: 32px;\n",
              "      padding: 0 0 0 0;\n",
              "      width: 32px;\n",
              "    }\n",
              "\n",
              "    .colab-df-convert:hover {\n",
              "      background-color: #E2EBFA;\n",
              "      box-shadow: 0px 1px 2px rgba(60, 64, 67, 0.3), 0px 1px 3px 1px rgba(60, 64, 67, 0.15);\n",
              "      fill: #174EA6;\n",
              "    }\n",
              "\n",
              "    [theme=dark] .colab-df-convert {\n",
              "      background-color: #3B4455;\n",
              "      fill: #D2E3FC;\n",
              "    }\n",
              "\n",
              "    [theme=dark] .colab-df-convert:hover {\n",
              "      background-color: #434B5C;\n",
              "      box-shadow: 0px 1px 3px 1px rgba(0, 0, 0, 0.15);\n",
              "      filter: drop-shadow(0px 1px 2px rgba(0, 0, 0, 0.3));\n",
              "      fill: #FFFFFF;\n",
              "    }\n",
              "  </style>\n",
              "\n",
              "      <script>\n",
              "        const buttonEl =\n",
              "          document.querySelector('#df-8feb7a18-f061-4b51-962d-87ca39946cde button.colab-df-convert');\n",
              "        buttonEl.style.display =\n",
              "          google.colab.kernel.accessAllowed ? 'block' : 'none';\n",
              "\n",
              "        async function convertToInteractive(key) {\n",
              "          const element = document.querySelector('#df-8feb7a18-f061-4b51-962d-87ca39946cde');\n",
              "          const dataTable =\n",
              "            await google.colab.kernel.invokeFunction('convertToInteractive',\n",
              "                                                     [key], {});\n",
              "          if (!dataTable) return;\n",
              "\n",
              "          const docLinkHtml = 'Like what you see? Visit the ' +\n",
              "            '<a target=\"_blank\" href=https://colab.research.google.com/notebooks/data_table.ipynb>data table notebook</a>'\n",
              "            + ' to learn more about interactive tables.';\n",
              "          element.innerHTML = '';\n",
              "          dataTable['output_type'] = 'display_data';\n",
              "          await google.colab.output.renderOutput(dataTable, element);\n",
              "          const docLink = document.createElement('div');\n",
              "          docLink.innerHTML = docLinkHtml;\n",
              "          element.appendChild(docLink);\n",
              "        }\n",
              "      </script>\n",
              "    </div>\n",
              "  </div>\n",
              "  "
            ]
          },
          "metadata": {},
          "execution_count": 18
        }
      ]
    },
    {
      "cell_type": "code",
      "source": [
        "import plotly.express as px\n",
        "fig=px.line(dff, x='Date&Hour', y='Star Rating', title='Star Rating with Slider')\n",
        "fig.update_xaxes(rangeslider_visible=True)\n",
        "fig.show()"
      ],
      "metadata": {
        "colab": {
          "base_uri": "https://localhost:8080/",
          "height": 542
        },
        "id": "4BFTGIl75g-X",
        "outputId": "ec9175fe-1394-4e5d-dbd7-47c7f8cfa92a"
      },
      "execution_count": 19,
      "outputs": [
        {
          "output_type": "display_data",
          "data": {
            "text/html": [
              "<html>\n",
              "<head><meta charset=\"utf-8\" /></head>\n",
              "<body>\n",
              "    <div>            <script src=\"https://cdnjs.cloudflare.com/ajax/libs/mathjax/2.7.5/MathJax.js?config=TeX-AMS-MML_SVG\"></script><script type=\"text/javascript\">if (window.MathJax) {MathJax.Hub.Config({SVG: {font: \"STIX-Web\"}});}</script>                <script type=\"text/javascript\">window.PlotlyConfig = {MathJaxConfig: 'local'};</script>\n",
              "        <script src=\"https://cdn.plot.ly/plotly-2.8.3.min.js\"></script>                <div id=\"58853cc2-5612-4034-ade6-9359fc3b0219\" class=\"plotly-graph-div\" style=\"height:525px; width:100%;\"></div>            <script type=\"text/javascript\">                                    window.PLOTLYENV=window.PLOTLYENV || {};                                    if (document.getElementById(\"58853cc2-5612-4034-ade6-9359fc3b0219\")) {                    Plotly.newPlot(                        \"58853cc2-5612-4034-ade6-9359fc3b0219\",                        [{\"hovertemplate\":\"Date&Hour=%{x}<br>Star Rating=%{y}<extra></extra>\",\"legendgroup\":\"\",\"line\":{\"color\":\"#636efa\",\"dash\":\"solid\"},\"marker\":{\"symbol\":\"circle\"},\"mode\":\"lines\",\"name\":\"\",\"showlegend\":false,\"x\":[\"2016-08-29 11\",\"2016-08-29 12\",\"2016-08-29 13\",\"2016-08-29 14\",\"2016-08-29 15\",\"2016-08-29 16\",\"2016-08-29 17\",\"2016-08-29 18\",\"2016-08-29 19\",\"2016-08-29 20\",\"2016-08-29 22\",\"2016-08-29 23\",\"2016-08-30 01\",\"2016-08-30 02\",\"2016-08-30 03\",\"2016-08-30 04\",\"2016-08-30 05\",\"2016-08-30 06\",\"2016-08-30 07\",\"2016-08-30 08\",\"2016-08-30 09\",\"2016-08-30 10\",\"2016-08-30 11\",\"2016-08-30 12\",\"2016-08-30 13\",\"2016-08-30 14\",\"2016-08-30 15\",\"2016-08-30 16\",\"2016-08-30 17\",\"2016-08-30 18\",\"2016-08-30 19\",\"2016-08-30 20\",\"2016-08-30 21\",\"2016-08-30 23\",\"2016-08-31 01\",\"2016-08-31 02\",\"2016-08-31 04\",\"2016-08-31 05\",\"2016-08-31 07\",\"2016-08-31 08\",\"2016-08-31 09\",\"2016-08-31 11\",\"2016-08-31 12\",\"2016-08-31 13\",\"2016-08-31 14\",\"2016-08-31 15\",\"2016-08-31 16\",\"2016-08-31 17\",\"2016-08-31 18\",\"2016-08-31 20\",\"2016-08-31 21\",\"2016-09-01 02\",\"2016-09-01 03\",\"2016-09-01 04\",\"2016-09-01 05\",\"2016-09-01 07\",\"2016-09-01 09\",\"2016-09-01 10\",\"2016-09-01 11\",\"2016-09-01 12\",\"2016-09-01 13\",\"2016-09-01 14\",\"2016-09-01 15\",\"2016-09-01 16\",\"2016-09-01 17\",\"2016-09-01 18\",\"2016-09-01 19\",\"2016-09-01 21\",\"2016-09-02 01\",\"2016-09-02 02\",\"2016-09-02 03\",\"2016-09-02 04\",\"2016-09-02 05\",\"2016-09-02 06\",\"2016-09-02 07\",\"2016-09-02 08\",\"2016-09-02 09\",\"2016-09-02 10\",\"2016-09-02 11\",\"2016-09-02 12\",\"2016-09-02 13\",\"2016-09-02 14\",\"2016-09-02 15\",\"2016-09-02 16\",\"2016-09-02 17\",\"2016-09-02 20\",\"2016-09-02 21\",\"2016-09-03 03\",\"2016-09-03 04\",\"2016-09-03 05\",\"2016-09-03 07\",\"2016-09-03 09\",\"2016-09-03 12\",\"2016-09-03 13\",\"2016-09-03 15\",\"2016-09-03 17\",\"2016-09-03 18\",\"2016-09-04 02\",\"2016-09-04 04\",\"2016-09-04 05\",\"2016-09-04 07\",\"2016-09-04 08\",\"2016-09-04 10\",\"2016-09-04 11\",\"2016-09-04 15\",\"2016-09-05 09\",\"2016-09-05 10\",\"2016-09-05 13\",\"2016-09-05 16\",\"2016-09-05 17\",\"2016-09-06 04\",\"2016-09-06 06\",\"2016-09-06 10\",\"2016-09-06 12\",\"2016-09-06 15\",\"2016-09-07 05\",\"2016-09-07 06\",\"2016-09-07 09\",\"2016-09-07 10\",\"2016-09-07 14\",\"2016-09-07 15\",\"2016-09-07 16\",\"2016-09-07 19\",\"2016-09-07 20\",\"2016-09-08 04\",\"2016-09-08 05\",\"2016-09-08 06\",\"2016-09-08 09\",\"2016-09-08 14\",\"2016-09-08 21\",\"2016-09-09 06\",\"2016-09-09 08\",\"2016-09-09 10\",\"2016-09-09 17\",\"2016-09-09 18\",\"2016-09-10 02\",\"2016-09-10 08\",\"2016-09-10 09\",\"2016-09-10 12\",\"2016-09-10 13\",\"2016-09-10 18\",\"2016-09-11 05\",\"2016-09-11 06\",\"2016-09-11 08\",\"2016-09-11 09\",\"2016-09-11 10\",\"2016-09-11 14\",\"2016-09-11 15\",\"2016-09-11 16\",\"2016-09-11 18\",\"2016-09-11 19\",\"2016-09-12 08\",\"2016-09-12 17\",\"2016-09-12 18\",\"2016-09-13 06\",\"2016-09-13 08\",\"2016-09-13 09\",\"2016-09-13 19\",\"2016-09-13 21\",\"2016-09-14 02\",\"2016-09-14 04\",\"2016-09-14 07\",\"2016-09-14 09\",\"2016-09-14 15\",\"2016-09-14 16\",\"2016-09-14 20\",\"2016-09-15 01\",\"2016-09-15 06\",\"2016-09-15 10\",\"2016-09-15 13\",\"2016-09-15 15\",\"2016-09-15 19\",\"2016-09-16 03\",\"2016-09-16 05\",\"2016-09-16 06\",\"2016-09-16 07\",\"2016-09-16 09\",\"2016-09-16 13\",\"2016-09-16 14\",\"2016-09-16 15\",\"2016-09-16 16\",\"2016-09-16 17\",\"2016-09-16 18\",\"2016-09-16 19\",\"2016-09-16 20\",\"2016-09-16 23\",\"2016-09-17 03\",\"2016-09-17 04\",\"2016-09-17 05\",\"2016-09-17 06\",\"2016-09-17 08\",\"2016-09-17 09\",\"2016-09-17 10\",\"2016-09-17 11\",\"2016-09-17 12\",\"2016-09-17 13\",\"2016-09-17 14\",\"2016-09-17 15\",\"2016-09-17 16\",\"2016-09-17 17\",\"2016-09-17 18\",\"2016-09-17 19\",\"2016-09-17 23\",\"2016-09-18 01\",\"2016-09-18 02\",\"2016-09-18 03\",\"2016-09-18 04\",\"2016-09-18 05\",\"2016-09-18 06\",\"2016-09-18 07\",\"2016-09-18 08\",\"2016-09-18 10\",\"2016-09-18 11\",\"2016-09-18 12\",\"2016-09-18 13\",\"2016-09-18 14\",\"2016-09-18 15\",\"2016-09-18 16\",\"2016-09-18 17\",\"2016-09-18 18\",\"2016-09-18 19\",\"2016-09-18 20\",\"2016-09-18 21\",\"2016-09-18 22\",\"2016-09-18 23\",\"2016-09-19 01\",\"2016-09-19 02\",\"2016-09-19 03\",\"2016-09-19 05\",\"2016-09-19 06\",\"2016-09-19 07\",\"2016-09-19 09\",\"2016-09-19 10\",\"2016-09-19 11\",\"2016-09-19 13\",\"2016-09-19 14\",\"2016-09-19 15\",\"2016-09-19 16\",\"2016-09-19 17\",\"2016-09-19 18\",\"2016-09-19 19\",\"2016-09-19 20\",\"2016-09-20 01\",\"2016-09-20 02\",\"2016-09-20 03\",\"2016-09-20 04\",\"2016-09-20 05\",\"2016-09-20 07\",\"2016-09-20 08\",\"2016-09-20 09\",\"2016-09-20 10\",\"2016-09-20 12\",\"2016-09-20 13\",\"2016-09-20 14\",\"2016-09-20 15\",\"2016-09-20 16\",\"2016-09-20 17\",\"2016-09-20 18\",\"2016-09-20 19\",\"2016-09-20 21\",\"2016-09-21 01\",\"2016-09-21 02\",\"2016-09-21 03\",\"2016-09-21 04\",\"2016-09-21 05\",\"2016-09-21 06\",\"2016-09-21 07\",\"2016-09-21 08\",\"2016-09-21 09\",\"2016-09-21 10\",\"2016-09-21 11\",\"2016-09-21 12\",\"2016-09-21 13\",\"2016-09-21 16\",\"2016-09-21 18\",\"2016-09-21 19\",\"2016-09-21 21\",\"2016-09-21 23\",\"2016-09-22 02\",\"2016-09-22 03\",\"2016-09-22 05\",\"2016-09-22 08\",\"2016-09-22 10\",\"2016-09-22 11\",\"2016-09-22 12\",\"2016-09-22 13\",\"2016-09-22 14\",\"2016-09-22 15\",\"2016-09-22 16\",\"2016-09-22 17\",\"2016-09-22 18\",\"2016-09-22 19\",\"2016-09-22 20\",\"2016-09-22 21\",\"2016-09-22 22\",\"2016-09-23 00\",\"2016-09-23 01\",\"2016-09-23 02\",\"2016-09-23 03\",\"2016-09-23 04\",\"2016-09-23 05\",\"2016-09-23 06\",\"2016-09-23 07\",\"2016-09-23 08\",\"2016-09-23 09\",\"2016-09-23 10\",\"2016-09-23 11\",\"2016-09-23 12\",\"2016-09-23 13\",\"2016-09-23 14\",\"2016-09-23 15\",\"2016-09-23 16\",\"2016-09-23 17\",\"2016-09-23 18\",\"2016-09-23 19\",\"2016-09-23 20\",\"2016-09-23 21\",\"2016-09-23 23\",\"2016-09-24 00\",\"2016-09-24 02\",\"2016-09-24 03\",\"2016-09-24 04\",\"2016-09-24 05\",\"2016-09-24 06\",\"2016-09-24 07\",\"2016-09-24 08\",\"2016-09-24 09\",\"2016-09-24 10\",\"2016-09-24 11\",\"2016-09-24 12\",\"2016-09-24 13\",\"2016-09-24 14\",\"2016-09-24 15\",\"2016-09-24 16\",\"2016-09-24 17\",\"2016-09-24 18\",\"2016-09-24 19\",\"2016-09-24 22\",\"2016-09-25 00\",\"2016-09-25 02\",\"2016-09-25 03\",\"2016-09-25 04\",\"2016-09-25 05\",\"2016-09-25 06\",\"2016-09-25 07\",\"2016-09-25 08\",\"2016-09-25 09\",\"2016-09-25 10\",\"2016-09-25 11\",\"2016-09-25 12\",\"2016-09-25 13\",\"2016-09-25 14\",\"2016-09-25 15\",\"2016-09-25 16\",\"2016-09-25 17\",\"2016-09-25 18\",\"2016-09-25 23\",\"2016-09-26 00\",\"2016-09-26 01\",\"2016-09-26 02\",\"2016-09-26 03\",\"2016-09-26 04\",\"2016-09-26 05\",\"2016-09-26 06\",\"2016-09-26 07\",\"2016-09-26 08\",\"2016-09-26 09\",\"2016-09-26 11\",\"2016-09-26 12\",\"2016-09-26 13\",\"2016-09-26 14\",\"2016-09-26 15\",\"2016-09-26 16\",\"2016-09-26 17\",\"2016-09-26 18\",\"2016-09-26 19\",\"2016-09-26 21\",\"2016-09-27 01\",\"2016-09-27 02\",\"2016-09-27 03\",\"2016-09-27 04\",\"2016-09-27 05\",\"2016-09-27 07\",\"2016-09-27 08\",\"2016-09-27 09\",\"2016-09-27 10\",\"2016-09-27 11\",\"2016-09-27 12\",\"2016-09-27 13\",\"2016-09-27 14\",\"2016-09-27 15\",\"2016-09-27 16\",\"2016-09-27 17\",\"2016-09-27 18\",\"2016-09-27 19\",\"2016-09-27 20\",\"2016-09-27 21\",\"2016-09-27 22\",\"2016-09-27 23\",\"2016-09-28 00\",\"2016-09-28 01\",\"2016-09-28 02\",\"2016-09-28 03\",\"2016-09-28 04\",\"2016-09-28 05\",\"2016-09-28 06\",\"2016-09-28 07\",\"2016-09-28 08\",\"2016-09-28 09\",\"2016-09-28 10\",\"2016-09-28 11\",\"2016-09-28 12\",\"2016-09-28 13\",\"2016-09-28 14\",\"2016-09-28 15\",\"2016-09-28 16\",\"2016-09-28 17\",\"2016-09-28 18\",\"2016-09-28 19\",\"2016-09-28 20\",\"2016-09-28 21\",\"2016-09-28 22\",\"2016-09-28 23\",\"2016-09-29 00\",\"2016-09-29 01\",\"2016-09-29 02\",\"2016-09-29 03\",\"2016-09-29 04\",\"2016-09-29 05\",\"2016-09-29 06\",\"2016-09-29 07\",\"2016-09-29 08\",\"2016-09-29 09\",\"2016-09-29 10\",\"2016-09-29 11\",\"2016-09-29 12\",\"2016-09-29 13\",\"2016-09-29 14\",\"2016-09-29 15\",\"2016-09-29 16\",\"2016-09-29 17\",\"2016-09-29 18\",\"2016-09-29 19\",\"2016-09-29 20\",\"2016-09-29 21\",\"2016-09-29 22\",\"2016-09-29 23\",\"2016-09-30 00\",\"2016-09-30 01\",\"2016-09-30 02\",\"2016-09-30 03\",\"2016-09-30 04\",\"2016-09-30 05\",\"2016-09-30 06\",\"2016-09-30 07\",\"2016-09-30 08\",\"2016-09-30 09\",\"2016-09-30 10\",\"2016-09-30 11\",\"2016-09-30 12\",\"2016-09-30 13\",\"2016-09-30 14\",\"2016-09-30 15\",\"2016-09-30 16\",\"2016-09-30 17\",\"2016-09-30 18\",\"2016-09-30 19\",\"2016-09-30 20\",\"2016-09-30 21\",\"2016-09-30 22\",\"2016-09-30 23\",\"2016-10-01 00\",\"2016-10-01 01\",\"2016-10-01 02\",\"2016-10-01 03\",\"2016-10-01 04\",\"2016-10-01 05\",\"2016-10-01 06\",\"2016-10-01 07\",\"2016-10-01 08\",\"2016-10-01 09\",\"2016-10-01 10\",\"2016-10-01 11\",\"2016-10-01 12\",\"2016-10-01 13\",\"2016-10-01 14\",\"2016-10-01 15\",\"2016-10-01 16\",\"2016-10-01 17\",\"2016-10-01 18\",\"2016-10-01 19\",\"2016-10-01 20\",\"2016-10-01 21\",\"2016-10-01 22\",\"2016-10-01 23\",\"2016-10-02 00\",\"2016-10-02 01\",\"2016-10-02 02\",\"2016-10-02 03\",\"2016-10-02 04\",\"2016-10-02 05\",\"2016-10-02 06\",\"2016-10-02 07\",\"2016-10-02 08\",\"2016-10-02 09\",\"2016-10-02 10\",\"2016-10-02 11\",\"2016-10-02 12\",\"2016-10-02 13\",\"2016-10-02 14\",\"2016-10-02 15\",\"2016-10-02 16\",\"2016-10-02 17\",\"2016-10-02 18\",\"2016-10-02 19\",\"2016-10-02 20\",\"2016-10-02 21\",\"2016-10-02 22\",\"2016-10-03 00\",\"2016-10-03 01\",\"2016-10-03 02\",\"2016-10-03 03\",\"2016-10-03 04\",\"2016-10-03 05\",\"2016-10-03 06\",\"2016-10-03 07\",\"2016-10-03 08\",\"2016-10-03 09\",\"2016-10-03 10\",\"2016-10-03 11\",\"2016-10-03 12\",\"2016-10-03 13\",\"2016-10-03 14\",\"2016-10-03 15\",\"2016-10-03 16\",\"2016-10-03 17\",\"2016-10-03 18\",\"2016-10-03 19\",\"2016-10-03 20\",\"2016-10-03 21\",\"2016-10-03 23\",\"2016-10-04 01\",\"2016-10-04 02\",\"2016-10-04 03\",\"2016-10-04 04\",\"2016-10-04 05\",\"2016-10-04 06\",\"2016-10-04 07\",\"2016-10-04 08\",\"2016-10-04 09\",\"2016-10-04 10\",\"2016-10-04 11\",\"2016-10-04 12\",\"2016-10-04 13\",\"2016-10-04 14\",\"2016-10-04 15\",\"2016-10-04 16\",\"2016-10-04 17\",\"2016-10-04 18\",\"2016-10-04 19\",\"2016-10-04 20\",\"2016-10-05 00\",\"2016-10-05 01\",\"2016-10-05 02\",\"2016-10-05 03\",\"2016-10-05 04\",\"2016-10-05 05\",\"2016-10-05 06\",\"2016-10-05 07\",\"2016-10-05 08\",\"2016-10-05 09\",\"2016-10-05 10\",\"2016-10-05 11\",\"2016-10-05 12\",\"2016-10-05 13\",\"2016-10-05 14\",\"2016-10-05 15\",\"2016-10-05 16\",\"2016-10-05 17\",\"2016-10-05 18\",\"2016-10-05 19\",\"2016-10-05 20\",\"2016-10-05 21\",\"2016-10-06 02\",\"2016-10-06 03\",\"2016-10-06 04\",\"2016-10-06 05\",\"2016-10-06 06\",\"2016-10-06 07\",\"2016-10-06 08\",\"2016-10-06 09\",\"2016-10-06 10\",\"2016-10-06 11\",\"2016-10-06 12\",\"2016-10-06 13\",\"2016-10-06 14\",\"2016-10-06 15\",\"2016-10-06 16\",\"2016-10-06 17\",\"2016-10-06 18\",\"2016-10-06 19\",\"2016-10-06 20\",\"2016-10-06 23\",\"2016-10-07 00\",\"2016-10-07 01\",\"2016-10-07 02\",\"2016-10-07 03\",\"2016-10-07 04\",\"2016-10-07 05\",\"2016-10-07 06\",\"2016-10-07 07\",\"2016-10-07 08\",\"2016-10-07 09\",\"2016-10-07 10\",\"2016-10-07 11\",\"2016-10-07 12\",\"2016-10-07 13\",\"2016-10-07 14\",\"2016-10-07 15\",\"2016-10-07 16\",\"2016-10-07 17\",\"2016-10-07 18\",\"2016-10-07 19\",\"2016-10-07 20\",\"2016-10-07 21\",\"2016-10-08 01\",\"2016-10-08 02\",\"2016-10-08 03\",\"2016-10-08 04\",\"2016-10-08 05\",\"2016-10-08 06\",\"2016-10-08 07\",\"2016-10-08 08\",\"2016-10-08 09\",\"2016-10-08 10\",\"2016-10-08 11\",\"2016-10-08 12\",\"2016-10-08 13\",\"2016-10-08 14\",\"2016-10-08 15\",\"2016-10-08 16\",\"2016-10-08 17\",\"2016-10-08 18\",\"2016-10-08 19\",\"2016-10-09 01\",\"2016-10-09 02\",\"2016-10-09 03\",\"2016-10-09 04\",\"2016-10-09 05\",\"2016-10-09 06\",\"2016-10-09 07\",\"2016-10-09 08\",\"2016-10-09 09\",\"2016-10-09 10\",\"2016-10-09 11\",\"2016-10-09 12\",\"2016-10-09 13\",\"2016-10-09 14\",\"2016-10-09 15\",\"2016-10-09 16\",\"2016-10-09 17\",\"2016-10-09 18\",\"2016-10-09 19\",\"2016-10-09 20\",\"2016-10-09 22\",\"2016-10-10 00\",\"2016-10-10 02\",\"2016-10-10 03\",\"2016-10-10 04\",\"2016-10-10 05\",\"2016-10-10 06\",\"2016-10-10 07\",\"2016-10-10 08\",\"2016-10-10 09\",\"2016-10-10 10\",\"2016-10-10 11\",\"2016-10-10 13\",\"2016-10-10 14\",\"2016-10-10 15\",\"2016-10-10 16\",\"2016-10-10 17\",\"2016-10-10 18\",\"2016-10-10 19\",\"2016-10-10 22\",\"2016-10-11 01\",\"2016-10-11 02\",\"2016-10-11 03\",\"2016-10-11 04\",\"2016-10-11 05\",\"2016-10-11 06\",\"2016-10-11 07\",\"2016-10-11 08\",\"2016-10-11 09\",\"2016-10-11 10\",\"2016-10-11 11\",\"2016-10-11 12\",\"2016-10-11 13\",\"2016-10-11 14\",\"2016-10-11 15\",\"2016-10-11 16\",\"2016-10-11 17\",\"2016-10-11 18\",\"2016-10-11 19\",\"2016-10-11 20\",\"2016-10-12 00\",\"2016-10-12 01\",\"2016-10-12 03\",\"2016-10-12 04\",\"2016-10-12 05\",\"2016-10-12 06\",\"2016-10-12 07\",\"2016-10-12 08\",\"2016-10-12 09\",\"2016-10-12 10\",\"2016-10-12 11\",\"2016-10-12 12\",\"2016-10-12 13\",\"2016-10-12 14\",\"2016-10-12 15\",\"2016-10-12 16\",\"2016-10-12 17\",\"2016-10-12 18\",\"2016-10-12 19\",\"2016-10-12 20\",\"2016-10-12 23\",\"2016-10-13 00\",\"2016-10-13 02\",\"2016-10-13 03\",\"2016-10-13 04\",\"2016-10-13 05\",\"2016-10-13 06\",\"2016-10-13 07\",\"2016-10-13 08\",\"2016-10-13 09\",\"2016-10-13 10\",\"2016-10-13 11\",\"2016-10-13 12\",\"2016-10-13 14\",\"2016-10-13 15\",\"2016-10-13 16\",\"2016-10-13 17\",\"2016-10-13 18\",\"2016-10-13 19\",\"2016-10-14 01\",\"2016-10-14 02\",\"2016-10-14 03\",\"2016-10-14 04\",\"2016-10-14 05\",\"2016-10-14 06\",\"2016-10-14 07\",\"2016-10-14 09\",\"2016-10-14 10\",\"2016-10-14 11\",\"2016-10-14 12\",\"2016-10-14 13\",\"2016-10-14 14\",\"2016-10-14 15\",\"2016-10-14 16\",\"2016-10-14 17\",\"2016-10-14 18\",\"2016-10-14 19\",\"2016-10-14 20\",\"2016-10-15 01\",\"2016-10-15 02\",\"2016-10-15 03\",\"2016-10-15 04\",\"2016-10-15 05\",\"2016-10-15 06\",\"2016-10-15 07\",\"2016-10-15 08\",\"2016-10-15 09\",\"2016-10-15 10\",\"2016-10-15 11\",\"2016-10-15 12\",\"2016-10-15 13\",\"2016-10-15 14\",\"2016-10-15 15\",\"2016-10-15 16\",\"2016-10-15 17\",\"2016-10-15 18\",\"2016-10-15 20\",\"2016-10-15 21\",\"2016-10-15 23\",\"2016-10-16 01\",\"2016-10-16 02\",\"2016-10-16 03\",\"2016-10-16 04\",\"2016-10-16 05\",\"2016-10-16 07\",\"2016-10-16 09\",\"2016-10-16 10\",\"2016-10-16 11\",\"2016-10-16 13\",\"2016-10-16 14\",\"2016-10-16 15\",\"2016-10-16 16\",\"2016-10-16 17\",\"2016-10-16 18\",\"2016-10-16 19\",\"2016-10-17 00\",\"2016-10-17 01\",\"2016-10-17 02\",\"2016-10-17 03\",\"2016-10-17 05\",\"2016-10-17 06\",\"2016-10-17 07\",\"2016-10-17 08\",\"2016-10-17 09\",\"2016-10-17 10\",\"2016-10-17 11\",\"2016-10-17 12\",\"2016-10-17 13\",\"2016-10-17 14\",\"2016-10-17 15\",\"2016-10-17 16\",\"2016-10-17 17\",\"2016-10-17 18\",\"2016-10-17 19\",\"2016-10-17 20\",\"2016-10-17 23\",\"2016-10-18 00\",\"2016-10-18 01\",\"2016-10-18 02\",\"2016-10-18 03\",\"2016-10-18 04\",\"2016-10-18 05\",\"2016-10-18 06\",\"2016-10-18 07\",\"2016-10-18 08\",\"2016-10-18 09\",\"2016-10-18 10\",\"2016-10-18 12\",\"2016-10-18 13\",\"2016-10-18 14\",\"2016-10-18 15\",\"2016-10-18 16\",\"2016-10-18 17\",\"2016-10-18 18\",\"2016-10-18 19\",\"2016-10-18 20\",\"2016-10-18 21\",\"2016-10-19 00\",\"2016-10-19 01\",\"2016-10-19 02\",\"2016-10-19 03\",\"2016-10-19 04\",\"2016-10-19 05\",\"2016-10-19 06\",\"2016-10-19 07\",\"2016-10-19 08\",\"2016-10-19 09\",\"2016-10-19 10\",\"2016-10-19 11\",\"2016-10-19 12\",\"2016-10-19 13\",\"2016-10-19 14\",\"2016-10-19 15\",\"2016-10-19 16\",\"2016-10-19 17\",\"2016-10-19 18\",\"2016-10-19 19\",\"2016-10-19 21\",\"2016-10-20 02\",\"2016-10-20 03\",\"2016-10-20 04\",\"2016-10-20 05\",\"2016-10-20 06\",\"2016-10-20 07\",\"2016-10-20 08\",\"2016-10-20 09\",\"2016-10-20 10\",\"2016-10-20 11\",\"2016-10-20 12\",\"2016-10-20 13\",\"2016-10-20 14\",\"2016-10-20 15\",\"2016-10-20 16\",\"2016-10-20 17\",\"2016-10-20 18\",\"2016-10-20 19\",\"2016-10-20 22\",\"2016-10-21 01\",\"2016-10-21 02\",\"2016-10-21 03\",\"2016-10-21 04\",\"2016-10-21 05\",\"2016-10-21 06\",\"2016-10-21 07\",\"2016-10-21 08\",\"2016-10-21 09\",\"2016-10-21 10\",\"2016-10-21 11\",\"2016-10-21 12\",\"2016-10-21 13\",\"2016-10-21 14\",\"2016-10-21 15\",\"2016-10-21 16\",\"2016-10-21 17\",\"2016-10-21 18\",\"2016-10-21 19\",\"2016-10-21 20\",\"2016-10-21 21\",\"2016-10-22 02\",\"2016-10-22 03\",\"2016-10-22 04\",\"2016-10-22 05\",\"2016-10-22 06\",\"2016-10-22 07\",\"2016-10-22 08\",\"2016-10-22 09\",\"2016-10-22 10\",\"2016-10-22 11\",\"2016-10-22 12\",\"2016-10-22 13\",\"2016-10-22 14\",\"2016-10-22 15\",\"2016-10-22 16\",\"2016-10-22 17\",\"2016-10-22 18\",\"2016-10-22 20\",\"2016-10-23 00\",\"2016-10-23 02\",\"2016-10-23 03\",\"2016-10-23 04\",\"2016-10-23 05\",\"2016-10-23 06\",\"2016-10-23 07\",\"2016-10-23 08\",\"2016-10-23 09\",\"2016-10-23 10\",\"2016-10-23 11\",\"2016-10-23 12\",\"2016-10-23 14\",\"2016-10-23 15\",\"2016-10-23 16\",\"2016-10-23 17\",\"2016-10-23 18\",\"2016-10-24 02\",\"2016-10-24 03\",\"2016-10-24 04\",\"2016-10-24 05\",\"2016-10-24 06\",\"2016-10-24 08\",\"2016-10-24 09\",\"2016-10-24 10\",\"2016-10-24 11\",\"2016-10-24 12\",\"2016-10-24 13\",\"2016-10-24 14\",\"2016-10-24 15\",\"2016-10-24 16\",\"2016-10-24 17\",\"2016-10-24 18\",\"2016-10-24 19\",\"2016-10-24 23\",\"2016-10-25 04\",\"2016-10-25 05\",\"2016-10-25 06\",\"2016-10-25 07\",\"2016-10-25 08\",\"2016-10-25 09\",\"2016-10-25 10\",\"2016-10-25 11\",\"2016-10-25 14\",\"2016-10-25 16\",\"2016-10-25 17\",\"2016-10-25 18\",\"2016-10-26 00\",\"2016-10-26 05\",\"2016-10-26 06\",\"2016-10-26 07\",\"2016-10-26 08\",\"2016-10-26 09\",\"2016-10-26 10\",\"2016-10-26 11\",\"2016-10-26 12\",\"2016-10-26 13\",\"2016-10-26 14\",\"2016-10-26 15\",\"2016-10-26 16\",\"2016-10-26 17\",\"2016-10-26 18\",\"2016-10-26 19\",\"2016-10-26 20\",\"2016-10-26 21\",\"2016-10-27 01\",\"2016-10-27 02\",\"2016-10-27 03\",\"2016-10-27 04\",\"2016-10-27 05\",\"2016-10-27 06\",\"2016-10-27 07\",\"2016-10-27 12\",\"2016-10-27 13\",\"2016-10-27 14\",\"2016-10-27 15\",\"2016-10-27 17\",\"2016-10-27 18\",\"2016-10-27 20\",\"2016-10-27 21\",\"2016-10-28 02\",\"2016-10-28 03\",\"2016-10-28 04\",\"2016-10-28 05\",\"2016-10-28 06\",\"2016-10-28 07\",\"2016-10-28 08\",\"2016-10-28 09\",\"2016-10-28 11\",\"2016-10-28 12\",\"2016-10-28 13\",\"2016-10-28 15\",\"2016-10-28 17\",\"2016-10-28 18\",\"2016-10-28 19\",\"2016-10-28 20\",\"2016-10-29 00\",\"2016-10-29 01\",\"2016-10-29 02\",\"2016-10-29 04\",\"2016-10-29 05\",\"2016-10-29 09\",\"2016-10-29 11\",\"2016-10-29 12\",\"2016-10-29 13\",\"2016-10-29 15\",\"2016-10-29 17\",\"2016-10-29 18\",\"2016-10-29 22\",\"2016-10-29 23\",\"2016-10-30 03\",\"2016-10-30 04\",\"2016-10-30 05\",\"2016-10-30 06\",\"2016-10-30 07\",\"2016-10-30 08\",\"2016-10-30 09\",\"2016-10-30 12\",\"2016-10-30 13\",\"2016-10-30 14\",\"2016-10-30 15\",\"2016-10-30 16\",\"2016-10-30 17\",\"2016-10-30 18\",\"2016-10-31 01\",\"2016-10-31 02\",\"2016-10-31 04\",\"2016-10-31 07\",\"2016-10-31 08\",\"2016-10-31 09\",\"2016-10-31 10\",\"2016-10-31 11\",\"2016-10-31 12\",\"2016-10-31 13\",\"2016-10-31 14\",\"2016-10-31 16\",\"2016-10-31 17\",\"2016-10-31 20\",\"2016-11-01 01\",\"2016-11-01 02\",\"2016-11-01 04\",\"2016-11-01 05\",\"2016-11-01 06\",\"2016-11-01 07\",\"2016-11-01 08\",\"2016-11-01 09\",\"2016-11-01 10\",\"2016-11-01 11\",\"2016-11-01 12\",\"2016-11-01 13\",\"2016-11-01 14\",\"2016-11-01 15\",\"2016-11-01 16\",\"2016-11-01 17\",\"2016-11-01 19\",\"2016-11-02 00\",\"2016-11-02 02\",\"2016-11-02 04\",\"2016-11-02 05\",\"2016-11-02 06\",\"2016-11-02 07\",\"2016-11-02 09\",\"2016-11-02 10\",\"2016-11-02 11\",\"2016-11-02 13\",\"2016-11-02 14\",\"2016-11-02 15\",\"2016-11-02 16\",\"2016-11-02 18\",\"2016-11-02 19\",\"2016-11-02 21\",\"2016-11-03 00\",\"2016-11-03 01\",\"2016-11-03 03\",\"2016-11-03 04\",\"2016-11-03 05\",\"2016-11-03 06\",\"2016-11-03 07\",\"2016-11-03 08\",\"2016-11-03 09\",\"2016-11-03 10\",\"2016-11-03 11\",\"2016-11-03 13\",\"2016-11-03 14\",\"2016-11-03 15\",\"2016-11-03 16\",\"2016-11-03 17\",\"2016-11-03 18\",\"2016-11-03 19\",\"2016-11-03 20\",\"2016-11-03 23\",\"2016-11-04 01\",\"2016-11-04 02\",\"2016-11-04 03\",\"2016-11-04 04\",\"2016-11-04 05\",\"2016-11-04 06\",\"2016-11-04 07\",\"2016-11-04 08\",\"2016-11-04 09\",\"2016-11-04 10\",\"2016-11-04 11\",\"2016-11-04 12\",\"2016-11-04 13\",\"2016-11-04 14\",\"2016-11-04 15\",\"2016-11-04 16\",\"2016-11-04 17\",\"2016-11-04 18\",\"2016-11-04 23\",\"2016-11-05 00\",\"2016-11-05 01\",\"2016-11-05 03\",\"2016-11-05 04\",\"2016-11-05 05\",\"2016-11-05 06\",\"2016-11-05 07\",\"2016-11-05 08\",\"2016-11-05 09\",\"2016-11-05 11\",\"2016-11-05 13\",\"2016-11-05 14\",\"2016-11-05 15\",\"2016-11-05 17\",\"2016-11-05 18\",\"2016-11-05 19\",\"2016-11-06 01\",\"2016-11-06 02\",\"2016-11-06 03\",\"2016-11-06 04\",\"2016-11-06 05\",\"2016-11-06 06\",\"2016-11-06 07\",\"2016-11-06 08\",\"2016-11-06 09\",\"2016-11-06 10\",\"2016-11-06 11\",\"2016-11-06 12\",\"2016-11-06 13\",\"2016-11-06 14\",\"2016-11-06 15\",\"2016-11-06 16\",\"2016-11-06 17\",\"2016-11-07 01\",\"2016-11-07 03\",\"2016-11-07 04\",\"2016-11-07 06\",\"2016-11-07 07\",\"2016-11-07 08\",\"2016-11-07 09\",\"2016-11-07 11\",\"2016-11-07 12\",\"2016-11-07 13\",\"2016-11-07 14\",\"2016-11-07 15\",\"2016-11-07 16\",\"2016-11-07 17\",\"2016-11-07 19\",\"2016-11-07 20\",\"2016-11-07 21\",\"2016-11-07 22\",\"2016-11-08 02\",\"2016-11-08 03\",\"2016-11-08 04\",\"2016-11-08 05\",\"2016-11-08 06\",\"2016-11-08 07\",\"2016-11-08 08\",\"2016-11-08 09\",\"2016-11-08 11\",\"2016-11-08 12\",\"2016-11-08 13\",\"2016-11-08 14\",\"2016-11-08 15\",\"2016-11-08 16\",\"2016-11-08 18\",\"2016-11-09 03\",\"2016-11-09 04\",\"2016-11-09 05\",\"2016-11-09 06\",\"2016-11-09 07\",\"2016-11-09 08\",\"2016-11-09 09\",\"2016-11-09 10\",\"2016-11-09 11\",\"2016-11-09 13\",\"2016-11-09 14\",\"2016-11-09 15\",\"2016-11-09 16\",\"2016-11-09 17\",\"2016-11-09 18\",\"2016-11-09 19\",\"2016-11-10 01\",\"2016-11-10 02\",\"2016-11-10 03\",\"2016-11-10 04\",\"2016-11-10 05\",\"2016-11-10 06\",\"2016-11-10 07\",\"2016-11-10 08\",\"2016-11-10 09\",\"2016-11-10 10\",\"2016-11-10 11\",\"2016-11-10 12\",\"2016-11-10 13\",\"2016-11-10 14\",\"2016-11-10 15\",\"2016-11-10 16\",\"2016-11-10 17\",\"2016-11-10 18\",\"2016-11-10 19\",\"2016-11-10 20\",\"2016-11-11 01\",\"2016-11-11 02\",\"2016-11-11 03\",\"2016-11-11 05\",\"2016-11-11 06\",\"2016-11-11 07\",\"2016-11-11 08\",\"2016-11-11 09\",\"2016-11-11 10\",\"2016-11-11 11\",\"2016-11-11 12\",\"2016-11-11 13\",\"2016-11-11 14\",\"2016-11-11 15\",\"2016-11-11 16\",\"2016-11-11 17\",\"2016-11-11 18\",\"2016-11-11 20\",\"2016-11-11 21\",\"2016-11-12 00\",\"2016-11-12 01\",\"2016-11-12 02\",\"2016-11-12 03\",\"2016-11-12 04\",\"2016-11-12 05\",\"2016-11-12 07\",\"2016-11-12 08\",\"2016-11-12 09\",\"2016-11-12 10\",\"2016-11-12 11\",\"2016-11-12 12\",\"2016-11-12 13\",\"2016-11-12 14\",\"2016-11-12 15\",\"2016-11-12 16\",\"2016-11-12 17\",\"2016-11-12 18\",\"2016-11-13 00\",\"2016-11-13 01\",\"2016-11-13 02\",\"2016-11-13 03\",\"2016-11-13 04\",\"2016-11-13 05\",\"2016-11-13 06\",\"2016-11-13 07\",\"2016-11-13 08\",\"2016-11-13 09\",\"2016-11-13 10\",\"2016-11-13 11\",\"2016-11-13 12\",\"2016-11-13 13\",\"2016-11-13 15\",\"2016-11-13 16\",\"2016-11-13 17\",\"2016-11-13 18\",\"2016-11-13 19\",\"2016-11-14 02\",\"2016-11-14 03\",\"2016-11-14 04\",\"2016-11-14 05\",\"2016-11-14 06\",\"2016-11-14 07\",\"2016-11-14 08\",\"2016-11-14 09\",\"2016-11-14 10\",\"2016-11-14 11\",\"2016-11-14 12\",\"2016-11-14 13\",\"2016-11-14 14\",\"2016-11-14 15\",\"2016-11-14 16\",\"2016-11-14 17\",\"2016-11-14 18\",\"2016-11-14 19\",\"2016-11-14 21\",\"2016-11-15 01\",\"2016-11-15 02\",\"2016-11-15 03\",\"2016-11-15 05\",\"2016-11-15 06\",\"2016-11-15 07\",\"2016-11-15 08\",\"2016-11-15 09\",\"2016-11-15 10\",\"2016-11-15 11\",\"2016-11-15 12\",\"2016-11-15 13\",\"2016-11-15 14\",\"2016-11-15 15\",\"2016-11-15 16\",\"2016-11-15 17\",\"2016-11-15 18\",\"2016-11-15 19\",\"2016-11-15 20\",\"2016-11-16 01\",\"2016-11-16 02\",\"2016-11-16 03\",\"2016-11-16 05\",\"2016-11-16 06\",\"2016-11-16 07\",\"2016-11-16 08\",\"2016-11-16 09\",\"2016-11-16 10\",\"2016-11-16 11\",\"2016-11-16 12\",\"2016-11-16 13\",\"2016-11-16 14\",\"2016-11-16 15\",\"2016-11-16 16\",\"2016-11-16 17\",\"2016-11-16 18\",\"2016-11-16 19\",\"2016-11-17 00\",\"2016-11-17 01\",\"2016-11-17 02\",\"2016-11-17 03\",\"2016-11-17 04\",\"2016-11-17 05\",\"2016-11-17 06\",\"2016-11-17 07\",\"2016-11-17 08\",\"2016-11-17 09\",\"2016-11-17 10\",\"2016-11-17 11\",\"2016-11-17 12\",\"2016-11-17 13\",\"2016-11-17 14\",\"2016-11-17 15\",\"2016-11-17 16\",\"2016-11-17 17\",\"2016-11-17 18\",\"2016-11-17 21\",\"2016-11-18 01\",\"2016-11-18 02\",\"2016-11-18 03\",\"2016-11-18 04\",\"2016-11-18 05\",\"2016-11-18 06\",\"2016-11-18 07\",\"2016-11-18 08\",\"2016-11-18 09\",\"2016-11-18 10\",\"2016-11-18 11\",\"2016-11-18 12\",\"2016-11-18 13\",\"2016-11-18 14\",\"2016-11-18 15\",\"2016-11-18 16\",\"2016-11-18 17\",\"2016-11-18 18\",\"2016-11-18 19\",\"2016-11-18 20\",\"2016-11-18 22\",\"2016-11-19 00\",\"2016-11-19 01\",\"2016-11-19 02\",\"2016-11-19 03\",\"2016-11-19 04\",\"2016-11-19 05\",\"2016-11-19 06\",\"2016-11-19 07\",\"2016-11-19 08\",\"2016-11-19 09\",\"2016-11-19 10\",\"2016-11-19 11\",\"2016-11-19 12\",\"2016-11-19 13\",\"2016-11-19 14\",\"2016-11-19 16\",\"2016-11-19 17\",\"2016-11-19 18\",\"2016-11-19 19\",\"2016-11-19 20\",\"2016-11-19 22\",\"2016-11-19 23\",\"2016-11-20 00\",\"2016-11-20 01\",\"2016-11-20 02\",\"2016-11-20 03\",\"2016-11-20 04\",\"2016-11-20 05\",\"2016-11-20 06\",\"2016-11-20 07\",\"2016-11-20 08\",\"2016-11-20 09\",\"2016-11-20 10\",\"2016-11-20 11\",\"2016-11-20 12\",\"2016-11-20 13\",\"2016-11-20 14\",\"2016-11-20 15\",\"2016-11-20 16\",\"2016-11-20 17\",\"2016-11-20 18\",\"2016-11-20 19\",\"2016-11-20 20\",\"2016-11-20 21\",\"2016-11-20 22\",\"2016-11-20 23\",\"2016-11-21 00\",\"2016-11-21 02\",\"2016-11-21 03\",\"2016-11-21 04\",\"2016-11-21 05\",\"2016-11-21 06\",\"2016-11-21 07\",\"2016-11-21 08\",\"2016-11-21 09\",\"2016-11-21 10\",\"2016-11-21 11\",\"2016-11-21 12\",\"2016-11-21 13\",\"2016-11-21 14\",\"2016-11-21 15\",\"2016-11-21 16\",\"2016-11-21 17\",\"2016-11-21 18\",\"2016-11-21 19\",\"2016-11-21 20\",\"2016-11-21 23\",\"2016-11-22 01\",\"2016-11-22 03\",\"2016-11-22 04\",\"2016-11-22 05\",\"2016-11-22 06\",\"2016-11-22 07\",\"2016-11-22 08\",\"2016-11-22 09\",\"2016-11-22 10\",\"2016-11-22 11\",\"2016-11-22 12\",\"2016-11-22 13\",\"2016-11-22 14\",\"2016-11-22 15\",\"2016-11-22 16\",\"2016-11-22 17\",\"2016-11-22 18\",\"2016-11-22 19\",\"2016-11-22 20\",\"2016-11-22 21\",\"2016-11-23 01\",\"2016-11-23 02\",\"2016-11-23 04\",\"2016-11-23 05\",\"2016-11-23 06\",\"2016-11-23 07\",\"2016-11-23 08\",\"2016-11-23 09\",\"2016-11-23 10\",\"2016-11-23 11\",\"2016-11-23 12\",\"2016-11-23 13\",\"2016-11-23 14\",\"2016-11-23 15\",\"2016-11-23 16\",\"2016-11-23 17\",\"2016-11-23 18\",\"2016-11-23 19\",\"2016-11-23 20\",\"2016-11-23 21\",\"2016-11-23 22\",\"2016-11-23 23\",\"2016-11-24 00\",\"2016-11-24 01\",\"2016-11-24 02\",\"2016-11-24 03\",\"2016-11-24 04\",\"2016-11-24 05\",\"2016-11-24 06\",\"2016-11-24 07\",\"2016-11-24 08\",\"2016-11-24 09\",\"2016-11-24 10\",\"2016-11-24 11\",\"2016-11-24 12\",\"2016-11-24 13\",\"2016-11-24 14\",\"2016-11-24 15\",\"2016-11-24 16\",\"2016-11-24 17\",\"2016-11-24 18\",\"2016-11-24 19\",\"2016-11-24 20\",\"2016-11-24 21\",\"2016-11-24 22\",\"2016-11-24 23\",\"2016-11-25 00\",\"2016-11-25 01\",\"2016-11-25 02\",\"2016-11-25 03\",\"2016-11-25 04\",\"2016-11-25 05\",\"2016-11-25 06\",\"2016-11-25 07\",\"2016-11-25 08\",\"2016-11-25 09\",\"2016-11-25 10\",\"2016-11-25 11\",\"2016-11-25 12\",\"2016-11-25 13\",\"2016-11-25 14\",\"2016-11-25 15\",\"2016-11-25 16\",\"2016-11-25 17\",\"2016-11-25 18\",\"2016-11-25 19\",\"2016-11-25 20\",\"2016-11-25 21\",\"2016-11-25 23\",\"2016-11-26 01\",\"2016-11-26 02\",\"2016-11-26 03\",\"2016-11-26 04\",\"2016-11-26 05\",\"2016-11-26 06\",\"2016-11-26 07\",\"2016-11-26 08\",\"2016-11-26 09\",\"2016-11-26 10\",\"2016-11-26 11\",\"2016-11-26 12\",\"2016-11-26 13\",\"2016-11-26 14\",\"2016-11-26 15\",\"2016-11-26 16\",\"2016-11-26 17\",\"2016-11-26 18\",\"2016-11-26 19\",\"2016-11-26 20\",\"2016-11-26 21\",\"2016-11-26 23\",\"2016-11-27 00\",\"2016-11-27 01\",\"2016-11-27 02\",\"2016-11-27 03\",\"2016-11-27 04\",\"2016-11-27 05\",\"2016-11-27 06\",\"2016-11-27 07\",\"2016-11-27 08\",\"2016-11-27 09\",\"2016-11-27 10\",\"2016-11-27 11\",\"2016-11-27 12\",\"2016-11-27 13\",\"2016-11-27 14\",\"2016-11-27 15\",\"2016-11-27 16\",\"2016-11-27 17\",\"2016-11-27 18\",\"2016-11-27 19\",\"2016-11-27 20\",\"2016-11-27 21\",\"2016-11-27 22\",\"2016-11-28 00\",\"2016-11-28 01\",\"2016-11-28 02\",\"2016-11-28 03\",\"2016-11-28 04\",\"2016-11-28 05\",\"2016-11-28 06\",\"2016-11-28 07\",\"2016-11-28 08\",\"2016-11-28 09\",\"2016-11-28 10\",\"2016-11-28 11\",\"2016-11-28 12\",\"2016-11-28 13\",\"2016-11-28 14\",\"2016-11-28 15\",\"2016-11-28 16\",\"2016-11-28 17\",\"2016-11-28 18\",\"2016-11-28 19\",\"2016-11-28 20\",\"2016-11-28 21\",\"2016-11-28 22\",\"2016-11-28 23\",\"2016-11-29 00\",\"2016-11-29 01\",\"2016-11-29 02\",\"2016-11-29 03\",\"2016-11-29 04\",\"2016-11-29 05\",\"2016-11-29 06\",\"2016-11-29 07\",\"2016-11-29 08\",\"2016-11-29 09\",\"2016-11-29 10\",\"2016-11-29 11\",\"2016-11-29 12\",\"2016-11-29 13\",\"2016-11-29 14\",\"2016-11-29 15\",\"2016-11-29 16\",\"2016-11-29 17\",\"2016-11-29 18\",\"2016-11-29 19\",\"2016-11-29 20\",\"2016-11-29 21\",\"2016-11-29 22\",\"2016-11-29 23\",\"2016-11-30 00\",\"2016-11-30 01\",\"2016-11-30 02\",\"2016-11-30 03\",\"2016-11-30 04\",\"2016-11-30 05\",\"2016-11-30 06\",\"2016-11-30 07\",\"2016-11-30 08\",\"2016-11-30 09\",\"2016-11-30 10\",\"2016-11-30 11\",\"2016-11-30 12\",\"2016-11-30 13\",\"2016-11-30 14\",\"2016-11-30 15\",\"2016-11-30 16\",\"2016-11-30 17\",\"2016-11-30 18\",\"2016-11-30 19\",\"2016-11-30 20\",\"2016-11-30 21\",\"2016-11-30 22\",\"2016-11-30 23\",\"2016-12-01 00\",\"2016-12-01 01\",\"2016-12-01 02\",\"2016-12-01 03\",\"2016-12-01 04\",\"2016-12-01 05\",\"2016-12-01 06\",\"2016-12-01 07\",\"2016-12-01 08\",\"2016-12-01 09\",\"2016-12-01 10\",\"2016-12-01 11\",\"2016-12-01 12\",\"2016-12-01 13\",\"2016-12-01 14\",\"2016-12-01 15\",\"2016-12-01 16\",\"2016-12-01 17\",\"2016-12-01 18\",\"2016-12-01 19\",\"2016-12-01 20\",\"2016-12-01 21\",\"2016-12-01 22\",\"2016-12-01 23\",\"2016-12-02 00\",\"2016-12-02 01\",\"2016-12-02 02\",\"2016-12-02 03\",\"2016-12-02 04\",\"2016-12-02 05\",\"2016-12-02 06\",\"2016-12-02 07\",\"2016-12-02 08\",\"2016-12-02 09\",\"2016-12-02 10\",\"2016-12-02 11\",\"2016-12-02 12\",\"2016-12-02 13\",\"2016-12-02 14\",\"2016-12-02 15\",\"2016-12-02 16\",\"2016-12-02 17\",\"2016-12-02 18\",\"2016-12-02 19\",\"2016-12-02 20\",\"2016-12-02 21\",\"2016-12-02 22\",\"2016-12-02 23\",\"2016-12-03 00\",\"2016-12-03 01\",\"2016-12-03 02\",\"2016-12-03 03\",\"2016-12-03 04\",\"2016-12-03 05\",\"2016-12-03 06\",\"2016-12-03 07\",\"2016-12-03 08\",\"2016-12-03 09\",\"2016-12-03 10\",\"2016-12-03 11\",\"2016-12-03 12\",\"2016-12-03 13\",\"2016-12-03 14\",\"2016-12-03 15\",\"2016-12-03 16\",\"2016-12-03 17\",\"2016-12-03 18\",\"2016-12-03 19\",\"2016-12-03 20\",\"2016-12-03 21\",\"2016-12-03 22\",\"2016-12-03 23\",\"2016-12-04 00\",\"2016-12-04 01\",\"2016-12-04 02\",\"2016-12-04 03\",\"2016-12-04 04\",\"2016-12-04 05\",\"2016-12-04 06\",\"2016-12-04 07\",\"2016-12-04 08\",\"2016-12-04 09\",\"2016-12-04 10\",\"2016-12-04 11\",\"2016-12-04 12\",\"2016-12-04 13\",\"2016-12-04 14\",\"2016-12-04 15\",\"2016-12-04 16\",\"2016-12-04 17\",\"2016-12-04 18\",\"2016-12-04 19\",\"2016-12-04 20\",\"2016-12-04 21\",\"2016-12-04 22\",\"2016-12-04 23\",\"2016-12-05 00\",\"2016-12-05 01\",\"2016-12-05 02\",\"2016-12-05 03\",\"2016-12-05 04\",\"2016-12-05 05\",\"2016-12-05 06\",\"2016-12-05 07\",\"2016-12-05 08\",\"2016-12-05 09\",\"2016-12-05 10\",\"2016-12-05 11\",\"2016-12-05 12\",\"2016-12-05 13\",\"2016-12-05 14\",\"2016-12-05 15\",\"2016-12-05 16\",\"2016-12-05 17\",\"2016-12-05 18\",\"2016-12-05 19\",\"2016-12-05 20\",\"2016-12-05 21\",\"2016-12-05 22\",\"2016-12-05 23\",\"2016-12-06 00\",\"2016-12-06 01\",\"2016-12-06 02\",\"2016-12-06 03\",\"2016-12-06 04\",\"2016-12-06 05\",\"2016-12-06 06\",\"2016-12-06 07\",\"2016-12-06 08\",\"2016-12-06 09\",\"2016-12-06 10\",\"2016-12-06 11\",\"2016-12-06 12\",\"2016-12-06 13\",\"2016-12-06 14\",\"2016-12-06 15\",\"2016-12-06 16\",\"2016-12-06 17\",\"2016-12-06 18\",\"2016-12-06 19\",\"2016-12-06 20\",\"2016-12-06 21\",\"2016-12-06 22\",\"2016-12-06 23\",\"2016-12-07 00\",\"2016-12-07 01\",\"2016-12-07 02\",\"2016-12-07 03\",\"2016-12-07 04\",\"2016-12-07 05\",\"2016-12-07 06\",\"2016-12-07 07\",\"2016-12-07 08\",\"2016-12-07 09\",\"2016-12-07 10\",\"2016-12-07 11\",\"2016-12-07 12\",\"2016-12-07 13\",\"2016-12-07 14\",\"2016-12-07 15\",\"2016-12-07 16\",\"2016-12-07 17\",\"2016-12-07 18\",\"2016-12-07 19\",\"2016-12-07 20\",\"2016-12-07 21\",\"2016-12-07 22\",\"2016-12-07 23\",\"2016-12-08 00\",\"2016-12-08 01\",\"2016-12-08 02\",\"2016-12-08 03\",\"2016-12-08 04\",\"2016-12-08 05\",\"2016-12-08 06\",\"2016-12-08 07\",\"2016-12-08 08\",\"2016-12-08 09\",\"2016-12-08 10\",\"2016-12-08 11\",\"2016-12-08 12\",\"2016-12-08 13\",\"2016-12-08 14\",\"2016-12-08 15\",\"2016-12-08 16\",\"2016-12-08 17\",\"2016-12-08 18\",\"2016-12-08 19\",\"2016-12-08 20\",\"2016-12-08 21\",\"2016-12-08 22\",\"2016-12-08 23\",\"2016-12-09 00\",\"2016-12-09 01\",\"2016-12-09 02\",\"2016-12-09 03\",\"2016-12-09 04\",\"2016-12-09 05\",\"2016-12-09 06\",\"2016-12-09 07\",\"2016-12-09 08\",\"2016-12-09 09\",\"2016-12-09 10\",\"2016-12-09 11\",\"2016-12-09 12\",\"2016-12-09 13\",\"2016-12-09 14\",\"2016-12-09 15\",\"2016-12-09 16\",\"2016-12-09 17\",\"2016-12-09 18\",\"2016-12-09 19\",\"2016-12-09 20\",\"2016-12-09 21\",\"2016-12-09 22\",\"2016-12-09 23\",\"2016-12-10 00\",\"2016-12-10 01\",\"2016-12-10 02\",\"2016-12-10 03\",\"2016-12-10 04\",\"2016-12-10 05\",\"2016-12-10 06\",\"2016-12-10 07\",\"2016-12-10 08\",\"2016-12-10 09\",\"2016-12-10 10\",\"2016-12-10 11\",\"2016-12-10 12\",\"2016-12-10 13\",\"2016-12-10 14\",\"2016-12-10 15\",\"2016-12-10 16\",\"2016-12-10 17\",\"2016-12-10 18\",\"2016-12-10 19\",\"2016-12-10 20\",\"2016-12-10 21\",\"2016-12-10 22\",\"2016-12-10 23\",\"2016-12-11 00\",\"2016-12-11 01\",\"2016-12-11 02\",\"2016-12-11 03\",\"2016-12-11 04\",\"2016-12-11 05\",\"2016-12-11 06\",\"2016-12-11 07\",\"2016-12-11 08\",\"2016-12-11 09\",\"2016-12-11 10\",\"2016-12-11 11\",\"2016-12-11 12\",\"2016-12-11 13\",\"2016-12-11 14\",\"2016-12-11 15\",\"2016-12-11 16\",\"2016-12-11 17\",\"2016-12-11 18\",\"2016-12-11 19\",\"2016-12-11 20\",\"2016-12-11 21\",\"2016-12-11 22\",\"2016-12-11 23\",\"2016-12-12 00\",\"2016-12-12 01\",\"2016-12-12 02\",\"2016-12-12 03\",\"2016-12-12 04\",\"2016-12-12 05\",\"2016-12-12 06\",\"2016-12-12 07\",\"2016-12-12 08\",\"2016-12-12 09\",\"2016-12-12 10\",\"2016-12-12 11\",\"2016-12-12 12\",\"2016-12-12 13\",\"2016-12-12 14\",\"2016-12-12 15\",\"2016-12-12 16\",\"2016-12-12 17\",\"2016-12-12 18\",\"2016-12-12 19\",\"2016-12-12 20\",\"2016-12-12 21\",\"2016-12-12 22\",\"2016-12-12 23\",\"2016-12-13 00\",\"2016-12-13 01\",\"2016-12-13 02\",\"2016-12-13 03\",\"2016-12-13 04\",\"2016-12-13 05\",\"2016-12-13 06\",\"2016-12-13 07\",\"2016-12-13 08\",\"2016-12-13 09\",\"2016-12-13 10\",\"2016-12-13 11\",\"2016-12-13 12\",\"2016-12-13 13\",\"2016-12-13 14\",\"2016-12-13 15\",\"2016-12-13 16\",\"2016-12-13 17\",\"2016-12-13 18\",\"2016-12-13 19\",\"2016-12-13 20\",\"2016-12-13 21\",\"2016-12-13 22\",\"2016-12-13 23\",\"2016-12-14 00\",\"2016-12-14 01\",\"2016-12-14 02\",\"2016-12-14 03\",\"2016-12-14 04\",\"2016-12-14 05\",\"2016-12-14 06\",\"2016-12-14 07\",\"2016-12-14 08\",\"2016-12-14 09\",\"2016-12-14 10\",\"2016-12-14 11\",\"2016-12-14 12\",\"2016-12-14 13\",\"2016-12-14 14\",\"2016-12-14 15\",\"2016-12-14 16\",\"2016-12-14 17\",\"2016-12-14 18\",\"2016-12-14 19\",\"2016-12-14 20\",\"2016-12-14 21\",\"2016-12-14 22\",\"2016-12-14 23\",\"2016-12-15 00\",\"2016-12-15 01\",\"2016-12-15 02\",\"2016-12-15 03\",\"2016-12-15 04\",\"2016-12-15 05\",\"2016-12-15 06\",\"2016-12-15 07\",\"2016-12-15 08\",\"2016-12-15 09\",\"2016-12-15 10\",\"2016-12-15 11\",\"2016-12-15 12\",\"2016-12-15 13\",\"2016-12-15 14\",\"2016-12-15 15\",\"2016-12-15 16\",\"2016-12-15 17\",\"2016-12-15 18\",\"2016-12-15 19\",\"2016-12-15 20\",\"2016-12-15 21\",\"2016-12-15 22\",\"2016-12-15 23\",\"2016-12-16 00\",\"2016-12-16 01\",\"2016-12-16 02\",\"2016-12-16 03\",\"2016-12-16 04\",\"2016-12-16 05\",\"2016-12-16 06\",\"2016-12-16 07\",\"2016-12-16 08\",\"2016-12-16 09\",\"2016-12-16 10\",\"2016-12-16 11\",\"2016-12-16 12\",\"2016-12-16 13\",\"2016-12-16 14\",\"2016-12-16 15\",\"2016-12-16 16\",\"2016-12-16 17\",\"2016-12-16 18\",\"2016-12-16 19\",\"2016-12-16 20\",\"2016-12-16 21\",\"2016-12-16 22\",\"2016-12-16 23\",\"2016-12-17 00\",\"2016-12-17 01\",\"2016-12-17 02\",\"2016-12-17 03\",\"2016-12-17 04\",\"2016-12-17 05\",\"2016-12-17 06\",\"2016-12-17 07\",\"2016-12-17 08\",\"2016-12-17 09\",\"2016-12-17 10\",\"2016-12-17 11\",\"2016-12-17 12\",\"2016-12-17 13\",\"2016-12-17 14\",\"2016-12-17 15\",\"2016-12-17 16\",\"2016-12-17 17\",\"2016-12-17 18\",\"2016-12-17 19\",\"2016-12-17 20\",\"2016-12-17 21\",\"2016-12-17 22\",\"2016-12-17 23\",\"2016-12-18 00\",\"2016-12-18 01\",\"2016-12-18 02\",\"2016-12-18 03\",\"2016-12-18 04\",\"2016-12-18 05\",\"2016-12-18 06\",\"2016-12-18 07\",\"2016-12-18 08\",\"2016-12-18 09\",\"2016-12-18 10\",\"2016-12-18 11\",\"2016-12-18 12\",\"2016-12-18 13\",\"2016-12-18 14\",\"2016-12-18 15\",\"2016-12-18 16\",\"2016-12-18 17\",\"2016-12-18 18\",\"2016-12-18 19\",\"2016-12-18 20\",\"2016-12-18 21\",\"2016-12-18 22\",\"2016-12-18 23\",\"2016-12-19 00\",\"2016-12-19 01\",\"2016-12-19 02\",\"2016-12-19 03\",\"2016-12-19 04\",\"2016-12-19 05\",\"2016-12-19 06\",\"2016-12-19 07\",\"2016-12-19 08\",\"2016-12-19 09\",\"2016-12-19 10\",\"2016-12-19 11\",\"2016-12-19 12\",\"2016-12-19 13\",\"2016-12-19 14\",\"2016-12-19 15\",\"2016-12-19 16\",\"2016-12-19 17\",\"2016-12-19 18\",\"2016-12-19 19\",\"2016-12-19 20\",\"2016-12-19 21\",\"2016-12-19 22\",\"2016-12-19 23\",\"2016-12-20 00\",\"2016-12-20 01\",\"2016-12-20 02\",\"2016-12-20 03\",\"2016-12-20 04\",\"2016-12-20 05\",\"2016-12-20 06\",\"2016-12-20 07\",\"2016-12-20 08\",\"2016-12-20 09\",\"2016-12-20 10\",\"2016-12-20 11\",\"2016-12-20 12\",\"2016-12-20 13\",\"2016-12-20 14\",\"2016-12-20 15\",\"2016-12-20 16\",\"2016-12-20 17\",\"2016-12-20 18\",\"2016-12-20 19\",\"2016-12-20 20\",\"2016-12-20 21\",\"2016-12-20 22\",\"2016-12-20 23\",\"2016-12-21 00\",\"2016-12-21 01\",\"2016-12-21 02\",\"2016-12-21 03\",\"2016-12-21 04\",\"2016-12-21 05\",\"2016-12-21 06\",\"2016-12-21 07\",\"2016-12-21 08\",\"2016-12-21 09\",\"2016-12-21 10\",\"2016-12-21 11\",\"2016-12-21 12\",\"2016-12-21 13\",\"2016-12-21 14\",\"2016-12-21 15\",\"2016-12-21 16\",\"2016-12-21 17\",\"2016-12-21 18\",\"2016-12-21 19\",\"2016-12-21 20\",\"2016-12-21 21\",\"2016-12-21 22\",\"2016-12-21 23\",\"2016-12-22 00\",\"2016-12-22 01\",\"2016-12-22 02\",\"2016-12-22 03\",\"2016-12-22 04\",\"2016-12-22 05\",\"2016-12-22 06\",\"2016-12-22 07\",\"2016-12-22 08\",\"2016-12-22 09\",\"2016-12-22 10\",\"2016-12-22 11\",\"2016-12-22 12\",\"2016-12-22 13\",\"2016-12-22 14\",\"2016-12-22 15\",\"2016-12-22 16\",\"2016-12-22 17\",\"2016-12-22 18\",\"2016-12-22 19\",\"2016-12-22 20\",\"2016-12-22 21\",\"2016-12-22 22\",\"2016-12-22 23\",\"2016-12-23 00\",\"2016-12-23 01\",\"2016-12-23 02\",\"2016-12-23 03\",\"2016-12-23 04\",\"2016-12-23 05\",\"2016-12-23 06\",\"2016-12-23 07\",\"2016-12-23 08\",\"2016-12-23 09\",\"2016-12-23 10\",\"2016-12-23 11\",\"2016-12-23 12\",\"2016-12-23 13\",\"2016-12-23 14\",\"2016-12-23 15\",\"2016-12-23 16\",\"2016-12-23 17\",\"2016-12-23 18\",\"2016-12-23 19\",\"2016-12-23 20\",\"2016-12-23 21\",\"2016-12-23 22\",\"2016-12-23 23\",\"2016-12-24 00\",\"2016-12-24 01\",\"2016-12-24 02\",\"2016-12-24 03\",\"2016-12-24 04\",\"2016-12-24 05\",\"2016-12-24 06\",\"2016-12-24 07\",\"2016-12-24 08\",\"2016-12-24 09\",\"2016-12-24 10\",\"2016-12-24 11\",\"2016-12-24 12\",\"2016-12-24 13\",\"2016-12-24 14\",\"2016-12-24 15\",\"2016-12-24 16\",\"2016-12-24 17\",\"2016-12-24 18\",\"2016-12-24 19\",\"2016-12-24 20\",\"2016-12-24 21\",\"2016-12-24 22\",\"2016-12-24 23\",\"2016-12-25 00\",\"2016-12-25 01\",\"2016-12-25 02\",\"2016-12-25 03\",\"2016-12-25 04\",\"2016-12-25 05\",\"2016-12-25 06\",\"2016-12-25 07\",\"2016-12-25 08\",\"2016-12-25 09\",\"2016-12-25 10\",\"2016-12-25 11\",\"2016-12-25 12\",\"2016-12-25 13\",\"2016-12-25 14\",\"2016-12-25 15\",\"2016-12-25 16\",\"2016-12-25 17\",\"2016-12-25 18\",\"2016-12-25 19\",\"2016-12-25 20\",\"2016-12-25 21\",\"2016-12-25 22\",\"2016-12-25 23\",\"2016-12-26 00\",\"2016-12-26 01\",\"2016-12-26 02\",\"2016-12-26 03\",\"2016-12-26 04\",\"2016-12-26 05\",\"2016-12-26 06\",\"2016-12-26 07\",\"2016-12-26 08\",\"2016-12-26 09\",\"2016-12-26 10\",\"2016-12-26 11\",\"2016-12-26 12\",\"2016-12-26 13\",\"2016-12-26 14\",\"2016-12-26 15\",\"2016-12-26 16\",\"2016-12-26 17\",\"2016-12-26 18\",\"2016-12-26 19\",\"2016-12-26 20\",\"2016-12-26 21\",\"2016-12-26 22\",\"2016-12-26 23\",\"2016-12-27 00\",\"2016-12-27 01\",\"2016-12-27 02\",\"2016-12-27 03\",\"2016-12-27 04\",\"2016-12-27 05\",\"2016-12-27 06\",\"2016-12-27 07\",\"2016-12-27 08\",\"2016-12-27 09\",\"2016-12-27 10\",\"2016-12-27 11\",\"2016-12-27 12\",\"2016-12-27 13\",\"2016-12-27 14\",\"2016-12-27 15\",\"2016-12-27 16\",\"2016-12-27 17\",\"2016-12-27 18\",\"2016-12-27 19\",\"2016-12-27 20\",\"2016-12-27 21\",\"2016-12-27 22\",\"2016-12-27 23\",\"2016-12-28 00\",\"2016-12-28 01\",\"2016-12-28 02\",\"2016-12-28 03\",\"2016-12-28 04\",\"2016-12-28 05\",\"2016-12-28 06\",\"2016-12-28 07\",\"2016-12-28 08\",\"2016-12-28 09\",\"2016-12-28 10\",\"2016-12-28 11\",\"2016-12-28 12\",\"2016-12-28 13\",\"2016-12-28 14\",\"2016-12-28 15\",\"2016-12-28 16\",\"2016-12-28 17\",\"2016-12-28 18\",\"2016-12-28 19\",\"2016-12-28 20\",\"2016-12-28 21\",\"2016-12-28 22\",\"2016-12-28 23\",\"2016-12-29 00\",\"2016-12-29 01\",\"2016-12-29 02\",\"2016-12-29 03\",\"2016-12-29 04\",\"2016-12-29 05\",\"2016-12-29 06\",\"2016-12-29 07\",\"2016-12-29 08\",\"2016-12-29 09\",\"2016-12-29 10\",\"2016-12-29 11\",\"2016-12-29 12\",\"2016-12-29 13\",\"2016-12-29 14\",\"2016-12-29 15\",\"2016-12-29 16\",\"2016-12-29 17\",\"2016-12-29 18\",\"2016-12-29 19\",\"2016-12-29 20\",\"2016-12-29 21\",\"2016-12-29 22\",\"2016-12-29 23\",\"2016-12-30 00\",\"2016-12-30 01\",\"2016-12-30 02\",\"2016-12-30 03\",\"2016-12-30 04\",\"2016-12-30 05\",\"2016-12-30 06\",\"2016-12-30 07\",\"2016-12-30 08\",\"2016-12-30 09\",\"2016-12-30 10\",\"2016-12-30 11\",\"2016-12-30 12\",\"2016-12-30 13\",\"2016-12-30 14\",\"2016-12-30 15\",\"2016-12-30 16\",\"2016-12-30 17\",\"2016-12-30 18\",\"2016-12-30 19\",\"2016-12-30 20\",\"2016-12-30 21\",\"2016-12-30 22\",\"2016-12-30 23\",\"2016-12-31 00\",\"2016-12-31 01\",\"2016-12-31 02\",\"2016-12-31 03\",\"2016-12-31 04\",\"2016-12-31 05\",\"2016-12-31 06\",\"2016-12-31 07\",\"2016-12-31 08\",\"2016-12-31 09\",\"2016-12-31 10\",\"2016-12-31 11\",\"2016-12-31 12\",\"2016-12-31 13\",\"2016-12-31 14\",\"2016-12-31 15\",\"2016-12-31 16\",\"2016-12-31 17\",\"2016-12-31 18\",\"2016-12-31 19\",\"2016-12-31 20\",\"2016-12-31 21\",\"2016-12-31 22\",\"2016-12-31 23\",\"2017-01-01 00\",\"2017-01-01 01\",\"2017-01-01 02\",\"2017-01-01 03\",\"2017-01-01 04\",\"2017-01-01 05\",\"2017-01-01 06\",\"2017-01-01 07\",\"2017-01-01 08\",\"2017-01-01 09\",\"2017-01-01 10\",\"2017-01-01 11\",\"2017-01-01 12\",\"2017-01-01 13\",\"2017-01-01 14\",\"2017-01-01 15\",\"2017-01-01 16\",\"2017-01-01 17\",\"2017-01-01 18\",\"2017-01-01 19\",\"2017-01-01 20\",\"2017-01-01 21\",\"2017-01-01 22\",\"2017-01-01 23\",\"2017-01-02 00\",\"2017-01-02 01\",\"2017-01-02 02\",\"2017-01-02 03\",\"2017-01-02 04\",\"2017-01-02 05\",\"2017-01-02 06\",\"2017-01-02 07\",\"2017-01-02 08\",\"2017-01-02 09\",\"2017-01-02 10\",\"2017-01-02 11\",\"2017-01-02 12\",\"2017-01-02 13\",\"2017-01-02 14\",\"2017-01-02 15\",\"2017-01-02 16\",\"2017-01-02 17\",\"2017-01-02 18\",\"2017-01-02 19\",\"2017-01-02 20\",\"2017-01-02 21\",\"2017-01-02 22\",\"2017-01-02 23\",\"2017-01-03 00\",\"2017-01-03 01\",\"2017-01-03 02\",\"2017-01-03 03\",\"2017-01-03 04\",\"2017-01-03 05\",\"2017-01-03 06\",\"2017-01-03 07\",\"2017-01-03 08\",\"2017-01-03 09\",\"2017-01-03 10\",\"2017-01-03 11\",\"2017-01-03 12\",\"2017-01-03 13\",\"2017-01-03 14\",\"2017-01-03 15\",\"2017-01-03 16\",\"2017-01-03 17\",\"2017-01-03 18\",\"2017-01-03 19\",\"2017-01-03 20\",\"2017-01-03 21\",\"2017-01-03 22\",\"2017-01-03 23\",\"2017-01-04 00\",\"2017-01-04 01\",\"2017-01-04 02\",\"2017-01-04 03\",\"2017-01-04 04\",\"2017-01-04 05\",\"2017-01-04 06\",\"2017-01-04 07\",\"2017-01-04 08\",\"2017-01-04 09\",\"2017-01-04 10\",\"2017-01-04 11\",\"2017-01-04 12\",\"2017-01-04 13\",\"2017-01-04 14\",\"2017-01-04 15\",\"2017-01-04 16\",\"2017-01-04 17\",\"2017-01-04 18\",\"2017-01-04 19\",\"2017-01-04 20\",\"2017-01-04 21\",\"2017-01-04 22\",\"2017-01-04 23\",\"2017-01-05 00\",\"2017-01-05 01\",\"2017-01-05 02\",\"2017-01-05 03\",\"2017-01-05 04\",\"2017-01-05 05\",\"2017-01-05 06\",\"2017-01-05 07\",\"2017-01-05 08\",\"2017-01-05 09\",\"2017-01-05 10\",\"2017-01-05 11\",\"2017-01-05 12\",\"2017-01-05 13\",\"2017-01-05 14\",\"2017-01-05 15\",\"2017-01-05 16\",\"2017-01-05 17\",\"2017-01-05 18\",\"2017-01-05 19\",\"2017-01-05 20\",\"2017-01-05 21\",\"2017-01-05 22\",\"2017-01-05 23\",\"2017-01-06 00\",\"2017-01-06 01\",\"2017-01-06 02\",\"2017-01-06 03\",\"2017-01-06 04\",\"2017-01-06 05\",\"2017-01-06 06\",\"2017-01-06 07\",\"2017-01-06 08\",\"2017-01-06 09\",\"2017-01-06 10\",\"2017-01-06 11\",\"2017-01-06 12\",\"2017-01-06 13\",\"2017-01-06 14\",\"2017-01-06 15\",\"2017-01-06 16\",\"2017-01-06 17\",\"2017-01-06 18\",\"2017-01-06 19\",\"2017-01-06 20\",\"2017-01-06 21\",\"2017-01-06 22\",\"2017-01-06 23\",\"2017-01-07 00\",\"2017-01-07 01\",\"2017-01-07 02\",\"2017-01-07 03\",\"2017-01-07 04\",\"2017-01-07 05\",\"2017-01-07 06\",\"2017-01-07 07\",\"2017-01-07 08\",\"2017-01-07 09\",\"2017-01-07 10\",\"2017-01-07 11\",\"2017-01-07 12\",\"2017-01-07 13\",\"2017-01-07 14\",\"2017-01-07 15\",\"2017-01-07 16\",\"2017-01-07 17\",\"2017-01-07 18\",\"2017-01-07 19\",\"2017-01-07 20\",\"2017-01-07 21\",\"2017-01-07 22\",\"2017-01-07 23\",\"2017-01-08 00\",\"2017-01-08 01\",\"2017-01-08 02\",\"2017-01-08 03\",\"2017-01-08 04\",\"2017-01-08 05\",\"2017-01-08 06\",\"2017-01-08 07\",\"2017-01-08 08\",\"2017-01-08 09\",\"2017-01-08 10\",\"2017-01-08 11\",\"2017-01-08 12\",\"2017-01-08 13\",\"2017-01-08 14\",\"2017-01-08 15\",\"2017-01-08 16\",\"2017-01-08 17\",\"2017-01-08 18\",\"2017-01-08 19\",\"2017-01-08 20\",\"2017-01-08 21\",\"2017-01-08 22\",\"2017-01-08 23\",\"2017-01-09 00\",\"2017-01-09 01\",\"2017-01-09 02\",\"2017-01-09 03\",\"2017-01-09 04\",\"2017-01-09 05\",\"2017-01-09 06\",\"2017-01-09 07\",\"2017-01-09 08\",\"2017-01-09 09\",\"2017-01-09 10\",\"2017-01-09 11\",\"2017-01-09 12\",\"2017-01-09 13\",\"2017-01-09 14\",\"2017-01-09 15\",\"2017-01-09 16\",\"2017-01-09 17\",\"2017-01-09 18\",\"2017-01-09 19\",\"2017-01-09 20\",\"2017-01-09 21\",\"2017-01-09 22\",\"2017-01-09 23\",\"2017-01-10 00\",\"2017-01-10 01\",\"2017-01-10 02\",\"2017-01-10 03\",\"2017-01-10 04\",\"2017-01-10 05\",\"2017-01-10 06\",\"2017-01-10 07\",\"2017-01-10 08\",\"2017-01-10 09\",\"2017-01-10 10\",\"2017-01-10 11\",\"2017-01-10 12\",\"2017-01-10 13\",\"2017-01-10 14\",\"2017-01-10 15\",\"2017-01-10 16\",\"2017-01-10 17\",\"2017-01-10 18\",\"2017-01-10 19\",\"2017-01-10 20\",\"2017-01-10 21\",\"2017-01-10 22\",\"2017-01-10 23\",\"2017-01-11 00\",\"2017-01-11 01\",\"2017-01-11 02\",\"2017-01-11 03\",\"2017-01-11 04\",\"2017-01-11 05\",\"2017-01-11 06\",\"2017-01-11 07\",\"2017-01-11 08\",\"2017-01-11 09\",\"2017-01-11 10\",\"2017-01-11 11\",\"2017-01-11 12\",\"2017-01-11 13\",\"2017-01-11 14\",\"2017-01-11 15\",\"2017-01-11 16\",\"2017-01-11 17\",\"2017-01-11 18\",\"2017-01-11 19\",\"2017-01-11 20\",\"2017-01-11 21\",\"2017-01-11 22\",\"2017-01-11 23\",\"2017-01-12 00\",\"2017-01-12 01\",\"2017-01-12 02\",\"2017-01-12 03\",\"2017-01-12 04\",\"2017-01-12 05\",\"2017-01-12 06\",\"2017-01-12 07\",\"2017-01-12 08\",\"2017-01-12 09\",\"2017-01-12 10\",\"2017-01-12 11\",\"2017-01-12 12\",\"2017-01-12 13\",\"2017-01-12 14\",\"2017-01-12 15\",\"2017-01-12 16\",\"2017-01-12 17\",\"2017-01-12 18\",\"2017-01-12 19\",\"2017-01-12 20\",\"2017-01-12 21\",\"2017-01-12 22\",\"2017-01-12 23\",\"2017-01-13 00\",\"2017-01-13 01\",\"2017-01-13 02\",\"2017-01-13 03\",\"2017-01-13 04\",\"2017-01-13 05\",\"2017-01-13 06\",\"2017-01-13 07\",\"2017-01-13 08\",\"2017-01-13 09\",\"2017-01-13 10\",\"2017-01-13 11\",\"2017-01-13 12\",\"2017-01-13 13\",\"2017-01-13 14\",\"2017-01-13 15\",\"2017-01-13 16\",\"2017-01-13 17\",\"2017-01-13 18\",\"2017-01-13 19\",\"2017-01-13 20\",\"2017-01-13 21\",\"2017-01-13 22\",\"2017-01-13 23\",\"2017-01-14 00\",\"2017-01-14 01\",\"2017-01-14 02\",\"2017-01-14 03\",\"2017-01-14 04\",\"2017-01-14 05\",\"2017-01-14 06\",\"2017-01-14 07\",\"2017-01-14 08\",\"2017-01-14 09\",\"2017-01-14 10\",\"2017-01-14 11\",\"2017-01-14 12\",\"2017-01-14 13\",\"2017-01-14 14\",\"2017-01-14 15\",\"2017-01-14 16\",\"2017-01-14 17\",\"2017-01-14 18\",\"2017-01-14 19\",\"2017-01-14 20\",\"2017-01-14 21\",\"2017-01-14 22\",\"2017-01-14 23\",\"2017-01-15 00\",\"2017-01-15 01\",\"2017-01-15 02\",\"2017-01-15 03\",\"2017-01-15 04\",\"2017-01-15 05\",\"2017-01-15 06\",\"2017-01-15 07\",\"2017-01-15 08\",\"2017-01-15 09\",\"2017-01-15 10\",\"2017-01-15 11\",\"2017-01-15 12\",\"2017-01-15 13\",\"2017-01-15 14\",\"2017-01-15 15\",\"2017-01-15 16\",\"2017-01-15 17\",\"2017-01-15 18\",\"2017-01-15 19\",\"2017-01-15 20\",\"2017-01-15 21\",\"2017-01-15 22\",\"2017-01-15 23\",\"2017-01-16 00\",\"2017-01-16 01\",\"2017-01-16 02\",\"2017-01-16 03\",\"2017-01-16 04\",\"2017-01-16 05\",\"2017-01-16 06\",\"2017-01-16 07\",\"2017-01-16 08\",\"2017-01-16 09\",\"2017-01-16 10\",\"2017-01-16 11\",\"2017-01-16 12\",\"2017-01-16 13\",\"2017-01-16 14\",\"2017-01-16 15\",\"2017-01-16 16\",\"2017-01-16 17\",\"2017-01-16 18\",\"2017-01-16 19\",\"2017-01-16 20\",\"2017-01-16 21\",\"2017-01-16 22\",\"2017-01-16 23\",\"2017-01-17 00\",\"2017-01-17 01\",\"2017-01-17 02\",\"2017-01-17 03\",\"2017-01-17 04\",\"2017-01-17 05\",\"2017-01-17 06\",\"2017-01-17 07\",\"2017-01-17 08\",\"2017-01-17 09\",\"2017-01-17 10\",\"2017-01-17 11\",\"2017-01-17 12\",\"2017-01-17 13\",\"2017-01-17 14\",\"2017-01-17 15\",\"2017-01-17 16\",\"2017-01-17 17\",\"2017-01-17 18\",\"2017-01-17 19\",\"2017-01-17 20\",\"2017-01-17 21\",\"2017-01-17 22\",\"2017-01-17 23\",\"2017-01-18 00\",\"2017-01-18 01\",\"2017-01-18 02\",\"2017-01-18 03\",\"2017-01-18 04\",\"2017-01-18 05\",\"2017-01-18 06\",\"2017-01-18 07\",\"2017-01-18 08\",\"2017-01-18 09\",\"2017-01-18 10\",\"2017-01-18 11\",\"2017-01-18 12\",\"2017-01-18 13\",\"2017-01-18 14\",\"2017-01-18 15\",\"2017-01-18 16\",\"2017-01-18 17\",\"2017-01-18 18\",\"2017-01-18 19\",\"2017-01-18 20\",\"2017-01-18 21\",\"2017-01-18 22\",\"2017-01-18 23\",\"2017-01-19 00\",\"2017-01-19 01\",\"2017-01-19 02\",\"2017-01-19 03\",\"2017-01-19 04\",\"2017-01-19 05\",\"2017-01-19 06\",\"2017-01-19 07\",\"2017-01-19 08\",\"2017-01-19 09\",\"2017-01-19 10\",\"2017-01-19 11\",\"2017-01-19 12\",\"2017-01-19 13\",\"2017-01-19 14\",\"2017-01-19 15\",\"2017-01-19 16\",\"2017-01-19 17\",\"2017-01-19 18\",\"2017-01-19 19\",\"2017-01-19 20\",\"2017-01-19 21\",\"2017-01-19 22\",\"2017-01-19 23\",\"2017-01-20 00\",\"2017-01-20 01\",\"2017-01-20 02\",\"2017-01-20 03\",\"2017-01-20 04\",\"2017-01-20 05\",\"2017-01-20 06\",\"2017-01-20 07\",\"2017-01-20 08\",\"2017-01-20 09\",\"2017-01-20 10\",\"2017-01-20 11\",\"2017-01-20 12\",\"2017-01-20 13\",\"2017-01-20 14\",\"2017-01-20 15\",\"2017-01-20 16\",\"2017-01-20 17\",\"2017-01-20 18\",\"2017-01-20 19\",\"2017-01-20 20\",\"2017-01-20 21\",\"2017-01-20 22\",\"2017-01-20 23\",\"2017-01-21 00\",\"2017-01-21 01\",\"2017-01-21 02\",\"2017-01-21 03\",\"2017-01-21 04\",\"2017-01-21 05\",\"2017-01-21 06\",\"2017-01-21 07\",\"2017-01-21 08\",\"2017-01-21 09\",\"2017-01-21 10\",\"2017-01-21 11\",\"2017-01-21 12\",\"2017-01-21 13\",\"2017-01-21 14\",\"2017-01-21 15\",\"2017-01-21 16\",\"2017-01-21 17\",\"2017-01-21 18\",\"2017-01-21 19\",\"2017-01-21 20\",\"2017-01-21 21\",\"2017-01-21 22\",\"2017-01-21 23\",\"2017-01-22 00\",\"2017-01-22 01\",\"2017-01-22 02\",\"2017-01-22 03\",\"2017-01-22 04\",\"2017-01-22 05\",\"2017-01-22 06\",\"2017-01-22 07\",\"2017-01-22 08\",\"2017-01-22 09\",\"2017-01-22 10\",\"2017-01-22 11\",\"2017-01-22 12\",\"2017-01-22 13\",\"2017-01-22 14\",\"2017-01-22 15\",\"2017-01-22 16\",\"2017-01-22 17\",\"2017-01-22 18\",\"2017-01-22 19\",\"2017-01-22 20\",\"2017-01-22 21\",\"2017-01-22 22\",\"2017-01-22 23\",\"2017-01-23 00\",\"2017-01-23 01\",\"2017-01-23 02\",\"2017-01-23 03\",\"2017-01-23 04\",\"2017-01-23 05\",\"2017-01-23 06\",\"2017-01-23 07\",\"2017-01-23 08\",\"2017-01-23 09\",\"2017-01-23 10\",\"2017-01-23 11\",\"2017-01-23 12\",\"2017-01-23 13\",\"2017-01-23 14\",\"2017-01-23 15\",\"2017-01-23 16\",\"2017-01-23 17\",\"2017-01-23 18\",\"2017-01-23 19\",\"2017-01-23 20\",\"2017-01-23 21\",\"2017-01-23 22\",\"2017-01-23 23\",\"2017-01-24 00\",\"2017-01-24 01\",\"2017-01-24 02\",\"2017-01-24 03\",\"2017-01-24 04\",\"2017-01-24 05\",\"2017-01-24 06\",\"2017-01-24 07\",\"2017-01-24 08\",\"2017-01-24 09\",\"2017-01-24 10\",\"2017-01-24 11\",\"2017-01-24 12\",\"2017-01-24 13\",\"2017-01-24 14\",\"2017-01-24 15\",\"2017-01-24 16\",\"2017-01-24 17\",\"2017-01-24 18\",\"2017-01-24 19\",\"2017-01-24 20\",\"2017-01-24 21\",\"2017-01-24 22\",\"2017-01-24 23\",\"2017-01-25 00\",\"2017-01-25 01\",\"2017-01-25 02\",\"2017-01-25 03\",\"2017-01-25 04\",\"2017-01-25 05\",\"2017-01-25 06\",\"2017-01-25 07\",\"2017-01-25 08\",\"2017-01-25 09\",\"2017-01-25 10\",\"2017-01-25 11\",\"2017-01-25 12\",\"2017-01-25 13\",\"2017-01-25 14\",\"2017-01-25 15\",\"2017-01-25 16\",\"2017-01-25 17\",\"2017-01-25 18\",\"2017-01-25 19\",\"2017-01-25 20\",\"2017-01-25 21\",\"2017-01-25 22\",\"2017-01-25 23\",\"2017-01-26 00\",\"2017-01-26 01\",\"2017-01-26 02\",\"2017-01-26 03\",\"2017-01-26 04\",\"2017-01-26 05\",\"2017-01-26 06\",\"2017-01-26 07\",\"2017-01-26 08\",\"2017-01-26 09\",\"2017-01-26 10\",\"2017-01-26 11\",\"2017-01-26 12\",\"2017-01-26 13\",\"2017-01-26 14\",\"2017-01-26 15\",\"2017-01-26 16\",\"2017-01-26 17\",\"2017-01-26 18\",\"2017-01-26 19\",\"2017-01-26 20\",\"2017-01-26 21\",\"2017-01-26 23\",\"2017-01-27 00\",\"2017-01-27 01\",\"2017-01-27 02\",\"2017-01-27 03\",\"2017-01-27 04\",\"2017-01-27 05\",\"2017-01-27 06\",\"2017-01-27 07\",\"2017-01-27 08\",\"2017-01-27 09\",\"2017-01-27 10\",\"2017-01-27 11\",\"2017-01-27 12\",\"2017-01-27 13\",\"2017-01-27 14\",\"2017-01-27 15\",\"2017-01-27 16\",\"2017-01-27 17\",\"2017-01-27 18\",\"2017-01-27 19\",\"2017-01-27 20\",\"2017-01-27 21\",\"2017-01-27 22\",\"2017-01-27 23\",\"2017-01-28 00\",\"2017-01-28 01\",\"2017-01-28 02\",\"2017-01-28 03\",\"2017-01-28 04\",\"2017-01-28 05\",\"2017-01-28 06\",\"2017-01-28 07\",\"2017-01-28 08\",\"2017-01-28 09\",\"2017-01-28 10\",\"2017-01-28 11\",\"2017-01-28 12\",\"2017-01-28 13\",\"2017-01-28 14\",\"2017-01-28 15\",\"2017-01-28 16\",\"2017-01-28 17\",\"2017-01-28 18\",\"2017-01-28 19\",\"2017-01-28 20\",\"2017-01-28 21\",\"2017-01-28 22\",\"2017-01-28 23\",\"2017-01-29 00\",\"2017-01-29 01\",\"2017-01-29 02\",\"2017-01-29 03\",\"2017-01-29 04\",\"2017-01-29 05\",\"2017-01-29 06\",\"2017-01-29 07\",\"2017-01-29 08\",\"2017-01-29 09\",\"2017-01-29 10\",\"2017-01-29 11\",\"2017-01-29 12\",\"2017-01-29 13\",\"2017-01-29 14\",\"2017-01-29 15\",\"2017-01-29 16\",\"2017-01-29 17\",\"2017-01-29 18\",\"2017-01-29 19\",\"2017-01-29 20\",\"2017-01-29 21\",\"2017-01-29 22\",\"2017-01-30 00\",\"2017-01-30 01\",\"2017-01-30 02\",\"2017-01-30 03\",\"2017-01-30 04\",\"2017-01-30 05\",\"2017-01-30 06\",\"2017-01-30 07\",\"2017-01-30 08\",\"2017-01-30 09\",\"2017-01-30 10\",\"2017-01-30 11\",\"2017-01-30 12\",\"2017-01-30 13\",\"2017-01-30 14\",\"2017-01-30 15\",\"2017-01-30 16\",\"2017-01-30 17\",\"2017-01-30 18\",\"2017-01-30 19\",\"2017-01-30 20\",\"2017-01-30 21\",\"2017-01-30 22\",\"2017-01-30 23\",\"2017-01-31 00\",\"2017-01-31 01\",\"2017-01-31 02\",\"2017-01-31 03\",\"2017-01-31 04\",\"2017-01-31 05\",\"2017-01-31 06\",\"2017-01-31 07\",\"2017-01-31 08\",\"2017-01-31 09\",\"2017-01-31 10\",\"2017-01-31 11\",\"2017-01-31 12\",\"2017-01-31 13\",\"2017-01-31 14\",\"2017-01-31 15\",\"2017-01-31 16\",\"2017-01-31 17\",\"2017-01-31 18\",\"2017-01-31 19\",\"2017-01-31 20\",\"2017-01-31 21\",\"2017-01-31 22\",\"2017-01-31 23\",\"2017-02-01 00\",\"2017-02-01 01\",\"2017-02-01 02\",\"2017-02-01 03\",\"2017-02-01 04\",\"2017-02-01 05\",\"2017-02-01 06\",\"2017-02-01 07\",\"2017-02-01 08\",\"2017-02-01 09\",\"2017-02-01 10\",\"2017-02-01 11\",\"2017-02-01 12\",\"2017-02-01 13\",\"2017-02-01 14\",\"2017-02-01 15\",\"2017-02-01 16\",\"2017-02-01 17\",\"2017-02-01 18\",\"2017-02-01 19\",\"2017-02-01 20\",\"2017-02-01 21\",\"2017-02-01 22\",\"2017-02-02 00\",\"2017-02-02 01\",\"2017-02-02 02\",\"2017-02-02 03\",\"2017-02-02 04\",\"2017-02-02 05\",\"2017-02-02 06\",\"2017-02-02 07\",\"2017-02-02 08\",\"2017-02-02 09\",\"2017-02-02 10\",\"2017-02-02 11\",\"2017-02-02 12\",\"2017-02-02 13\",\"2017-02-02 14\",\"2017-02-02 15\",\"2017-02-02 16\",\"2017-02-02 17\",\"2017-02-02 18\",\"2017-02-02 19\",\"2017-02-02 20\",\"2017-02-02 21\",\"2017-02-02 22\",\"2017-02-02 23\",\"2017-02-03 00\",\"2017-02-03 01\",\"2017-02-03 02\",\"2017-02-03 03\",\"2017-02-03 04\",\"2017-02-03 05\",\"2017-02-03 06\",\"2017-02-03 07\",\"2017-02-03 08\",\"2017-02-03 09\",\"2017-02-03 10\",\"2017-02-03 11\",\"2017-02-03 12\",\"2017-02-03 13\",\"2017-02-03 14\",\"2017-02-03 15\",\"2017-02-03 16\",\"2017-02-03 17\",\"2017-02-03 18\",\"2017-02-03 19\",\"2017-02-03 20\",\"2017-02-03 21\",\"2017-02-03 23\",\"2017-02-04 00\",\"2017-02-04 01\",\"2017-02-04 02\",\"2017-02-04 03\",\"2017-02-04 04\",\"2017-02-04 05\",\"2017-02-04 06\",\"2017-02-04 07\",\"2017-02-04 08\",\"2017-02-04 09\",\"2017-02-04 10\",\"2017-02-04 11\",\"2017-02-04 12\",\"2017-02-04 13\",\"2017-02-04 14\",\"2017-02-04 15\",\"2017-02-04 16\",\"2017-02-04 17\",\"2017-02-04 18\",\"2017-02-04 19\",\"2017-02-04 20\",\"2017-02-04 21\",\"2017-02-04 22\",\"2017-02-04 23\",\"2017-02-05 00\",\"2017-02-05 01\",\"2017-02-05 02\",\"2017-02-05 03\",\"2017-02-05 04\",\"2017-02-05 05\",\"2017-02-05 06\",\"2017-02-05 07\",\"2017-02-05 08\",\"2017-02-05 09\",\"2017-02-05 10\",\"2017-02-05 11\",\"2017-02-05 12\",\"2017-02-05 13\",\"2017-02-05 14\",\"2017-02-05 15\",\"2017-02-05 16\",\"2017-02-05 17\",\"2017-02-05 18\",\"2017-02-05 19\",\"2017-02-05 20\",\"2017-02-05 21\",\"2017-02-05 22\",\"2017-02-05 23\",\"2017-02-06 00\",\"2017-02-06 01\",\"2017-02-06 02\",\"2017-02-06 03\",\"2017-02-06 04\",\"2017-02-06 05\",\"2017-02-06 06\",\"2017-02-06 07\",\"2017-02-06 08\",\"2017-02-06 09\",\"2017-02-06 10\",\"2017-02-06 11\",\"2017-02-06 12\",\"2017-02-06 13\",\"2017-02-06 14\",\"2017-02-06 15\",\"2017-02-06 16\",\"2017-02-06 17\",\"2017-02-06 18\",\"2017-02-06 19\",\"2017-02-06 20\",\"2017-02-06 21\",\"2017-02-06 23\",\"2017-02-07 00\",\"2017-02-07 01\",\"2017-02-07 02\",\"2017-02-07 03\",\"2017-02-07 04\",\"2017-02-07 05\",\"2017-02-07 06\",\"2017-02-07 07\",\"2017-02-07 08\",\"2017-02-07 09\",\"2017-02-07 10\",\"2017-02-07 11\",\"2017-02-07 12\",\"2017-02-07 13\",\"2017-02-07 14\",\"2017-02-07 15\",\"2017-02-07 16\",\"2017-02-07 17\",\"2017-02-07 18\",\"2017-02-07 19\",\"2017-02-07 20\",\"2017-02-07 21\",\"2017-02-07 22\",\"2017-02-08 00\",\"2017-02-08 01\",\"2017-02-08 02\",\"2017-02-08 03\",\"2017-02-08 04\",\"2017-02-08 05\",\"2017-02-08 06\",\"2017-02-08 07\",\"2017-02-08 08\",\"2017-02-08 09\",\"2017-02-08 10\",\"2017-02-08 11\",\"2017-02-08 12\",\"2017-02-08 13\",\"2017-02-08 14\",\"2017-02-08 15\",\"2017-02-08 16\",\"2017-02-08 17\",\"2017-02-08 18\",\"2017-02-08 19\",\"2017-02-08 20\",\"2017-02-08 21\",\"2017-02-08 22\",\"2017-02-08 23\",\"2017-02-09 00\",\"2017-02-09 01\",\"2017-02-09 02\",\"2017-02-09 03\",\"2017-02-09 04\",\"2017-02-09 05\",\"2017-02-09 06\",\"2017-02-09 07\",\"2017-02-09 08\",\"2017-02-09 09\",\"2017-02-09 10\",\"2017-02-09 11\",\"2017-02-09 12\",\"2017-02-09 13\",\"2017-02-09 14\",\"2017-02-09 15\",\"2017-02-09 16\",\"2017-02-09 17\",\"2017-02-09 18\",\"2017-02-09 19\",\"2017-02-09 20\",\"2017-02-09 21\",\"2017-02-09 22\",\"2017-02-09 23\",\"2017-02-10 00\",\"2017-02-10 01\",\"2017-02-10 02\",\"2017-02-10 03\",\"2017-02-10 04\",\"2017-02-10 05\",\"2017-02-10 06\",\"2017-02-10 07\",\"2017-02-10 08\",\"2017-02-10 09\",\"2017-02-10 10\",\"2017-02-10 11\",\"2017-02-10 12\",\"2017-02-10 13\",\"2017-02-10 14\",\"2017-02-10 15\",\"2017-02-10 16\",\"2017-02-10 17\",\"2017-02-10 18\",\"2017-02-10 19\",\"2017-02-10 20\",\"2017-02-10 21\",\"2017-02-10 22\",\"2017-02-10 23\",\"2017-02-11 00\",\"2017-02-11 01\",\"2017-02-11 02\",\"2017-02-11 03\",\"2017-02-11 04\",\"2017-02-11 05\",\"2017-02-11 06\",\"2017-02-11 07\",\"2017-02-11 08\",\"2017-02-11 09\",\"2017-02-11 10\",\"2017-02-11 11\",\"2017-02-11 12\",\"2017-02-11 13\",\"2017-02-11 14\",\"2017-02-11 15\",\"2017-02-11 16\",\"2017-02-11 17\",\"2017-02-11 18\",\"2017-02-11 19\",\"2017-02-11 20\",\"2017-02-11 21\",\"2017-02-11 22\",\"2017-02-11 23\",\"2017-02-12 00\",\"2017-02-12 01\",\"2017-02-12 02\",\"2017-02-12 03\",\"2017-02-12 04\",\"2017-02-12 05\",\"2017-02-12 06\",\"2017-02-12 07\",\"2017-02-12 08\",\"2017-02-12 09\",\"2017-02-12 10\",\"2017-02-12 11\",\"2017-02-12 12\",\"2017-02-12 13\",\"2017-02-12 14\",\"2017-02-12 15\",\"2017-02-12 16\",\"2017-02-12 17\",\"2017-02-12 18\",\"2017-02-12 19\",\"2017-02-12 20\",\"2017-02-12 21\",\"2017-02-12 22\",\"2017-02-12 23\",\"2017-02-13 00\",\"2017-02-13 01\",\"2017-02-13 02\",\"2017-02-13 03\",\"2017-02-13 04\",\"2017-02-13 05\",\"2017-02-13 06\",\"2017-02-13 07\",\"2017-02-13 08\",\"2017-02-13 09\",\"2017-02-13 10\",\"2017-02-13 11\",\"2017-02-13 12\",\"2017-02-13 13\",\"2017-02-13 14\",\"2017-02-13 15\",\"2017-02-13 16\",\"2017-02-13 17\",\"2017-02-13 18\",\"2017-02-13 19\",\"2017-02-13 20\",\"2017-02-13 21\",\"2017-02-14 00\",\"2017-02-14 01\",\"2017-02-14 02\",\"2017-02-14 03\",\"2017-02-14 04\",\"2017-02-14 05\",\"2017-02-14 06\",\"2017-02-14 07\",\"2017-02-14 08\",\"2017-02-14 09\",\"2017-02-14 10\",\"2017-02-14 11\",\"2017-02-14 12\",\"2017-02-14 13\",\"2017-02-14 14\",\"2017-02-14 15\",\"2017-02-14 16\",\"2017-02-14 17\",\"2017-02-14 18\",\"2017-02-14 19\",\"2017-02-14 20\",\"2017-02-14 21\",\"2017-02-14 22\",\"2017-02-14 23\",\"2017-02-15 00\",\"2017-02-15 01\",\"2017-02-15 02\",\"2017-02-15 03\",\"2017-02-15 04\",\"2017-02-15 05\",\"2017-02-15 06\",\"2017-02-15 07\",\"2017-02-15 08\",\"2017-02-15 09\",\"2017-02-15 10\",\"2017-02-15 11\",\"2017-02-15 12\",\"2017-02-15 13\",\"2017-02-15 14\",\"2017-02-15 15\",\"2017-02-15 16\",\"2017-02-15 17\",\"2017-02-15 18\",\"2017-02-15 19\",\"2017-02-15 20\",\"2017-02-15 21\",\"2017-02-15 23\",\"2017-02-16 00\",\"2017-02-16 01\",\"2017-02-16 02\",\"2017-02-16 03\",\"2017-02-16 04\",\"2017-02-16 05\",\"2017-02-16 06\",\"2017-02-16 07\",\"2017-02-16 08\",\"2017-02-16 09\",\"2017-02-16 10\",\"2017-02-16 11\",\"2017-02-16 12\",\"2017-02-16 13\",\"2017-02-16 14\",\"2017-02-16 15\",\"2017-02-16 16\",\"2017-02-16 17\",\"2017-02-16 18\",\"2017-02-16 19\",\"2017-02-16 20\",\"2017-02-16 21\",\"2017-02-16 22\",\"2017-02-16 23\",\"2017-02-17 00\",\"2017-02-17 01\",\"2017-02-17 02\",\"2017-02-17 03\",\"2017-02-17 04\",\"2017-02-17 05\",\"2017-02-17 06\",\"2017-02-17 07\",\"2017-02-17 08\",\"2017-02-17 09\",\"2017-02-17 10\",\"2017-02-17 11\",\"2017-02-17 12\",\"2017-02-17 13\",\"2017-02-17 14\",\"2017-02-17 15\",\"2017-02-17 16\",\"2017-02-17 17\",\"2017-02-17 18\",\"2017-02-17 19\",\"2017-02-17 20\",\"2017-02-17 21\",\"2017-02-17 23\",\"2017-02-18 00\",\"2017-02-18 01\",\"2017-02-18 02\",\"2017-02-18 03\",\"2017-02-18 04\",\"2017-02-18 05\",\"2017-02-18 06\",\"2017-02-18 07\",\"2017-02-18 08\",\"2017-02-18 09\",\"2017-02-18 10\",\"2017-02-18 11\",\"2017-02-18 12\",\"2017-02-18 13\",\"2017-02-18 14\",\"2017-02-18 15\",\"2017-02-18 16\",\"2017-02-18 17\",\"2017-02-18 18\",\"2017-02-18 19\",\"2017-02-18 20\",\"2017-02-18 21\",\"2017-02-18 22\",\"2017-02-18 23\",\"2017-02-19 00\",\"2017-02-19 01\",\"2017-02-19 02\",\"2017-02-19 03\",\"2017-02-19 04\",\"2017-02-19 05\",\"2017-02-19 06\",\"2017-02-19 07\",\"2017-02-19 08\",\"2017-02-19 09\",\"2017-02-19 10\",\"2017-02-19 11\",\"2017-02-19 12\",\"2017-02-19 13\",\"2017-02-19 14\",\"2017-02-19 15\",\"2017-02-19 16\",\"2017-02-19 17\",\"2017-02-19 18\",\"2017-02-19 19\",\"2017-02-19 20\",\"2017-02-19 21\",\"2017-02-19 23\",\"2017-02-20 00\",\"2017-02-20 01\",\"2017-02-20 02\",\"2017-02-20 03\",\"2017-02-20 04\",\"2017-02-20 05\",\"2017-02-20 06\",\"2017-02-20 07\",\"2017-02-20 08\",\"2017-02-20 09\",\"2017-02-20 10\",\"2017-02-20 11\",\"2017-02-20 12\",\"2017-02-20 13\",\"2017-02-20 14\",\"2017-02-20 15\",\"2017-02-20 16\",\"2017-02-20 17\",\"2017-02-20 18\",\"2017-02-20 19\",\"2017-02-20 20\",\"2017-02-20 21\",\"2017-02-20 22\",\"2017-02-20 23\",\"2017-02-21 00\",\"2017-02-21 01\",\"2017-02-21 02\",\"2017-02-21 03\",\"2017-02-21 04\",\"2017-02-21 05\",\"2017-02-21 06\",\"2017-02-21 07\",\"2017-02-21 08\",\"2017-02-21 09\",\"2017-02-21 10\",\"2017-02-21 11\",\"2017-02-21 12\",\"2017-02-21 13\",\"2017-02-21 14\",\"2017-02-21 15\",\"2017-02-21 16\",\"2017-02-21 17\",\"2017-02-21 18\",\"2017-02-21 19\",\"2017-02-21 20\",\"2017-02-21 22\",\"2017-02-21 23\",\"2017-02-22 00\",\"2017-02-22 01\",\"2017-02-22 02\",\"2017-02-22 03\",\"2017-02-22 04\",\"2017-02-22 05\",\"2017-02-22 06\",\"2017-02-22 07\",\"2017-02-22 08\",\"2017-02-22 09\",\"2017-02-22 10\",\"2017-02-22 11\",\"2017-02-22 12\",\"2017-02-22 13\",\"2017-02-22 14\",\"2017-02-22 15\",\"2017-02-22 16\",\"2017-02-22 17\",\"2017-02-22 18\",\"2017-02-22 19\",\"2017-02-22 20\",\"2017-02-22 21\",\"2017-02-22 22\",\"2017-02-22 23\",\"2017-02-23 00\",\"2017-02-23 01\",\"2017-02-23 02\",\"2017-02-23 03\",\"2017-02-23 04\",\"2017-02-23 05\",\"2017-02-23 06\",\"2017-02-23 07\",\"2017-02-23 08\",\"2017-02-23 09\",\"2017-02-23 10\",\"2017-02-23 11\",\"2017-02-23 12\",\"2017-02-23 13\",\"2017-02-23 14\",\"2017-02-23 15\",\"2017-02-23 16\",\"2017-02-23 17\",\"2017-02-23 18\",\"2017-02-23 19\",\"2017-02-23 20\",\"2017-02-23 21\",\"2017-02-24 00\",\"2017-02-24 01\",\"2017-02-24 02\",\"2017-02-24 03\",\"2017-02-24 04\",\"2017-02-24 05\",\"2017-02-24 06\",\"2017-02-24 07\",\"2017-02-24 08\",\"2017-02-24 09\",\"2017-02-24 10\",\"2017-02-24 11\",\"2017-02-24 12\",\"2017-02-24 13\",\"2017-02-24 14\",\"2017-02-24 15\",\"2017-02-24 16\",\"2017-02-24 17\",\"2017-02-24 18\",\"2017-02-24 19\",\"2017-02-24 20\",\"2017-02-24 21\",\"2017-02-24 23\",\"2017-02-25 00\",\"2017-02-25 01\",\"2017-02-25 02\",\"2017-02-25 03\",\"2017-02-25 04\",\"2017-02-25 05\",\"2017-02-25 06\",\"2017-02-25 07\",\"2017-02-25 08\",\"2017-02-25 09\",\"2017-02-25 10\",\"2017-02-25 11\",\"2017-02-25 12\",\"2017-02-25 13\",\"2017-02-25 14\",\"2017-02-25 15\",\"2017-02-25 16\",\"2017-02-25 17\",\"2017-02-25 18\",\"2017-02-25 19\",\"2017-02-25 20\",\"2017-02-25 21\",\"2017-02-25 22\",\"2017-02-25 23\",\"2017-02-26 00\",\"2017-02-26 01\",\"2017-02-26 02\",\"2017-02-26 03\",\"2017-02-26 04\",\"2017-02-26 05\",\"2017-02-26 06\",\"2017-02-26 07\",\"2017-02-26 08\",\"2017-02-26 09\",\"2017-02-26 10\",\"2017-02-26 11\",\"2017-02-26 12\",\"2017-02-26 13\",\"2017-02-26 14\",\"2017-02-26 15\",\"2017-02-26 16\",\"2017-02-26 17\",\"2017-02-26 18\",\"2017-02-26 19\",\"2017-02-26 20\",\"2017-02-26 21\",\"2017-02-26 22\",\"2017-02-27 00\",\"2017-02-27 01\",\"2017-02-27 02\",\"2017-02-27 03\",\"2017-02-27 04\",\"2017-02-27 05\",\"2017-02-27 06\",\"2017-02-27 07\",\"2017-02-27 08\",\"2017-02-27 09\",\"2017-02-27 10\",\"2017-02-27 11\",\"2017-02-27 12\",\"2017-02-27 13\",\"2017-02-27 14\",\"2017-02-27 15\",\"2017-02-27 16\",\"2017-02-27 17\",\"2017-02-27 18\",\"2017-02-27 19\",\"2017-02-27 20\",\"2017-02-27 23\",\"2017-02-28 00\",\"2017-02-28 01\",\"2017-02-28 02\",\"2017-02-28 03\",\"2017-02-28 04\",\"2017-02-28 05\",\"2017-02-28 06\",\"2017-02-28 07\",\"2017-02-28 08\",\"2017-02-28 09\",\"2017-02-28 10\",\"2017-02-28 11\",\"2017-02-28 12\",\"2017-02-28 13\",\"2017-02-28 14\",\"2017-02-28 15\",\"2017-02-28 16\",\"2017-02-28 17\",\"2017-02-28 18\",\"2017-02-28 19\",\"2017-02-28 20\",\"2017-02-28 21\",\"2017-02-28 23\",\"2017-03-01 00\",\"2017-03-01 01\",\"2017-03-01 02\",\"2017-03-01 03\",\"2017-03-01 04\",\"2017-03-01 05\",\"2017-03-01 06\",\"2017-03-01 07\",\"2017-03-01 08\",\"2017-03-01 09\",\"2017-03-01 10\",\"2017-03-01 11\",\"2017-03-01 12\",\"2017-03-01 13\",\"2017-03-01 14\",\"2017-03-01 15\",\"2017-03-01 16\",\"2017-03-01 17\",\"2017-03-01 18\",\"2017-03-01 19\",\"2017-03-01 20\",\"2017-03-01 21\",\"2017-03-01 22\",\"2017-03-01 23\",\"2017-03-02 00\",\"2017-03-02 01\",\"2017-03-02 02\",\"2017-03-02 03\",\"2017-03-02 04\",\"2017-03-02 05\",\"2017-03-02 06\",\"2017-03-02 07\",\"2017-03-02 08\",\"2017-03-02 09\",\"2017-03-02 10\",\"2017-03-02 11\",\"2017-03-02 12\",\"2017-03-02 13\",\"2017-03-02 14\",\"2017-03-02 15\",\"2017-03-02 16\",\"2017-03-02 17\",\"2017-03-02 18\",\"2017-03-02 19\",\"2017-03-02 20\",\"2017-03-02 21\",\"2017-03-02 22\",\"2017-03-02 23\",\"2017-03-03 00\",\"2017-03-03 01\",\"2017-03-03 02\",\"2017-03-03 03\",\"2017-03-03 04\",\"2017-03-03 05\",\"2017-03-03 06\",\"2017-03-03 07\",\"2017-03-03 08\",\"2017-03-03 09\",\"2017-03-03 10\",\"2017-03-03 11\",\"2017-03-03 12\",\"2017-03-03 13\",\"2017-03-03 14\",\"2017-03-03 15\",\"2017-03-03 16\",\"2017-03-03 17\",\"2017-03-03 18\",\"2017-03-03 19\",\"2017-03-03 20\",\"2017-03-03 21\",\"2017-03-03 22\",\"2017-03-04 00\",\"2017-03-04 01\",\"2017-03-04 02\",\"2017-03-04 03\",\"2017-03-04 04\",\"2017-03-04 05\",\"2017-03-04 06\",\"2017-03-04 07\",\"2017-03-04 08\",\"2017-03-04 09\",\"2017-03-04 10\",\"2017-03-04 11\",\"2017-03-04 12\",\"2017-03-04 13\",\"2017-03-04 14\",\"2017-03-04 15\",\"2017-03-04 16\",\"2017-03-04 17\",\"2017-03-04 18\",\"2017-03-04 19\",\"2017-03-04 20\",\"2017-03-04 21\",\"2017-03-04 22\",\"2017-03-05 00\",\"2017-03-05 01\",\"2017-03-05 02\",\"2017-03-05 03\",\"2017-03-05 04\",\"2017-03-05 05\",\"2017-03-05 06\",\"2017-03-05 07\",\"2017-03-05 08\",\"2017-03-05 09\",\"2017-03-05 10\",\"2017-03-05 11\",\"2017-03-05 12\",\"2017-03-05 13\",\"2017-03-05 14\",\"2017-03-05 15\",\"2017-03-05 16\",\"2017-03-05 17\",\"2017-03-05 18\",\"2017-03-05 19\",\"2017-03-05 20\",\"2017-03-05 21\",\"2017-03-05 22\",\"2017-03-06 00\",\"2017-03-06 01\",\"2017-03-06 02\",\"2017-03-06 03\",\"2017-03-06 04\",\"2017-03-06 05\",\"2017-03-06 06\",\"2017-03-06 07\",\"2017-03-06 08\",\"2017-03-06 09\",\"2017-03-06 10\",\"2017-03-06 11\",\"2017-03-06 12\",\"2017-03-06 13\",\"2017-03-06 14\",\"2017-03-06 15\",\"2017-03-06 16\",\"2017-03-06 17\",\"2017-03-06 18\",\"2017-03-06 19\",\"2017-03-06 20\",\"2017-03-06 21\",\"2017-03-06 22\",\"2017-03-06 23\",\"2017-03-07 00\",\"2017-03-07 01\",\"2017-03-07 02\",\"2017-03-07 03\",\"2017-03-07 04\",\"2017-03-07 05\",\"2017-03-07 06\",\"2017-03-07 07\",\"2017-03-07 08\",\"2017-03-07 09\",\"2017-03-07 10\",\"2017-03-07 11\",\"2017-03-07 12\",\"2017-03-07 13\",\"2017-03-07 14\",\"2017-03-07 15\",\"2017-03-07 16\",\"2017-03-07 17\",\"2017-03-07 18\",\"2017-03-07 19\",\"2017-03-07 20\",\"2017-03-07 21\",\"2017-03-07 22\",\"2017-03-07 23\",\"2017-03-08 00\",\"2017-03-08 01\",\"2017-03-08 02\",\"2017-03-08 03\",\"2017-03-08 04\",\"2017-03-08 05\",\"2017-03-08 06\",\"2017-03-08 07\",\"2017-03-08 08\",\"2017-03-08 09\",\"2017-03-08 10\",\"2017-03-08 11\",\"2017-03-08 12\",\"2017-03-08 13\",\"2017-03-08 14\",\"2017-03-08 15\",\"2017-03-08 16\",\"2017-03-08 17\",\"2017-03-08 18\",\"2017-03-08 19\",\"2017-03-08 20\",\"2017-03-08 21\",\"2017-03-08 22\",\"2017-03-08 23\",\"2017-03-09 00\",\"2017-03-09 01\",\"2017-03-09 02\",\"2017-03-09 03\",\"2017-03-09 04\",\"2017-03-09 05\",\"2017-03-09 06\",\"2017-03-09 07\",\"2017-03-09 08\",\"2017-03-09 09\",\"2017-03-09 10\",\"2017-03-09 11\",\"2017-03-09 12\",\"2017-03-09 13\",\"2017-03-09 14\",\"2017-03-09 15\",\"2017-03-09 16\",\"2017-03-09 17\",\"2017-03-09 18\",\"2017-03-09 19\",\"2017-03-09 20\",\"2017-03-09 21\",\"2017-03-09 22\",\"2017-03-09 23\",\"2017-03-10 00\",\"2017-03-10 01\",\"2017-03-10 02\",\"2017-03-10 03\",\"2017-03-10 04\",\"2017-03-10 05\",\"2017-03-10 06\",\"2017-03-10 07\",\"2017-03-10 08\",\"2017-03-10 09\",\"2017-03-10 10\",\"2017-03-10 11\",\"2017-03-10 12\",\"2017-03-10 13\",\"2017-03-10 14\",\"2017-03-10 15\",\"2017-03-10 16\",\"2017-03-10 17\",\"2017-03-10 18\",\"2017-03-10 19\",\"2017-03-10 20\",\"2017-03-10 21\",\"2017-03-10 23\",\"2017-03-11 00\",\"2017-03-11 01\",\"2017-03-11 02\",\"2017-03-11 03\",\"2017-03-11 04\",\"2017-03-11 05\",\"2017-03-11 06\",\"2017-03-11 07\",\"2017-03-11 08\",\"2017-03-11 09\",\"2017-03-11 10\",\"2017-03-11 11\",\"2017-03-11 12\",\"2017-03-11 13\",\"2017-03-11 14\",\"2017-03-11 15\",\"2017-03-11 16\",\"2017-03-11 17\",\"2017-03-11 18\",\"2017-03-11 19\",\"2017-03-11 20\",\"2017-03-11 21\",\"2017-03-11 22\",\"2017-03-11 23\",\"2017-03-12 00\",\"2017-03-12 01\",\"2017-03-12 02\",\"2017-03-12 03\",\"2017-03-12 04\",\"2017-03-12 05\",\"2017-03-12 06\",\"2017-03-12 07\",\"2017-03-12 08\",\"2017-03-12 09\",\"2017-03-12 10\",\"2017-03-12 11\",\"2017-03-12 12\",\"2017-03-12 13\",\"2017-03-12 14\",\"2017-03-12 15\",\"2017-03-12 16\",\"2017-03-12 17\",\"2017-03-12 18\",\"2017-03-12 19\",\"2017-03-12 20\",\"2017-03-12 21\",\"2017-03-12 22\",\"2017-03-12 23\",\"2017-03-13 00\",\"2017-03-13 01\",\"2017-03-13 02\",\"2017-03-13 03\",\"2017-03-13 04\",\"2017-03-13 05\",\"2017-03-13 06\",\"2017-03-13 07\",\"2017-03-13 08\",\"2017-03-13 09\",\"2017-03-13 10\",\"2017-03-13 11\",\"2017-03-13 12\",\"2017-03-13 13\",\"2017-03-13 14\",\"2017-03-13 15\",\"2017-03-13 16\",\"2017-03-13 17\",\"2017-03-13 18\",\"2017-03-13 19\",\"2017-03-13 20\",\"2017-03-13 22\",\"2017-03-13 23\",\"2017-03-14 00\",\"2017-03-14 01\",\"2017-03-14 02\",\"2017-03-14 03\",\"2017-03-14 04\",\"2017-03-14 05\",\"2017-03-14 06\",\"2017-03-14 07\",\"2017-03-14 08\",\"2017-03-14 09\",\"2017-03-14 10\",\"2017-03-14 11\",\"2017-03-14 12\",\"2017-03-14 13\",\"2017-03-14 14\",\"2017-03-14 15\",\"2017-03-14 16\",\"2017-03-14 17\",\"2017-03-14 18\",\"2017-03-14 19\",\"2017-03-14 20\",\"2017-03-14 21\",\"2017-03-14 22\",\"2017-03-14 23\",\"2017-03-15 00\",\"2017-03-15 01\",\"2017-03-15 02\",\"2017-03-15 03\",\"2017-03-15 04\",\"2017-03-15 05\",\"2017-03-15 06\",\"2017-03-15 07\",\"2017-03-15 08\",\"2017-03-15 09\",\"2017-03-15 10\",\"2017-03-15 11\",\"2017-03-15 12\",\"2017-03-15 13\",\"2017-03-15 14\",\"2017-03-15 15\",\"2017-03-15 16\",\"2017-03-15 17\",\"2017-03-15 18\",\"2017-03-15 19\",\"2017-03-15 20\",\"2017-03-15 21\",\"2017-03-15 22\",\"2017-03-15 23\",\"2017-03-16 00\",\"2017-03-16 01\",\"2017-03-16 02\",\"2017-03-16 03\",\"2017-03-16 04\",\"2017-03-16 05\",\"2017-03-16 06\",\"2017-03-16 07\",\"2017-03-16 08\",\"2017-03-16 09\",\"2017-03-16 10\",\"2017-03-16 11\",\"2017-03-16 12\",\"2017-03-16 13\",\"2017-03-16 14\",\"2017-03-16 15\",\"2017-03-16 16\",\"2017-03-16 17\",\"2017-03-16 18\",\"2017-03-16 19\",\"2017-03-16 20\",\"2017-03-16 21\",\"2017-03-16 22\",\"2017-03-16 23\",\"2017-03-17 00\",\"2017-03-17 01\",\"2017-03-17 02\",\"2017-03-17 03\",\"2017-03-17 04\",\"2017-03-17 05\",\"2017-03-17 06\",\"2017-03-17 07\",\"2017-03-17 08\",\"2017-03-17 09\",\"2017-03-17 10\",\"2017-03-17 11\",\"2017-03-17 12\",\"2017-03-17 13\",\"2017-03-17 14\",\"2017-03-17 15\",\"2017-03-17 16\",\"2017-03-17 17\",\"2017-03-17 18\",\"2017-03-17 19\",\"2017-03-17 20\",\"2017-03-17 21\",\"2017-03-18 00\",\"2017-03-18 01\",\"2017-03-18 02\",\"2017-03-18 03\",\"2017-03-18 04\",\"2017-03-18 05\",\"2017-03-18 06\",\"2017-03-18 07\",\"2017-03-18 08\",\"2017-03-18 09\",\"2017-03-18 10\",\"2017-03-18 11\",\"2017-03-18 12\",\"2017-03-18 13\",\"2017-03-18 14\",\"2017-03-18 15\",\"2017-03-18 16\",\"2017-03-18 17\",\"2017-03-18 18\",\"2017-03-18 19\",\"2017-03-18 20\",\"2017-03-18 21\",\"2017-03-18 22\",\"2017-03-18 23\",\"2017-03-19 00\",\"2017-03-19 01\",\"2017-03-19 02\",\"2017-03-19 03\",\"2017-03-19 04\",\"2017-03-19 05\",\"2017-03-19 06\",\"2017-03-19 07\",\"2017-03-19 08\",\"2017-03-19 09\",\"2017-03-19 10\",\"2017-03-19 11\",\"2017-03-19 12\",\"2017-03-19 13\",\"2017-03-19 14\",\"2017-03-19 15\",\"2017-03-19 16\",\"2017-03-19 17\",\"2017-03-19 18\",\"2017-03-19 19\",\"2017-03-19 20\",\"2017-03-19 21\",\"2017-03-19 22\",\"2017-03-19 23\",\"2017-03-20 00\",\"2017-03-20 01\",\"2017-03-20 02\",\"2017-03-20 03\",\"2017-03-20 04\",\"2017-03-20 05\",\"2017-03-20 06\",\"2017-03-20 07\",\"2017-03-20 08\",\"2017-03-20 09\",\"2017-03-20 10\",\"2017-03-20 11\",\"2017-03-20 12\",\"2017-03-20 13\",\"2017-03-20 14\",\"2017-03-20 15\",\"2017-03-20 16\",\"2017-03-20 17\",\"2017-03-20 18\",\"2017-03-20 19\",\"2017-03-20 20\",\"2017-03-20 21\",\"2017-03-20 22\",\"2017-03-21 00\",\"2017-03-21 01\",\"2017-03-21 02\",\"2017-03-21 03\",\"2017-03-21 04\",\"2017-03-21 05\",\"2017-03-21 06\",\"2017-03-21 07\",\"2017-03-21 08\",\"2017-03-21 09\",\"2017-03-21 10\",\"2017-03-21 11\",\"2017-03-21 12\",\"2017-03-21 13\",\"2017-03-21 14\",\"2017-03-21 15\",\"2017-03-21 16\",\"2017-03-21 17\",\"2017-03-21 18\",\"2017-03-21 19\",\"2017-03-21 20\",\"2017-03-21 21\",\"2017-03-21 22\",\"2017-03-21 23\",\"2017-03-22 00\",\"2017-03-22 01\",\"2017-03-22 02\",\"2017-03-22 03\",\"2017-03-22 04\",\"2017-03-22 05\",\"2017-03-22 06\",\"2017-03-22 07\",\"2017-03-22 08\",\"2017-03-22 09\",\"2017-03-22 10\",\"2017-03-22 11\",\"2017-03-22 12\",\"2017-03-22 13\",\"2017-03-22 14\",\"2017-03-22 15\",\"2017-03-22 16\",\"2017-03-22 17\",\"2017-03-22 18\",\"2017-03-22 19\",\"2017-03-22 20\",\"2017-03-22 21\",\"2017-03-22 23\",\"2017-03-23 00\",\"2017-03-23 01\",\"2017-03-23 02\",\"2017-03-23 03\",\"2017-03-23 04\",\"2017-03-23 05\",\"2017-03-23 06\",\"2017-03-23 07\",\"2017-03-23 08\",\"2017-03-23 09\",\"2017-03-23 10\",\"2017-03-23 11\",\"2017-03-23 12\",\"2017-03-23 13\",\"2017-03-23 14\",\"2017-03-23 15\",\"2017-03-23 16\",\"2017-03-23 17\",\"2017-03-23 18\",\"2017-03-23 19\",\"2017-03-23 20\",\"2017-03-23 21\",\"2017-03-24 00\",\"2017-03-24 01\",\"2017-03-24 02\",\"2017-03-24 03\",\"2017-03-24 04\",\"2017-03-24 05\",\"2017-03-24 06\",\"2017-03-24 07\",\"2017-03-24 08\",\"2017-03-24 09\",\"2017-03-24 10\",\"2017-03-24 11\",\"2017-03-24 12\",\"2017-03-24 13\",\"2017-03-24 14\",\"2017-03-24 15\",\"2017-03-24 16\",\"2017-03-24 17\",\"2017-03-24 18\",\"2017-03-24 19\",\"2017-03-24 20\",\"2017-03-24 21\",\"2017-03-24 22\",\"2017-03-24 23\",\"2017-03-25 00\",\"2017-03-25 01\",\"2017-03-25 02\",\"2017-03-25 03\",\"2017-03-25 04\",\"2017-03-25 05\",\"2017-03-25 06\",\"2017-03-25 07\",\"2017-03-25 08\",\"2017-03-25 09\",\"2017-03-25 10\",\"2017-03-25 11\",\"2017-03-25 12\",\"2017-03-25 13\",\"2017-03-25 14\",\"2017-03-25 15\",\"2017-03-25 16\",\"2017-03-25 17\",\"2017-03-25 18\",\"2017-03-25 19\",\"2017-03-25 20\",\"2017-03-25 21\",\"2017-03-25 22\",\"2017-03-25 23\",\"2017-03-26 00\",\"2017-03-26 01\",\"2017-03-26 02\",\"2017-03-26 03\",\"2017-03-26 04\",\"2017-03-26 05\",\"2017-03-26 06\",\"2017-03-26 07\",\"2017-03-26 08\",\"2017-03-26 09\",\"2017-03-26 10\",\"2017-03-26 11\",\"2017-03-26 12\",\"2017-03-26 13\",\"2017-03-26 14\",\"2017-03-26 15\",\"2017-03-26 16\",\"2017-03-26 17\",\"2017-03-26 18\",\"2017-03-26 19\",\"2017-03-26 20\",\"2017-03-26 21\",\"2017-03-26 22\",\"2017-03-26 23\",\"2017-03-27 00\",\"2017-03-27 01\",\"2017-03-27 02\",\"2017-03-27 03\",\"2017-03-27 04\",\"2017-03-27 05\",\"2017-03-27 06\",\"2017-03-27 07\",\"2017-03-27 08\",\"2017-03-27 09\",\"2017-03-27 10\",\"2017-03-27 11\",\"2017-03-27 12\",\"2017-03-27 13\",\"2017-03-27 14\",\"2017-03-27 15\",\"2017-03-27 16\",\"2017-03-27 17\",\"2017-03-27 18\",\"2017-03-27 19\",\"2017-03-27 20\",\"2017-03-27 21\",\"2017-03-27 22\",\"2017-03-27 23\",\"2017-03-28 00\",\"2017-03-28 01\",\"2017-03-28 02\",\"2017-03-28 03\",\"2017-03-28 04\",\"2017-03-28 05\",\"2017-03-28 06\",\"2017-03-28 07\",\"2017-03-28 08\",\"2017-03-28 09\",\"2017-03-28 10\",\"2017-03-28 11\",\"2017-03-28 12\",\"2017-03-28 13\",\"2017-03-28 14\",\"2017-03-28 15\",\"2017-03-28 16\",\"2017-03-28 17\",\"2017-03-28 18\",\"2017-03-28 19\",\"2017-03-28 20\",\"2017-03-28 21\",\"2017-03-28 22\",\"2017-03-28 23\",\"2017-03-29 00\",\"2017-03-29 01\",\"2017-03-29 02\",\"2017-03-29 03\",\"2017-03-29 04\",\"2017-03-29 05\",\"2017-03-29 06\",\"2017-03-29 07\",\"2017-03-29 08\",\"2017-03-29 09\",\"2017-03-29 10\",\"2017-03-29 11\",\"2017-03-29 12\",\"2017-03-29 13\",\"2017-03-29 14\",\"2017-03-29 15\",\"2017-03-29 16\",\"2017-03-29 17\",\"2017-03-29 18\",\"2017-03-29 19\",\"2017-03-29 20\",\"2017-03-29 21\",\"2017-03-29 22\",\"2017-03-29 23\",\"2017-03-30 00\",\"2017-03-30 01\",\"2017-03-30 02\",\"2017-03-30 03\",\"2017-03-30 04\",\"2017-03-30 05\",\"2017-03-30 06\",\"2017-03-30 07\",\"2017-03-30 08\",\"2017-03-30 09\",\"2017-03-30 10\",\"2017-03-30 11\",\"2017-03-30 12\",\"2017-03-30 13\",\"2017-03-30 14\",\"2017-03-30 15\",\"2017-03-30 16\",\"2017-03-30 17\",\"2017-03-30 18\",\"2017-03-30 19\",\"2017-03-30 20\",\"2017-03-30 21\",\"2017-03-30 22\",\"2017-03-30 23\",\"2017-03-31 00\",\"2017-03-31 01\",\"2017-03-31 02\",\"2017-03-31 03\",\"2017-03-31 04\",\"2017-03-31 05\",\"2017-03-31 06\",\"2017-03-31 07\",\"2017-03-31 08\",\"2017-03-31 09\",\"2017-03-31 10\",\"2017-03-31 11\",\"2017-03-31 12\",\"2017-03-31 13\",\"2017-03-31 14\",\"2017-03-31 15\",\"2017-03-31 16\",\"2017-03-31 17\",\"2017-03-31 18\",\"2017-03-31 19\",\"2017-03-31 20\",\"2017-03-31 21\",\"2017-03-31 22\",\"2017-03-31 23\",\"2017-04-01 00\",\"2017-04-01 01\",\"2017-04-01 02\",\"2017-04-01 03\",\"2017-04-01 04\",\"2017-04-01 05\",\"2017-04-01 06\",\"2017-04-01 07\",\"2017-04-01 08\",\"2017-04-01 09\",\"2017-04-01 10\",\"2017-04-01 11\",\"2017-04-01 12\",\"2017-04-01 13\",\"2017-04-01 14\",\"2017-04-01 15\",\"2017-04-01 16\",\"2017-04-01 17\",\"2017-04-01 18\",\"2017-04-01 19\",\"2017-04-01 20\",\"2017-04-01 21\",\"2017-04-01 22\",\"2017-04-01 23\",\"2017-04-02 00\",\"2017-04-02 01\",\"2017-04-02 02\",\"2017-04-02 03\",\"2017-04-02 04\",\"2017-04-02 05\",\"2017-04-02 06\",\"2017-04-02 07\",\"2017-04-02 08\",\"2017-04-02 09\",\"2017-04-02 10\",\"2017-04-02 11\",\"2017-04-02 12\",\"2017-04-02 13\",\"2017-04-02 14\",\"2017-04-02 15\",\"2017-04-02 16\",\"2017-04-02 17\",\"2017-04-02 18\",\"2017-04-02 19\",\"2017-04-02 20\",\"2017-04-02 21\",\"2017-04-02 22\",\"2017-04-02 23\",\"2017-04-03 00\",\"2017-04-03 01\",\"2017-04-03 02\",\"2017-04-03 03\",\"2017-04-03 04\",\"2017-04-03 05\",\"2017-04-03 06\",\"2017-04-03 07\",\"2017-04-03 08\",\"2017-04-03 09\",\"2017-04-03 10\",\"2017-04-03 11\",\"2017-04-03 12\",\"2017-04-03 13\",\"2017-04-03 14\",\"2017-04-03 15\",\"2017-04-03 16\",\"2017-04-03 17\",\"2017-04-03 18\",\"2017-04-03 19\",\"2017-04-03 20\",\"2017-04-03 21\",\"2017-04-03 22\",\"2017-04-03 23\",\"2017-04-04 00\",\"2017-04-04 01\",\"2017-04-04 02\",\"2017-04-04 03\",\"2017-04-04 04\",\"2017-04-04 05\",\"2017-04-04 06\",\"2017-04-04 07\",\"2017-04-04 08\",\"2017-04-04 09\",\"2017-04-04 10\",\"2017-04-04 11\",\"2017-04-04 12\",\"2017-04-04 13\",\"2017-04-04 14\",\"2017-04-04 15\",\"2017-04-04 16\",\"2017-04-04 17\",\"2017-04-04 18\",\"2017-04-04 19\",\"2017-04-04 20\",\"2017-04-04 22\",\"2017-04-04 23\",\"2017-04-05 00\",\"2017-04-05 01\",\"2017-04-05 02\",\"2017-04-05 03\",\"2017-04-05 04\",\"2017-04-05 05\",\"2017-04-05 06\",\"2017-04-05 07\",\"2017-04-05 08\",\"2017-04-05 09\",\"2017-04-05 10\",\"2017-04-05 11\",\"2017-04-05 12\",\"2017-04-05 13\",\"2017-04-05 14\",\"2017-04-05 15\",\"2017-04-05 16\",\"2017-04-05 17\",\"2017-04-05 18\",\"2017-04-05 19\",\"2017-04-05 20\",\"2017-04-05 21\",\"2017-04-05 22\",\"2017-04-05 23\",\"2017-04-06 00\",\"2017-04-06 01\",\"2017-04-06 02\",\"2017-04-06 03\",\"2017-04-06 04\",\"2017-04-06 05\",\"2017-04-06 06\",\"2017-04-06 07\",\"2017-04-06 08\",\"2017-04-06 09\",\"2017-04-06 10\",\"2017-04-06 11\",\"2017-04-06 12\",\"2017-04-06 13\",\"2017-04-06 14\",\"2017-04-06 15\",\"2017-04-06 16\",\"2017-04-06 17\",\"2017-04-06 18\",\"2017-04-06 19\",\"2017-04-06 20\",\"2017-04-06 21\",\"2017-04-06 22\",\"2017-04-06 23\",\"2017-04-07 00\",\"2017-04-07 01\",\"2017-04-07 02\",\"2017-04-07 03\",\"2017-04-07 04\",\"2017-04-07 05\",\"2017-04-07 06\",\"2017-04-07 07\",\"2017-04-07 08\",\"2017-04-07 09\",\"2017-04-07 10\",\"2017-04-07 11\",\"2017-04-07 12\",\"2017-04-07 13\",\"2017-04-07 14\",\"2017-04-07 15\",\"2017-04-07 16\",\"2017-04-07 17\",\"2017-04-07 18\",\"2017-04-07 19\",\"2017-04-07 20\",\"2017-04-07 21\",\"2017-04-07 22\",\"2017-04-07 23\",\"2017-04-08 00\",\"2017-04-08 01\",\"2017-04-08 02\",\"2017-04-08 03\",\"2017-04-08 04\",\"2017-04-08 05\",\"2017-04-08 06\",\"2017-04-08 07\",\"2017-04-08 08\",\"2017-04-08 09\",\"2017-04-08 10\",\"2017-04-08 11\",\"2017-04-08 12\",\"2017-04-08 13\",\"2017-04-08 14\",\"2017-04-08 15\",\"2017-04-08 16\",\"2017-04-08 17\",\"2017-04-08 18\",\"2017-04-08 19\",\"2017-04-08 20\",\"2017-04-08 21\",\"2017-04-08 22\",\"2017-04-08 23\",\"2017-04-09 00\",\"2017-04-09 01\",\"2017-04-09 02\",\"2017-04-09 03\",\"2017-04-09 04\",\"2017-04-09 05\",\"2017-04-09 06\",\"2017-04-09 07\",\"2017-04-09 08\",\"2017-04-09 09\",\"2017-04-09 10\",\"2017-04-09 11\",\"2017-04-09 12\",\"2017-04-09 13\",\"2017-04-09 14\",\"2017-04-09 15\",\"2017-04-09 16\",\"2017-04-09 17\",\"2017-04-09 18\",\"2017-04-09 19\",\"2017-04-09 20\",\"2017-04-09 21\",\"2017-04-09 22\",\"2017-04-09 23\",\"2017-04-10 00\",\"2017-04-10 01\",\"2017-04-10 02\",\"2017-04-10 03\",\"2017-04-10 04\",\"2017-04-10 05\",\"2017-04-10 06\",\"2017-04-10 07\",\"2017-04-10 08\",\"2017-04-10 09\",\"2017-04-10 10\",\"2017-04-10 11\",\"2017-04-10 12\",\"2017-04-10 13\",\"2017-04-10 14\",\"2017-04-10 15\",\"2017-04-10 16\",\"2017-04-10 17\",\"2017-04-10 18\",\"2017-04-10 19\",\"2017-04-10 20\",\"2017-04-10 21\",\"2017-04-10 22\",\"2017-04-10 23\",\"2017-04-11 00\",\"2017-04-11 01\",\"2017-04-11 02\",\"2017-04-11 03\",\"2017-04-11 04\",\"2017-04-11 05\",\"2017-04-11 06\",\"2017-04-11 07\",\"2017-04-11 08\",\"2017-04-11 09\",\"2017-04-11 10\",\"2017-04-11 11\",\"2017-04-11 12\",\"2017-04-11 13\",\"2017-04-11 14\",\"2017-04-11 15\",\"2017-04-11 16\",\"2017-04-11 17\",\"2017-04-11 18\",\"2017-04-11 19\",\"2017-04-11 20\",\"2017-04-11 21\",\"2017-04-11 22\",\"2017-04-11 23\",\"2017-04-12 00\",\"2017-04-12 01\",\"2017-04-12 02\",\"2017-04-12 03\",\"2017-04-12 04\",\"2017-04-12 05\",\"2017-04-12 06\",\"2017-04-12 07\",\"2017-04-12 08\",\"2017-04-12 09\",\"2017-04-12 10\",\"2017-04-12 11\",\"2017-04-12 12\",\"2017-04-12 13\",\"2017-04-12 14\",\"2017-04-12 15\",\"2017-04-12 16\",\"2017-04-12 17\",\"2017-04-12 18\",\"2017-04-12 19\",\"2017-04-12 20\",\"2017-04-12 21\",\"2017-04-12 22\",\"2017-04-12 23\",\"2017-04-13 00\",\"2017-04-13 01\",\"2017-04-13 02\",\"2017-04-13 03\",\"2017-04-13 04\",\"2017-04-13 05\",\"2017-04-13 06\",\"2017-04-13 07\",\"2017-04-13 08\",\"2017-04-13 09\",\"2017-04-13 10\",\"2017-04-13 11\",\"2017-04-13 12\",\"2017-04-13 13\",\"2017-04-13 14\",\"2017-04-13 15\",\"2017-04-13 16\",\"2017-04-13 17\",\"2017-04-13 18\",\"2017-04-13 19\",\"2017-04-13 20\",\"2017-04-13 21\",\"2017-04-13 22\",\"2017-04-13 23\",\"2017-04-14 00\",\"2017-04-14 01\",\"2017-04-14 02\",\"2017-04-14 03\",\"2017-04-14 04\",\"2017-04-14 05\",\"2017-04-14 06\",\"2017-04-14 07\",\"2017-04-14 08\",\"2017-04-14 09\",\"2017-04-14 10\",\"2017-04-14 11\",\"2017-04-14 12\",\"2017-04-14 13\",\"2017-04-14 14\",\"2017-04-14 15\",\"2017-04-14 16\",\"2017-04-14 17\",\"2017-04-14 18\",\"2017-04-14 19\",\"2017-04-14 20\",\"2017-04-14 21\",\"2017-04-14 22\",\"2017-04-15 00\",\"2017-04-15 01\",\"2017-04-15 02\",\"2017-04-15 03\",\"2017-04-15 04\",\"2017-04-15 05\",\"2017-04-15 06\",\"2017-04-15 07\",\"2017-04-15 08\",\"2017-04-15 09\",\"2017-04-15 10\",\"2017-04-15 11\",\"2017-04-15 12\",\"2017-04-15 13\",\"2017-04-15 14\",\"2017-04-15 15\",\"2017-04-15 16\",\"2017-04-15 17\",\"2017-04-15 18\",\"2017-04-15 19\",\"2017-04-15 20\",\"2017-04-15 21\",\"2017-04-15 22\",\"2017-04-16 00\",\"2017-04-16 01\",\"2017-04-16 02\",\"2017-04-16 03\",\"2017-04-16 04\",\"2017-04-16 05\",\"2017-04-16 06\",\"2017-04-16 07\",\"2017-04-16 08\",\"2017-04-16 09\",\"2017-04-16 10\",\"2017-04-16 11\",\"2017-04-16 12\",\"2017-04-16 13\",\"2017-04-16 14\",\"2017-04-16 15\",\"2017-04-16 16\",\"2017-04-16 17\",\"2017-04-16 18\",\"2017-04-16 19\",\"2017-04-16 20\",\"2017-04-16 21\",\"2017-04-16 22\",\"2017-04-16 23\",\"2017-04-17 00\",\"2017-04-17 01\",\"2017-04-17 02\",\"2017-04-17 03\",\"2017-04-17 04\",\"2017-04-17 05\",\"2017-04-17 06\",\"2017-04-17 07\",\"2017-04-17 08\",\"2017-04-17 09\",\"2017-04-17 10\",\"2017-04-17 11\",\"2017-04-17 12\",\"2017-04-17 13\",\"2017-04-17 14\",\"2017-04-17 15\",\"2017-04-17 16\",\"2017-04-17 17\",\"2017-04-17 18\",\"2017-04-17 19\",\"2017-04-17 20\",\"2017-04-17 21\",\"2017-04-17 22\",\"2017-04-17 23\",\"2017-04-18 00\",\"2017-04-18 01\",\"2017-04-18 02\",\"2017-04-18 03\",\"2017-04-18 04\",\"2017-04-18 05\",\"2017-04-18 06\",\"2017-04-18 07\",\"2017-04-18 08\",\"2017-04-18 09\",\"2017-04-18 10\",\"2017-04-18 11\",\"2017-04-18 12\",\"2017-04-18 13\",\"2017-04-18 14\",\"2017-04-18 15\",\"2017-04-18 16\",\"2017-04-18 17\",\"2017-04-18 18\",\"2017-04-18 19\",\"2017-04-18 20\",\"2017-04-18 21\",\"2017-04-18 22\",\"2017-04-18 23\",\"2017-04-19 00\",\"2017-04-19 01\",\"2017-04-19 02\",\"2017-04-19 03\",\"2017-04-19 04\",\"2017-04-19 05\",\"2017-04-19 06\",\"2017-04-19 07\",\"2017-04-19 08\",\"2017-04-19 09\",\"2017-04-19 10\",\"2017-04-19 11\",\"2017-04-19 12\",\"2017-04-19 13\",\"2017-04-19 14\",\"2017-04-19 15\",\"2017-04-19 16\",\"2017-04-19 17\",\"2017-04-19 18\",\"2017-04-19 19\",\"2017-04-19 20\",\"2017-04-19 21\",\"2017-04-19 22\",\"2017-04-19 23\",\"2017-04-20 00\",\"2017-04-20 01\",\"2017-04-20 02\",\"2017-04-20 03\",\"2017-04-20 04\",\"2017-04-20 05\",\"2017-04-20 06\",\"2017-04-20 07\",\"2017-04-20 08\",\"2017-04-20 09\",\"2017-04-20 10\",\"2017-04-20 11\",\"2017-04-20 12\",\"2017-04-20 13\",\"2017-04-20 14\",\"2017-04-20 15\",\"2017-04-20 16\",\"2017-04-20 17\",\"2017-04-20 18\",\"2017-04-20 19\",\"2017-04-20 20\",\"2017-04-20 21\",\"2017-04-20 22\",\"2017-04-20 23\",\"2017-04-21 00\",\"2017-04-21 01\",\"2017-04-21 02\",\"2017-04-21 03\",\"2017-04-21 04\",\"2017-04-21 05\",\"2017-04-21 06\",\"2017-04-21 07\",\"2017-04-21 08\",\"2017-04-21 09\",\"2017-04-21 10\",\"2017-04-21 11\",\"2017-04-21 12\",\"2017-04-21 13\",\"2017-04-21 14\",\"2017-04-21 15\",\"2017-04-21 16\",\"2017-04-21 17\",\"2017-04-21 18\",\"2017-04-21 19\",\"2017-04-21 20\",\"2017-04-21 21\",\"2017-04-21 23\",\"2017-04-22 00\",\"2017-04-22 01\",\"2017-04-22 02\",\"2017-04-22 03\",\"2017-04-22 04\",\"2017-04-22 05\",\"2017-04-22 06\",\"2017-04-22 07\",\"2017-04-22 08\",\"2017-04-22 09\",\"2017-04-22 10\",\"2017-04-22 11\",\"2017-04-22 12\",\"2017-04-22 13\",\"2017-04-22 14\",\"2017-04-22 15\",\"2017-04-22 16\",\"2017-04-22 17\",\"2017-04-22 18\",\"2017-04-22 19\",\"2017-04-22 20\",\"2017-04-22 21\",\"2017-04-22 22\",\"2017-04-22 23\",\"2017-04-23 00\",\"2017-04-23 01\",\"2017-04-23 02\",\"2017-04-23 03\",\"2017-04-23 04\",\"2017-04-23 05\",\"2017-04-23 06\",\"2017-04-23 07\",\"2017-04-23 08\",\"2017-04-23 09\",\"2017-04-23 10\",\"2017-04-23 11\",\"2017-04-23 12\",\"2017-04-23 13\",\"2017-04-23 14\",\"2017-04-23 15\",\"2017-04-23 16\",\"2017-04-23 17\",\"2017-04-23 18\",\"2017-04-23 19\",\"2017-04-23 20\",\"2017-04-23 22\",\"2017-04-23 23\",\"2017-04-24 00\",\"2017-04-24 01\",\"2017-04-24 02\",\"2017-04-24 03\",\"2017-04-24 04\",\"2017-04-24 05\",\"2017-04-24 06\",\"2017-04-24 07\",\"2017-04-24 08\",\"2017-04-24 09\",\"2017-04-24 10\",\"2017-04-24 11\",\"2017-04-24 12\",\"2017-04-24 13\",\"2017-04-24 14\",\"2017-04-24 15\",\"2017-04-24 16\",\"2017-04-24 17\",\"2017-04-24 18\",\"2017-04-24 19\",\"2017-04-24 20\",\"2017-04-24 21\",\"2017-04-24 22\",\"2017-04-25 00\",\"2017-04-25 01\",\"2017-04-25 02\",\"2017-04-25 03\",\"2017-04-25 04\",\"2017-04-25 05\",\"2017-04-25 06\",\"2017-04-25 07\",\"2017-04-25 08\",\"2017-04-25 09\",\"2017-04-25 10\",\"2017-04-25 11\",\"2017-04-25 12\",\"2017-04-25 13\",\"2017-04-25 14\",\"2017-04-25 15\",\"2017-04-25 16\",\"2017-04-25 17\",\"2017-04-25 18\",\"2017-04-25 19\",\"2017-04-25 20\",\"2017-04-25 22\",\"2017-04-25 23\",\"2017-04-26 00\",\"2017-04-26 01\",\"2017-04-26 02\",\"2017-04-26 03\",\"2017-04-26 04\",\"2017-04-26 05\",\"2017-04-26 06\",\"2017-04-26 07\",\"2017-04-26 08\",\"2017-04-26 09\",\"2017-04-26 10\",\"2017-04-26 11\",\"2017-04-26 12\",\"2017-04-26 13\",\"2017-04-26 14\",\"2017-04-26 15\",\"2017-04-26 16\",\"2017-04-26 17\",\"2017-04-26 18\",\"2017-04-26 19\",\"2017-04-26 20\",\"2017-04-26 21\",\"2017-04-26 22\",\"2017-04-26 23\",\"2017-04-27 00\",\"2017-04-27 01\",\"2017-04-27 02\",\"2017-04-27 03\",\"2017-04-27 04\",\"2017-04-27 05\",\"2017-04-27 06\",\"2017-04-27 07\",\"2017-04-27 08\",\"2017-04-27 09\",\"2017-04-27 10\",\"2017-04-27 11\",\"2017-04-27 12\",\"2017-04-27 13\",\"2017-04-27 14\",\"2017-04-27 15\",\"2017-04-27 16\",\"2017-04-27 17\",\"2017-04-27 18\",\"2017-04-27 19\",\"2017-04-27 20\",\"2017-04-27 21\",\"2017-04-27 22\",\"2017-04-27 23\",\"2017-04-28 00\",\"2017-04-28 01\",\"2017-04-28 02\",\"2017-04-28 03\",\"2017-04-28 04\",\"2017-04-28 05\",\"2017-04-28 06\",\"2017-04-28 07\",\"2017-04-28 08\",\"2017-04-28 09\",\"2017-04-28 10\",\"2017-04-28 11\",\"2017-04-28 12\",\"2017-04-28 13\",\"2017-04-28 14\",\"2017-04-28 15\",\"2017-04-28 16\",\"2017-04-28 17\",\"2017-04-28 18\",\"2017-04-28 19\",\"2017-04-28 20\",\"2017-04-28 21\",\"2017-04-28 22\",\"2017-04-28 23\",\"2017-04-29 00\",\"2017-04-29 01\",\"2017-04-29 02\",\"2017-04-29 03\",\"2017-04-29 04\",\"2017-04-29 05\",\"2017-04-29 06\",\"2017-04-29 07\",\"2017-04-29 08\",\"2017-04-29 09\",\"2017-04-29 10\",\"2017-04-29 11\",\"2017-04-29 12\",\"2017-04-29 13\",\"2017-04-29 14\",\"2017-04-29 15\",\"2017-04-29 16\",\"2017-04-29 17\",\"2017-04-29 18\",\"2017-04-29 19\",\"2017-04-29 20\",\"2017-04-29 21\",\"2017-04-29 22\",\"2017-04-29 23\",\"2017-04-30 00\",\"2017-04-30 01\",\"2017-04-30 02\",\"2017-04-30 03\",\"2017-04-30 04\",\"2017-04-30 05\",\"2017-04-30 06\",\"2017-04-30 07\",\"2017-04-30 08\",\"2017-04-30 09\",\"2017-04-30 10\",\"2017-04-30 11\",\"2017-04-30 12\",\"2017-04-30 13\",\"2017-04-30 14\",\"2017-04-30 15\",\"2017-04-30 16\",\"2017-04-30 17\",\"2017-04-30 18\",\"2017-04-30 19\",\"2017-04-30 20\",\"2017-04-30 21\",\"2017-04-30 23\",\"2017-05-01 00\",\"2017-05-01 01\",\"2017-05-01 02\",\"2017-05-01 03\",\"2017-05-01 04\",\"2017-05-01 05\",\"2017-05-01 06\",\"2017-05-01 07\",\"2017-05-01 08\",\"2017-05-01 09\",\"2017-05-01 10\",\"2017-05-01 11\",\"2017-05-01 12\",\"2017-05-01 13\",\"2017-05-01 14\",\"2017-05-01 15\",\"2017-05-01 16\",\"2017-05-01 17\",\"2017-05-01 18\",\"2017-05-01 19\",\"2017-05-01 20\",\"2017-05-01 21\",\"2017-05-01 22\",\"2017-05-01 23\",\"2017-05-02 00\",\"2017-05-02 01\",\"2017-05-02 02\",\"2017-05-02 03\",\"2017-05-02 04\",\"2017-05-02 05\",\"2017-05-02 06\",\"2017-05-02 07\",\"2017-05-02 08\",\"2017-05-02 09\",\"2017-05-02 10\",\"2017-05-02 11\",\"2017-05-02 12\",\"2017-05-02 13\",\"2017-05-02 14\",\"2017-05-02 15\",\"2017-05-02 16\",\"2017-05-02 17\",\"2017-05-02 18\",\"2017-05-02 19\",\"2017-05-02 20\",\"2017-05-02 21\",\"2017-05-02 22\",\"2017-05-02 23\",\"2017-05-03 00\",\"2017-05-03 01\",\"2017-05-03 02\",\"2017-05-03 03\",\"2017-05-03 04\",\"2017-05-03 05\",\"2017-05-03 06\",\"2017-05-03 07\",\"2017-05-03 08\",\"2017-05-03 09\",\"2017-05-03 10\",\"2017-05-03 11\",\"2017-05-03 12\",\"2017-05-03 13\",\"2017-05-03 14\",\"2017-05-03 15\",\"2017-05-03 16\",\"2017-05-03 17\",\"2017-05-03 18\",\"2017-05-03 19\",\"2017-05-03 20\",\"2017-05-03 21\",\"2017-05-03 22\",\"2017-05-03 23\",\"2017-05-04 00\",\"2017-05-04 01\",\"2017-05-04 02\",\"2017-05-04 03\",\"2017-05-04 04\",\"2017-05-04 05\",\"2017-05-04 06\",\"2017-05-04 07\",\"2017-05-04 08\",\"2017-05-04 09\",\"2017-05-04 10\",\"2017-05-04 11\",\"2017-05-04 12\",\"2017-05-04 13\",\"2017-05-04 14\",\"2017-05-04 15\",\"2017-05-04 16\",\"2017-05-04 17\",\"2017-05-04 18\",\"2017-05-04 19\",\"2017-05-04 20\",\"2017-05-04 21\",\"2017-05-04 22\",\"2017-05-04 23\",\"2017-05-05 00\",\"2017-05-05 01\",\"2017-05-05 02\",\"2017-05-05 03\",\"2017-05-05 04\",\"2017-05-05 05\",\"2017-05-05 06\",\"2017-05-05 07\",\"2017-05-05 08\",\"2017-05-05 09\",\"2017-05-05 10\",\"2017-05-05 11\",\"2017-05-05 12\",\"2017-05-05 13\",\"2017-05-05 14\",\"2017-05-05 15\",\"2017-05-05 16\",\"2017-05-05 17\",\"2017-05-05 18\",\"2017-05-05 19\",\"2017-05-05 20\",\"2017-05-05 21\",\"2017-05-05 22\",\"2017-05-05 23\",\"2017-05-06 00\",\"2017-05-06 01\",\"2017-05-06 02\",\"2017-05-06 03\",\"2017-05-06 04\",\"2017-05-06 05\",\"2017-05-06 06\",\"2017-05-06 07\",\"2017-05-06 08\",\"2017-05-06 09\",\"2017-05-06 10\",\"2017-05-06 11\",\"2017-05-06 12\",\"2017-05-06 13\",\"2017-05-06 14\",\"2017-05-06 15\",\"2017-05-06 16\",\"2017-05-06 17\",\"2017-05-06 18\",\"2017-05-06 19\",\"2017-05-06 20\",\"2017-05-06 21\",\"2017-05-06 22\",\"2017-05-06 23\",\"2017-05-07 00\",\"2017-05-07 01\",\"2017-05-07 02\",\"2017-05-07 03\",\"2017-05-07 04\",\"2017-05-07 05\",\"2017-05-07 06\",\"2017-05-07 07\",\"2017-05-07 08\",\"2017-05-07 09\",\"2017-05-07 10\",\"2017-05-07 11\",\"2017-05-07 12\",\"2017-05-07 13\",\"2017-05-07 14\",\"2017-05-07 15\",\"2017-05-07 16\",\"2017-05-07 17\",\"2017-05-07 18\",\"2017-05-07 19\",\"2017-05-07 20\",\"2017-05-07 21\",\"2017-05-07 22\",\"2017-05-07 23\",\"2017-05-08 00\",\"2017-05-08 01\",\"2017-05-08 02\",\"2017-05-08 03\",\"2017-05-08 04\",\"2017-05-08 05\",\"2017-05-08 06\",\"2017-05-08 07\",\"2017-05-08 08\",\"2017-05-08 09\",\"2017-05-08 10\",\"2017-05-08 11\",\"2017-05-08 12\",\"2017-05-08 13\",\"2017-05-08 14\",\"2017-05-08 15\",\"2017-05-08 16\",\"2017-05-08 17\",\"2017-05-08 18\",\"2017-05-08 19\",\"2017-05-08 20\",\"2017-05-08 21\",\"2017-05-08 22\",\"2017-05-08 23\",\"2017-05-09 00\",\"2017-05-09 01\",\"2017-05-09 02\",\"2017-05-09 03\",\"2017-05-09 04\",\"2017-05-09 05\",\"2017-05-09 06\",\"2017-05-09 07\",\"2017-05-09 08\",\"2017-05-09 09\",\"2017-05-09 10\",\"2017-05-09 11\",\"2017-05-09 12\",\"2017-05-09 13\",\"2017-05-09 14\",\"2017-05-09 15\",\"2017-05-09 16\",\"2017-05-09 17\",\"2017-05-09 18\",\"2017-05-09 19\",\"2017-05-09 20\",\"2017-05-09 21\",\"2017-05-09 22\",\"2017-05-09 23\",\"2017-05-10 00\",\"2017-05-10 01\",\"2017-05-10 02\",\"2017-05-10 03\",\"2017-05-10 04\",\"2017-05-10 05\",\"2017-05-10 06\",\"2017-05-10 07\",\"2017-05-10 08\",\"2017-05-10 09\",\"2017-05-10 10\",\"2017-05-10 11\",\"2017-05-10 12\",\"2017-05-10 13\",\"2017-05-10 14\",\"2017-05-10 15\",\"2017-05-10 16\",\"2017-05-10 17\",\"2017-05-10 18\",\"2017-05-10 19\",\"2017-05-10 20\",\"2017-05-10 21\",\"2017-05-10 22\",\"2017-05-10 23\",\"2017-05-11 00\",\"2017-05-11 01\",\"2017-05-11 02\",\"2017-05-11 03\",\"2017-05-11 04\",\"2017-05-11 05\",\"2017-05-11 06\",\"2017-05-11 07\",\"2017-05-11 08\",\"2017-05-11 09\",\"2017-05-11 10\",\"2017-05-11 11\",\"2017-05-11 12\",\"2017-05-11 13\",\"2017-05-11 14\",\"2017-05-11 15\",\"2017-05-11 16\",\"2017-05-11 17\",\"2017-05-11 18\",\"2017-05-11 19\",\"2017-05-11 20\",\"2017-05-11 21\",\"2017-05-11 22\",\"2017-05-11 23\",\"2017-05-12 00\",\"2017-05-12 01\",\"2017-05-12 02\",\"2017-05-12 03\",\"2017-05-12 04\",\"2017-05-12 05\",\"2017-05-12 06\",\"2017-05-12 07\",\"2017-05-12 08\",\"2017-05-12 09\",\"2017-05-12 10\",\"2017-05-12 11\",\"2017-05-12 12\",\"2017-05-12 13\",\"2017-05-12 14\",\"2017-05-12 15\",\"2017-05-12 16\",\"2017-05-12 17\",\"2017-05-12 18\",\"2017-05-12 19\",\"2017-05-12 20\",\"2017-05-12 21\",\"2017-05-12 22\",\"2017-05-12 23\",\"2017-05-13 00\",\"2017-05-13 01\",\"2017-05-13 02\",\"2017-05-13 03\",\"2017-05-13 04\",\"2017-05-13 05\",\"2017-05-13 06\",\"2017-05-13 07\",\"2017-05-13 08\",\"2017-05-13 09\",\"2017-05-13 10\",\"2017-05-13 11\",\"2017-05-13 12\",\"2017-05-13 13\",\"2017-05-13 14\",\"2017-05-13 15\",\"2017-05-13 16\",\"2017-05-13 17\",\"2017-05-13 18\",\"2017-05-13 19\",\"2017-05-13 20\",\"2017-05-13 21\",\"2017-05-13 22\",\"2017-05-13 23\",\"2017-05-14 00\",\"2017-05-14 01\",\"2017-05-14 02\",\"2017-05-14 03\",\"2017-05-14 04\",\"2017-05-14 05\",\"2017-05-14 06\",\"2017-05-14 07\",\"2017-05-14 08\",\"2017-05-14 09\",\"2017-05-14 10\",\"2017-05-14 11\",\"2017-05-14 12\",\"2017-05-14 13\",\"2017-05-14 14\",\"2017-05-14 15\",\"2017-05-14 16\",\"2017-05-14 17\",\"2017-05-14 18\",\"2017-05-14 19\",\"2017-05-14 20\",\"2017-05-14 21\",\"2017-05-14 22\",\"2017-05-14 23\",\"2017-05-15 00\",\"2017-05-15 01\",\"2017-05-15 02\",\"2017-05-15 03\",\"2017-05-15 04\",\"2017-05-15 05\",\"2017-05-15 06\",\"2017-05-15 07\",\"2017-05-15 08\",\"2017-05-15 09\",\"2017-05-15 10\",\"2017-05-15 11\",\"2017-05-15 12\",\"2017-05-15 13\",\"2017-05-15 14\",\"2017-05-15 15\",\"2017-05-15 16\",\"2017-05-15 17\",\"2017-05-15 18\",\"2017-05-15 19\",\"2017-05-15 20\",\"2017-05-15 21\",\"2017-05-15 22\",\"2017-05-15 23\",\"2017-05-16 00\",\"2017-05-16 01\",\"2017-05-16 02\",\"2017-05-16 03\",\"2017-05-16 04\",\"2017-05-16 05\",\"2017-05-16 06\",\"2017-05-16 07\",\"2017-05-16 08\",\"2017-05-16 09\",\"2017-05-16 10\",\"2017-05-16 11\",\"2017-05-16 12\",\"2017-05-16 13\",\"2017-05-16 14\",\"2017-05-16 15\",\"2017-05-16 16\",\"2017-05-16 17\",\"2017-05-16 18\",\"2017-05-16 19\",\"2017-05-16 20\",\"2017-05-16 21\",\"2017-05-16 22\",\"2017-05-16 23\",\"2017-05-17 00\",\"2017-05-17 01\",\"2017-05-17 02\",\"2017-05-17 03\",\"2017-05-17 04\",\"2017-05-17 05\",\"2017-05-17 06\",\"2017-05-17 07\",\"2017-05-17 08\",\"2017-05-17 09\",\"2017-05-17 10\",\"2017-05-17 11\",\"2017-05-17 12\",\"2017-05-17 13\",\"2017-05-17 14\",\"2017-05-17 15\",\"2017-05-17 16\",\"2017-05-17 17\",\"2017-05-17 18\",\"2017-05-17 19\",\"2017-05-17 20\",\"2017-05-17 21\",\"2017-05-17 22\",\"2017-05-17 23\",\"2017-05-18 00\",\"2017-05-18 01\",\"2017-05-18 02\",\"2017-05-18 03\",\"2017-05-18 04\",\"2017-05-18 05\",\"2017-05-18 06\",\"2017-05-18 07\",\"2017-05-18 08\",\"2017-05-18 09\",\"2017-05-18 10\",\"2017-05-18 11\",\"2017-05-18 12\",\"2017-05-18 13\",\"2017-05-18 14\",\"2017-05-18 15\",\"2017-05-18 16\",\"2017-05-18 17\",\"2017-05-18 18\",\"2017-05-18 19\",\"2017-05-18 20\",\"2017-05-18 21\",\"2017-05-18 22\",\"2017-05-18 23\",\"2017-05-19 00\",\"2017-05-19 01\",\"2017-05-19 02\",\"2017-05-19 03\",\"2017-05-19 04\",\"2017-05-19 05\",\"2017-05-19 06\",\"2017-05-19 07\",\"2017-05-19 08\",\"2017-05-19 09\",\"2017-05-19 10\",\"2017-05-19 11\",\"2017-05-19 12\",\"2017-05-19 13\",\"2017-05-19 14\",\"2017-05-19 15\",\"2017-05-19 16\",\"2017-05-19 17\",\"2017-05-19 18\",\"2017-05-19 19\",\"2017-05-19 20\",\"2017-05-19 21\",\"2017-05-19 22\",\"2017-05-19 23\",\"2017-05-20 00\",\"2017-05-20 01\",\"2017-05-20 02\",\"2017-05-20 03\",\"2017-05-20 04\",\"2017-05-20 05\",\"2017-05-20 06\",\"2017-05-20 07\",\"2017-05-20 08\",\"2017-05-20 09\",\"2017-05-20 10\",\"2017-05-20 11\",\"2017-05-20 12\",\"2017-05-20 13\",\"2017-05-20 14\",\"2017-05-20 15\",\"2017-05-20 16\",\"2017-05-20 17\",\"2017-05-20 18\",\"2017-05-20 19\",\"2017-05-20 20\",\"2017-05-20 21\",\"2017-05-20 22\",\"2017-05-20 23\",\"2017-05-21 00\",\"2017-05-21 01\",\"2017-05-21 02\",\"2017-05-21 03\",\"2017-05-21 04\",\"2017-05-21 05\",\"2017-05-21 06\",\"2017-05-21 07\",\"2017-05-21 08\",\"2017-05-21 09\",\"2017-05-21 10\",\"2017-05-21 11\",\"2017-05-21 12\",\"2017-05-21 13\",\"2017-05-21 14\",\"2017-05-21 15\",\"2017-05-21 16\",\"2017-05-21 17\",\"2017-05-21 18\",\"2017-05-21 19\",\"2017-05-21 20\",\"2017-05-21 21\",\"2017-05-21 22\",\"2017-05-21 23\",\"2017-05-22 00\",\"2017-05-22 01\",\"2017-05-22 02\",\"2017-05-22 03\",\"2017-05-22 04\",\"2017-05-22 05\",\"2017-05-22 06\",\"2017-05-22 07\",\"2017-05-22 08\",\"2017-05-22 09\",\"2017-05-22 10\",\"2017-05-22 11\",\"2017-05-22 12\",\"2017-05-22 13\",\"2017-05-22 14\",\"2017-05-22 15\",\"2017-05-22 16\",\"2017-05-22 17\",\"2017-05-22 18\",\"2017-05-22 19\",\"2017-05-22 20\",\"2017-05-22 21\",\"2017-05-22 22\",\"2017-05-22 23\",\"2017-05-23 00\",\"2017-05-23 01\",\"2017-05-23 02\",\"2017-05-23 03\",\"2017-05-23 04\",\"2017-05-23 05\",\"2017-05-23 06\",\"2017-05-23 07\",\"2017-05-23 08\",\"2017-05-23 09\",\"2017-05-23 10\",\"2017-05-23 11\",\"2017-05-23 12\",\"2017-05-23 13\",\"2017-05-23 14\",\"2017-05-23 15\",\"2017-05-23 16\",\"2017-05-23 17\",\"2017-05-23 18\",\"2017-05-23 19\",\"2017-05-23 20\",\"2017-05-23 21\",\"2017-05-23 22\",\"2017-05-23 23\",\"2017-05-24 00\",\"2017-05-24 01\",\"2017-05-24 02\",\"2017-05-24 03\",\"2017-05-24 04\",\"2017-05-24 05\",\"2017-05-24 06\",\"2017-05-24 07\",\"2017-05-24 08\",\"2017-05-24 09\",\"2017-05-24 10\",\"2017-05-24 11\",\"2017-05-24 12\",\"2017-05-24 13\",\"2017-05-24 14\",\"2017-05-24 15\",\"2017-05-24 16\",\"2017-05-24 17\",\"2017-05-24 18\",\"2017-05-24 19\",\"2017-05-24 20\",\"2017-05-24 21\",\"2017-05-24 22\",\"2017-05-24 23\",\"2017-05-25 00\",\"2017-05-25 01\",\"2017-05-25 02\",\"2017-05-25 03\",\"2017-05-25 04\",\"2017-05-25 05\",\"2017-05-25 06\",\"2017-05-25 07\",\"2017-05-25 08\",\"2017-05-25 09\",\"2017-05-25 10\",\"2017-05-25 11\",\"2017-05-25 12\",\"2017-05-25 13\",\"2017-05-25 14\",\"2017-05-25 15\",\"2017-05-25 16\",\"2017-05-25 17\",\"2017-05-25 18\",\"2017-05-25 19\",\"2017-05-25 20\",\"2017-05-25 22\",\"2017-05-25 23\",\"2017-05-26 00\",\"2017-05-26 01\",\"2017-05-26 02\",\"2017-05-26 03\",\"2017-05-26 04\",\"2017-05-26 05\",\"2017-05-26 06\",\"2017-05-26 07\",\"2017-05-26 08\",\"2017-05-26 09\",\"2017-05-26 10\",\"2017-05-26 11\",\"2017-05-26 12\",\"2017-05-26 13\",\"2017-05-26 14\",\"2017-05-26 15\",\"2017-05-26 16\",\"2017-05-26 17\",\"2017-05-26 18\",\"2017-05-26 19\",\"2017-05-26 20\",\"2017-05-26 21\",\"2017-05-26 22\",\"2017-05-26 23\",\"2017-05-27 00\",\"2017-05-27 01\",\"2017-05-27 02\",\"2017-05-27 03\",\"2017-05-27 04\",\"2017-05-27 05\",\"2017-05-27 06\",\"2017-05-27 07\",\"2017-05-27 08\",\"2017-05-27 09\",\"2017-05-27 10\",\"2017-05-27 11\",\"2017-05-27 12\",\"2017-05-27 13\",\"2017-05-27 14\",\"2017-05-27 15\",\"2017-05-27 16\",\"2017-05-27 17\",\"2017-05-27 18\",\"2017-05-27 19\",\"2017-05-27 20\",\"2017-05-27 21\",\"2017-05-27 22\",\"2017-05-27 23\",\"2017-05-28 00\",\"2017-05-28 01\",\"2017-05-28 02\",\"2017-05-28 03\",\"2017-05-28 04\",\"2017-05-28 05\",\"2017-05-28 06\",\"2017-05-28 07\",\"2017-05-28 08\",\"2017-05-28 09\",\"2017-05-28 10\",\"2017-05-28 11\",\"2017-05-28 12\",\"2017-05-28 13\",\"2017-05-28 14\",\"2017-05-28 15\",\"2017-05-28 16\",\"2017-05-28 17\",\"2017-05-28 18\",\"2017-05-28 19\",\"2017-05-28 20\",\"2017-05-28 21\",\"2017-05-28 22\",\"2017-05-28 23\",\"2017-05-29 00\",\"2017-05-29 01\",\"2017-05-29 02\",\"2017-05-29 03\",\"2017-05-29 04\",\"2017-05-29 05\",\"2017-05-29 06\",\"2017-05-29 07\",\"2017-05-29 08\",\"2017-05-29 09\",\"2017-05-29 10\",\"2017-05-29 11\",\"2017-05-29 12\",\"2017-05-29 13\",\"2017-05-29 14\",\"2017-05-29 15\",\"2017-05-29 16\",\"2017-05-29 17\",\"2017-05-29 18\",\"2017-05-29 19\",\"2017-05-29 20\",\"2017-05-29 21\",\"2017-05-29 22\",\"2017-05-29 23\",\"2017-05-30 00\",\"2017-05-30 01\",\"2017-05-30 02\",\"2017-05-30 03\",\"2017-05-30 04\",\"2017-05-30 05\",\"2017-05-30 06\",\"2017-05-30 07\",\"2017-05-30 08\",\"2017-05-30 09\",\"2017-05-30 10\",\"2017-05-30 11\",\"2017-05-30 12\",\"2017-05-30 13\",\"2017-05-30 14\",\"2017-05-30 15\",\"2017-05-30 16\",\"2017-05-30 17\",\"2017-05-30 18\",\"2017-05-30 19\",\"2017-05-30 20\",\"2017-05-30 21\",\"2017-05-30 22\",\"2017-05-30 23\",\"2017-05-31 00\",\"2017-05-31 01\",\"2017-05-31 02\",\"2017-05-31 03\",\"2017-05-31 04\",\"2017-05-31 05\",\"2017-05-31 06\",\"2017-05-31 07\",\"2017-05-31 08\",\"2017-05-31 09\",\"2017-05-31 10\",\"2017-05-31 11\",\"2017-05-31 12\",\"2017-05-31 13\",\"2017-05-31 14\",\"2017-05-31 15\",\"2017-05-31 16\",\"2017-05-31 17\",\"2017-05-31 18\",\"2017-05-31 19\",\"2017-05-31 20\",\"2017-05-31 22\",\"2017-05-31 23\",\"2017-06-01 00\",\"2017-06-01 01\",\"2017-06-01 02\",\"2017-06-01 03\",\"2017-06-01 04\",\"2017-06-01 05\",\"2017-06-01 06\",\"2017-06-01 07\",\"2017-06-01 08\",\"2017-06-01 09\",\"2017-06-01 10\",\"2017-06-01 11\",\"2017-06-01 12\",\"2017-06-01 13\",\"2017-06-01 14\",\"2017-06-01 15\",\"2017-06-01 16\",\"2017-06-01 17\",\"2017-06-01 18\",\"2017-06-01 19\",\"2017-06-01 20\",\"2017-06-01 21\",\"2017-06-01 22\",\"2017-06-01 23\",\"2017-06-02 00\",\"2017-06-02 01\",\"2017-06-02 02\",\"2017-06-02 03\",\"2017-06-02 04\",\"2017-06-02 05\",\"2017-06-02 06\",\"2017-06-02 07\",\"2017-06-02 08\",\"2017-06-02 09\",\"2017-06-02 10\",\"2017-06-02 11\",\"2017-06-02 12\",\"2017-06-02 13\",\"2017-06-02 14\",\"2017-06-02 15\",\"2017-06-02 16\",\"2017-06-02 17\",\"2017-06-02 18\",\"2017-06-02 19\",\"2017-06-02 20\",\"2017-06-02 21\",\"2017-06-02 22\",\"2017-06-02 23\",\"2017-06-03 00\",\"2017-06-03 01\",\"2017-06-03 02\",\"2017-06-03 03\",\"2017-06-03 04\",\"2017-06-03 05\",\"2017-06-03 06\",\"2017-06-03 07\",\"2017-06-03 08\",\"2017-06-03 09\",\"2017-06-03 10\",\"2017-06-03 11\",\"2017-06-03 12\",\"2017-06-03 13\",\"2017-06-03 14\",\"2017-06-03 15\",\"2017-06-03 16\",\"2017-06-03 17\",\"2017-06-03 18\",\"2017-06-03 19\",\"2017-06-03 20\",\"2017-06-03 21\",\"2017-06-03 23\",\"2017-06-04 00\",\"2017-06-04 01\",\"2017-06-04 02\",\"2017-06-04 03\",\"2017-06-04 04\",\"2017-06-04 05\",\"2017-06-04 06\",\"2017-06-04 07\",\"2017-06-04 08\",\"2017-06-04 09\",\"2017-06-04 10\",\"2017-06-04 11\",\"2017-06-04 12\",\"2017-06-04 13\",\"2017-06-04 14\",\"2017-06-04 15\",\"2017-06-04 16\",\"2017-06-04 17\",\"2017-06-04 18\",\"2017-06-04 19\",\"2017-06-04 20\",\"2017-06-04 21\",\"2017-06-04 22\",\"2017-06-04 23\",\"2017-06-05 00\",\"2017-06-05 01\",\"2017-06-05 02\",\"2017-06-05 03\",\"2017-06-05 04\",\"2017-06-05 05\",\"2017-06-05 06\",\"2017-06-05 07\",\"2017-06-05 08\",\"2017-06-05 09\",\"2017-06-05 10\",\"2017-06-05 11\",\"2017-06-05 12\",\"2017-06-05 13\",\"2017-06-05 14\",\"2017-06-05 15\",\"2017-06-05 16\",\"2017-06-05 17\",\"2017-06-05 18\",\"2017-06-05 19\",\"2017-06-05 20\",\"2017-06-05 21\",\"2017-06-05 22\",\"2017-06-05 23\",\"2017-06-06 00\",\"2017-06-06 01\",\"2017-06-06 02\",\"2017-06-06 03\",\"2017-06-06 04\",\"2017-06-06 05\",\"2017-06-06 06\",\"2017-06-06 07\",\"2017-06-06 08\",\"2017-06-06 09\",\"2017-06-06 10\",\"2017-06-06 11\",\"2017-06-06 12\",\"2017-06-06 13\",\"2017-06-06 14\",\"2017-06-06 15\",\"2017-06-06 16\",\"2017-06-06 17\",\"2017-06-06 18\",\"2017-06-06 19\",\"2017-06-06 20\",\"2017-06-06 21\",\"2017-06-06 22\",\"2017-06-06 23\",\"2017-06-07 00\",\"2017-06-07 01\",\"2017-06-07 02\",\"2017-06-07 03\",\"2017-06-07 04\",\"2017-06-07 05\",\"2017-06-07 06\",\"2017-06-07 07\",\"2017-06-07 08\",\"2017-06-07 09\",\"2017-06-07 10\",\"2017-06-07 11\",\"2017-06-07 12\",\"2017-06-07 13\",\"2017-06-07 14\",\"2017-06-07 15\",\"2017-06-07 16\",\"2017-06-07 17\",\"2017-06-07 18\",\"2017-06-07 19\",\"2017-06-07 20\",\"2017-06-07 21\",\"2017-06-07 22\",\"2017-06-07 23\",\"2017-06-08 00\",\"2017-06-08 01\",\"2017-06-08 02\",\"2017-06-08 03\",\"2017-06-08 04\",\"2017-06-08 05\",\"2017-06-08 06\",\"2017-06-08 07\",\"2017-06-08 08\",\"2017-06-08 09\",\"2017-06-08 10\",\"2017-06-08 11\",\"2017-06-08 12\",\"2017-06-08 13\",\"2017-06-08 14\",\"2017-06-08 15\",\"2017-06-08 16\",\"2017-06-08 17\",\"2017-06-08 18\",\"2017-06-08 19\",\"2017-06-08 20\",\"2017-06-08 21\",\"2017-06-08 22\",\"2017-06-08 23\",\"2017-06-09 00\",\"2017-06-09 01\",\"2017-06-09 02\",\"2017-06-09 03\",\"2017-06-09 04\",\"2017-06-09 05\",\"2017-06-09 06\",\"2017-06-09 07\",\"2017-06-09 08\",\"2017-06-09 09\",\"2017-06-09 10\",\"2017-06-09 11\",\"2017-06-09 12\",\"2017-06-09 13\",\"2017-06-09 14\",\"2017-06-09 15\",\"2017-06-09 16\",\"2017-06-09 17\",\"2017-06-09 18\",\"2017-06-09 19\",\"2017-06-09 20\",\"2017-06-09 21\",\"2017-06-09 23\",\"2017-06-10 00\",\"2017-06-10 01\",\"2017-06-10 02\",\"2017-06-10 03\",\"2017-06-10 04\",\"2017-06-10 05\",\"2017-06-10 06\",\"2017-06-10 07\",\"2017-06-10 08\",\"2017-06-10 09\",\"2017-06-10 10\",\"2017-06-10 11\",\"2017-06-10 12\",\"2017-06-10 13\",\"2017-06-10 14\",\"2017-06-10 15\",\"2017-06-10 16\",\"2017-06-10 17\",\"2017-06-10 18\",\"2017-06-10 19\",\"2017-06-10 20\",\"2017-06-10 21\",\"2017-06-10 22\",\"2017-06-11 00\",\"2017-06-11 01\",\"2017-06-11 02\",\"2017-06-11 03\",\"2017-06-11 04\",\"2017-06-11 05\",\"2017-06-11 06\",\"2017-06-11 07\",\"2017-06-11 08\",\"2017-06-11 09\",\"2017-06-11 10\",\"2017-06-11 11\",\"2017-06-11 12\",\"2017-06-11 13\",\"2017-06-11 14\",\"2017-06-11 15\",\"2017-06-11 16\",\"2017-06-11 17\",\"2017-06-11 18\",\"2017-06-11 19\",\"2017-06-11 20\",\"2017-06-11 21\",\"2017-06-11 22\",\"2017-06-11 23\",\"2017-06-12 00\",\"2017-06-12 01\",\"2017-06-12 02\",\"2017-06-12 03\",\"2017-06-12 04\",\"2017-06-12 05\",\"2017-06-12 06\",\"2017-06-12 07\",\"2017-06-12 08\",\"2017-06-12 09\",\"2017-06-12 10\",\"2017-06-12 11\",\"2017-06-12 12\",\"2017-06-12 13\",\"2017-06-12 14\",\"2017-06-12 15\",\"2017-06-12 16\",\"2017-06-12 17\",\"2017-06-12 18\",\"2017-06-12 19\",\"2017-06-12 20\",\"2017-06-12 21\",\"2017-06-12 22\",\"2017-06-12 23\",\"2017-06-13 00\",\"2017-06-13 01\",\"2017-06-13 02\",\"2017-06-13 03\",\"2017-06-13 04\",\"2017-06-13 05\",\"2017-06-13 06\",\"2017-06-13 07\",\"2017-06-13 08\",\"2017-06-13 09\",\"2017-06-13 10\",\"2017-06-13 11\",\"2017-06-13 12\",\"2017-06-13 13\",\"2017-06-13 14\",\"2017-06-13 15\",\"2017-06-13 16\",\"2017-06-13 17\",\"2017-06-13 18\",\"2017-06-13 19\",\"2017-06-13 20\",\"2017-06-13 21\",\"2017-06-13 22\",\"2017-06-13 23\",\"2017-06-14 00\",\"2017-06-14 01\",\"2017-06-14 02\",\"2017-06-14 03\",\"2017-06-14 04\",\"2017-06-14 05\",\"2017-06-14 06\",\"2017-06-14 07\",\"2017-06-14 08\",\"2017-06-14 09\",\"2017-06-14 10\",\"2017-06-14 11\",\"2017-06-14 12\",\"2017-06-14 13\",\"2017-06-14 14\",\"2017-06-14 15\",\"2017-06-14 16\",\"2017-06-14 17\",\"2017-06-14 18\",\"2017-06-14 19\",\"2017-06-14 20\",\"2017-06-14 22\",\"2017-06-14 23\",\"2017-06-15 00\",\"2017-06-15 01\",\"2017-06-15 02\",\"2017-06-15 03\",\"2017-06-15 04\",\"2017-06-15 05\",\"2017-06-15 06\",\"2017-06-15 07\",\"2017-06-15 08\",\"2017-06-15 09\",\"2017-06-15 10\",\"2017-06-15 11\",\"2017-06-15 12\",\"2017-06-15 13\",\"2017-06-15 14\",\"2017-06-15 15\",\"2017-06-15 16\",\"2017-06-15 17\",\"2017-06-15 18\",\"2017-06-15 19\",\"2017-06-15 20\",\"2017-06-15 21\",\"2017-06-15 22\",\"2017-06-15 23\",\"2017-06-16 00\",\"2017-06-16 01\",\"2017-06-16 02\",\"2017-06-16 03\",\"2017-06-16 04\",\"2017-06-16 05\",\"2017-06-16 06\",\"2017-06-16 07\",\"2017-06-16 08\",\"2017-06-16 09\",\"2017-06-16 10\",\"2017-06-16 11\",\"2017-06-16 12\",\"2017-06-16 13\",\"2017-06-16 14\",\"2017-06-16 15\",\"2017-06-16 16\",\"2017-06-16 17\",\"2017-06-16 18\",\"2017-06-16 19\",\"2017-06-16 20\",\"2017-06-16 22\",\"2017-06-16 23\",\"2017-06-17 00\",\"2017-06-17 01\",\"2017-06-17 02\",\"2017-06-17 03\",\"2017-06-17 04\",\"2017-06-17 05\",\"2017-06-17 06\",\"2017-06-17 07\",\"2017-06-17 08\",\"2017-06-17 09\",\"2017-06-17 10\",\"2017-06-17 11\",\"2017-06-17 12\",\"2017-06-17 13\",\"2017-06-17 14\",\"2017-06-17 15\",\"2017-06-17 16\",\"2017-06-17 17\",\"2017-06-17 18\",\"2017-06-17 19\",\"2017-06-17 20\",\"2017-06-17 21\",\"2017-06-17 22\",\"2017-06-17 23\",\"2017-06-18 00\",\"2017-06-18 01\",\"2017-06-18 02\",\"2017-06-18 03\",\"2017-06-18 04\",\"2017-06-18 05\",\"2017-06-18 06\",\"2017-06-18 07\",\"2017-06-18 08\",\"2017-06-18 09\",\"2017-06-18 10\",\"2017-06-18 11\",\"2017-06-18 12\",\"2017-06-18 13\",\"2017-06-18 14\",\"2017-06-18 15\",\"2017-06-18 16\",\"2017-06-18 17\",\"2017-06-18 18\",\"2017-06-18 19\",\"2017-06-18 20\",\"2017-06-18 21\",\"2017-06-18 22\",\"2017-06-18 23\",\"2017-06-19 00\",\"2017-06-19 01\",\"2017-06-19 02\",\"2017-06-19 03\",\"2017-06-19 04\",\"2017-06-19 05\",\"2017-06-19 06\",\"2017-06-19 07\",\"2017-06-19 08\",\"2017-06-19 09\",\"2017-06-19 10\",\"2017-06-19 11\",\"2017-06-19 12\",\"2017-06-19 13\",\"2017-06-19 14\",\"2017-06-19 15\",\"2017-06-19 16\",\"2017-06-19 17\",\"2017-06-19 18\",\"2017-06-19 19\",\"2017-06-19 20\",\"2017-06-19 21\",\"2017-06-19 22\",\"2017-06-19 23\",\"2017-06-20 00\",\"2017-06-20 01\",\"2017-06-20 02\",\"2017-06-20 03\",\"2017-06-20 04\",\"2017-06-20 05\",\"2017-06-20 06\",\"2017-06-20 07\",\"2017-06-20 08\",\"2017-06-20 09\",\"2017-06-20 10\",\"2017-06-20 11\",\"2017-06-20 12\",\"2017-06-20 13\",\"2017-06-20 14\",\"2017-06-20 15\",\"2017-06-20 16\",\"2017-06-20 17\",\"2017-06-20 18\",\"2017-06-20 19\",\"2017-06-20 20\",\"2017-06-20 21\",\"2017-06-20 22\",\"2017-06-20 23\",\"2017-06-21 00\",\"2017-06-21 01\",\"2017-06-21 02\",\"2017-06-21 03\",\"2017-06-21 04\",\"2017-06-21 05\",\"2017-06-21 06\",\"2017-06-21 07\",\"2017-06-21 08\",\"2017-06-21 09\",\"2017-06-21 10\",\"2017-06-21 11\",\"2017-06-21 12\",\"2017-06-21 13\",\"2017-06-21 14\",\"2017-06-21 15\",\"2017-06-21 16\",\"2017-06-21 17\",\"2017-06-21 18\",\"2017-06-21 19\",\"2017-06-21 20\",\"2017-06-21 21\",\"2017-06-21 23\",\"2017-06-22 00\",\"2017-06-22 01\",\"2017-06-22 02\",\"2017-06-22 03\",\"2017-06-22 04\",\"2017-06-22 05\",\"2017-06-22 06\",\"2017-06-22 07\",\"2017-06-22 08\",\"2017-06-22 09\",\"2017-06-22 10\",\"2017-06-22 11\",\"2017-06-22 12\",\"2017-06-22 13\",\"2017-06-22 14\",\"2017-06-22 15\",\"2017-06-22 16\",\"2017-06-22 17\",\"2017-06-22 18\",\"2017-06-22 19\",\"2017-06-22 20\",\"2017-06-22 21\",\"2017-06-22 22\",\"2017-06-22 23\",\"2017-06-23 00\",\"2017-06-23 01\",\"2017-06-23 02\",\"2017-06-23 03\",\"2017-06-23 04\",\"2017-06-23 05\",\"2017-06-23 06\",\"2017-06-23 07\",\"2017-06-23 08\",\"2017-06-23 09\",\"2017-06-23 10\",\"2017-06-23 11\",\"2017-06-23 12\",\"2017-06-23 13\",\"2017-06-23 14\",\"2017-06-23 15\",\"2017-06-23 16\",\"2017-06-23 17\",\"2017-06-23 18\",\"2017-06-23 19\",\"2017-06-23 20\",\"2017-06-23 21\",\"2017-06-23 22\",\"2017-06-23 23\",\"2017-06-24 00\",\"2017-06-24 01\",\"2017-06-24 02\",\"2017-06-24 03\",\"2017-06-24 04\",\"2017-06-24 05\",\"2017-06-24 06\",\"2017-06-24 07\",\"2017-06-24 08\",\"2017-06-24 09\",\"2017-06-24 10\",\"2017-06-24 11\",\"2017-06-24 12\",\"2017-06-24 13\",\"2017-06-24 14\",\"2017-06-24 15\",\"2017-06-24 16\",\"2017-06-24 17\",\"2017-06-24 18\",\"2017-06-24 19\",\"2017-06-24 20\",\"2017-06-24 21\",\"2017-06-24 22\",\"2017-06-24 23\",\"2017-06-25 00\",\"2017-06-25 01\",\"2017-06-25 02\",\"2017-06-25 03\",\"2017-06-25 04\",\"2017-06-25 05\",\"2017-06-25 06\",\"2017-06-25 07\",\"2017-06-25 08\",\"2017-06-25 09\",\"2017-06-25 10\",\"2017-06-25 11\",\"2017-06-25 12\",\"2017-06-25 13\",\"2017-06-25 14\",\"2017-06-25 15\",\"2017-06-25 16\",\"2017-06-25 17\",\"2017-06-25 18\",\"2017-06-25 19\",\"2017-06-25 20\",\"2017-06-25 21\",\"2017-06-25 22\",\"2017-06-25 23\",\"2017-06-26 00\",\"2017-06-26 01\",\"2017-06-26 02\",\"2017-06-26 03\",\"2017-06-26 04\",\"2017-06-26 05\",\"2017-06-26 06\",\"2017-06-26 07\",\"2017-06-26 08\",\"2017-06-26 09\",\"2017-06-26 10\",\"2017-06-26 11\",\"2017-06-26 12\",\"2017-06-26 13\",\"2017-06-26 14\",\"2017-06-26 15\",\"2017-06-26 16\",\"2017-06-26 17\",\"2017-06-26 18\",\"2017-06-26 19\",\"2017-06-26 20\",\"2017-06-26 21\",\"2017-06-26 22\",\"2017-06-26 23\",\"2017-06-27 00\",\"2017-06-27 01\",\"2017-06-27 02\",\"2017-06-27 03\",\"2017-06-27 04\",\"2017-06-27 05\",\"2017-06-27 06\",\"2017-06-27 07\",\"2017-06-27 08\",\"2017-06-27 09\",\"2017-06-27 10\",\"2017-06-27 11\",\"2017-06-27 12\",\"2017-06-27 13\",\"2017-06-27 14\",\"2017-06-27 15\",\"2017-06-27 16\",\"2017-06-27 17\",\"2017-06-27 18\",\"2017-06-27 19\",\"2017-06-27 20\",\"2017-06-27 21\",\"2017-06-27 22\",\"2017-06-27 23\",\"2017-06-28 00\",\"2017-06-28 01\",\"2017-06-28 02\",\"2017-06-28 03\",\"2017-06-28 04\",\"2017-06-28 05\",\"2017-06-28 06\",\"2017-06-28 07\",\"2017-06-28 08\",\"2017-06-28 09\",\"2017-06-28 10\",\"2017-06-28 11\",\"2017-06-28 12\",\"2017-06-28 13\",\"2017-06-28 14\",\"2017-06-28 15\",\"2017-06-28 16\",\"2017-06-28 17\",\"2017-06-28 18\",\"2017-06-28 19\",\"2017-06-28 20\",\"2017-06-28 21\",\"2017-06-28 22\",\"2017-06-28 23\",\"2017-06-29 00\",\"2017-06-29 01\",\"2017-06-29 02\",\"2017-06-29 03\",\"2017-06-29 04\",\"2017-06-29 05\",\"2017-06-29 06\",\"2017-06-29 07\",\"2017-06-29 08\",\"2017-06-29 09\",\"2017-06-29 10\",\"2017-06-29 11\",\"2017-06-29 12\",\"2017-06-29 13\",\"2017-06-29 14\",\"2017-06-29 15\",\"2017-06-29 16\",\"2017-06-29 17\",\"2017-06-29 18\",\"2017-06-29 19\",\"2017-06-29 20\",\"2017-06-29 21\",\"2017-06-29 22\",\"2017-06-29 23\",\"2017-06-30 00\",\"2017-06-30 01\",\"2017-06-30 02\",\"2017-06-30 03\",\"2017-06-30 04\",\"2017-06-30 05\",\"2017-06-30 06\",\"2017-06-30 07\",\"2017-06-30 08\",\"2017-06-30 09\",\"2017-06-30 10\",\"2017-06-30 11\",\"2017-06-30 12\",\"2017-06-30 13\",\"2017-06-30 14\",\"2017-06-30 15\",\"2017-06-30 16\",\"2017-06-30 17\",\"2017-06-30 18\",\"2017-06-30 19\",\"2017-06-30 20\",\"2017-06-30 21\",\"2017-06-30 23\",\"2017-07-01 00\",\"2017-07-01 01\",\"2017-07-01 02\",\"2017-07-01 03\",\"2017-07-01 04\",\"2017-07-01 05\",\"2017-07-01 06\",\"2017-07-01 07\",\"2017-07-01 08\",\"2017-07-01 09\",\"2017-07-01 10\",\"2017-07-01 11\",\"2017-07-01 12\",\"2017-07-01 13\",\"2017-07-01 14\",\"2017-07-01 15\",\"2017-07-01 16\",\"2017-07-01 17\",\"2017-07-01 18\",\"2017-07-01 19\",\"2017-07-01 20\",\"2017-07-01 21\",\"2017-07-01 22\",\"2017-07-01 23\",\"2017-07-02 00\",\"2017-07-02 01\",\"2017-07-02 02\",\"2017-07-02 03\",\"2017-07-02 04\",\"2017-07-02 05\",\"2017-07-02 06\",\"2017-07-02 07\",\"2017-07-02 08\",\"2017-07-02 09\",\"2017-07-02 10\",\"2017-07-02 11\",\"2017-07-02 12\",\"2017-07-02 13\",\"2017-07-02 14\",\"2017-07-02 15\",\"2017-07-02 16\",\"2017-07-02 17\",\"2017-07-02 18\",\"2017-07-02 19\",\"2017-07-02 20\",\"2017-07-02 21\",\"2017-07-02 22\",\"2017-07-02 23\",\"2017-07-03 00\",\"2017-07-03 01\",\"2017-07-03 02\",\"2017-07-03 03\",\"2017-07-03 04\",\"2017-07-03 05\",\"2017-07-03 06\",\"2017-07-03 07\",\"2017-07-03 08\",\"2017-07-03 09\",\"2017-07-03 10\",\"2017-07-03 11\",\"2017-07-03 12\",\"2017-07-03 13\",\"2017-07-03 14\",\"2017-07-03 15\",\"2017-07-03 16\",\"2017-07-03 17\",\"2017-07-03 18\",\"2017-07-03 19\",\"2017-07-03 20\",\"2017-07-03 21\",\"2017-07-03 22\",\"2017-07-03 23\",\"2017-07-04 00\",\"2017-07-04 01\",\"2017-07-04 02\",\"2017-07-04 03\",\"2017-07-04 04\",\"2017-07-04 05\",\"2017-07-04 06\",\"2017-07-04 07\",\"2017-07-04 08\",\"2017-07-04 09\",\"2017-07-04 10\",\"2017-07-04 11\",\"2017-07-04 12\",\"2017-07-04 13\",\"2017-07-04 14\",\"2017-07-04 15\",\"2017-07-04 16\",\"2017-07-04 17\",\"2017-07-04 18\",\"2017-07-04 19\",\"2017-07-04 20\",\"2017-07-04 21\",\"2017-07-04 22\",\"2017-07-04 23\",\"2017-07-05 00\",\"2017-07-05 01\",\"2017-07-05 02\",\"2017-07-05 03\",\"2017-07-05 04\",\"2017-07-05 05\",\"2017-07-05 06\",\"2017-07-05 07\",\"2017-07-05 08\",\"2017-07-05 09\",\"2017-07-05 10\",\"2017-07-05 11\",\"2017-07-05 12\",\"2017-07-05 13\",\"2017-07-05 14\",\"2017-07-05 15\",\"2017-07-05 16\",\"2017-07-05 17\",\"2017-07-05 18\",\"2017-07-05 19\",\"2017-07-05 20\",\"2017-07-05 21\",\"2017-07-05 22\",\"2017-07-05 23\",\"2017-07-06 00\",\"2017-07-06 01\",\"2017-07-06 02\",\"2017-07-06 03\",\"2017-07-06 04\",\"2017-07-06 05\",\"2017-07-06 06\",\"2017-07-06 07\",\"2017-07-06 08\",\"2017-07-06 09\",\"2017-07-06 10\",\"2017-07-06 11\",\"2017-07-06 12\",\"2017-07-06 13\",\"2017-07-06 14\",\"2017-07-06 15\",\"2017-07-06 16\",\"2017-07-06 17\",\"2017-07-06 18\",\"2017-07-06 19\",\"2017-07-06 20\",\"2017-07-06 22\",\"2017-07-06 23\",\"2017-07-07 00\",\"2017-07-07 01\",\"2017-07-07 02\",\"2017-07-07 03\",\"2017-07-07 04\",\"2017-07-07 05\",\"2017-07-07 06\",\"2017-07-07 07\",\"2017-07-07 08\",\"2017-07-07 09\",\"2017-07-07 10\",\"2017-07-07 11\",\"2017-07-07 12\",\"2017-07-07 13\",\"2017-07-07 14\",\"2017-07-07 15\",\"2017-07-07 16\",\"2017-07-07 17\",\"2017-07-07 18\",\"2017-07-07 19\",\"2017-07-07 20\",\"2017-07-07 21\",\"2017-07-07 22\",\"2017-07-07 23\",\"2017-07-08 00\",\"2017-07-08 01\",\"2017-07-08 02\",\"2017-07-08 03\",\"2017-07-08 04\",\"2017-07-08 05\",\"2017-07-08 06\",\"2017-07-08 07\",\"2017-07-08 08\",\"2017-07-08 09\",\"2017-07-08 10\",\"2017-07-08 11\",\"2017-07-08 12\",\"2017-07-08 13\",\"2017-07-08 14\",\"2017-07-08 15\",\"2017-07-08 16\",\"2017-07-08 17\",\"2017-07-08 18\",\"2017-07-08 19\",\"2017-07-08 20\",\"2017-07-08 21\",\"2017-07-08 22\",\"2017-07-09 00\",\"2017-07-09 01\",\"2017-07-09 02\",\"2017-07-09 03\",\"2017-07-09 04\",\"2017-07-09 05\",\"2017-07-09 06\",\"2017-07-09 07\",\"2017-07-09 08\",\"2017-07-09 09\",\"2017-07-09 10\",\"2017-07-09 11\",\"2017-07-09 12\",\"2017-07-09 13\",\"2017-07-09 14\",\"2017-07-09 15\",\"2017-07-09 16\",\"2017-07-09 17\",\"2017-07-09 18\",\"2017-07-09 19\",\"2017-07-09 20\",\"2017-07-09 21\",\"2017-07-09 22\",\"2017-07-09 23\",\"2017-07-10 00\",\"2017-07-10 01\",\"2017-07-10 02\",\"2017-07-10 03\",\"2017-07-10 04\",\"2017-07-10 05\",\"2017-07-10 06\",\"2017-07-10 07\",\"2017-07-10 08\",\"2017-07-10 09\",\"2017-07-10 10\",\"2017-07-10 11\",\"2017-07-10 12\",\"2017-07-10 13\",\"2017-07-10 14\",\"2017-07-10 15\",\"2017-07-10 16\",\"2017-07-10 17\",\"2017-07-10 18\",\"2017-07-10 19\",\"2017-07-10 20\",\"2017-07-10 21\",\"2017-07-10 22\",\"2017-07-10 23\",\"2017-07-11 00\",\"2017-07-11 01\",\"2017-07-11 02\",\"2017-07-11 03\",\"2017-07-11 04\",\"2017-07-11 05\",\"2017-07-11 06\",\"2017-07-11 07\",\"2017-07-11 08\",\"2017-07-11 09\",\"2017-07-11 10\",\"2017-07-11 11\",\"2017-07-11 12\",\"2017-07-11 13\",\"2017-07-11 14\",\"2017-07-11 15\",\"2017-07-11 16\",\"2017-07-11 17\",\"2017-07-11 18\",\"2017-07-11 19\",\"2017-07-11 20\",\"2017-07-11 21\",\"2017-07-11 22\",\"2017-07-11 23\",\"2017-07-12 00\",\"2017-07-12 01\",\"2017-07-12 02\",\"2017-07-12 03\",\"2017-07-12 04\",\"2017-07-12 05\",\"2017-07-12 06\",\"2017-07-12 07\",\"2017-07-12 08\",\"2017-07-12 09\",\"2017-07-12 10\",\"2017-07-12 11\",\"2017-07-12 12\",\"2017-07-12 13\",\"2017-07-12 14\",\"2017-07-12 15\",\"2017-07-12 16\",\"2017-07-12 17\",\"2017-07-12 18\",\"2017-07-12 19\",\"2017-07-12 20\",\"2017-07-12 21\",\"2017-07-12 22\",\"2017-07-12 23\",\"2017-07-13 00\",\"2017-07-13 01\",\"2017-07-13 02\",\"2017-07-13 03\",\"2017-07-13 04\",\"2017-07-13 05\",\"2017-07-13 06\",\"2017-07-13 07\",\"2017-07-13 08\",\"2017-07-13 09\",\"2017-07-13 10\",\"2017-07-13 11\",\"2017-07-13 12\",\"2017-07-13 13\",\"2017-07-13 14\",\"2017-07-13 15\",\"2017-07-13 16\",\"2017-07-13 17\",\"2017-07-13 18\",\"2017-07-13 19\",\"2017-07-13 20\",\"2017-07-13 21\",\"2017-07-13 22\",\"2017-07-13 23\",\"2017-07-14 00\",\"2017-07-14 01\",\"2017-07-14 02\",\"2017-07-14 03\",\"2017-07-14 04\",\"2017-07-14 05\",\"2017-07-14 06\",\"2017-07-14 07\",\"2017-07-14 08\",\"2017-07-14 09\",\"2017-07-14 10\",\"2017-07-14 11\",\"2017-07-14 12\",\"2017-07-14 13\",\"2017-07-14 14\",\"2017-07-14 15\",\"2017-07-14 16\",\"2017-07-14 17\",\"2017-07-14 18\",\"2017-07-14 19\",\"2017-07-14 20\",\"2017-07-14 21\",\"2017-07-14 22\",\"2017-07-14 23\",\"2017-07-15 00\",\"2017-07-15 01\",\"2017-07-15 02\",\"2017-07-15 03\",\"2017-07-15 04\",\"2017-07-15 05\",\"2017-07-15 06\",\"2017-07-15 07\",\"2017-07-15 08\",\"2017-07-15 09\",\"2017-07-15 10\",\"2017-07-15 11\",\"2017-07-15 12\",\"2017-07-15 13\",\"2017-07-15 14\",\"2017-07-15 15\",\"2017-07-15 16\",\"2017-07-15 17\",\"2017-07-15 18\",\"2017-07-15 19\",\"2017-07-15 20\",\"2017-07-15 21\",\"2017-07-15 22\",\"2017-07-15 23\",\"2017-07-16 00\",\"2017-07-16 01\",\"2017-07-16 02\",\"2017-07-16 03\",\"2017-07-16 04\",\"2017-07-16 05\",\"2017-07-16 06\",\"2017-07-16 07\",\"2017-07-16 08\",\"2017-07-16 09\",\"2017-07-16 10\",\"2017-07-16 11\",\"2017-07-16 12\",\"2017-07-16 13\",\"2017-07-16 14\",\"2017-07-16 15\",\"2017-07-16 16\",\"2017-07-16 17\",\"2017-07-16 18\",\"2017-07-16 19\",\"2017-07-16 20\",\"2017-07-16 21\",\"2017-07-16 22\",\"2017-07-16 23\",\"2017-07-17 00\",\"2017-07-17 01\",\"2017-07-17 02\",\"2017-07-17 03\",\"2017-07-17 04\",\"2017-07-17 05\",\"2017-07-17 06\",\"2017-07-17 07\",\"2017-07-17 08\",\"2017-07-17 09\",\"2017-07-17 10\",\"2017-07-17 11\",\"2017-07-17 12\",\"2017-07-17 13\",\"2017-07-17 14\",\"2017-07-17 15\",\"2017-07-17 16\",\"2017-07-17 17\",\"2017-07-17 18\",\"2017-07-17 19\",\"2017-07-17 21\",\"2017-07-17 22\",\"2017-07-17 23\",\"2017-07-18 00\",\"2017-07-18 01\",\"2017-07-18 02\",\"2017-07-18 03\",\"2017-07-18 04\",\"2017-07-18 05\",\"2017-07-18 06\",\"2017-07-18 07\",\"2017-07-18 08\",\"2017-07-18 09\",\"2017-07-18 10\",\"2017-07-18 11\",\"2017-07-18 12\",\"2017-07-18 13\",\"2017-07-18 14\",\"2017-07-18 15\",\"2017-07-18 16\",\"2017-07-18 17\",\"2017-07-18 18\",\"2017-07-18 19\",\"2017-07-18 20\",\"2017-07-18 21\",\"2017-07-18 22\",\"2017-07-18 23\",\"2017-07-19 00\",\"2017-07-19 01\",\"2017-07-19 02\",\"2017-07-19 03\",\"2017-07-19 04\",\"2017-07-19 05\",\"2017-07-19 06\",\"2017-07-19 07\",\"2017-07-19 08\",\"2017-07-19 09\",\"2017-07-19 10\",\"2017-07-19 11\",\"2017-07-19 12\",\"2017-07-19 13\",\"2017-07-19 14\",\"2017-07-19 15\",\"2017-07-19 16\",\"2017-07-19 17\",\"2017-07-19 18\",\"2017-07-19 19\",\"2017-07-19 20\",\"2017-07-19 21\",\"2017-07-19 22\",\"2017-07-19 23\",\"2017-07-20 00\",\"2017-07-20 01\",\"2017-07-20 02\",\"2017-07-20 03\",\"2017-07-20 04\",\"2017-07-20 05\",\"2017-07-20 06\",\"2017-07-20 07\",\"2017-07-20 08\",\"2017-07-20 09\",\"2017-07-20 10\",\"2017-07-20 11\",\"2017-07-20 12\",\"2017-07-20 13\",\"2017-07-20 14\",\"2017-07-20 15\",\"2017-07-20 16\",\"2017-07-20 17\",\"2017-07-20 18\",\"2017-07-20 19\",\"2017-07-20 20\",\"2017-07-20 21\",\"2017-07-20 22\",\"2017-07-20 23\",\"2017-07-21 00\",\"2017-07-21 01\",\"2017-07-21 02\",\"2017-07-21 03\",\"2017-07-21 04\",\"2017-07-21 05\",\"2017-07-21 06\",\"2017-07-21 07\",\"2017-07-21 08\",\"2017-07-21 09\",\"2017-07-21 10\",\"2017-07-21 11\",\"2017-07-21 12\",\"2017-07-21 13\",\"2017-07-21 14\",\"2017-07-21 15\",\"2017-07-21 16\",\"2017-07-21 17\",\"2017-07-21 18\",\"2017-07-21 19\",\"2017-07-21 20\",\"2017-07-21 21\",\"2017-07-21 22\",\"2017-07-21 23\",\"2017-07-22 00\",\"2017-07-22 01\",\"2017-07-22 02\",\"2017-07-22 03\",\"2017-07-22 04\",\"2017-07-22 05\",\"2017-07-22 06\",\"2017-07-22 07\",\"2017-07-22 08\",\"2017-07-22 09\",\"2017-07-22 10\",\"2017-07-22 11\",\"2017-07-22 12\",\"2017-07-22 13\",\"2017-07-22 14\",\"2017-07-22 15\",\"2017-07-22 16\",\"2017-07-22 17\",\"2017-07-22 18\",\"2017-07-22 19\",\"2017-07-22 20\",\"2017-07-22 21\",\"2017-07-22 22\",\"2017-07-22 23\",\"2017-07-23 00\",\"2017-07-23 01\",\"2017-07-23 02\",\"2017-07-23 03\",\"2017-07-23 04\",\"2017-07-23 05\",\"2017-07-23 06\",\"2017-07-23 07\",\"2017-07-23 08\",\"2017-07-23 09\",\"2017-07-23 10\",\"2017-07-23 11\",\"2017-07-23 12\",\"2017-07-23 13\",\"2017-07-23 14\",\"2017-07-23 15\",\"2017-07-23 16\",\"2017-07-23 17\",\"2017-07-23 18\",\"2017-07-23 19\",\"2017-07-23 20\",\"2017-07-23 21\",\"2017-07-23 23\",\"2017-07-24 00\",\"2017-07-24 01\",\"2017-07-24 02\",\"2017-07-24 03\",\"2017-07-24 04\",\"2017-07-24 05\",\"2017-07-24 06\",\"2017-07-24 07\",\"2017-07-24 08\",\"2017-07-24 09\",\"2017-07-24 10\",\"2017-07-24 11\",\"2017-07-24 12\",\"2017-07-24 13\",\"2017-07-24 14\",\"2017-07-24 15\",\"2017-07-24 16\",\"2017-07-24 17\",\"2017-07-24 18\",\"2017-07-24 19\",\"2017-07-24 20\",\"2017-07-24 21\",\"2017-07-24 22\",\"2017-07-24 23\",\"2017-07-25 00\",\"2017-07-25 01\",\"2017-07-25 02\",\"2017-07-25 03\",\"2017-07-25 04\",\"2017-07-25 05\",\"2017-07-25 06\",\"2017-07-25 07\",\"2017-07-25 08\",\"2017-07-25 09\",\"2017-07-25 10\",\"2017-07-25 11\",\"2017-07-25 12\",\"2017-07-25 13\",\"2017-07-25 14\",\"2017-07-25 15\",\"2017-07-25 16\",\"2017-07-25 17\",\"2017-07-25 18\",\"2017-07-25 19\",\"2017-07-25 20\",\"2017-07-25 21\",\"2017-07-25 22\",\"2017-07-25 23\",\"2017-07-26 00\",\"2017-07-26 01\",\"2017-07-26 02\",\"2017-07-26 03\",\"2017-07-26 04\",\"2017-07-26 05\",\"2017-07-26 06\",\"2017-07-26 07\",\"2017-07-26 08\",\"2017-07-26 09\",\"2017-07-26 10\",\"2017-07-26 11\",\"2017-07-26 12\",\"2017-07-26 13\",\"2017-07-26 14\",\"2017-07-26 15\",\"2017-07-26 16\",\"2017-07-26 17\",\"2017-07-26 18\",\"2017-07-26 19\",\"2017-07-26 20\",\"2017-07-26 21\",\"2017-07-26 22\",\"2017-07-26 23\",\"2017-07-27 00\",\"2017-07-27 01\",\"2017-07-27 02\",\"2017-07-27 03\",\"2017-07-27 04\",\"2017-07-27 05\",\"2017-07-27 06\",\"2017-07-27 07\",\"2017-07-27 08\",\"2017-07-27 09\",\"2017-07-27 10\",\"2017-07-27 11\",\"2017-07-27 12\",\"2017-07-27 13\",\"2017-07-27 14\",\"2017-07-27 15\",\"2017-07-27 16\",\"2017-07-27 17\",\"2017-07-27 18\",\"2017-07-27 19\",\"2017-07-27 20\",\"2017-07-27 21\",\"2017-07-27 22\",\"2017-07-27 23\",\"2017-07-28 00\",\"2017-07-28 01\",\"2017-07-28 02\",\"2017-07-28 03\",\"2017-07-28 04\",\"2017-07-28 05\",\"2017-07-28 06\",\"2017-07-28 07\",\"2017-07-28 08\",\"2017-07-28 09\",\"2017-07-28 10\",\"2017-07-28 11\",\"2017-07-28 12\",\"2017-07-28 13\",\"2017-07-28 14\",\"2017-07-28 15\",\"2017-07-28 16\",\"2017-07-28 17\",\"2017-07-28 18\",\"2017-07-28 19\",\"2017-07-28 20\",\"2017-07-28 21\",\"2017-07-28 23\",\"2017-07-29 00\",\"2017-07-29 01\",\"2017-07-29 02\",\"2017-07-29 03\",\"2017-07-29 04\",\"2017-07-29 05\",\"2017-07-29 06\",\"2017-07-29 07\",\"2017-07-29 08\",\"2017-07-29 09\",\"2017-07-29 10\",\"2017-07-29 11\",\"2017-07-29 12\",\"2017-07-29 13\",\"2017-07-29 14\",\"2017-07-29 15\",\"2017-07-29 16\",\"2017-07-29 17\",\"2017-07-29 18\",\"2017-07-29 19\",\"2017-07-29 20\",\"2017-07-29 21\",\"2017-07-29 22\",\"2017-07-29 23\",\"2017-07-30 00\",\"2017-07-30 01\",\"2017-07-30 02\",\"2017-07-30 03\",\"2017-07-30 04\",\"2017-07-30 05\",\"2017-07-30 06\",\"2017-07-30 07\",\"2017-07-30 08\",\"2017-07-30 09\",\"2017-07-30 10\",\"2017-07-30 11\",\"2017-07-30 12\",\"2017-07-30 13\",\"2017-07-30 14\",\"2017-07-30 15\",\"2017-07-30 16\",\"2017-07-30 17\",\"2017-07-30 18\",\"2017-07-30 19\",\"2017-07-30 20\",\"2017-07-30 21\",\"2017-07-30 22\",\"2017-07-30 23\",\"2017-07-31 00\",\"2017-07-31 01\",\"2017-07-31 02\",\"2017-07-31 03\",\"2017-07-31 04\",\"2017-07-31 05\",\"2017-07-31 06\",\"2017-07-31 07\",\"2017-07-31 08\",\"2017-07-31 09\",\"2017-07-31 10\",\"2017-07-31 11\",\"2017-07-31 12\",\"2017-07-31 13\",\"2017-07-31 14\",\"2017-07-31 15\",\"2017-07-31 16\",\"2017-07-31 17\",\"2017-07-31 18\",\"2017-07-31 19\",\"2017-07-31 20\",\"2017-07-31 22\",\"2017-07-31 23\",\"2017-08-01 00\",\"2017-08-01 01\",\"2017-08-01 02\",\"2017-08-01 03\",\"2017-08-01 04\",\"2017-08-01 05\",\"2017-08-01 06\",\"2017-08-01 07\",\"2017-08-01 08\",\"2017-08-01 09\",\"2017-08-01 10\",\"2017-08-01 11\",\"2017-08-01 12\",\"2017-08-01 13\",\"2017-08-01 14\",\"2017-08-01 15\",\"2017-08-01 16\",\"2017-08-01 17\",\"2017-08-01 18\",\"2017-08-01 19\",\"2017-08-01 20\",\"2017-08-01 21\",\"2017-08-01 22\",\"2017-08-01 23\",\"2017-08-02 00\",\"2017-08-02 01\",\"2017-08-02 02\",\"2017-08-02 03\",\"2017-08-02 04\",\"2017-08-02 05\",\"2017-08-02 06\",\"2017-08-02 07\",\"2017-08-02 08\",\"2017-08-02 09\",\"2017-08-02 10\",\"2017-08-02 11\",\"2017-08-02 12\",\"2017-08-02 13\",\"2017-08-02 14\",\"2017-08-02 15\",\"2017-08-02 16\",\"2017-08-02 17\",\"2017-08-02 18\",\"2017-08-02 19\",\"2017-08-02 20\",\"2017-08-02 21\",\"2017-08-02 22\",\"2017-08-02 23\",\"2017-08-03 00\",\"2017-08-03 01\",\"2017-08-03 02\",\"2017-08-03 03\",\"2017-08-03 04\",\"2017-08-03 05\",\"2017-08-03 06\",\"2017-08-03 07\",\"2017-08-03 08\",\"2017-08-03 09\",\"2017-08-03 10\",\"2017-08-03 11\",\"2017-08-03 12\",\"2017-08-03 13\",\"2017-08-03 14\",\"2017-08-03 15\",\"2017-08-03 16\",\"2017-08-03 17\",\"2017-08-03 18\",\"2017-08-03 19\",\"2017-08-03 20\",\"2017-08-03 21\",\"2017-08-03 22\",\"2017-08-03 23\",\"2017-08-04 00\",\"2017-08-04 01\",\"2017-08-04 02\",\"2017-08-04 03\",\"2017-08-04 04\",\"2017-08-04 05\",\"2017-08-04 06\",\"2017-08-04 07\",\"2017-08-04 08\",\"2017-08-04 09\",\"2017-08-04 10\",\"2017-08-04 11\",\"2017-08-04 12\",\"2017-08-04 13\",\"2017-08-04 14\",\"2017-08-04 15\",\"2017-08-04 16\",\"2017-08-04 17\",\"2017-08-04 18\",\"2017-08-04 19\",\"2017-08-04 20\",\"2017-08-04 21\",\"2017-08-04 22\",\"2017-08-04 23\",\"2017-08-05 00\",\"2017-08-05 01\",\"2017-08-05 02\",\"2017-08-05 03\",\"2017-08-05 04\",\"2017-08-05 05\",\"2017-08-05 06\",\"2017-08-05 07\",\"2017-08-05 08\",\"2017-08-05 09\",\"2017-08-05 10\",\"2017-08-05 11\",\"2017-08-05 12\",\"2017-08-05 13\",\"2017-08-05 14\",\"2017-08-05 15\",\"2017-08-05 16\",\"2017-08-05 17\",\"2017-08-05 18\",\"2017-08-05 19\",\"2017-08-05 20\",\"2017-08-05 21\",\"2017-08-05 22\",\"2017-08-05 23\",\"2017-08-06 00\",\"2017-08-06 01\",\"2017-08-06 02\",\"2017-08-06 03\",\"2017-08-06 04\",\"2017-08-06 05\",\"2017-08-06 06\",\"2017-08-06 07\",\"2017-08-06 08\",\"2017-08-06 09\",\"2017-08-06 10\",\"2017-08-06 11\",\"2017-08-06 12\",\"2017-08-06 13\",\"2017-08-06 14\",\"2017-08-06 15\",\"2017-08-06 16\",\"2017-08-06 17\",\"2017-08-06 18\",\"2017-08-06 19\",\"2017-08-06 20\",\"2017-08-06 21\",\"2017-08-06 22\",\"2017-08-06 23\",\"2017-08-07 00\",\"2017-08-07 01\",\"2017-08-07 02\",\"2017-08-07 03\",\"2017-08-07 04\",\"2017-08-07 05\",\"2017-08-07 06\",\"2017-08-07 07\",\"2017-08-07 08\",\"2017-08-07 09\",\"2017-08-07 10\",\"2017-08-07 11\",\"2017-08-07 12\",\"2017-08-07 13\",\"2017-08-07 14\",\"2017-08-07 15\",\"2017-08-07 16\",\"2017-08-07 17\",\"2017-08-07 18\",\"2017-08-07 19\",\"2017-08-07 20\",\"2017-08-07 21\",\"2017-08-07 22\",\"2017-08-08 00\",\"2017-08-08 01\",\"2017-08-08 02\",\"2017-08-08 03\",\"2017-08-08 04\",\"2017-08-08 05\",\"2017-08-08 06\",\"2017-08-08 07\",\"2017-08-08 08\",\"2017-08-08 09\",\"2017-08-08 10\",\"2017-08-08 11\",\"2017-08-08 12\",\"2017-08-08 13\",\"2017-08-08 14\",\"2017-08-08 15\",\"2017-08-08 16\",\"2017-08-08 17\",\"2017-08-08 18\",\"2017-08-08 19\",\"2017-08-08 20\",\"2017-08-08 21\",\"2017-08-08 22\",\"2017-08-08 23\",\"2017-08-09 00\",\"2017-08-09 01\",\"2017-08-09 02\",\"2017-08-09 03\",\"2017-08-09 04\",\"2017-08-09 05\",\"2017-08-09 06\",\"2017-08-09 07\",\"2017-08-09 08\",\"2017-08-09 09\",\"2017-08-09 10\",\"2017-08-09 11\",\"2017-08-09 12\",\"2017-08-09 13\",\"2017-08-09 14\",\"2017-08-09 15\",\"2017-08-09 16\",\"2017-08-09 17\",\"2017-08-09 18\",\"2017-08-09 19\",\"2017-08-09 20\",\"2017-08-09 21\",\"2017-08-09 22\",\"2017-08-09 23\",\"2017-08-10 00\",\"2017-08-10 01\",\"2017-08-10 02\",\"2017-08-10 03\",\"2017-08-10 04\",\"2017-08-10 05\",\"2017-08-10 06\",\"2017-08-10 07\",\"2017-08-10 08\",\"2017-08-10 09\",\"2017-08-10 10\",\"2017-08-10 11\",\"2017-08-10 12\",\"2017-08-10 13\",\"2017-08-10 14\",\"2017-08-10 15\",\"2017-08-10 16\",\"2017-08-10 17\",\"2017-08-10 18\",\"2017-08-10 19\",\"2017-08-10 20\",\"2017-08-10 21\",\"2017-08-10 22\",\"2017-08-10 23\",\"2017-08-11 00\",\"2017-08-11 01\",\"2017-08-11 02\",\"2017-08-11 03\",\"2017-08-11 04\",\"2017-08-11 05\",\"2017-08-11 06\",\"2017-08-11 07\",\"2017-08-11 08\",\"2017-08-11 09\",\"2017-08-11 10\",\"2017-08-11 11\",\"2017-08-11 12\",\"2017-08-11 13\",\"2017-08-11 14\",\"2017-08-11 15\",\"2017-08-11 16\",\"2017-08-11 17\",\"2017-08-11 18\",\"2017-08-11 19\",\"2017-08-11 20\",\"2017-08-11 21\",\"2017-08-11 22\",\"2017-08-11 23\",\"2017-08-12 00\",\"2017-08-12 01\",\"2017-08-12 02\",\"2017-08-12 03\",\"2017-08-12 04\",\"2017-08-12 05\",\"2017-08-12 06\",\"2017-08-12 07\",\"2017-08-12 08\",\"2017-08-12 09\",\"2017-08-12 10\",\"2017-08-12 11\",\"2017-08-12 12\",\"2017-08-12 13\",\"2017-08-12 14\",\"2017-08-12 15\",\"2017-08-12 16\",\"2017-08-12 17\",\"2017-08-12 18\",\"2017-08-12 19\",\"2017-08-12 20\",\"2017-08-12 21\",\"2017-08-12 22\",\"2017-08-12 23\",\"2017-08-13 00\",\"2017-08-13 01\",\"2017-08-13 02\",\"2017-08-13 03\",\"2017-08-13 04\",\"2017-08-13 05\",\"2017-08-13 06\",\"2017-08-13 07\",\"2017-08-13 08\",\"2017-08-13 09\",\"2017-08-13 10\",\"2017-08-13 11\",\"2017-08-13 12\",\"2017-08-13 13\",\"2017-08-13 14\",\"2017-08-13 15\",\"2017-08-13 16\",\"2017-08-13 17\",\"2017-08-13 18\",\"2017-08-13 19\",\"2017-08-13 20\",\"2017-08-13 21\",\"2017-08-13 22\",\"2017-08-13 23\",\"2017-08-14 00\",\"2017-08-14 01\",\"2017-08-14 02\",\"2017-08-14 03\",\"2017-08-14 04\",\"2017-08-14 05\",\"2017-08-14 06\",\"2017-08-14 07\",\"2017-08-14 08\",\"2017-08-14 09\",\"2017-08-14 10\",\"2017-08-14 11\",\"2017-08-14 12\",\"2017-08-14 13\",\"2017-08-14 14\",\"2017-08-14 15\",\"2017-08-14 16\",\"2017-08-14 17\",\"2017-08-14 18\",\"2017-08-14 19\",\"2017-08-14 20\",\"2017-08-14 21\",\"2017-08-14 22\",\"2017-08-14 23\",\"2017-08-15 00\",\"2017-08-15 01\",\"2017-08-15 02\",\"2017-08-15 03\",\"2017-08-15 04\",\"2017-08-15 05\",\"2017-08-15 06\",\"2017-08-15 07\",\"2017-08-15 08\",\"2017-08-15 09\",\"2017-08-15 10\",\"2017-08-15 11\",\"2017-08-15 12\",\"2017-08-15 13\",\"2017-08-15 14\",\"2017-08-15 15\",\"2017-08-15 16\",\"2017-08-15 17\",\"2017-08-15 18\",\"2017-08-15 19\",\"2017-08-15 20\",\"2017-08-15 21\",\"2017-08-15 22\",\"2017-08-15 23\",\"2017-08-16 00\",\"2017-08-16 01\",\"2017-08-16 02\",\"2017-08-16 03\",\"2017-08-16 04\",\"2017-08-16 05\",\"2017-08-16 06\",\"2017-08-16 07\",\"2017-08-16 08\",\"2017-08-16 09\",\"2017-08-16 10\",\"2017-08-16 11\",\"2017-08-16 12\",\"2017-08-16 13\",\"2017-08-16 14\",\"2017-08-16 15\",\"2017-08-16 16\",\"2017-08-16 17\",\"2017-08-16 18\",\"2017-08-16 19\",\"2017-08-16 20\",\"2017-08-16 21\",\"2017-08-16 22\",\"2017-08-16 23\",\"2017-08-17 00\",\"2017-08-17 01\",\"2017-08-17 02\",\"2017-08-17 03\",\"2017-08-17 04\",\"2017-08-17 05\",\"2017-08-17 06\",\"2017-08-17 07\",\"2017-08-17 08\",\"2017-08-17 09\",\"2017-08-17 10\",\"2017-08-17 11\",\"2017-08-17 12\",\"2017-08-17 13\",\"2017-08-17 14\",\"2017-08-17 15\",\"2017-08-17 16\",\"2017-08-17 17\",\"2017-08-17 18\",\"2017-08-17 19\",\"2017-08-17 20\",\"2017-08-17 21\",\"2017-08-17 22\",\"2017-08-17 23\",\"2017-08-18 00\",\"2017-08-18 01\",\"2017-08-18 02\",\"2017-08-18 03\",\"2017-08-18 04\",\"2017-08-18 05\",\"2017-08-18 06\",\"2017-08-18 07\",\"2017-08-18 08\",\"2017-08-18 09\",\"2017-08-18 10\",\"2017-08-18 11\",\"2017-08-18 12\",\"2017-08-18 13\",\"2017-08-18 14\",\"2017-08-18 15\",\"2017-08-18 16\",\"2017-08-18 17\",\"2017-08-18 18\",\"2017-08-18 19\",\"2017-08-18 20\",\"2017-08-18 21\",\"2017-08-18 22\",\"2017-08-18 23\",\"2017-08-19 00\",\"2017-08-19 01\",\"2017-08-19 02\",\"2017-08-19 03\",\"2017-08-19 04\",\"2017-08-19 05\",\"2017-08-19 06\",\"2017-08-19 07\",\"2017-08-19 08\",\"2017-08-19 09\",\"2017-08-19 10\",\"2017-08-19 11\",\"2017-08-19 12\",\"2017-08-19 13\",\"2017-08-19 14\"],\"xaxis\":\"x\",\"y\":[20,10,16,44,29,20,19,14,7,3,2,1,4,7,4,7,6,8,2,4,4,2,2,3,2,3,6,3,7,7,3,1,4,1,1,3,1,3,2,1,1,1,4,2,2,2,4,5,6,1,1,2,1,3,3,2,3,2,1,3,1,1,2,3,6,5,5,2,1,2,2,2,1,3,4,3,3,1,2,1,1,1,2,2,1,2,1,1,1,2,1,1,2,1,2,2,1,1,1,1,1,2,2,2,1,2,1,2,2,1,1,1,1,1,1,2,1,2,3,1,2,1,1,1,1,2,1,1,1,1,1,1,1,2,2,1,1,1,1,1,1,1,1,1,1,1,2,2,1,1,2,2,1,1,1,1,1,1,1,1,1,1,1,2,1,1,1,1,1,1,1,1,1,1,1,1,1,1,1,1,5,3,5,1,2,1,1,1,2,4,3,3,1,2,1,2,2,5,1,5,2,2,1,1,1,2,3,5,8,2,1,5,2,4,2,4,5,12,2,4,1,1,1,1,1,1,2,4,3,5,2,2,5,2,2,4,3,2,4,1,5,1,2,5,4,2,3,3,1,3,3,5,3,6,4,1,5,2,2,1,3,1,4,2,3,3,6,2,2,3,1,2,3,2,4,2,1,1,2,2,2,1,1,4,4,3,4,4,3,5,2,2,1,1,1,1,3,1,3,2,3,5,4,3,1,3,3,2,5,2,2,8,3,1,2,2,1,1,1,1,1,2,2,5,2,3,2,2,1,2,3,2,2,3,2,3,5,1,1,1,2,8,3,1,3,2,1,2,1,3,5,3,4,2,1,4,1,1,1,3,1,1,2,6,1,3,2,6,1,2,4,4,6,3,6,3,1,1,2,3,2,2,1,5,5,4,2,26,27,66,92,63,77,52,22,17,7,6,3,10,17,26,31,23,44,48,56,48,37,36,38,42,47,40,46,46,44,34,13,4,4,2,2,3,12,26,27,25,35,21,19,24,35,15,20,25,39,36,46,25,32,30,14,4,1,5,1,3,5,16,28,34,18,18,26,27,20,23,28,36,23,34,40,34,32,21,11,6,1,3,2,2,16,11,19,15,13,11,15,15,12,12,7,16,16,9,5,19,6,8,15,4,2,1,1,10,10,11,14,14,19,23,22,12,16,16,10,13,17,23,15,11,5,6,3,6,1,2,1,2,5,7,13,14,10,8,12,10,9,7,12,14,8,9,6,13,10,6,3,2,1,5,7,5,7,7,8,9,7,10,12,11,15,12,12,15,11,8,3,5,1,1,6,3,3,3,5,10,9,7,9,6,3,4,6,7,7,7,3,6,2,1,1,6,6,6,8,5,5,7,9,2,9,6,9,13,8,11,4,9,3,1,1,1,3,5,6,5,3,7,4,6,12,7,8,8,7,7,5,2,4,2,2,3,1,5,8,8,7,6,9,4,8,4,7,6,7,4,5,6,12,5,2,1,2,4,3,6,6,5,6,9,4,3,6,5,3,3,9,2,4,1,1,1,1,1,1,1,2,6,3,5,5,4,1,3,4,3,6,3,4,2,2,1,2,2,2,4,3,7,3,2,3,3,6,1,7,4,3,7,4,3,2,3,1,3,4,4,3,5,2,7,9,2,4,4,6,1,4,3,3,3,1,1,1,2,2,3,2,4,3,4,4,2,2,1,4,2,7,5,6,4,1,2,1,6,1,1,4,3,5,4,1,3,3,6,5,4,2,2,2,1,1,2,3,4,9,5,3,3,5,4,1,3,4,4,3,4,6,2,2,1,1,2,2,3,4,3,4,4,2,4,6,5,1,3,5,1,2,2,1,2,1,4,4,5,4,4,1,2,3,5,5,10,9,4,4,1,4,1,1,1,2,5,2,4,3,4,2,2,5,5,7,3,3,6,4,3,1,3,1,1,4,2,2,7,4,3,6,5,4,5,5,2,6,3,5,1,2,1,2,1,1,3,1,2,3,1,3,1,1,3,2,1,4,2,4,4,2,2,2,1,3,2,3,4,3,3,3,4,1,2,5,5,2,4,3,3,3,1,2,1,1,3,1,1,1,2,2,3,4,1,1,1,6,2,2,1,1,2,1,1,3,7,4,4,4,3,2,2,3,4,3,3,6,2,2,2,1,1,2,2,1,3,2,1,2,2,2,2,4,3,2,2,1,1,1,5,1,2,1,2,1,1,1,3,1,1,2,1,1,3,4,1,1,1,1,1,2,3,1,1,2,1,1,2,2,1,5,4,2,2,2,1,4,1,3,3,1,1,1,1,1,3,2,1,2,1,1,2,3,1,1,3,1,1,1,1,1,2,1,4,2,2,1,4,1,2,1,2,4,1,5,2,1,3,3,4,1,1,2,1,2,1,3,1,1,2,1,2,2,1,3,2,2,1,2,1,1,1,6,3,5,2,3,3,3,1,3,1,5,4,2,1,2,1,1,2,4,5,4,2,2,1,1,3,1,2,4,2,1,1,1,4,3,3,1,2,5,2,1,3,4,2,4,3,1,2,2,2,1,2,2,1,2,2,5,1,1,3,1,2,1,3,4,2,1,6,3,1,2,1,2,3,1,4,2,3,2,5,1,1,1,4,2,2,1,1,3,2,3,2,2,2,5,2,1,4,3,3,2,3,1,2,2,5,4,1,2,1,1,2,2,4,7,7,5,2,1,1,2,2,3,4,2,5,3,1,2,4,2,5,2,3,2,4,1,2,3,4,5,3,1,2,2,6,2,4,5,1,2,3,2,2,4,2,6,4,4,3,4,3,2,6,7,4,8,5,1,1,2,1,1,3,5,6,7,1,6,3,4,3,3,7,2,6,4,6,5,1,1,2,4,3,2,2,5,2,1,2,2,3,2,2,1,6,5,4,2,1,2,3,4,2,3,3,5,8,3,2,1,1,5,5,6,1,4,4,4,2,5,5,6,5,4,3,1,4,4,2,4,6,7,2,4,1,1,1,1,3,5,5,7,3,3,2,4,5,4,5,2,2,6,3,2,1,2,3,3,4,2,1,2,4,1,3,3,5,3,3,4,1,2,1,1,1,2,1,2,1,3,1,3,4,2,3,10,3,3,3,3,3,5,2,3,3,1,3,2,6,2,2,3,3,3,4,4,3,4,2,7,3,4,2,1,2,2,1,5,4,1,4,1,3,4,3,5,3,2,3,4,3,4,3,4,1,1,2,2,1,3,2,4,8,4,3,3,2,3,2,4,2,1,4,7,2,4,2,1,2,1,2,3,2,3,10,9,2,5,5,5,3,4,5,6,7,4,7,3,2,1,2,1,10,8,3,7,3,8,4,7,6,5,11,8,13,8,11,4,5,2,1,1,5,3,8,8,25,17,35,25,18,13,19,80,54,42,34,25,11,3,3,1,4,3,8,10,17,21,20,25,23,17,21,16,18,22,15,19,26,27,19,13,2,5,2,2,1,2,20,25,22,12,15,21,19,13,20,19,26,18,22,18,13,19,13,9,20,7,2,3,7,14,13,9,24,23,23,16,20,22,9,10,27,15,18,19,24,12,7,4,1,2,8,8,11,16,22,16,31,22,31,25,30,23,22,31,41,34,13,16,7,11,3,2,1,6,7,13,18,14,16,19,21,26,28,22,28,16,22,32,36,34,28,11,9,5,3,3,6,4,10,20,26,29,24,22,19,14,19,27,25,24,26,26,30,31,21,15,3,4,4,3,1,4,7,7,13,21,23,18,18,33,24,25,24,25,23,33,33,43,25,17,11,4,3,1,3,12,18,27,22,27,35,33,33,34,40,45,28,29,43,60,70,58,49,32,14,9,3,3,4,8,15,17,33,27,32,45,36,36,50,37,44,47,47,61,46,52,50,38,9,8,9,5,7,10,14,38,42,48,54,46,41,47,47,43,44,51,62,63,80,68,49,19,14,7,5,2,5,11,22,28,49,52,43,43,50,55,52,51,58,43,46,45,51,72,46,32,16,9,1,2,5,4,29,23,38,40,57,51,59,63,61,77,77,70,88,90,91,75,66,33,42,14,9,8,9,12,35,63,57,83,74,87,75,76,55,71,82,83,86,97,116,127,90,44,38,6,8,1,10,24,34,52,65,71,68,77,87,68,64,73,76,70,74,80,85,78,36,41,33,13,7,5,7,20,36,46,46,53,78,58,73,84,93,78,80,80,79,94,105,93,91,42,18,14,9,3,3,15,25,43,54,52,68,71,70,56,49,73,51,66,69,77,101,70,61,54,24,12,12,3,4,16,30,36,57,67,87,62,74,69,64,71,79,75,82,82,91,90,69,44,21,13,9,4,3,10,21,55,62,58,70,64,75,60,78,72,65,64,70,60,78,61,46,31,20,17,7,6,6,13,23,42,42,59,63,70,69,55,64,52,27,51,53,47,50,56,51,25,18,9,8,4,6,12,22,37,78,59,75,96,86,98,91,83,100,124,106,125,126,117,110,63,38,9,10,8,5,10,32,87,115,137,138,115,103,108,86,87,80,87,108,115,126,170,84,56,42,25,11,11,13,19,79,170,212,232,237,201,177,160,149,171,176,186,175,192,173,168,113,91,44,27,14,16,9,24,64,97,130,146,153,163,147,150,153,163,128,143,182,136,139,111,84,60,38,15,19,8,11,29,56,103,178,199,191,206,165,184,179,167,161,157,160,192,161,165,174,109,40,21,11,3,6,19,33,77,93,106,139,114,145,95,112,88,99,103,119,121,96,62,44,31,25,9,7,7,8,17,37,40,63,65,92,104,90,92,93,91,85,84,90,104,112,103,87,50,23,11,11,7,6,11,28,40,63,61,71,76,81,77,59,88,89,92,112,123,146,132,83,42,18,13,6,4,8,14,33,47,73,78,75,79,63,71,67,63,60,84,77,72,95,98,76,43,22,11,7,4,4,16,28,54,55,65,71,67,86,98,68,72,73,109,103,124,100,95,78,51,26,18,7,10,8,12,18,45,54,60,67,72,71,80,49,70,69,75,88,93,76,88,73,45,13,4,4,3,7,16,21,39,58,69,66,87,71,93,75,52,59,87,93,102,100,71,66,43,21,12,12,7,8,13,24,40,56,75,100,95,110,75,64,82,80,98,102,115,108,102,72,63,24,13,10,5,7,9,32,59,62,80,85,95,96,100,82,108,99,108,113,103,118,108,83,46,28,19,7,7,8,9,28,46,61,85,75,106,104,90,96,85,106,108,135,125,111,122,100,60,30,17,8,6,8,23,28,68,65,99,79,90,88,102,94,90,99,108,123,133,115,124,98,66,35,21,5,13,6,13,31,55,99,93,92,113,90,117,113,103,107,118,98,114,124,106,89,53,26,14,13,7,6,12,30,66,95,143,118,139,110,110,115,116,192,171,158,212,180,117,102,114,91,37,24,18,8,41,65,110,152,145,153,157,126,70,47,53,59,69,62,143,106,91,80,41,31,23,23,12,11,19,20,41,47,86,72,75,76,86,86,74,80,90,92,94,80,110,78,50,24,13,6,3,9,15,26,50,70,74,76,63,85,78,69,84,73,81,83,105,106,103,95,70,31,15,7,7,11,9,19,34,58,68,80,105,70,73,84,76,78,80,84,100,93,101,87,69,20,10,9,7,4,18,36,61,86,81,86,99,112,89,88,102,83,90,107,102,94,113,88,59,24,10,4,6,1,13,25,48,85,85,89,92,77,67,110,85,78,80,102,106,114,114,107,62,29,7,5,7,5,11,28,62,84,84,102,95,93,95,84,99,106,100,118,106,107,112,90,60,23,11,5,10,7,21,27,51,51,66,70,55,82,85,85,88,78,79,91,86,82,91,78,50,16,15,9,3,5,18,28,51,69,91,94,90,89,93,91,79,82,84,88,91,80,95,62,43,18,16,5,2,4,10,26,32,51,57,68,73,57,55,53,56,61,70,80,109,89,88,67,37,17,4,7,7,1,11,30,46,39,71,55,60,67,54,60,59,52,67,75,90,84,82,73,38,25,10,2,6,5,9,29,45,47,45,75,109,62,84,75,67,81,75,100,83,100,83,71,40,22,11,3,7,5,14,33,30,48,69,47,74,56,68,64,60,62,81,74,96,92,73,64,34,29,16,3,7,7,7,16,46,65,65,67,70,69,69,68,67,61,72,68,91,67,73,76,53,32,14,9,9,5,14,28,41,69,57,58,86,81,72,57,69,71,64,65,85,52,82,59,45,30,15,6,6,4,9,22,33,59,60,78,82,63,70,86,55,50,84,80,83,79,78,71,49,18,9,3,4,4,6,13,42,48,46,52,48,55,41,49,47,67,53,63,64,66,63,43,37,17,11,6,7,5,6,17,31,23,34,37,53,52,37,46,51,46,52,50,53,66,52,51,35,17,8,8,1,5,9,13,22,37,40,32,43,29,50,51,38,44,65,46,63,52,56,37,28,7,8,3,1,3,3,11,24,44,36,44,43,37,38,37,33,38,44,48,56,34,39,35,34,13,9,6,4,7,9,15,25,36,30,43,55,48,40,39,39,50,37,52,50,54,51,35,32,16,10,3,1,3,5,12,23,38,30,38,46,40,44,56,43,41,58,52,49,38,52,46,28,17,4,2,3,3,6,18,32,35,58,49,60,44,32,34,26,39,47,43,38,45,40,42,24,5,5,7,2,2,5,16,12,25,41,37,45,43,38,45,39,38,45,49,62,49,49,36,26,15,8,4,3,6,6,11,29,26,27,29,51,53,42,32,42,33,39,42,47,57,49,36,18,13,5,3,1,2,7,13,35,52,45,55,60,55,37,45,48,58,51,62,51,49,61,44,31,15,12,4,7,6,5,12,13,33,34,37,47,37,42,33,47,38,43,48,48,45,40,33,26,10,5,3,3,8,15,25,26,24,52,43,33,29,30,37,35,41,47,46,53,55,36,26,11,5,6,6,3,8,6,25,27,31,55,34,54,39,36,46,42,46,37,59,30,48,37,29,10,1,7,1,2,5,14,22,21,37,41,45,49,32,40,41,38,49,36,37,43,26,27,20,8,3,3,3,4,7,19,37,27,24,40,25,36,39,59,36,40,39,38,45,41,37,19,8,6,2,1,2,3,8,16,30,24,22,30,26,36,27,32,30,32,49,40,47,47,38,25,13,8,4,1,1,5,15,29,38,33,35,26,40,27,40,32,33,36,26,38,36,38,29,20,8,2,4,1,3,16,18,21,40,34,35,29,31,30,24,30,31,45,33,44,25,33,23,8,5,3,1,1,7,10,20,24,24,26,27,36,41,23,28,28,32,39,33,35,41,33,21,15,10,3,1,6,12,20,24,28,31,32,30,39,31,34,29,42,40,23,34,38,30,29,11,6,2,3,3,5,5,16,19,23,25,35,29,32,28,38,36,24,32,30,34,26,24,15,4,3,1,1,3,2,5,16,16,25,19,31,27,35,25,18,36,39,33,34,37,35,24,16,9,6,1,3,3,7,17,20,15,27,31,33,21,23,24,27,25,32,31,37,23,36,21,7,6,1,2,5,9,14,20,24,35,33,35,24,31,25,20,32,30,24,19,34,29,16,8,5,1,2,1,2,4,12,18,15,24,29,32,24,19,24,27,22,19,27,29,33,23,21,6,1,1,2,1,4,8,14,15,24,24,16,16,16,19,26,25,17,24,22,35,22,17,11,3,2,2,1,2,2,7,11,17,19,18,19,20,25,21,20,18,33,18,22,16,19,23,8,10,8,1,2,1,3,8,19,15,27,19,24,26,21,21,22,28,23,28,33,23,28,22,12,6,3,5,3,1,2,7,8,21,20,22,20,22,16,19,24,27,30,30,48,29,35,22,10,6,4,2,1,4,21,18,21,27,21,17,24,26,28,21,21,24,25,33,11,16,12,8,2,1,1,2,5,2,11,19,28,15,22,21,18,16,17,16,22,19,27,24,26,20,9,5,7,1,3,2,4,13,14,15,17,12,20,11,22,26,19,19,35,16,24,27,16,19,7,2,2,1,2,4,5,12,17,18,21,22,18,16,28,21,21,13,29,22,28,27,12,14,13,7,4,2,5,11,24,29,40,49,44,37,39,45,43,44,40,42,19,39,34,30,19,16,12,6,4,2,6,15,32,29,44,38,50,35,24,41,29,40,34,43,36,33,26,31,20,14,6,1,1,4,9,11,10,27,33,27,30,29,24,21,25,20,27,27,36,36,39,30,30,7,4,4,3,5,9,9,29,28,34,45,35,19,31,40,36,42,46,44,39,62,70,48,4,6,4,1,4,12,24,27,25,26,21,27,29,25,18,34,31,29,36,31,37,33,14,6,4,1,1,1,4,9,13,19,28,23,23,23,17,31,25,26,38,22,32,32,21,27,19,9,1,1,5,5,11,21,33,23,23,20,21,11,21,18,20,23,35,21,34,18,9,7,3,2,4,3,3,15,19,16,23,29,29,20,24,21,18,15,30,26,23,25,18,15,3,8,5,2,2,3,5,14,14,15,23,20,25,26,15,19,19,22,21,27,24,25,22,25,11,2,2,1,6,11,15,13,21,29,32,13,28,20,19,22,18,29,30,42,29,27,23,5,3,3,3,5,11,18,21,24,30,25,18,26,20,14,19,23,28,21,21,22,13,6,2,1,2,6,8,9,17,23,24,30,28,33,27,41,34,36,37,46,31,43,35,32,12,6,2,2,2,5,16,24,23,26,39,31,37,42,26,27,26,26,39,36,46,27,39,20,13,3,6,1,2,2,13,18,20,36,27,33,47,31,37,27,34,36,41,34,32,39,32,22,15,3,5,3,10,8,21,28,40,38,38,43,25,45,45,23,40,41,39,39,39,33,20,14,4,3,2,1,8,22,20,29,30,51,48,28,36,39,32,35,36,38,30,31,24,20,9,5,3,1,1,7,16,20,26,31,42,36,34,29,24,41,42,37,60,61,49,26,16,8,3,3,4,2,6,14,25,35,37,52,41,41,49,33,36,39,41,40,28,43,52,37,21,10,4,4,3,1,7,12,21,31,24,44,38,38,34,29,38,32,31,38,48,63,51,36,11,7,4,1,2,5,5,11,14,31,25,33,28,41,59,36,44,49,37,45,40,44,48,51,23,9,11,2,3,2,7,20,26,35,41,57,34,43,46,58,75,114,111,87,96,85,70,43,28,13,2,5,2,6,17,45,35,50,65,74,58,56,66,56,54,42,57,53,47,42,30,16,10,8,2,2,4,8,14,22,44,40,72,50,64,50,48,46,52,44,34,44,49,25,27,19,7,3,2,2,3,6,15,32,29,51,58,58,53,37,43,44,44,47,50,63,52,55,28,16,9,9,2,2,7,15,32,40,50,58,58,58,55,56,49,52,50,62,69,82,61,59,22,3,6,2,4,1,3,20,22,35,36,58,45,53,32,36,51,58,55,60,65,80,55,36,28,13,6,3,2,2,1,23,30,35,44,49,56,48,79,73,43,51,69,65,78,83,84,62,26,7,4,3,3,3,5,20,14,30,29,36,21,23,32,34,24,37,33,33,39,42,27,23,7,4,3,1,5,13,13,22,24,19,24,31,26,30,25,25,27,26,34,29,38,16,8,4,1,3,1,1,3,11,18,22,22,27,28,12,33,22,15,21,34,22,33,25,25,15,4,10,4,1,1,3,5,11,15,13,28,23,15,29,21,23,24,27,28,33,27,33,21,17,15,12,1,3,2,2,12,7,17,21,19,27,25,23,29,20,25,29,30,41,40,25,31,12,8,2,1,3,1,3,11,16,23,18,31,41,30,39,25,24,28,37,31,45,34,32,24,12,11,5,2,1,5,1,9,19,39,35,35,28,19,24,23,51,58,49,43,39,44,32,25,10,5,2,6,8,22,25,28,33,32,46,50,48,46,29,50,64,47,63,42,32,28,14,3,5,5,6,7,5,23,31,40,37,61,47,41,66,42,48,44,44,49,44,50,49,35,21,9,2,4,4,6,9,24,27,46,53,73,50,62,57,50,45,56,67,54,44,52,50,25,15,7,2,1,2,7,13,22,27,38,36,44,50,45,49,50,47,40,62,32,60,70,38,27,14,4,1,2,2,7,17,21,43,55,58,61,61,50,51,55,49,64,61,74,73,83,82,45,23,9,8,2,3,6,23,45,44,51,63,52,46,57,61,52,54,62,45,57,60,45,46,32,19,12,5,1,5,8,26,38,58,53,67,78,79,78,53,79,75,78,68,64,78,122,70,52,37,18,12,9,9,14,28,84,105,111,125,92,95,77,92,114,121,99,64,96,92,111,97,47,19,11,6,4,6,9,12,20,34,57,54,55,32,37,47,44,25,44,77,67,66,65,48,35,19,13,8,1,5,8,19,30,42,62,73,63,52,45,61,55,76,81,50,59,66,69,64,32,12,4,1,5,4,4,7,34,25,31,47,40,36,34,26,35,43,43,45,40,54,55,39,23,13,4,5,4,3,9,14,27,41,31,32,29,38,29,35,30,40,39,43,43,39,30,40,26,12,8,6,2,7,9,20,29,40,40,38,49,32,41,53,46,34,48,27,51,64,38,26,16,1,3,3,5,4,17,29,46,41,44,41,43,35,38,31,26,29,38,41,51,50,44,45,12,13,3,3,1,8,18,27,29,12,41,48,44,53,72,56,69,82,54,51,45,49,59,39,31,10,5,2,5,8,18,40,53,74,75,89,66,71,56,58,48,60,55,58,47,48,60,37,14,10,1,4,1,9,14,24,30,38,68,62,66,41,57,42,33,53,38,53,43,59,44,36,18,9,2,2,1,5,11,26,36,41,49,38,37,25,28,42,40,34,39,49,41,44,59,37,14,8,3,3,2,2,15,27,42,44,36,35,36,40,37,35,44,47,48,43,56,57,60,19,12,6,3,3,3,5,17,15,38,36,52,45,40,35,36,30,41,51,44,43,42,37,39,23,22,12,8,2,3,5,15,23,39,20,36,40,36,39,43,36,45,32,50,51,40,50,55,44,13,9,2,1,5,6,12,32,41,57,64,55,62,58,62,60,59,44,40,40,36,55,39,31,15,7,5,1,15,18,39,49,55,45,56,47,51,52,45,48,42,39,58,62,60,50,30,17,7,4,4,7,15,23,34,54,59,52,63,68,57,46,49,38,41,60,45,49,47,18,22,8,6,1,4,3,22,29,36,42,61,53,49,50,47,50,52,58,46,52,61,55,59,37,21,9,9,1,1,14,19,29,45,53,51,52,47,56,40,62,58,57,55,63,56,62,43,36,17,10,9,3,3,11,18,24,38,67,54,60,51,60,63,49,82,79,49,63,66,71,61,38,14,8,1,2,6,5,23,33,52,50,49,68,51,64,51,51,56,44,38,53,53,52,46,28,21,8,6,3,1,14,18,28,41,57,49,57,56,43,54,44,47,49,48,38,52,48,43,34,13,9,2,3,9,21,26,24,38,46,54,47,33,58,47,42,50,43,43,47,60,44,25,20,8,4,3,4,7,10,32,31,50,38,63,67,49,48,42,28,52,50,42,54,52,38,29,9,3,2,3,3,11,34,33,40,59,50,45,37,57,49,44,73,59,61,65,74,43,44,18,7,2,3,9,38,79,76,116,107,72,87,75,59,83,77,63,57,73,103,95,73,39,21,12,4,2,16,26,67,54,81,73,91,72,59,78,62,75,55,72,70,69,57,55,34,22,10,5,1,3,12,17,40,41,48,53,65,61,54,64,60,56,63,42,43,43,51,46,30,12,6,2,1,3,6,15,29,33,44,58,53,62,46,55,48,51,40,46,69,70,52,43,34,13,11,13,4,7,12,10,22,51,56,67,58,56,53,41,41,32,43,37,49,36,29,31,25,11,3,4,2,1,5,12,18,25,33,43,48,50,47,49,39,27,30,43,39,34,45,44,24,11,3,3,1,3,18,22,31,34,48,53,50,54,55,50,37,40,50,52,45,40,48,24,16,5,3,3,3,5,19,22,40,58,54,53,63,66,54,62,76,58,53,61,56,57,54,42,15,9,5,2,6,8,19,31,34,45,57,45,49,49,48,53,55,66,62,62,30,68,34,20,7,9,6,3,4,6,18,45,47,62,68,68,67,70,72,73,61,48,50,66,59,76,53,29,19,11,8,1,6,4,23,43,43,65,56,61,70,68,58,56,74,70,62,69,57,55,58,31,25,11,2,2,4,7,22,30,59,52,69,65,63,60,59,65,58,60,68,57,70,52,39,35,24,7,3,1,2,8,9,25,37,40,49,54,89,70,68,44,67,52,49,67,63,38,32,19,7,10,4,3,3,6,17,31,48,58,62,70,60,50,52,37,35,47,63,55,60,56,63,36,11,9,7,2,4,10,11,37,45,56,64,63,68,58,73,55,34,29,47,68,56,61,52,41,16,5,4,1,3,6,15,43,44,51,42,57,57,58,51,57,44,56,56,54,66,55,42,27,22,8,7,6,2,9,25,37,41,47,59,51,48,58,44,48,35,44,88,85,69,79,60,40,19,15,2,5,2,5,19,39,68,56,78,78,78,61,54,63,59,57,59,62,65,61,52,26,19,7,7,3,5,13,21,30,59,65,76,76,64,65,62,54,58,60,62,53,78,62,57,88,194,132,59,23,16,28,50,103,147,149,94,79,102,90,73,95,79,73,79,74,104,87,91,73,58,34,16,8,7,14,30,54,154,190,190,110,99,154,185,104,185,119,133,126,145,98,172,70,35,19,6,10,9,12,27,41,65,90,180,305,209,178,88,87,77,75,145,115,206,152,93,46,37,14,7,2,8,12,35,51,72,89,222,193,180,174,80,93,74,71,152,196,161,97,84,43,43,8,15,5,5,16,33,131,182,230,241,159,107,87,183,99,90,118,96,110,248,146,111,82,26,8,2,4,7,14,21,113,151,166,182,142,140,136,123,113,109,115,122,108,106,94,101,70,25,19,7,6,4,17,36,60,83,89,98,98,91,97,96,103,103,95,106,104,87,66,52,22,11,8,5,5,2,8,13,36,81,105,104,119,99,81,84,78,83,73,62,72,103,80,74,29,17,14,6,5,8,17,24,30,55,64,78,93,80,49,62,77,82,65,87,69,91,80,66,34,21,7,7,2,3,10,28,27,58,87,62,75,87,77,74,86,69,77,79,83,98,80,47,39,8,7,5,4,1,8,17,30,49,69,92,73,71,69,63,56,52,66,68,64,66,52,52,25,27,16,5,4,7,17,33,35,61,73,83,60,89,70,70,74,72,53,63,86,65,79,43,28,13,8,3,2,5,16,42,54,65,61,70,65,66,66,55,58,61,57,59,57,54,36,31,16,6,7,4,2,4,19,30,45,55,62,60,62,54,63,58,58,49,82,67,61,62,48,36,14,7,2,1,4,5,11,40,45,51,80,63,66,62,61,56,44,59,53,51,61,54,51,38,29,12,5,2,4,14,18,41,61,68,89,83,105,72,74,87,81,85,67,95,79,90,86,54,21,15,4,3,8,14,20,41,62,72,97,86,103,68,70,69,69,72,85,79,103,82,85,40,30,16,4,6,6,12,37,55,68,89,102,88,96,94,92,82,92,79,96,107,98,118,110,55,23,15,6,7,14,20,27,61,57,78,62,59,70,63,56,71,60,77,85,84,105,62,28,16,11,5,6,6,16,25,41,52,88,73,98,76,63,72,72,62,84,79,92,83,80,61,48,20,11,5,5,7,13,19,34,64,58,61,78,90,74,66,60,61,69,71,66,69,62,36,24,14,10,11,6,6,20,35,58,59,59,73,75,74,55,62,40,52,53,40,49,41,44,28,15,7,3,2,6,5,21,33,47,59,59,73,66,62,52,66,61,86,72,81,76,85,51,22,7,8,4,5,5,10,21,33,58,77,82,71,64,67,64,58,53,64,68,64,93,62,50,42,17,4,5,3,5,12,14,34,49,56,60,64,72,50,65,42,36,60,65,86,60,83,51,29,7,7,7,4,7,12,24,35,57,76,61,64,35,46,58,44,49,55,56,76,48,44,25,23,23,9,1,3,9,7,20,34,52,55,75,74,79,58,63,58,53,71,56,59,55,53,41,24,8,8,8,3,10,14,23,50,58,77,61,53,66,48,25,47,55,59,78,52,51,35,14,14,3,3,3,7,21,34,42,44,65,73,63,66,64,54,54,71,60,82,58,59,42,42,17,9,6,3,3,12,19,34,46,57,58,50,60,53,56,45,41,36,64,58,59,45,49,20,9,6,7,1,4,10,25,29,53,53,58,47,64,50,42,50,44,48,52,56,67,52,57,18,17,5,3,1,2,10,23,34,52,40,54,54,55,57,44,50,50,40,49,59,58,53,33,22,12,2,4,2,9,23,23,40,41,54,65,56,37,32,42,29,44,33,65,60,50,51,20,18,6,4,5,5,12,20,32,34,72,64,58,49,42,40,45,48,47,57,68,43,47,38,21,8,5,4,3,6,15,22,43,44,68,68,56,72,55,42,59,55,43,52,40,61,31,22,9,2,3,6,5,5,12,30,45,55,62,66,46,61,33,43,39,32,54,46,30,39,38,25,5,5,2,2,10,6,15,21,39,56,52,47,51,43,56,45,32,46,44,59,54,59,38,36,13,5,5,3,3,6,14,10,40,55,47,37,54,52,54,47,54,43,55,47,63,51,52,24,10,4,1,4,9,3,13,33,32,46,57,44,47,40,46,40,63,49,52,51,61,46,40,22,8,4,1,4,4,13,24,37,43,45,49,36,34,47,30,52,38,53,48,49,49,45,31,13,9,6,3,3,9,20,29,35,45,49,47,41,47,43,48,44,47,47,32,63,73,60,44,35,15,8,5,7,11,22,23,45,59,56,82,72,59,59,65,42,66,70,68,60,63,52,34,24,15,2,3,2,8,20,25,41,61,74,69,76,62,53,48,44,46,64,48,56,53,40,38,25,21,5,4,4,4,6,22,42,61,61,56,67,60,56,52,49,60,62,77,58,57,45,34,10,11,1,2,2,7,16,28,51,68,65,57,40,56,51,52,51,36,43,47,63,60,51,18,11,6,2,1,3,6,11,29,41,48,43,51,43,38,52,44,52,54,56,58,53,47,44,20,8,6,2,1,1,9,21,31,41,39,66,47,35,46,48,38,48,38,54,55,35,47,49,25,14,6,2,2,3,7,20,25,37,55,55,48,53,47,51,37,57,42,54,55,66,48,51,23,14,7,2,2,9,12,30,57,52,50,59,61,41,57,50,42,39,55,56,56,32,24,24,16,9,4,1,1,6,11,30,39,58,62,74,64,57,40,34,47,51,36,59,58,45,38,25,17,4,1,2,1,9,15,15,33,50,36,50,44,46,45,55,43,55,44,50,62,63,36,21,10,4,6,2,2,3,15,27,38,52,62,58,46,48,44,38,57,58,66,50,74,58,52,30,11,6,2,2,6,6,15,34,43,57,58,48,57,47,40,40,39,49,52,66,66,58,42,18,8,9,1,1,1,6,13,27,46,50,58,56,55,52,49,52,53,57,54,67,53,53,67,30,19,2,1,3,5,17,29,47,51,45,64,54,48,48,48,40,67,52,58,50,50,32,21,7,5,3,1,1,9,17,27,35,71,62,73,52,58,61,47,39,45,47,48,44,49,32,29,13,10,2,1,11,18,27,48,42,52,69,61,39,46,36,45,58,51,65,55,40,29,18,17,3,3,1,4,7,15,24,34,39,56,40,28,31,48,40,28,48,38,56,53,50,46,27,9,6,4,2,1,9,17,31,50,50,48,46,47,39,45,52,38,51,49,43,54,54,45,14,10,10,2,3,7,6,11,35,37,43,44,44,45,33,44,36,35,31,38,54,51,67,43,30,15,8,3,3,3,3,21,18,48,51,43,42,32,33,46,34,45,47,55,52,60,50,52,41,12,3,3,1,3,7,16,31,41,55,49,48,46,44,35,39,36,49,42,37,53,62,36,24,11,5,3,2,2,8,19,40,49,55,63,45,37,40,35,46,28,47,50,44,49,39,37,20,13,4,9,2,2,6,13,17,28,45,50,54,35,42,30,40,32,35,28,58,52,45,45,27,15,6,1,1,3,1,15,30,34,46,51,51,46,57,40,42,37,58,54,60,74,53,44,23,11,2,3,2,8,18,24,32,43,53,55,50,38,41,43,44,39,47,50,63,62,31,29,11,7,3,3,4,11,21,25,38,41,49,54,62,40,45,50,45,36,57,43,56,56,62,39,15,5,2,2,4,5,15,29,34,42,52,58,36,42,36,38,53,50,55,55,55,64,40,33,16,6,2,1,3,6,9,22,27,59,49,48,39,37,54,57,39,48,50,63,56,54,38,38,12,12,5,3,4,5,21,33,58,62,54,78,65,54,61,67,54,51,52,62,62,47,57,33,14,4,3,4,3,7,17,22,44,69,70,74,53,70,58,63,62,46,55,48,54,47,33,19,11,1,1,1,5,15,24,39,60,44,54,45,38,54,34,48,53,51,63,69,42,48,20,18,3,2,5,1,11,26,25,46,56,54,63,55,58,51,41,53,43,57,58,71,66,47,22,8,7,3,1,2,7,12,34,49,63,63,55,74,58,70,50,46,62,63,61,84,62,55,20,18,4,2,3,5,15,15,57,64,70,63,66,42,55,55,53,56,73,65,91,87,81,50,29,9,5,4,4,1,9,19,46,45,60,65,62,58,62,64,53,51,47,70,69,58,55,60,32,15,6,4,1,14,27,41,69,58,63,72,67,67,64,56,41,50,61,59,61,58,55,31,19,11,3,3,2,6,21,40,46,51,57,64,62,56,41,47,50,65,56,66,60,49,44,22,13,4,1,1,2,10,20,29,18,43,58,48,86,112,112,71,78,90,87,112,91,90,81,46,22,1,6,3,14,18,33,55,54,64,61,71,47,59,49,67,69,52,59,79,80,67,38,15,10,4,1,9,10,23,42,44,59,71,60,74,48,51,49,61,52,64,110,93,74,57,36,18,9,1,3,2,9,23,57,51,70,78,63,64,56,60,54,69,79,75,82,71,65,46,20,17,9,2,3,4,1,12,46,51,42,61,61,54,64,56,61,62,78,60,61,64,69,50,34,13,4,2,4,7,11,21,39,64,60,71,77,66,78,49,60,56,56,54,75,53,68,47,32,19,5,4,2,3,5,14,38,52,63,64,66,56,50,63,58,46,64,69,65,55,57,42,22,21,7,4,3,3,6,16,43,50,70,63,71,49,41,55,54,52,58,66,40,36,56,57,28,15,4,1,3,6,23,33,61,67,68,70,66,66,53,55,57,63,52,89,69,63,65,29,17,8,7,2,4,6,27,33,51,61,65,62,54,62,52,59,59,76,85,85,91,96,58,43,25,11,4,3,3,16,20,32,62,70,81,96,70,60,64,64,61,68,76,65,97,87,71,51,20,6,1,2,4,15,25,39,74,70,76,72,75,76,75,52,56,72,84,81,86,95,54,38,17,7,7,5,6,9,26,45,79,73,105,106,88,85,74,81,64,62,58,69,89,72,57,39,13,8,3,2,5,4,18,43,62,97,95,94,90,100,58,76,66,84,83,80,71,84,63,32,15,9,5,4,1,13,38,54,85,121,120,131,126,133,116,131,149,182,194,164,216,201,155,89,54,19,10,8,10,27,72,114,162,296,277,302,214,221,212,198,227,231,136,146,144,216,293,187,82,37,9,8,8,34,86,175,209,290,329,381,349,353,346,293,332,333,351,337,325,437,355,237,96,33,9,9,15,36,98,186,237,337,342,366,301,304,245,288,286,287,311,279,343,328,237,153,63,27,14,8,5,38,86,152,208,278,281,269,215,194,239,206,231,213,227,259,256,226,165,95,63,20,6,6,3,24,67,98,141,188,196,173,187,188,179,153,152,157,163,94],\"yaxis\":\"y\",\"type\":\"scattergl\"}],                        {\"template\":{\"data\":{\"bar\":[{\"error_x\":{\"color\":\"#2a3f5f\"},\"error_y\":{\"color\":\"#2a3f5f\"},\"marker\":{\"line\":{\"color\":\"#E5ECF6\",\"width\":0.5},\"pattern\":{\"fillmode\":\"overlay\",\"size\":10,\"solidity\":0.2}},\"type\":\"bar\"}],\"barpolar\":[{\"marker\":{\"line\":{\"color\":\"#E5ECF6\",\"width\":0.5},\"pattern\":{\"fillmode\":\"overlay\",\"size\":10,\"solidity\":0.2}},\"type\":\"barpolar\"}],\"carpet\":[{\"aaxis\":{\"endlinecolor\":\"#2a3f5f\",\"gridcolor\":\"white\",\"linecolor\":\"white\",\"minorgridcolor\":\"white\",\"startlinecolor\":\"#2a3f5f\"},\"baxis\":{\"endlinecolor\":\"#2a3f5f\",\"gridcolor\":\"white\",\"linecolor\":\"white\",\"minorgridcolor\":\"white\",\"startlinecolor\":\"#2a3f5f\"},\"type\":\"carpet\"}],\"choropleth\":[{\"colorbar\":{\"outlinewidth\":0,\"ticks\":\"\"},\"type\":\"choropleth\"}],\"contour\":[{\"colorbar\":{\"outlinewidth\":0,\"ticks\":\"\"},\"colorscale\":[[0.0,\"#0d0887\"],[0.1111111111111111,\"#46039f\"],[0.2222222222222222,\"#7201a8\"],[0.3333333333333333,\"#9c179e\"],[0.4444444444444444,\"#bd3786\"],[0.5555555555555556,\"#d8576b\"],[0.6666666666666666,\"#ed7953\"],[0.7777777777777778,\"#fb9f3a\"],[0.8888888888888888,\"#fdca26\"],[1.0,\"#f0f921\"]],\"type\":\"contour\"}],\"contourcarpet\":[{\"colorbar\":{\"outlinewidth\":0,\"ticks\":\"\"},\"type\":\"contourcarpet\"}],\"heatmap\":[{\"colorbar\":{\"outlinewidth\":0,\"ticks\":\"\"},\"colorscale\":[[0.0,\"#0d0887\"],[0.1111111111111111,\"#46039f\"],[0.2222222222222222,\"#7201a8\"],[0.3333333333333333,\"#9c179e\"],[0.4444444444444444,\"#bd3786\"],[0.5555555555555556,\"#d8576b\"],[0.6666666666666666,\"#ed7953\"],[0.7777777777777778,\"#fb9f3a\"],[0.8888888888888888,\"#fdca26\"],[1.0,\"#f0f921\"]],\"type\":\"heatmap\"}],\"heatmapgl\":[{\"colorbar\":{\"outlinewidth\":0,\"ticks\":\"\"},\"colorscale\":[[0.0,\"#0d0887\"],[0.1111111111111111,\"#46039f\"],[0.2222222222222222,\"#7201a8\"],[0.3333333333333333,\"#9c179e\"],[0.4444444444444444,\"#bd3786\"],[0.5555555555555556,\"#d8576b\"],[0.6666666666666666,\"#ed7953\"],[0.7777777777777778,\"#fb9f3a\"],[0.8888888888888888,\"#fdca26\"],[1.0,\"#f0f921\"]],\"type\":\"heatmapgl\"}],\"histogram\":[{\"marker\":{\"pattern\":{\"fillmode\":\"overlay\",\"size\":10,\"solidity\":0.2}},\"type\":\"histogram\"}],\"histogram2d\":[{\"colorbar\":{\"outlinewidth\":0,\"ticks\":\"\"},\"colorscale\":[[0.0,\"#0d0887\"],[0.1111111111111111,\"#46039f\"],[0.2222222222222222,\"#7201a8\"],[0.3333333333333333,\"#9c179e\"],[0.4444444444444444,\"#bd3786\"],[0.5555555555555556,\"#d8576b\"],[0.6666666666666666,\"#ed7953\"],[0.7777777777777778,\"#fb9f3a\"],[0.8888888888888888,\"#fdca26\"],[1.0,\"#f0f921\"]],\"type\":\"histogram2d\"}],\"histogram2dcontour\":[{\"colorbar\":{\"outlinewidth\":0,\"ticks\":\"\"},\"colorscale\":[[0.0,\"#0d0887\"],[0.1111111111111111,\"#46039f\"],[0.2222222222222222,\"#7201a8\"],[0.3333333333333333,\"#9c179e\"],[0.4444444444444444,\"#bd3786\"],[0.5555555555555556,\"#d8576b\"],[0.6666666666666666,\"#ed7953\"],[0.7777777777777778,\"#fb9f3a\"],[0.8888888888888888,\"#fdca26\"],[1.0,\"#f0f921\"]],\"type\":\"histogram2dcontour\"}],\"mesh3d\":[{\"colorbar\":{\"outlinewidth\":0,\"ticks\":\"\"},\"type\":\"mesh3d\"}],\"parcoords\":[{\"line\":{\"colorbar\":{\"outlinewidth\":0,\"ticks\":\"\"}},\"type\":\"parcoords\"}],\"pie\":[{\"automargin\":true,\"type\":\"pie\"}],\"scatter\":[{\"marker\":{\"colorbar\":{\"outlinewidth\":0,\"ticks\":\"\"}},\"type\":\"scatter\"}],\"scatter3d\":[{\"line\":{\"colorbar\":{\"outlinewidth\":0,\"ticks\":\"\"}},\"marker\":{\"colorbar\":{\"outlinewidth\":0,\"ticks\":\"\"}},\"type\":\"scatter3d\"}],\"scattercarpet\":[{\"marker\":{\"colorbar\":{\"outlinewidth\":0,\"ticks\":\"\"}},\"type\":\"scattercarpet\"}],\"scattergeo\":[{\"marker\":{\"colorbar\":{\"outlinewidth\":0,\"ticks\":\"\"}},\"type\":\"scattergeo\"}],\"scattergl\":[{\"marker\":{\"colorbar\":{\"outlinewidth\":0,\"ticks\":\"\"}},\"type\":\"scattergl\"}],\"scattermapbox\":[{\"marker\":{\"colorbar\":{\"outlinewidth\":0,\"ticks\":\"\"}},\"type\":\"scattermapbox\"}],\"scatterpolar\":[{\"marker\":{\"colorbar\":{\"outlinewidth\":0,\"ticks\":\"\"}},\"type\":\"scatterpolar\"}],\"scatterpolargl\":[{\"marker\":{\"colorbar\":{\"outlinewidth\":0,\"ticks\":\"\"}},\"type\":\"scatterpolargl\"}],\"scatterternary\":[{\"marker\":{\"colorbar\":{\"outlinewidth\":0,\"ticks\":\"\"}},\"type\":\"scatterternary\"}],\"surface\":[{\"colorbar\":{\"outlinewidth\":0,\"ticks\":\"\"},\"colorscale\":[[0.0,\"#0d0887\"],[0.1111111111111111,\"#46039f\"],[0.2222222222222222,\"#7201a8\"],[0.3333333333333333,\"#9c179e\"],[0.4444444444444444,\"#bd3786\"],[0.5555555555555556,\"#d8576b\"],[0.6666666666666666,\"#ed7953\"],[0.7777777777777778,\"#fb9f3a\"],[0.8888888888888888,\"#fdca26\"],[1.0,\"#f0f921\"]],\"type\":\"surface\"}],\"table\":[{\"cells\":{\"fill\":{\"color\":\"#EBF0F8\"},\"line\":{\"color\":\"white\"}},\"header\":{\"fill\":{\"color\":\"#C8D4E3\"},\"line\":{\"color\":\"white\"}},\"type\":\"table\"}]},\"layout\":{\"annotationdefaults\":{\"arrowcolor\":\"#2a3f5f\",\"arrowhead\":0,\"arrowwidth\":1},\"autotypenumbers\":\"strict\",\"coloraxis\":{\"colorbar\":{\"outlinewidth\":0,\"ticks\":\"\"}},\"colorscale\":{\"diverging\":[[0,\"#8e0152\"],[0.1,\"#c51b7d\"],[0.2,\"#de77ae\"],[0.3,\"#f1b6da\"],[0.4,\"#fde0ef\"],[0.5,\"#f7f7f7\"],[0.6,\"#e6f5d0\"],[0.7,\"#b8e186\"],[0.8,\"#7fbc41\"],[0.9,\"#4d9221\"],[1,\"#276419\"]],\"sequential\":[[0.0,\"#0d0887\"],[0.1111111111111111,\"#46039f\"],[0.2222222222222222,\"#7201a8\"],[0.3333333333333333,\"#9c179e\"],[0.4444444444444444,\"#bd3786\"],[0.5555555555555556,\"#d8576b\"],[0.6666666666666666,\"#ed7953\"],[0.7777777777777778,\"#fb9f3a\"],[0.8888888888888888,\"#fdca26\"],[1.0,\"#f0f921\"]],\"sequentialminus\":[[0.0,\"#0d0887\"],[0.1111111111111111,\"#46039f\"],[0.2222222222222222,\"#7201a8\"],[0.3333333333333333,\"#9c179e\"],[0.4444444444444444,\"#bd3786\"],[0.5555555555555556,\"#d8576b\"],[0.6666666666666666,\"#ed7953\"],[0.7777777777777778,\"#fb9f3a\"],[0.8888888888888888,\"#fdca26\"],[1.0,\"#f0f921\"]]},\"colorway\":[\"#636efa\",\"#EF553B\",\"#00cc96\",\"#ab63fa\",\"#FFA15A\",\"#19d3f3\",\"#FF6692\",\"#B6E880\",\"#FF97FF\",\"#FECB52\"],\"font\":{\"color\":\"#2a3f5f\"},\"geo\":{\"bgcolor\":\"white\",\"lakecolor\":\"white\",\"landcolor\":\"#E5ECF6\",\"showlakes\":true,\"showland\":true,\"subunitcolor\":\"white\"},\"hoverlabel\":{\"align\":\"left\"},\"hovermode\":\"closest\",\"mapbox\":{\"style\":\"light\"},\"paper_bgcolor\":\"white\",\"plot_bgcolor\":\"#E5ECF6\",\"polar\":{\"angularaxis\":{\"gridcolor\":\"white\",\"linecolor\":\"white\",\"ticks\":\"\"},\"bgcolor\":\"#E5ECF6\",\"radialaxis\":{\"gridcolor\":\"white\",\"linecolor\":\"white\",\"ticks\":\"\"}},\"scene\":{\"xaxis\":{\"backgroundcolor\":\"#E5ECF6\",\"gridcolor\":\"white\",\"gridwidth\":2,\"linecolor\":\"white\",\"showbackground\":true,\"ticks\":\"\",\"zerolinecolor\":\"white\"},\"yaxis\":{\"backgroundcolor\":\"#E5ECF6\",\"gridcolor\":\"white\",\"gridwidth\":2,\"linecolor\":\"white\",\"showbackground\":true,\"ticks\":\"\",\"zerolinecolor\":\"white\"},\"zaxis\":{\"backgroundcolor\":\"#E5ECF6\",\"gridcolor\":\"white\",\"gridwidth\":2,\"linecolor\":\"white\",\"showbackground\":true,\"ticks\":\"\",\"zerolinecolor\":\"white\"}},\"shapedefaults\":{\"line\":{\"color\":\"#2a3f5f\"}},\"ternary\":{\"aaxis\":{\"gridcolor\":\"white\",\"linecolor\":\"white\",\"ticks\":\"\"},\"baxis\":{\"gridcolor\":\"white\",\"linecolor\":\"white\",\"ticks\":\"\"},\"bgcolor\":\"#E5ECF6\",\"caxis\":{\"gridcolor\":\"white\",\"linecolor\":\"white\",\"ticks\":\"\"}},\"title\":{\"x\":0.05},\"xaxis\":{\"automargin\":true,\"gridcolor\":\"white\",\"linecolor\":\"white\",\"ticks\":\"\",\"title\":{\"standoff\":15},\"zerolinecolor\":\"white\",\"zerolinewidth\":2},\"yaxis\":{\"automargin\":true,\"gridcolor\":\"white\",\"linecolor\":\"white\",\"ticks\":\"\",\"title\":{\"standoff\":15},\"zerolinecolor\":\"white\",\"zerolinewidth\":2}}},\"xaxis\":{\"anchor\":\"y\",\"domain\":[0.0,1.0],\"title\":{\"text\":\"Date&Hour\"},\"rangeslider\":{\"visible\":true}},\"yaxis\":{\"anchor\":\"x\",\"domain\":[0.0,1.0],\"title\":{\"text\":\"Star Rating\"}},\"legend\":{\"tracegroupgap\":0},\"title\":{\"text\":\"Star Rating with Slider\"}},                        {\"responsive\": true}                    ).then(function(){\n",
              "                            \n",
              "var gd = document.getElementById('58853cc2-5612-4034-ade6-9359fc3b0219');\n",
              "var x = new MutationObserver(function (mutations, observer) {{\n",
              "        var display = window.getComputedStyle(gd).display;\n",
              "        if (!display || display === 'none') {{\n",
              "            console.log([gd, 'removed!']);\n",
              "            Plotly.purge(gd);\n",
              "            observer.disconnect();\n",
              "        }}\n",
              "}});\n",
              "\n",
              "// Listen for the removal of the full notebook cells\n",
              "var notebookContainer = gd.closest('#notebook-container');\n",
              "if (notebookContainer) {{\n",
              "    x.observe(notebookContainer, {childList: true});\n",
              "}}\n",
              "\n",
              "// Listen for the clearing of the current output cell\n",
              "var outputEl = gd.closest('.output');\n",
              "if (outputEl) {{\n",
              "    x.observe(outputEl, {childList: true});\n",
              "}}\n",
              "\n",
              "                        })                };                            </script>        </div>\n",
              "</body>\n",
              "</html>"
            ]
          },
          "metadata": {}
        }
      ]
    },
    {
      "cell_type": "code",
      "source": [
        "from statsmodels.tsa.stattools import adfuller, kpss\n",
        "\n",
        "# ADF Test\n",
        "result = adfuller(dff['Star Rating'], autolag='AIC')\n",
        "print(f'ADF Statistic: {result[0]}')\n",
        "print(f'p-value: {result[1]}')\n",
        "\n",
        "if result[1] > 0.05:\n",
        "    print('Series is not Stationary')\n",
        "else:\n",
        "    print('Series is Stationary')\n",
        "\n",
        "\n",
        "# KPSS Test\n",
        "stats, p, lags, critical_values = kpss(dff['Star Rating'], 'ct')\n",
        "print(f'KPSS Test Statistics: {stats}')\n",
        "print(f'p-value: {p}')\n",
        "\n",
        "if p<0.05:\n",
        "      print('Series is not Stationary')\n",
        "else:\n",
        "      print('Series is Stationary')"
      ],
      "metadata": {
        "colab": {
          "base_uri": "https://localhost:8080/"
        },
        "id": "ci0i3ifJ52QS",
        "outputId": "9cde7308-f9d7-42ea-e226-b5450157b0b7"
      },
      "execution_count": 20,
      "outputs": [
        {
          "output_type": "stream",
          "name": "stderr",
          "text": [
            "/usr/local/lib/python3.7/dist-packages/statsmodels/tools/_testing.py:19: FutureWarning:\n",
            "\n",
            "pandas.util.testing is deprecated. Use the functions in the public API at pandas.testing instead.\n",
            "\n"
          ]
        },
        {
          "output_type": "stream",
          "name": "stdout",
          "text": [
            "ADF Statistic: -4.362241610428372\n",
            "p-value: 0.0003459914781652593\n",
            "Series is Stationary\n",
            "KPSS Test Statistics: 0.5764279886163558\n",
            "p-value: 0.01\n",
            "Series is not Stationary\n"
          ]
        },
        {
          "output_type": "stream",
          "name": "stderr",
          "text": [
            "/usr/local/lib/python3.7/dist-packages/statsmodels/tsa/stattools.py:1685: FutureWarning:\n",
            "\n",
            "The behavior of using lags=None will change in the next release. Currently lags=None is the same as lags='legacy', and so a sample-size lag length is used. After the next release, the default will change to be the same as lags='auto' which uses an automatic lag length selection method. To silence this warning, either use 'auto' or 'legacy'\n",
            "\n",
            "/usr/local/lib/python3.7/dist-packages/statsmodels/tsa/stattools.py:1709: InterpolationWarning:\n",
            "\n",
            "p-value is smaller than the indicated p-value\n",
            "\n"
          ]
        }
      ]
    },
    {
      "cell_type": "code",
      "source": [
        "from statsmodels.tsa.seasonal import seasonal_decompose\n",
        "from dateutil.parser import parse\n",
        "# Additive Decomposition\n",
        "result_add = seasonal_decompose(dff['Star Rating'], model='additive', index_col=0)\n",
        "# Plot\n",
        "result_add.plot().suptitle('Additive Decompose', fontsize=22)"
      ],
      "metadata": {
        "colab": {
          "base_uri": "https://localhost:8080/",
          "height": 235
        },
        "id": "OPRsHe2l6kfJ",
        "outputId": "6f64a469-102b-4a09-c553-af57fb2f3c8a"
      },
      "execution_count": 22,
      "outputs": [
        {
          "output_type": "error",
          "ename": "TypeError",
          "evalue": "ignored",
          "traceback": [
            "\u001b[0;31m---------------------------------------------------------------------------\u001b[0m",
            "\u001b[0;31mTypeError\u001b[0m                                 Traceback (most recent call last)",
            "\u001b[0;32m<ipython-input-22-4a85a3bb451d>\u001b[0m in \u001b[0;36m<module>\u001b[0;34m()\u001b[0m\n\u001b[1;32m      2\u001b[0m \u001b[0;32mfrom\u001b[0m \u001b[0mdateutil\u001b[0m\u001b[0;34m.\u001b[0m\u001b[0mparser\u001b[0m \u001b[0;32mimport\u001b[0m \u001b[0mparse\u001b[0m\u001b[0;34m\u001b[0m\u001b[0;34m\u001b[0m\u001b[0m\n\u001b[1;32m      3\u001b[0m \u001b[0;31m# Additive Decomposition\u001b[0m\u001b[0;34m\u001b[0m\u001b[0;34m\u001b[0m\u001b[0;34m\u001b[0m\u001b[0m\n\u001b[0;32m----> 4\u001b[0;31m \u001b[0mresult_add\u001b[0m \u001b[0;34m=\u001b[0m \u001b[0mseasonal_decompose\u001b[0m\u001b[0;34m(\u001b[0m\u001b[0mdff\u001b[0m\u001b[0;34m[\u001b[0m\u001b[0;34m'Star Rating'\u001b[0m\u001b[0;34m]\u001b[0m\u001b[0;34m,\u001b[0m \u001b[0mmodel\u001b[0m\u001b[0;34m=\u001b[0m\u001b[0;34m'additive'\u001b[0m\u001b[0;34m,\u001b[0m \u001b[0mindex_col\u001b[0m\u001b[0;34m=\u001b[0m\u001b[0;36m0\u001b[0m\u001b[0;34m)\u001b[0m\u001b[0;34m\u001b[0m\u001b[0;34m\u001b[0m\u001b[0m\n\u001b[0m\u001b[1;32m      5\u001b[0m \u001b[0;31m# Plot\u001b[0m\u001b[0;34m\u001b[0m\u001b[0;34m\u001b[0m\u001b[0;34m\u001b[0m\u001b[0m\n\u001b[1;32m      6\u001b[0m \u001b[0mresult_add\u001b[0m\u001b[0;34m.\u001b[0m\u001b[0mplot\u001b[0m\u001b[0;34m(\u001b[0m\u001b[0;34m)\u001b[0m\u001b[0;34m.\u001b[0m\u001b[0msuptitle\u001b[0m\u001b[0;34m(\u001b[0m\u001b[0;34m'Additive Decompose'\u001b[0m\u001b[0;34m,\u001b[0m \u001b[0mfontsize\u001b[0m\u001b[0;34m=\u001b[0m\u001b[0;36m22\u001b[0m\u001b[0;34m)\u001b[0m\u001b[0;34m\u001b[0m\u001b[0;34m\u001b[0m\u001b[0m\n",
            "\u001b[0;31mTypeError\u001b[0m: seasonal_decompose() got an unexpected keyword argument 'index_col'"
          ]
        }
      ]
    },
    {
      "cell_type": "code",
      "source": [
        "dff_pivot=dfficial.groupby(['Date&Hour','Star Rating'],as_index = False).count().pivot('Date&Hour','Star Rating').fillna(0)"
      ],
      "metadata": {
        "id": "t0wcoQ-nxZWO"
      },
      "execution_count": null,
      "outputs": []
    },
    {
      "cell_type": "code",
      "source": [
        "dff_pivot"
      ],
      "metadata": {
        "id": "GHKLp1C-3wb1"
      },
      "execution_count": null,
      "outputs": []
    },
    {
      "cell_type": "code",
      "source": [
        "dffinal['count']=dffinal.groupby(['Date&Hour'])['Star Rating'].count()"
      ],
      "metadata": {
        "id": "c3DDGrZRubJm"
      },
      "execution_count": null,
      "outputs": []
    },
    {
      "cell_type": "code",
      "source": [
        "dff2.head()"
      ],
      "metadata": {
        "id": "fpvvcu-yvWah"
      },
      "execution_count": null,
      "outputs": []
    }
  ]
}