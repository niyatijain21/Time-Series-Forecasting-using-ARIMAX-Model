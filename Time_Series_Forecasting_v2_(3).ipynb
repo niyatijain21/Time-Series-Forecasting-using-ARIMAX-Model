{
  "cells": [
    {
      "cell_type": "markdown",
      "metadata": {
        "id": "EvlZAA4gBu9z"
      },
      "source": [
        "**Importing Dataset with Outage Transactions**"
      ]
    },
    {
      "cell_type": "code",
      "execution_count": null,
      "metadata": {
        "id": "JbW0DdoHU4Zh"
      },
      "outputs": [],
      "source": [
        "import numpy as np\n",
        "import pandas as pd\n",
        "import matplotlib.pyplot as plt"
      ]
    },
    {
      "cell_type": "code",
      "execution_count": null,
      "metadata": {
        "id": "PorXkIknVA2r"
      },
      "outputs": [],
      "source": [
        "df=pd.read_csv(\"/content/Kill Switch Txns 2022.csv\")"
      ]
    },
    {
      "cell_type": "code",
      "execution_count": null,
      "metadata": {
        "colab": {
          "base_uri": "https://localhost:8080/",
          "height": 206
        },
        "id": "yYW1nM90VFY1",
        "outputId": "0a6858c4-3f77-4489-a150-2e40b9fff494"
      },
      "outputs": [
        {
          "output_type": "execute_result",
          "data": {
            "text/plain": [
              "  transaction_date  hour  kill_switch_txns\n",
              "0       01-01-2022     0              2355\n",
              "1       01-01-2022     1             39241\n",
              "2       01-01-2022     4             32352\n",
              "3       01-01-2022     5             17659\n",
              "4       01-01-2022     8             80690"
            ],
            "text/html": [
              "\n",
              "  <div id=\"df-7f962350-f954-4f39-931a-ac9a6ece0d33\">\n",
              "    <div class=\"colab-df-container\">\n",
              "      <div>\n",
              "<style scoped>\n",
              "    .dataframe tbody tr th:only-of-type {\n",
              "        vertical-align: middle;\n",
              "    }\n",
              "\n",
              "    .dataframe tbody tr th {\n",
              "        vertical-align: top;\n",
              "    }\n",
              "\n",
              "    .dataframe thead th {\n",
              "        text-align: right;\n",
              "    }\n",
              "</style>\n",
              "<table border=\"1\" class=\"dataframe\">\n",
              "  <thead>\n",
              "    <tr style=\"text-align: right;\">\n",
              "      <th></th>\n",
              "      <th>transaction_date</th>\n",
              "      <th>hour</th>\n",
              "      <th>kill_switch_txns</th>\n",
              "    </tr>\n",
              "  </thead>\n",
              "  <tbody>\n",
              "    <tr>\n",
              "      <th>0</th>\n",
              "      <td>01-01-2022</td>\n",
              "      <td>0</td>\n",
              "      <td>2355</td>\n",
              "    </tr>\n",
              "    <tr>\n",
              "      <th>1</th>\n",
              "      <td>01-01-2022</td>\n",
              "      <td>1</td>\n",
              "      <td>39241</td>\n",
              "    </tr>\n",
              "    <tr>\n",
              "      <th>2</th>\n",
              "      <td>01-01-2022</td>\n",
              "      <td>4</td>\n",
              "      <td>32352</td>\n",
              "    </tr>\n",
              "    <tr>\n",
              "      <th>3</th>\n",
              "      <td>01-01-2022</td>\n",
              "      <td>5</td>\n",
              "      <td>17659</td>\n",
              "    </tr>\n",
              "    <tr>\n",
              "      <th>4</th>\n",
              "      <td>01-01-2022</td>\n",
              "      <td>8</td>\n",
              "      <td>80690</td>\n",
              "    </tr>\n",
              "  </tbody>\n",
              "</table>\n",
              "</div>\n",
              "      <button class=\"colab-df-convert\" onclick=\"convertToInteractive('df-7f962350-f954-4f39-931a-ac9a6ece0d33')\"\n",
              "              title=\"Convert this dataframe to an interactive table.\"\n",
              "              style=\"display:none;\">\n",
              "        \n",
              "  <svg xmlns=\"http://www.w3.org/2000/svg\" height=\"24px\"viewBox=\"0 0 24 24\"\n",
              "       width=\"24px\">\n",
              "    <path d=\"M0 0h24v24H0V0z\" fill=\"none\"/>\n",
              "    <path d=\"M18.56 5.44l.94 2.06.94-2.06 2.06-.94-2.06-.94-.94-2.06-.94 2.06-2.06.94zm-11 1L8.5 8.5l.94-2.06 2.06-.94-2.06-.94L8.5 2.5l-.94 2.06-2.06.94zm10 10l.94 2.06.94-2.06 2.06-.94-2.06-.94-.94-2.06-.94 2.06-2.06.94z\"/><path d=\"M17.41 7.96l-1.37-1.37c-.4-.4-.92-.59-1.43-.59-.52 0-1.04.2-1.43.59L10.3 9.45l-7.72 7.72c-.78.78-.78 2.05 0 2.83L4 21.41c.39.39.9.59 1.41.59.51 0 1.02-.2 1.41-.59l7.78-7.78 2.81-2.81c.8-.78.8-2.07 0-2.86zM5.41 20L4 18.59l7.72-7.72 1.47 1.35L5.41 20z\"/>\n",
              "  </svg>\n",
              "      </button>\n",
              "      \n",
              "  <style>\n",
              "    .colab-df-container {\n",
              "      display:flex;\n",
              "      flex-wrap:wrap;\n",
              "      gap: 12px;\n",
              "    }\n",
              "\n",
              "    .colab-df-convert {\n",
              "      background-color: #E8F0FE;\n",
              "      border: none;\n",
              "      border-radius: 50%;\n",
              "      cursor: pointer;\n",
              "      display: none;\n",
              "      fill: #1967D2;\n",
              "      height: 32px;\n",
              "      padding: 0 0 0 0;\n",
              "      width: 32px;\n",
              "    }\n",
              "\n",
              "    .colab-df-convert:hover {\n",
              "      background-color: #E2EBFA;\n",
              "      box-shadow: 0px 1px 2px rgba(60, 64, 67, 0.3), 0px 1px 3px 1px rgba(60, 64, 67, 0.15);\n",
              "      fill: #174EA6;\n",
              "    }\n",
              "\n",
              "    [theme=dark] .colab-df-convert {\n",
              "      background-color: #3B4455;\n",
              "      fill: #D2E3FC;\n",
              "    }\n",
              "\n",
              "    [theme=dark] .colab-df-convert:hover {\n",
              "      background-color: #434B5C;\n",
              "      box-shadow: 0px 1px 3px 1px rgba(0, 0, 0, 0.15);\n",
              "      filter: drop-shadow(0px 1px 2px rgba(0, 0, 0, 0.3));\n",
              "      fill: #FFFFFF;\n",
              "    }\n",
              "  </style>\n",
              "\n",
              "      <script>\n",
              "        const buttonEl =\n",
              "          document.querySelector('#df-7f962350-f954-4f39-931a-ac9a6ece0d33 button.colab-df-convert');\n",
              "        buttonEl.style.display =\n",
              "          google.colab.kernel.accessAllowed ? 'block' : 'none';\n",
              "\n",
              "        async function convertToInteractive(key) {\n",
              "          const element = document.querySelector('#df-7f962350-f954-4f39-931a-ac9a6ece0d33');\n",
              "          const dataTable =\n",
              "            await google.colab.kernel.invokeFunction('convertToInteractive',\n",
              "                                                     [key], {});\n",
              "          if (!dataTable) return;\n",
              "\n",
              "          const docLinkHtml = 'Like what you see? Visit the ' +\n",
              "            '<a target=\"_blank\" href=https://colab.research.google.com/notebooks/data_table.ipynb>data table notebook</a>'\n",
              "            + ' to learn more about interactive tables.';\n",
              "          element.innerHTML = '';\n",
              "          dataTable['output_type'] = 'display_data';\n",
              "          await google.colab.output.renderOutput(dataTable, element);\n",
              "          const docLink = document.createElement('div');\n",
              "          docLink.innerHTML = docLinkHtml;\n",
              "          element.appendChild(docLink);\n",
              "        }\n",
              "      </script>\n",
              "    </div>\n",
              "  </div>\n",
              "  "
            ]
          },
          "metadata": {},
          "execution_count": 3
        }
      ],
      "source": [
        "df.head()"
      ]
    },
    {
      "cell_type": "code",
      "execution_count": null,
      "metadata": {
        "id": "k1vXvr9yCvTo"
      },
      "outputs": [],
      "source": [
        "df['hour']=df['hour'].astype(str)"
      ]
    },
    {
      "cell_type": "code",
      "execution_count": null,
      "metadata": {
        "id": "J1_CmJg_anNm"
      },
      "outputs": [],
      "source": [
        "df['Date&Hour']=df['transaction_date']+' '+df['hour']"
      ]
    },
    {
      "cell_type": "code",
      "execution_count": null,
      "metadata": {
        "id": "kdQJy9iqa6VU"
      },
      "outputs": [],
      "source": [
        "from datetime import datetime\n",
        "df['Date&Hour']=pd.to_datetime(df['Date&Hour'], format=\"%d-%m-%Y %H\")"
      ]
    },
    {
      "cell_type": "code",
      "execution_count": null,
      "metadata": {
        "id": "LITkOnlT3QLG"
      },
      "outputs": [],
      "source": [
        "df['Year']=df['Date&Hour'].dt.year"
      ]
    },
    {
      "cell_type": "code",
      "execution_count": null,
      "metadata": {
        "colab": {
          "base_uri": "https://localhost:8080/",
          "height": 206
        },
        "id": "sgufljSAeeFa",
        "outputId": "2b467c16-7e90-41bf-f55f-79f8bc365e36"
      },
      "outputs": [
        {
          "output_type": "execute_result",
          "data": {
            "text/plain": [
              "  transaction_date hour  kill_switch_txns           Date&Hour  Year\n",
              "0       01-01-2022    0              2355 2022-01-01 00:00:00  2022\n",
              "1       01-01-2022    1             39241 2022-01-01 01:00:00  2022\n",
              "2       01-01-2022    4             32352 2022-01-01 04:00:00  2022\n",
              "3       01-01-2022    5             17659 2022-01-01 05:00:00  2022\n",
              "4       01-01-2022    8             80690 2022-01-01 08:00:00  2022"
            ],
            "text/html": [
              "\n",
              "  <div id=\"df-940b9232-9f60-4c24-9ea3-c870211eb403\">\n",
              "    <div class=\"colab-df-container\">\n",
              "      <div>\n",
              "<style scoped>\n",
              "    .dataframe tbody tr th:only-of-type {\n",
              "        vertical-align: middle;\n",
              "    }\n",
              "\n",
              "    .dataframe tbody tr th {\n",
              "        vertical-align: top;\n",
              "    }\n",
              "\n",
              "    .dataframe thead th {\n",
              "        text-align: right;\n",
              "    }\n",
              "</style>\n",
              "<table border=\"1\" class=\"dataframe\">\n",
              "  <thead>\n",
              "    <tr style=\"text-align: right;\">\n",
              "      <th></th>\n",
              "      <th>transaction_date</th>\n",
              "      <th>hour</th>\n",
              "      <th>kill_switch_txns</th>\n",
              "      <th>Date&amp;Hour</th>\n",
              "      <th>Year</th>\n",
              "    </tr>\n",
              "  </thead>\n",
              "  <tbody>\n",
              "    <tr>\n",
              "      <th>0</th>\n",
              "      <td>01-01-2022</td>\n",
              "      <td>0</td>\n",
              "      <td>2355</td>\n",
              "      <td>2022-01-01 00:00:00</td>\n",
              "      <td>2022</td>\n",
              "    </tr>\n",
              "    <tr>\n",
              "      <th>1</th>\n",
              "      <td>01-01-2022</td>\n",
              "      <td>1</td>\n",
              "      <td>39241</td>\n",
              "      <td>2022-01-01 01:00:00</td>\n",
              "      <td>2022</td>\n",
              "    </tr>\n",
              "    <tr>\n",
              "      <th>2</th>\n",
              "      <td>01-01-2022</td>\n",
              "      <td>4</td>\n",
              "      <td>32352</td>\n",
              "      <td>2022-01-01 04:00:00</td>\n",
              "      <td>2022</td>\n",
              "    </tr>\n",
              "    <tr>\n",
              "      <th>3</th>\n",
              "      <td>01-01-2022</td>\n",
              "      <td>5</td>\n",
              "      <td>17659</td>\n",
              "      <td>2022-01-01 05:00:00</td>\n",
              "      <td>2022</td>\n",
              "    </tr>\n",
              "    <tr>\n",
              "      <th>4</th>\n",
              "      <td>01-01-2022</td>\n",
              "      <td>8</td>\n",
              "      <td>80690</td>\n",
              "      <td>2022-01-01 08:00:00</td>\n",
              "      <td>2022</td>\n",
              "    </tr>\n",
              "  </tbody>\n",
              "</table>\n",
              "</div>\n",
              "      <button class=\"colab-df-convert\" onclick=\"convertToInteractive('df-940b9232-9f60-4c24-9ea3-c870211eb403')\"\n",
              "              title=\"Convert this dataframe to an interactive table.\"\n",
              "              style=\"display:none;\">\n",
              "        \n",
              "  <svg xmlns=\"http://www.w3.org/2000/svg\" height=\"24px\"viewBox=\"0 0 24 24\"\n",
              "       width=\"24px\">\n",
              "    <path d=\"M0 0h24v24H0V0z\" fill=\"none\"/>\n",
              "    <path d=\"M18.56 5.44l.94 2.06.94-2.06 2.06-.94-2.06-.94-.94-2.06-.94 2.06-2.06.94zm-11 1L8.5 8.5l.94-2.06 2.06-.94-2.06-.94L8.5 2.5l-.94 2.06-2.06.94zm10 10l.94 2.06.94-2.06 2.06-.94-2.06-.94-.94-2.06-.94 2.06-2.06.94z\"/><path d=\"M17.41 7.96l-1.37-1.37c-.4-.4-.92-.59-1.43-.59-.52 0-1.04.2-1.43.59L10.3 9.45l-7.72 7.72c-.78.78-.78 2.05 0 2.83L4 21.41c.39.39.9.59 1.41.59.51 0 1.02-.2 1.41-.59l7.78-7.78 2.81-2.81c.8-.78.8-2.07 0-2.86zM5.41 20L4 18.59l7.72-7.72 1.47 1.35L5.41 20z\"/>\n",
              "  </svg>\n",
              "      </button>\n",
              "      \n",
              "  <style>\n",
              "    .colab-df-container {\n",
              "      display:flex;\n",
              "      flex-wrap:wrap;\n",
              "      gap: 12px;\n",
              "    }\n",
              "\n",
              "    .colab-df-convert {\n",
              "      background-color: #E8F0FE;\n",
              "      border: none;\n",
              "      border-radius: 50%;\n",
              "      cursor: pointer;\n",
              "      display: none;\n",
              "      fill: #1967D2;\n",
              "      height: 32px;\n",
              "      padding: 0 0 0 0;\n",
              "      width: 32px;\n",
              "    }\n",
              "\n",
              "    .colab-df-convert:hover {\n",
              "      background-color: #E2EBFA;\n",
              "      box-shadow: 0px 1px 2px rgba(60, 64, 67, 0.3), 0px 1px 3px 1px rgba(60, 64, 67, 0.15);\n",
              "      fill: #174EA6;\n",
              "    }\n",
              "\n",
              "    [theme=dark] .colab-df-convert {\n",
              "      background-color: #3B4455;\n",
              "      fill: #D2E3FC;\n",
              "    }\n",
              "\n",
              "    [theme=dark] .colab-df-convert:hover {\n",
              "      background-color: #434B5C;\n",
              "      box-shadow: 0px 1px 3px 1px rgba(0, 0, 0, 0.15);\n",
              "      filter: drop-shadow(0px 1px 2px rgba(0, 0, 0, 0.3));\n",
              "      fill: #FFFFFF;\n",
              "    }\n",
              "  </style>\n",
              "\n",
              "      <script>\n",
              "        const buttonEl =\n",
              "          document.querySelector('#df-940b9232-9f60-4c24-9ea3-c870211eb403 button.colab-df-convert');\n",
              "        buttonEl.style.display =\n",
              "          google.colab.kernel.accessAllowed ? 'block' : 'none';\n",
              "\n",
              "        async function convertToInteractive(key) {\n",
              "          const element = document.querySelector('#df-940b9232-9f60-4c24-9ea3-c870211eb403');\n",
              "          const dataTable =\n",
              "            await google.colab.kernel.invokeFunction('convertToInteractive',\n",
              "                                                     [key], {});\n",
              "          if (!dataTable) return;\n",
              "\n",
              "          const docLinkHtml = 'Like what you see? Visit the ' +\n",
              "            '<a target=\"_blank\" href=https://colab.research.google.com/notebooks/data_table.ipynb>data table notebook</a>'\n",
              "            + ' to learn more about interactive tables.';\n",
              "          element.innerHTML = '';\n",
              "          dataTable['output_type'] = 'display_data';\n",
              "          await google.colab.output.renderOutput(dataTable, element);\n",
              "          const docLink = document.createElement('div');\n",
              "          docLink.innerHTML = docLinkHtml;\n",
              "          element.appendChild(docLink);\n",
              "        }\n",
              "      </script>\n",
              "    </div>\n",
              "  </div>\n",
              "  "
            ]
          },
          "metadata": {},
          "execution_count": 8
        }
      ],
      "source": [
        "df.head()"
      ]
    },
    {
      "cell_type": "code",
      "execution_count": null,
      "metadata": {
        "colab": {
          "base_uri": "https://localhost:8080/"
        },
        "id": "TPLFblCkJKJH",
        "outputId": "74d636c1-a0ee-4336-8d8e-fec7b7114082"
      },
      "outputs": [
        {
          "output_type": "execute_result",
          "data": {
            "text/plain": [
              "transaction_date            object\n",
              "hour                        object\n",
              "kill_switch_txns             int64\n",
              "Date&Hour           datetime64[ns]\n",
              "Year                         int64\n",
              "dtype: object"
            ]
          },
          "metadata": {},
          "execution_count": 9
        }
      ],
      "source": [
        "df.dtypes"
      ]
    },
    {
      "cell_type": "markdown",
      "metadata": {
        "id": "4d3nwY68B3bW"
      },
      "source": [
        "**Importing Dataset with Google Reviews**"
      ]
    },
    {
      "cell_type": "code",
      "execution_count": null,
      "metadata": {
        "id": "YMRX7cyErhXc"
      },
      "outputs": [],
      "source": [
        "df2=pd.read_csv(\"/content/Google App Star Rating 2022.csv\")"
      ]
    },
    {
      "cell_type": "code",
      "execution_count": null,
      "metadata": {
        "colab": {
          "base_uri": "https://localhost:8080/",
          "height": 206
        },
        "id": "sya8OtSNro8h",
        "outputId": "f9dde8b9-793a-4da7-aa8b-381ba3b3d744"
      },
      "outputs": [
        {
          "output_type": "execute_result",
          "data": {
            "text/plain": [
              "       Date&Hour  Star Rating  Language  Year  hour transaction_date\n",
              "0  01-01-2022 00            4        11  2022     0       2022-01-01\n",
              "1  01-01-2022 00            1        11  2022     0       2022-01-01\n",
              "2  01-01-2022 00            5        11  2022     0       2022-01-01\n",
              "3  01-01-2022 00            5        11  2022     0       2022-01-01\n",
              "4  01-01-2022 00            3        11  2022     0       2022-01-01"
            ],
            "text/html": [
              "\n",
              "  <div id=\"df-ad42e93c-5b3d-4082-84ed-77027985d643\">\n",
              "    <div class=\"colab-df-container\">\n",
              "      <div>\n",
              "<style scoped>\n",
              "    .dataframe tbody tr th:only-of-type {\n",
              "        vertical-align: middle;\n",
              "    }\n",
              "\n",
              "    .dataframe tbody tr th {\n",
              "        vertical-align: top;\n",
              "    }\n",
              "\n",
              "    .dataframe thead th {\n",
              "        text-align: right;\n",
              "    }\n",
              "</style>\n",
              "<table border=\"1\" class=\"dataframe\">\n",
              "  <thead>\n",
              "    <tr style=\"text-align: right;\">\n",
              "      <th></th>\n",
              "      <th>Date&amp;Hour</th>\n",
              "      <th>Star Rating</th>\n",
              "      <th>Language</th>\n",
              "      <th>Year</th>\n",
              "      <th>hour</th>\n",
              "      <th>transaction_date</th>\n",
              "    </tr>\n",
              "  </thead>\n",
              "  <tbody>\n",
              "    <tr>\n",
              "      <th>0</th>\n",
              "      <td>01-01-2022 00</td>\n",
              "      <td>4</td>\n",
              "      <td>11</td>\n",
              "      <td>2022</td>\n",
              "      <td>0</td>\n",
              "      <td>2022-01-01</td>\n",
              "    </tr>\n",
              "    <tr>\n",
              "      <th>1</th>\n",
              "      <td>01-01-2022 00</td>\n",
              "      <td>1</td>\n",
              "      <td>11</td>\n",
              "      <td>2022</td>\n",
              "      <td>0</td>\n",
              "      <td>2022-01-01</td>\n",
              "    </tr>\n",
              "    <tr>\n",
              "      <th>2</th>\n",
              "      <td>01-01-2022 00</td>\n",
              "      <td>5</td>\n",
              "      <td>11</td>\n",
              "      <td>2022</td>\n",
              "      <td>0</td>\n",
              "      <td>2022-01-01</td>\n",
              "    </tr>\n",
              "    <tr>\n",
              "      <th>3</th>\n",
              "      <td>01-01-2022 00</td>\n",
              "      <td>5</td>\n",
              "      <td>11</td>\n",
              "      <td>2022</td>\n",
              "      <td>0</td>\n",
              "      <td>2022-01-01</td>\n",
              "    </tr>\n",
              "    <tr>\n",
              "      <th>4</th>\n",
              "      <td>01-01-2022 00</td>\n",
              "      <td>3</td>\n",
              "      <td>11</td>\n",
              "      <td>2022</td>\n",
              "      <td>0</td>\n",
              "      <td>2022-01-01</td>\n",
              "    </tr>\n",
              "  </tbody>\n",
              "</table>\n",
              "</div>\n",
              "      <button class=\"colab-df-convert\" onclick=\"convertToInteractive('df-ad42e93c-5b3d-4082-84ed-77027985d643')\"\n",
              "              title=\"Convert this dataframe to an interactive table.\"\n",
              "              style=\"display:none;\">\n",
              "        \n",
              "  <svg xmlns=\"http://www.w3.org/2000/svg\" height=\"24px\"viewBox=\"0 0 24 24\"\n",
              "       width=\"24px\">\n",
              "    <path d=\"M0 0h24v24H0V0z\" fill=\"none\"/>\n",
              "    <path d=\"M18.56 5.44l.94 2.06.94-2.06 2.06-.94-2.06-.94-.94-2.06-.94 2.06-2.06.94zm-11 1L8.5 8.5l.94-2.06 2.06-.94-2.06-.94L8.5 2.5l-.94 2.06-2.06.94zm10 10l.94 2.06.94-2.06 2.06-.94-2.06-.94-.94-2.06-.94 2.06-2.06.94z\"/><path d=\"M17.41 7.96l-1.37-1.37c-.4-.4-.92-.59-1.43-.59-.52 0-1.04.2-1.43.59L10.3 9.45l-7.72 7.72c-.78.78-.78 2.05 0 2.83L4 21.41c.39.39.9.59 1.41.59.51 0 1.02-.2 1.41-.59l7.78-7.78 2.81-2.81c.8-.78.8-2.07 0-2.86zM5.41 20L4 18.59l7.72-7.72 1.47 1.35L5.41 20z\"/>\n",
              "  </svg>\n",
              "      </button>\n",
              "      \n",
              "  <style>\n",
              "    .colab-df-container {\n",
              "      display:flex;\n",
              "      flex-wrap:wrap;\n",
              "      gap: 12px;\n",
              "    }\n",
              "\n",
              "    .colab-df-convert {\n",
              "      background-color: #E8F0FE;\n",
              "      border: none;\n",
              "      border-radius: 50%;\n",
              "      cursor: pointer;\n",
              "      display: none;\n",
              "      fill: #1967D2;\n",
              "      height: 32px;\n",
              "      padding: 0 0 0 0;\n",
              "      width: 32px;\n",
              "    }\n",
              "\n",
              "    .colab-df-convert:hover {\n",
              "      background-color: #E2EBFA;\n",
              "      box-shadow: 0px 1px 2px rgba(60, 64, 67, 0.3), 0px 1px 3px 1px rgba(60, 64, 67, 0.15);\n",
              "      fill: #174EA6;\n",
              "    }\n",
              "\n",
              "    [theme=dark] .colab-df-convert {\n",
              "      background-color: #3B4455;\n",
              "      fill: #D2E3FC;\n",
              "    }\n",
              "\n",
              "    [theme=dark] .colab-df-convert:hover {\n",
              "      background-color: #434B5C;\n",
              "      box-shadow: 0px 1px 3px 1px rgba(0, 0, 0, 0.15);\n",
              "      filter: drop-shadow(0px 1px 2px rgba(0, 0, 0, 0.3));\n",
              "      fill: #FFFFFF;\n",
              "    }\n",
              "  </style>\n",
              "\n",
              "      <script>\n",
              "        const buttonEl =\n",
              "          document.querySelector('#df-ad42e93c-5b3d-4082-84ed-77027985d643 button.colab-df-convert');\n",
              "        buttonEl.style.display =\n",
              "          google.colab.kernel.accessAllowed ? 'block' : 'none';\n",
              "\n",
              "        async function convertToInteractive(key) {\n",
              "          const element = document.querySelector('#df-ad42e93c-5b3d-4082-84ed-77027985d643');\n",
              "          const dataTable =\n",
              "            await google.colab.kernel.invokeFunction('convertToInteractive',\n",
              "                                                     [key], {});\n",
              "          if (!dataTable) return;\n",
              "\n",
              "          const docLinkHtml = 'Like what you see? Visit the ' +\n",
              "            '<a target=\"_blank\" href=https://colab.research.google.com/notebooks/data_table.ipynb>data table notebook</a>'\n",
              "            + ' to learn more about interactive tables.';\n",
              "          element.innerHTML = '';\n",
              "          dataTable['output_type'] = 'display_data';\n",
              "          await google.colab.output.renderOutput(dataTable, element);\n",
              "          const docLink = document.createElement('div');\n",
              "          docLink.innerHTML = docLinkHtml;\n",
              "          element.appendChild(docLink);\n",
              "        }\n",
              "      </script>\n",
              "    </div>\n",
              "  </div>\n",
              "  "
            ]
          },
          "metadata": {},
          "execution_count": 11
        }
      ],
      "source": [
        "df2.head()"
      ]
    },
    {
      "cell_type": "code",
      "execution_count": null,
      "metadata": {
        "colab": {
          "base_uri": "https://localhost:8080/",
          "height": 206
        },
        "id": "qX80LsC0rrDu",
        "outputId": "056dd8da-8270-461f-ee28-d836ea784f96",
        "scrolled": true
      },
      "outputs": [
        {
          "output_type": "execute_result",
          "data": {
            "text/plain": [
              "            Date&Hour  Star Rating  Language  Year  hour transaction_date\n",
              "547848  22-04-2022 06            5        11  2022     6       2022-04-22\n",
              "547849  22-04-2022 06            2        11  2022     6       2022-04-22\n",
              "547850  22-04-2022 06            5        11  2022     6       2022-04-22\n",
              "547851  22-04-2022 06            4        11  2022     6       2022-04-22\n",
              "547852  22-04-2022 06            5        11  2022     6       2022-04-22"
            ],
            "text/html": [
              "\n",
              "  <div id=\"df-18e059ef-2929-4d66-9781-fc8cc008281d\">\n",
              "    <div class=\"colab-df-container\">\n",
              "      <div>\n",
              "<style scoped>\n",
              "    .dataframe tbody tr th:only-of-type {\n",
              "        vertical-align: middle;\n",
              "    }\n",
              "\n",
              "    .dataframe tbody tr th {\n",
              "        vertical-align: top;\n",
              "    }\n",
              "\n",
              "    .dataframe thead th {\n",
              "        text-align: right;\n",
              "    }\n",
              "</style>\n",
              "<table border=\"1\" class=\"dataframe\">\n",
              "  <thead>\n",
              "    <tr style=\"text-align: right;\">\n",
              "      <th></th>\n",
              "      <th>Date&amp;Hour</th>\n",
              "      <th>Star Rating</th>\n",
              "      <th>Language</th>\n",
              "      <th>Year</th>\n",
              "      <th>hour</th>\n",
              "      <th>transaction_date</th>\n",
              "    </tr>\n",
              "  </thead>\n",
              "  <tbody>\n",
              "    <tr>\n",
              "      <th>547848</th>\n",
              "      <td>22-04-2022 06</td>\n",
              "      <td>5</td>\n",
              "      <td>11</td>\n",
              "      <td>2022</td>\n",
              "      <td>6</td>\n",
              "      <td>2022-04-22</td>\n",
              "    </tr>\n",
              "    <tr>\n",
              "      <th>547849</th>\n",
              "      <td>22-04-2022 06</td>\n",
              "      <td>2</td>\n",
              "      <td>11</td>\n",
              "      <td>2022</td>\n",
              "      <td>6</td>\n",
              "      <td>2022-04-22</td>\n",
              "    </tr>\n",
              "    <tr>\n",
              "      <th>547850</th>\n",
              "      <td>22-04-2022 06</td>\n",
              "      <td>5</td>\n",
              "      <td>11</td>\n",
              "      <td>2022</td>\n",
              "      <td>6</td>\n",
              "      <td>2022-04-22</td>\n",
              "    </tr>\n",
              "    <tr>\n",
              "      <th>547851</th>\n",
              "      <td>22-04-2022 06</td>\n",
              "      <td>4</td>\n",
              "      <td>11</td>\n",
              "      <td>2022</td>\n",
              "      <td>6</td>\n",
              "      <td>2022-04-22</td>\n",
              "    </tr>\n",
              "    <tr>\n",
              "      <th>547852</th>\n",
              "      <td>22-04-2022 06</td>\n",
              "      <td>5</td>\n",
              "      <td>11</td>\n",
              "      <td>2022</td>\n",
              "      <td>6</td>\n",
              "      <td>2022-04-22</td>\n",
              "    </tr>\n",
              "  </tbody>\n",
              "</table>\n",
              "</div>\n",
              "      <button class=\"colab-df-convert\" onclick=\"convertToInteractive('df-18e059ef-2929-4d66-9781-fc8cc008281d')\"\n",
              "              title=\"Convert this dataframe to an interactive table.\"\n",
              "              style=\"display:none;\">\n",
              "        \n",
              "  <svg xmlns=\"http://www.w3.org/2000/svg\" height=\"24px\"viewBox=\"0 0 24 24\"\n",
              "       width=\"24px\">\n",
              "    <path d=\"M0 0h24v24H0V0z\" fill=\"none\"/>\n",
              "    <path d=\"M18.56 5.44l.94 2.06.94-2.06 2.06-.94-2.06-.94-.94-2.06-.94 2.06-2.06.94zm-11 1L8.5 8.5l.94-2.06 2.06-.94-2.06-.94L8.5 2.5l-.94 2.06-2.06.94zm10 10l.94 2.06.94-2.06 2.06-.94-2.06-.94-.94-2.06-.94 2.06-2.06.94z\"/><path d=\"M17.41 7.96l-1.37-1.37c-.4-.4-.92-.59-1.43-.59-.52 0-1.04.2-1.43.59L10.3 9.45l-7.72 7.72c-.78.78-.78 2.05 0 2.83L4 21.41c.39.39.9.59 1.41.59.51 0 1.02-.2 1.41-.59l7.78-7.78 2.81-2.81c.8-.78.8-2.07 0-2.86zM5.41 20L4 18.59l7.72-7.72 1.47 1.35L5.41 20z\"/>\n",
              "  </svg>\n",
              "      </button>\n",
              "      \n",
              "  <style>\n",
              "    .colab-df-container {\n",
              "      display:flex;\n",
              "      flex-wrap:wrap;\n",
              "      gap: 12px;\n",
              "    }\n",
              "\n",
              "    .colab-df-convert {\n",
              "      background-color: #E8F0FE;\n",
              "      border: none;\n",
              "      border-radius: 50%;\n",
              "      cursor: pointer;\n",
              "      display: none;\n",
              "      fill: #1967D2;\n",
              "      height: 32px;\n",
              "      padding: 0 0 0 0;\n",
              "      width: 32px;\n",
              "    }\n",
              "\n",
              "    .colab-df-convert:hover {\n",
              "      background-color: #E2EBFA;\n",
              "      box-shadow: 0px 1px 2px rgba(60, 64, 67, 0.3), 0px 1px 3px 1px rgba(60, 64, 67, 0.15);\n",
              "      fill: #174EA6;\n",
              "    }\n",
              "\n",
              "    [theme=dark] .colab-df-convert {\n",
              "      background-color: #3B4455;\n",
              "      fill: #D2E3FC;\n",
              "    }\n",
              "\n",
              "    [theme=dark] .colab-df-convert:hover {\n",
              "      background-color: #434B5C;\n",
              "      box-shadow: 0px 1px 3px 1px rgba(0, 0, 0, 0.15);\n",
              "      filter: drop-shadow(0px 1px 2px rgba(0, 0, 0, 0.3));\n",
              "      fill: #FFFFFF;\n",
              "    }\n",
              "  </style>\n",
              "\n",
              "      <script>\n",
              "        const buttonEl =\n",
              "          document.querySelector('#df-18e059ef-2929-4d66-9781-fc8cc008281d button.colab-df-convert');\n",
              "        buttonEl.style.display =\n",
              "          google.colab.kernel.accessAllowed ? 'block' : 'none';\n",
              "\n",
              "        async function convertToInteractive(key) {\n",
              "          const element = document.querySelector('#df-18e059ef-2929-4d66-9781-fc8cc008281d');\n",
              "          const dataTable =\n",
              "            await google.colab.kernel.invokeFunction('convertToInteractive',\n",
              "                                                     [key], {});\n",
              "          if (!dataTable) return;\n",
              "\n",
              "          const docLinkHtml = 'Like what you see? Visit the ' +\n",
              "            '<a target=\"_blank\" href=https://colab.research.google.com/notebooks/data_table.ipynb>data table notebook</a>'\n",
              "            + ' to learn more about interactive tables.';\n",
              "          element.innerHTML = '';\n",
              "          dataTable['output_type'] = 'display_data';\n",
              "          await google.colab.output.renderOutput(dataTable, element);\n",
              "          const docLink = document.createElement('div');\n",
              "          docLink.innerHTML = docLinkHtml;\n",
              "          element.appendChild(docLink);\n",
              "        }\n",
              "      </script>\n",
              "    </div>\n",
              "  </div>\n",
              "  "
            ]
          },
          "metadata": {},
          "execution_count": 12
        }
      ],
      "source": [
        "df2.tail()"
      ]
    },
    {
      "cell_type": "code",
      "execution_count": null,
      "metadata": {
        "id": "24oGeIJ_rw4j"
      },
      "outputs": [],
      "source": [
        "df2.rename({'Review Submit Date and Time': 'date'}, axis=1, inplace=True)"
      ]
    },
    {
      "cell_type": "code",
      "execution_count": null,
      "metadata": {
        "id": "VncQnlQZDuep"
      },
      "outputs": [],
      "source": [
        "dfs1=df.loc[df['Year']==2022]"
      ]
    },
    {
      "cell_type": "code",
      "source": [
        "df2.head()"
      ],
      "metadata": {
        "colab": {
          "base_uri": "https://localhost:8080/",
          "height": 206
        },
        "id": "MDgn4HkzNzbk",
        "outputId": "268acbbf-ede3-42ce-ba2d-411d2ee89481"
      },
      "execution_count": null,
      "outputs": [
        {
          "output_type": "execute_result",
          "data": {
            "text/plain": [
              "       Date&Hour  Star Rating  Language  Year  hour transaction_date\n",
              "0  01-01-2022 00            4        11  2022     0       2022-01-01\n",
              "1  01-01-2022 00            1        11  2022     0       2022-01-01\n",
              "2  01-01-2022 00            5        11  2022     0       2022-01-01\n",
              "3  01-01-2022 00            5        11  2022     0       2022-01-01\n",
              "4  01-01-2022 00            3        11  2022     0       2022-01-01"
            ],
            "text/html": [
              "\n",
              "  <div id=\"df-87703cb2-4388-4df2-9bf2-ece7048cd3ad\">\n",
              "    <div class=\"colab-df-container\">\n",
              "      <div>\n",
              "<style scoped>\n",
              "    .dataframe tbody tr th:only-of-type {\n",
              "        vertical-align: middle;\n",
              "    }\n",
              "\n",
              "    .dataframe tbody tr th {\n",
              "        vertical-align: top;\n",
              "    }\n",
              "\n",
              "    .dataframe thead th {\n",
              "        text-align: right;\n",
              "    }\n",
              "</style>\n",
              "<table border=\"1\" class=\"dataframe\">\n",
              "  <thead>\n",
              "    <tr style=\"text-align: right;\">\n",
              "      <th></th>\n",
              "      <th>Date&amp;Hour</th>\n",
              "      <th>Star Rating</th>\n",
              "      <th>Language</th>\n",
              "      <th>Year</th>\n",
              "      <th>hour</th>\n",
              "      <th>transaction_date</th>\n",
              "    </tr>\n",
              "  </thead>\n",
              "  <tbody>\n",
              "    <tr>\n",
              "      <th>0</th>\n",
              "      <td>01-01-2022 00</td>\n",
              "      <td>4</td>\n",
              "      <td>11</td>\n",
              "      <td>2022</td>\n",
              "      <td>0</td>\n",
              "      <td>2022-01-01</td>\n",
              "    </tr>\n",
              "    <tr>\n",
              "      <th>1</th>\n",
              "      <td>01-01-2022 00</td>\n",
              "      <td>1</td>\n",
              "      <td>11</td>\n",
              "      <td>2022</td>\n",
              "      <td>0</td>\n",
              "      <td>2022-01-01</td>\n",
              "    </tr>\n",
              "    <tr>\n",
              "      <th>2</th>\n",
              "      <td>01-01-2022 00</td>\n",
              "      <td>5</td>\n",
              "      <td>11</td>\n",
              "      <td>2022</td>\n",
              "      <td>0</td>\n",
              "      <td>2022-01-01</td>\n",
              "    </tr>\n",
              "    <tr>\n",
              "      <th>3</th>\n",
              "      <td>01-01-2022 00</td>\n",
              "      <td>5</td>\n",
              "      <td>11</td>\n",
              "      <td>2022</td>\n",
              "      <td>0</td>\n",
              "      <td>2022-01-01</td>\n",
              "    </tr>\n",
              "    <tr>\n",
              "      <th>4</th>\n",
              "      <td>01-01-2022 00</td>\n",
              "      <td>3</td>\n",
              "      <td>11</td>\n",
              "      <td>2022</td>\n",
              "      <td>0</td>\n",
              "      <td>2022-01-01</td>\n",
              "    </tr>\n",
              "  </tbody>\n",
              "</table>\n",
              "</div>\n",
              "      <button class=\"colab-df-convert\" onclick=\"convertToInteractive('df-87703cb2-4388-4df2-9bf2-ece7048cd3ad')\"\n",
              "              title=\"Convert this dataframe to an interactive table.\"\n",
              "              style=\"display:none;\">\n",
              "        \n",
              "  <svg xmlns=\"http://www.w3.org/2000/svg\" height=\"24px\"viewBox=\"0 0 24 24\"\n",
              "       width=\"24px\">\n",
              "    <path d=\"M0 0h24v24H0V0z\" fill=\"none\"/>\n",
              "    <path d=\"M18.56 5.44l.94 2.06.94-2.06 2.06-.94-2.06-.94-.94-2.06-.94 2.06-2.06.94zm-11 1L8.5 8.5l.94-2.06 2.06-.94-2.06-.94L8.5 2.5l-.94 2.06-2.06.94zm10 10l.94 2.06.94-2.06 2.06-.94-2.06-.94-.94-2.06-.94 2.06-2.06.94z\"/><path d=\"M17.41 7.96l-1.37-1.37c-.4-.4-.92-.59-1.43-.59-.52 0-1.04.2-1.43.59L10.3 9.45l-7.72 7.72c-.78.78-.78 2.05 0 2.83L4 21.41c.39.39.9.59 1.41.59.51 0 1.02-.2 1.41-.59l7.78-7.78 2.81-2.81c.8-.78.8-2.07 0-2.86zM5.41 20L4 18.59l7.72-7.72 1.47 1.35L5.41 20z\"/>\n",
              "  </svg>\n",
              "      </button>\n",
              "      \n",
              "  <style>\n",
              "    .colab-df-container {\n",
              "      display:flex;\n",
              "      flex-wrap:wrap;\n",
              "      gap: 12px;\n",
              "    }\n",
              "\n",
              "    .colab-df-convert {\n",
              "      background-color: #E8F0FE;\n",
              "      border: none;\n",
              "      border-radius: 50%;\n",
              "      cursor: pointer;\n",
              "      display: none;\n",
              "      fill: #1967D2;\n",
              "      height: 32px;\n",
              "      padding: 0 0 0 0;\n",
              "      width: 32px;\n",
              "    }\n",
              "\n",
              "    .colab-df-convert:hover {\n",
              "      background-color: #E2EBFA;\n",
              "      box-shadow: 0px 1px 2px rgba(60, 64, 67, 0.3), 0px 1px 3px 1px rgba(60, 64, 67, 0.15);\n",
              "      fill: #174EA6;\n",
              "    }\n",
              "\n",
              "    [theme=dark] .colab-df-convert {\n",
              "      background-color: #3B4455;\n",
              "      fill: #D2E3FC;\n",
              "    }\n",
              "\n",
              "    [theme=dark] .colab-df-convert:hover {\n",
              "      background-color: #434B5C;\n",
              "      box-shadow: 0px 1px 3px 1px rgba(0, 0, 0, 0.15);\n",
              "      filter: drop-shadow(0px 1px 2px rgba(0, 0, 0, 0.3));\n",
              "      fill: #FFFFFF;\n",
              "    }\n",
              "  </style>\n",
              "\n",
              "      <script>\n",
              "        const buttonEl =\n",
              "          document.querySelector('#df-87703cb2-4388-4df2-9bf2-ece7048cd3ad button.colab-df-convert');\n",
              "        buttonEl.style.display =\n",
              "          google.colab.kernel.accessAllowed ? 'block' : 'none';\n",
              "\n",
              "        async function convertToInteractive(key) {\n",
              "          const element = document.querySelector('#df-87703cb2-4388-4df2-9bf2-ece7048cd3ad');\n",
              "          const dataTable =\n",
              "            await google.colab.kernel.invokeFunction('convertToInteractive',\n",
              "                                                     [key], {});\n",
              "          if (!dataTable) return;\n",
              "\n",
              "          const docLinkHtml = 'Like what you see? Visit the ' +\n",
              "            '<a target=\"_blank\" href=https://colab.research.google.com/notebooks/data_table.ipynb>data table notebook</a>'\n",
              "            + ' to learn more about interactive tables.';\n",
              "          element.innerHTML = '';\n",
              "          dataTable['output_type'] = 'display_data';\n",
              "          await google.colab.output.renderOutput(dataTable, element);\n",
              "          const docLink = document.createElement('div');\n",
              "          docLink.innerHTML = docLinkHtml;\n",
              "          element.appendChild(docLink);\n",
              "        }\n",
              "      </script>\n",
              "    </div>\n",
              "  </div>\n",
              "  "
            ]
          },
          "metadata": {},
          "execution_count": 15
        }
      ]
    },
    {
      "cell_type": "code",
      "source": [
        "df2.dtypes"
      ],
      "metadata": {
        "colab": {
          "base_uri": "https://localhost:8080/"
        },
        "id": "jHka66_PfQwZ",
        "outputId": "90d97f32-8f00-4a75-ae5f-db0d5ab140ef"
      },
      "execution_count": null,
      "outputs": [
        {
          "output_type": "execute_result",
          "data": {
            "text/plain": [
              "Date&Hour           object\n",
              "Star Rating          int64\n",
              "Language             int64\n",
              "Year                 int64\n",
              "hour                 int64\n",
              "transaction_date    object\n",
              "dtype: object"
            ]
          },
          "metadata": {},
          "execution_count": 17
        }
      ]
    },
    {
      "cell_type": "code",
      "source": [
        "df2['Date&Hour']=pd.to_datetime(df2['Date&Hour'], format=\"%d-%m-%Y %H\")"
      ],
      "metadata": {
        "id": "Yqe-_tkRfXRD"
      },
      "execution_count": null,
      "outputs": []
    },
    {
      "cell_type": "code",
      "execution_count": null,
      "metadata": {
        "id": "aRTM6pLmCv3O",
        "colab": {
          "base_uri": "https://localhost:8080/",
          "height": 354
        },
        "outputId": "72a10e17-a21e-4310-97eb-ebc82f7213b3"
      },
      "outputs": [
        {
          "output_type": "execute_result",
          "data": {
            "text/plain": [
              "  transaction_date_x hour_x  kill_switch_txns  Date&Hour  Year_x  Star Rating  \\\n",
              "0         01-01-2022      0              2355 2022-01-01    2022            4   \n",
              "1         01-01-2022      0              2355 2022-01-01    2022            1   \n",
              "2         01-01-2022      0              2355 2022-01-01    2022            5   \n",
              "3         01-01-2022      0              2355 2022-01-01    2022            5   \n",
              "4         01-01-2022      0              2355 2022-01-01    2022            3   \n",
              "\n",
              "   Language  Year_y  hour_y transaction_date_y  \n",
              "0        11    2022       0         2022-01-01  \n",
              "1        11    2022       0         2022-01-01  \n",
              "2        11    2022       0         2022-01-01  \n",
              "3        11    2022       0         2022-01-01  \n",
              "4        11    2022       0         2022-01-01  "
            ],
            "text/html": [
              "\n",
              "  <div id=\"df-1d06fc80-2891-4684-8586-90b914751ce4\">\n",
              "    <div class=\"colab-df-container\">\n",
              "      <div>\n",
              "<style scoped>\n",
              "    .dataframe tbody tr th:only-of-type {\n",
              "        vertical-align: middle;\n",
              "    }\n",
              "\n",
              "    .dataframe tbody tr th {\n",
              "        vertical-align: top;\n",
              "    }\n",
              "\n",
              "    .dataframe thead th {\n",
              "        text-align: right;\n",
              "    }\n",
              "</style>\n",
              "<table border=\"1\" class=\"dataframe\">\n",
              "  <thead>\n",
              "    <tr style=\"text-align: right;\">\n",
              "      <th></th>\n",
              "      <th>transaction_date_x</th>\n",
              "      <th>hour_x</th>\n",
              "      <th>kill_switch_txns</th>\n",
              "      <th>Date&amp;Hour</th>\n",
              "      <th>Year_x</th>\n",
              "      <th>Star Rating</th>\n",
              "      <th>Language</th>\n",
              "      <th>Year_y</th>\n",
              "      <th>hour_y</th>\n",
              "      <th>transaction_date_y</th>\n",
              "    </tr>\n",
              "  </thead>\n",
              "  <tbody>\n",
              "    <tr>\n",
              "      <th>0</th>\n",
              "      <td>01-01-2022</td>\n",
              "      <td>0</td>\n",
              "      <td>2355</td>\n",
              "      <td>2022-01-01</td>\n",
              "      <td>2022</td>\n",
              "      <td>4</td>\n",
              "      <td>11</td>\n",
              "      <td>2022</td>\n",
              "      <td>0</td>\n",
              "      <td>2022-01-01</td>\n",
              "    </tr>\n",
              "    <tr>\n",
              "      <th>1</th>\n",
              "      <td>01-01-2022</td>\n",
              "      <td>0</td>\n",
              "      <td>2355</td>\n",
              "      <td>2022-01-01</td>\n",
              "      <td>2022</td>\n",
              "      <td>1</td>\n",
              "      <td>11</td>\n",
              "      <td>2022</td>\n",
              "      <td>0</td>\n",
              "      <td>2022-01-01</td>\n",
              "    </tr>\n",
              "    <tr>\n",
              "      <th>2</th>\n",
              "      <td>01-01-2022</td>\n",
              "      <td>0</td>\n",
              "      <td>2355</td>\n",
              "      <td>2022-01-01</td>\n",
              "      <td>2022</td>\n",
              "      <td>5</td>\n",
              "      <td>11</td>\n",
              "      <td>2022</td>\n",
              "      <td>0</td>\n",
              "      <td>2022-01-01</td>\n",
              "    </tr>\n",
              "    <tr>\n",
              "      <th>3</th>\n",
              "      <td>01-01-2022</td>\n",
              "      <td>0</td>\n",
              "      <td>2355</td>\n",
              "      <td>2022-01-01</td>\n",
              "      <td>2022</td>\n",
              "      <td>5</td>\n",
              "      <td>11</td>\n",
              "      <td>2022</td>\n",
              "      <td>0</td>\n",
              "      <td>2022-01-01</td>\n",
              "    </tr>\n",
              "    <tr>\n",
              "      <th>4</th>\n",
              "      <td>01-01-2022</td>\n",
              "      <td>0</td>\n",
              "      <td>2355</td>\n",
              "      <td>2022-01-01</td>\n",
              "      <td>2022</td>\n",
              "      <td>3</td>\n",
              "      <td>11</td>\n",
              "      <td>2022</td>\n",
              "      <td>0</td>\n",
              "      <td>2022-01-01</td>\n",
              "    </tr>\n",
              "  </tbody>\n",
              "</table>\n",
              "</div>\n",
              "      <button class=\"colab-df-convert\" onclick=\"convertToInteractive('df-1d06fc80-2891-4684-8586-90b914751ce4')\"\n",
              "              title=\"Convert this dataframe to an interactive table.\"\n",
              "              style=\"display:none;\">\n",
              "        \n",
              "  <svg xmlns=\"http://www.w3.org/2000/svg\" height=\"24px\"viewBox=\"0 0 24 24\"\n",
              "       width=\"24px\">\n",
              "    <path d=\"M0 0h24v24H0V0z\" fill=\"none\"/>\n",
              "    <path d=\"M18.56 5.44l.94 2.06.94-2.06 2.06-.94-2.06-.94-.94-2.06-.94 2.06-2.06.94zm-11 1L8.5 8.5l.94-2.06 2.06-.94-2.06-.94L8.5 2.5l-.94 2.06-2.06.94zm10 10l.94 2.06.94-2.06 2.06-.94-2.06-.94-.94-2.06-.94 2.06-2.06.94z\"/><path d=\"M17.41 7.96l-1.37-1.37c-.4-.4-.92-.59-1.43-.59-.52 0-1.04.2-1.43.59L10.3 9.45l-7.72 7.72c-.78.78-.78 2.05 0 2.83L4 21.41c.39.39.9.59 1.41.59.51 0 1.02-.2 1.41-.59l7.78-7.78 2.81-2.81c.8-.78.8-2.07 0-2.86zM5.41 20L4 18.59l7.72-7.72 1.47 1.35L5.41 20z\"/>\n",
              "  </svg>\n",
              "      </button>\n",
              "      \n",
              "  <style>\n",
              "    .colab-df-container {\n",
              "      display:flex;\n",
              "      flex-wrap:wrap;\n",
              "      gap: 12px;\n",
              "    }\n",
              "\n",
              "    .colab-df-convert {\n",
              "      background-color: #E8F0FE;\n",
              "      border: none;\n",
              "      border-radius: 50%;\n",
              "      cursor: pointer;\n",
              "      display: none;\n",
              "      fill: #1967D2;\n",
              "      height: 32px;\n",
              "      padding: 0 0 0 0;\n",
              "      width: 32px;\n",
              "    }\n",
              "\n",
              "    .colab-df-convert:hover {\n",
              "      background-color: #E2EBFA;\n",
              "      box-shadow: 0px 1px 2px rgba(60, 64, 67, 0.3), 0px 1px 3px 1px rgba(60, 64, 67, 0.15);\n",
              "      fill: #174EA6;\n",
              "    }\n",
              "\n",
              "    [theme=dark] .colab-df-convert {\n",
              "      background-color: #3B4455;\n",
              "      fill: #D2E3FC;\n",
              "    }\n",
              "\n",
              "    [theme=dark] .colab-df-convert:hover {\n",
              "      background-color: #434B5C;\n",
              "      box-shadow: 0px 1px 3px 1px rgba(0, 0, 0, 0.15);\n",
              "      filter: drop-shadow(0px 1px 2px rgba(0, 0, 0, 0.3));\n",
              "      fill: #FFFFFF;\n",
              "    }\n",
              "  </style>\n",
              "\n",
              "      <script>\n",
              "        const buttonEl =\n",
              "          document.querySelector('#df-1d06fc80-2891-4684-8586-90b914751ce4 button.colab-df-convert');\n",
              "        buttonEl.style.display =\n",
              "          google.colab.kernel.accessAllowed ? 'block' : 'none';\n",
              "\n",
              "        async function convertToInteractive(key) {\n",
              "          const element = document.querySelector('#df-1d06fc80-2891-4684-8586-90b914751ce4');\n",
              "          const dataTable =\n",
              "            await google.colab.kernel.invokeFunction('convertToInteractive',\n",
              "                                                     [key], {});\n",
              "          if (!dataTable) return;\n",
              "\n",
              "          const docLinkHtml = 'Like what you see? Visit the ' +\n",
              "            '<a target=\"_blank\" href=https://colab.research.google.com/notebooks/data_table.ipynb>data table notebook</a>'\n",
              "            + ' to learn more about interactive tables.';\n",
              "          element.innerHTML = '';\n",
              "          dataTable['output_type'] = 'display_data';\n",
              "          await google.colab.output.renderOutput(dataTable, element);\n",
              "          const docLink = document.createElement('div');\n",
              "          docLink.innerHTML = docLinkHtml;\n",
              "          element.appendChild(docLink);\n",
              "        }\n",
              "      </script>\n",
              "    </div>\n",
              "  </div>\n",
              "  "
            ]
          },
          "metadata": {},
          "execution_count": 19
        }
      ],
      "source": [
        "dfm=pd.merge(dfs1, df2, on=['Date&Hour'], how='left')\n",
        "dfm.head()"
      ]
    },
    {
      "cell_type": "code",
      "source": [
        "df2.dtypes"
      ],
      "metadata": {
        "colab": {
          "base_uri": "https://localhost:8080/"
        },
        "id": "APISzfu7OXdO",
        "outputId": "9302d5df-6eca-489f-895f-90c2a40f92a5"
      },
      "execution_count": null,
      "outputs": [
        {
          "output_type": "execute_result",
          "data": {
            "text/plain": [
              "Date&Hour           datetime64[ns]\n",
              "Star Rating                  int64\n",
              "Language                     int64\n",
              "Year                         int64\n",
              "hour                         int64\n",
              "transaction_date            object\n",
              "dtype: object"
            ]
          },
          "metadata": {},
          "execution_count": 20
        }
      ]
    },
    {
      "cell_type": "code",
      "source": [
        "df2['Date&Hour']=pd.to_datetime(df2['Date&Hour'], format=\"%d-%m-%Y %H\")"
      ],
      "metadata": {
        "id": "o2Uefh5JOW5O"
      },
      "execution_count": null,
      "outputs": []
    },
    {
      "cell_type": "code",
      "execution_count": null,
      "metadata": {
        "id": "uUu41RUdDGKK",
        "colab": {
          "base_uri": "https://localhost:8080/"
        },
        "outputId": "1b4f3ee1-2fdd-42a8-c2f6-8623ff50822e"
      },
      "outputs": [
        {
          "output_type": "stream",
          "name": "stdout",
          "text": [
            "<class 'pandas.core.frame.DataFrame'>\n",
            "Int64Index: 390943 entries, 0 to 390942\n",
            "Data columns (total 10 columns):\n",
            " #   Column              Non-Null Count   Dtype         \n",
            "---  ------              --------------   -----         \n",
            " 0   transaction_date_x  390943 non-null  object        \n",
            " 1   hour_x              390943 non-null  object        \n",
            " 2   kill_switch_txns    390943 non-null  int64         \n",
            " 3   Date&Hour           390943 non-null  datetime64[ns]\n",
            " 4   Year_x              390943 non-null  int64         \n",
            " 5   Star Rating         390943 non-null  int64         \n",
            " 6   Language            390943 non-null  int64         \n",
            " 7   Year_y              390943 non-null  int64         \n",
            " 8   hour_y              390943 non-null  int64         \n",
            " 9   transaction_date_y  390943 non-null  object        \n",
            "dtypes: datetime64[ns](1), int64(6), object(3)\n",
            "memory usage: 32.8+ MB\n"
          ]
        }
      ],
      "source": [
        "dfm.info()"
      ]
    },
    {
      "cell_type": "code",
      "execution_count": null,
      "metadata": {
        "id": "d0UfSbuM_yFZ"
      },
      "outputs": [],
      "source": [
        "dfm['Month']=dfm['Date&Hour'].dt.month\n",
        "dfm['Day']=dfm['Date&Hour'].dt.day"
      ]
    },
    {
      "cell_type": "markdown",
      "metadata": {
        "id": "IhReLC5xDa0N"
      },
      "source": [
        "**Understanding Dataset**"
      ]
    },
    {
      "cell_type": "code",
      "source": [
        "dfm.head()"
      ],
      "metadata": {
        "colab": {
          "base_uri": "https://localhost:8080/",
          "height": 374
        },
        "id": "xJtddWxeOvVg",
        "outputId": "c205300c-36d6-47a7-e2c5-62d5aeb923d3"
      },
      "execution_count": null,
      "outputs": [
        {
          "output_type": "execute_result",
          "data": {
            "text/plain": [
              "  transaction_date_x hour_x  kill_switch_txns  Date&Hour  Year_x  Star Rating  \\\n",
              "0         01-01-2022      0              2355 2022-01-01    2022            4   \n",
              "1         01-01-2022      0              2355 2022-01-01    2022            1   \n",
              "2         01-01-2022      0              2355 2022-01-01    2022            5   \n",
              "3         01-01-2022      0              2355 2022-01-01    2022            5   \n",
              "4         01-01-2022      0              2355 2022-01-01    2022            3   \n",
              "\n",
              "   Language  Year_y  hour_y transaction_date_y  Month  Day  \n",
              "0        11    2022       0         2022-01-01      1    1  \n",
              "1        11    2022       0         2022-01-01      1    1  \n",
              "2        11    2022       0         2022-01-01      1    1  \n",
              "3        11    2022       0         2022-01-01      1    1  \n",
              "4        11    2022       0         2022-01-01      1    1  "
            ],
            "text/html": [
              "\n",
              "  <div id=\"df-1b62f47b-99f5-42f5-b794-2bee45a6f37b\">\n",
              "    <div class=\"colab-df-container\">\n",
              "      <div>\n",
              "<style scoped>\n",
              "    .dataframe tbody tr th:only-of-type {\n",
              "        vertical-align: middle;\n",
              "    }\n",
              "\n",
              "    .dataframe tbody tr th {\n",
              "        vertical-align: top;\n",
              "    }\n",
              "\n",
              "    .dataframe thead th {\n",
              "        text-align: right;\n",
              "    }\n",
              "</style>\n",
              "<table border=\"1\" class=\"dataframe\">\n",
              "  <thead>\n",
              "    <tr style=\"text-align: right;\">\n",
              "      <th></th>\n",
              "      <th>transaction_date_x</th>\n",
              "      <th>hour_x</th>\n",
              "      <th>kill_switch_txns</th>\n",
              "      <th>Date&amp;Hour</th>\n",
              "      <th>Year_x</th>\n",
              "      <th>Star Rating</th>\n",
              "      <th>Language</th>\n",
              "      <th>Year_y</th>\n",
              "      <th>hour_y</th>\n",
              "      <th>transaction_date_y</th>\n",
              "      <th>Month</th>\n",
              "      <th>Day</th>\n",
              "    </tr>\n",
              "  </thead>\n",
              "  <tbody>\n",
              "    <tr>\n",
              "      <th>0</th>\n",
              "      <td>01-01-2022</td>\n",
              "      <td>0</td>\n",
              "      <td>2355</td>\n",
              "      <td>2022-01-01</td>\n",
              "      <td>2022</td>\n",
              "      <td>4</td>\n",
              "      <td>11</td>\n",
              "      <td>2022</td>\n",
              "      <td>0</td>\n",
              "      <td>2022-01-01</td>\n",
              "      <td>1</td>\n",
              "      <td>1</td>\n",
              "    </tr>\n",
              "    <tr>\n",
              "      <th>1</th>\n",
              "      <td>01-01-2022</td>\n",
              "      <td>0</td>\n",
              "      <td>2355</td>\n",
              "      <td>2022-01-01</td>\n",
              "      <td>2022</td>\n",
              "      <td>1</td>\n",
              "      <td>11</td>\n",
              "      <td>2022</td>\n",
              "      <td>0</td>\n",
              "      <td>2022-01-01</td>\n",
              "      <td>1</td>\n",
              "      <td>1</td>\n",
              "    </tr>\n",
              "    <tr>\n",
              "      <th>2</th>\n",
              "      <td>01-01-2022</td>\n",
              "      <td>0</td>\n",
              "      <td>2355</td>\n",
              "      <td>2022-01-01</td>\n",
              "      <td>2022</td>\n",
              "      <td>5</td>\n",
              "      <td>11</td>\n",
              "      <td>2022</td>\n",
              "      <td>0</td>\n",
              "      <td>2022-01-01</td>\n",
              "      <td>1</td>\n",
              "      <td>1</td>\n",
              "    </tr>\n",
              "    <tr>\n",
              "      <th>3</th>\n",
              "      <td>01-01-2022</td>\n",
              "      <td>0</td>\n",
              "      <td>2355</td>\n",
              "      <td>2022-01-01</td>\n",
              "      <td>2022</td>\n",
              "      <td>5</td>\n",
              "      <td>11</td>\n",
              "      <td>2022</td>\n",
              "      <td>0</td>\n",
              "      <td>2022-01-01</td>\n",
              "      <td>1</td>\n",
              "      <td>1</td>\n",
              "    </tr>\n",
              "    <tr>\n",
              "      <th>4</th>\n",
              "      <td>01-01-2022</td>\n",
              "      <td>0</td>\n",
              "      <td>2355</td>\n",
              "      <td>2022-01-01</td>\n",
              "      <td>2022</td>\n",
              "      <td>3</td>\n",
              "      <td>11</td>\n",
              "      <td>2022</td>\n",
              "      <td>0</td>\n",
              "      <td>2022-01-01</td>\n",
              "      <td>1</td>\n",
              "      <td>1</td>\n",
              "    </tr>\n",
              "  </tbody>\n",
              "</table>\n",
              "</div>\n",
              "      <button class=\"colab-df-convert\" onclick=\"convertToInteractive('df-1b62f47b-99f5-42f5-b794-2bee45a6f37b')\"\n",
              "              title=\"Convert this dataframe to an interactive table.\"\n",
              "              style=\"display:none;\">\n",
              "        \n",
              "  <svg xmlns=\"http://www.w3.org/2000/svg\" height=\"24px\"viewBox=\"0 0 24 24\"\n",
              "       width=\"24px\">\n",
              "    <path d=\"M0 0h24v24H0V0z\" fill=\"none\"/>\n",
              "    <path d=\"M18.56 5.44l.94 2.06.94-2.06 2.06-.94-2.06-.94-.94-2.06-.94 2.06-2.06.94zm-11 1L8.5 8.5l.94-2.06 2.06-.94-2.06-.94L8.5 2.5l-.94 2.06-2.06.94zm10 10l.94 2.06.94-2.06 2.06-.94-2.06-.94-.94-2.06-.94 2.06-2.06.94z\"/><path d=\"M17.41 7.96l-1.37-1.37c-.4-.4-.92-.59-1.43-.59-.52 0-1.04.2-1.43.59L10.3 9.45l-7.72 7.72c-.78.78-.78 2.05 0 2.83L4 21.41c.39.39.9.59 1.41.59.51 0 1.02-.2 1.41-.59l7.78-7.78 2.81-2.81c.8-.78.8-2.07 0-2.86zM5.41 20L4 18.59l7.72-7.72 1.47 1.35L5.41 20z\"/>\n",
              "  </svg>\n",
              "      </button>\n",
              "      \n",
              "  <style>\n",
              "    .colab-df-container {\n",
              "      display:flex;\n",
              "      flex-wrap:wrap;\n",
              "      gap: 12px;\n",
              "    }\n",
              "\n",
              "    .colab-df-convert {\n",
              "      background-color: #E8F0FE;\n",
              "      border: none;\n",
              "      border-radius: 50%;\n",
              "      cursor: pointer;\n",
              "      display: none;\n",
              "      fill: #1967D2;\n",
              "      height: 32px;\n",
              "      padding: 0 0 0 0;\n",
              "      width: 32px;\n",
              "    }\n",
              "\n",
              "    .colab-df-convert:hover {\n",
              "      background-color: #E2EBFA;\n",
              "      box-shadow: 0px 1px 2px rgba(60, 64, 67, 0.3), 0px 1px 3px 1px rgba(60, 64, 67, 0.15);\n",
              "      fill: #174EA6;\n",
              "    }\n",
              "\n",
              "    [theme=dark] .colab-df-convert {\n",
              "      background-color: #3B4455;\n",
              "      fill: #D2E3FC;\n",
              "    }\n",
              "\n",
              "    [theme=dark] .colab-df-convert:hover {\n",
              "      background-color: #434B5C;\n",
              "      box-shadow: 0px 1px 3px 1px rgba(0, 0, 0, 0.15);\n",
              "      filter: drop-shadow(0px 1px 2px rgba(0, 0, 0, 0.3));\n",
              "      fill: #FFFFFF;\n",
              "    }\n",
              "  </style>\n",
              "\n",
              "      <script>\n",
              "        const buttonEl =\n",
              "          document.querySelector('#df-1b62f47b-99f5-42f5-b794-2bee45a6f37b button.colab-df-convert');\n",
              "        buttonEl.style.display =\n",
              "          google.colab.kernel.accessAllowed ? 'block' : 'none';\n",
              "\n",
              "        async function convertToInteractive(key) {\n",
              "          const element = document.querySelector('#df-1b62f47b-99f5-42f5-b794-2bee45a6f37b');\n",
              "          const dataTable =\n",
              "            await google.colab.kernel.invokeFunction('convertToInteractive',\n",
              "                                                     [key], {});\n",
              "          if (!dataTable) return;\n",
              "\n",
              "          const docLinkHtml = 'Like what you see? Visit the ' +\n",
              "            '<a target=\"_blank\" href=https://colab.research.google.com/notebooks/data_table.ipynb>data table notebook</a>'\n",
              "            + ' to learn more about interactive tables.';\n",
              "          element.innerHTML = '';\n",
              "          dataTable['output_type'] = 'display_data';\n",
              "          await google.colab.output.renderOutput(dataTable, element);\n",
              "          const docLink = document.createElement('div');\n",
              "          docLink.innerHTML = docLinkHtml;\n",
              "          element.appendChild(docLink);\n",
              "        }\n",
              "      </script>\n",
              "    </div>\n",
              "  </div>\n",
              "  "
            ]
          },
          "metadata": {},
          "execution_count": 24
        }
      ]
    },
    {
      "cell_type": "code",
      "execution_count": null,
      "metadata": {
        "colab": {
          "base_uri": "https://localhost:8080/",
          "height": 337
        },
        "id": "a7ChG8jPJOAD",
        "outputId": "af8fd78f-d569-464f-b7bd-9dd278e2e8dc"
      },
      "outputs": [
        {
          "output_type": "display_data",
          "data": {
            "text/plain": [
              "<Figure size 432x288 with 2 Axes>"
            ],
            "image/png": "[encoded data removed]"
          },
          "metadata": {
            "needs_background": "light"
          }
        }
      ],
      "source": [
        "import seaborn as sns\n",
        "dataplot=sns.heatmap(dfm.corr())\n",
        "plt.show()"
      ]
    },
    {
      "cell_type": "code",
      "source": [
        "dfm['hour_x'].unique()"
      ],
      "metadata": {
        "id": "1XMaQztAZb8V"
      },
      "execution_count": null,
      "outputs": []
    },
    {
      "cell_type": "code",
      "execution_count": null,
      "metadata": {
        "colab": {
          "base_uri": "https://localhost:8080/",
          "height": 374
        },
        "id": "4MN2jI88J-cY",
        "outputId": "f4842b50-0a3b-4970-f692-8bc97a520f41"
      },
      "outputs": [
        {
          "output_type": "execute_result",
          "data": {
            "text/plain": [
              "  transaction_date_x hour_x  kill_switch_txns  Date&Hour  Year_x  Star Rating  \\\n",
              "0         01-01-2022      0              2355 2022-01-01    2022            4   \n",
              "1         01-01-2022      0              2355 2022-01-01    2022            1   \n",
              "2         01-01-2022      0              2355 2022-01-01    2022            5   \n",
              "3         01-01-2022      0              2355 2022-01-01    2022            5   \n",
              "4         01-01-2022      0              2355 2022-01-01    2022            3   \n",
              "\n",
              "   Language  Year_y  hour_y transaction_date_y  Month  Day  \n",
              "0        11    2022       0         2022-01-01      1    1  \n",
              "1        11    2022       0         2022-01-01      1    1  \n",
              "2        11    2022       0         2022-01-01      1    1  \n",
              "3        11    2022       0         2022-01-01      1    1  \n",
              "4        11    2022       0         2022-01-01      1    1  "
            ],
            "text/html": [
              "\n",
              "  <div id=\"df-9bfbe213-abf9-4d8b-8595-7ccebf4f1de2\">\n",
              "    <div class=\"colab-df-container\">\n",
              "      <div>\n",
              "<style scoped>\n",
              "    .dataframe tbody tr th:only-of-type {\n",
              "        vertical-align: middle;\n",
              "    }\n",
              "\n",
              "    .dataframe tbody tr th {\n",
              "        vertical-align: top;\n",
              "    }\n",
              "\n",
              "    .dataframe thead th {\n",
              "        text-align: right;\n",
              "    }\n",
              "</style>\n",
              "<table border=\"1\" class=\"dataframe\">\n",
              "  <thead>\n",
              "    <tr style=\"text-align: right;\">\n",
              "      <th></th>\n",
              "      <th>transaction_date_x</th>\n",
              "      <th>hour_x</th>\n",
              "      <th>kill_switch_txns</th>\n",
              "      <th>Date&amp;Hour</th>\n",
              "      <th>Year_x</th>\n",
              "      <th>Star Rating</th>\n",
              "      <th>Language</th>\n",
              "      <th>Year_y</th>\n",
              "      <th>hour_y</th>\n",
              "      <th>transaction_date_y</th>\n",
              "      <th>Month</th>\n",
              "      <th>Day</th>\n",
              "    </tr>\n",
              "  </thead>\n",
              "  <tbody>\n",
              "    <tr>\n",
              "      <th>0</th>\n",
              "      <td>01-01-2022</td>\n",
              "      <td>0</td>\n",
              "      <td>2355</td>\n",
              "      <td>2022-01-01</td>\n",
              "      <td>2022</td>\n",
              "      <td>4</td>\n",
              "      <td>11</td>\n",
              "      <td>2022</td>\n",
              "      <td>0</td>\n",
              "      <td>2022-01-01</td>\n",
              "      <td>1</td>\n",
              "      <td>1</td>\n",
              "    </tr>\n",
              "    <tr>\n",
              "      <th>1</th>\n",
              "      <td>01-01-2022</td>\n",
              "      <td>0</td>\n",
              "      <td>2355</td>\n",
              "      <td>2022-01-01</td>\n",
              "      <td>2022</td>\n",
              "      <td>1</td>\n",
              "      <td>11</td>\n",
              "      <td>2022</td>\n",
              "      <td>0</td>\n",
              "      <td>2022-01-01</td>\n",
              "      <td>1</td>\n",
              "      <td>1</td>\n",
              "    </tr>\n",
              "    <tr>\n",
              "      <th>2</th>\n",
              "      <td>01-01-2022</td>\n",
              "      <td>0</td>\n",
              "      <td>2355</td>\n",
              "      <td>2022-01-01</td>\n",
              "      <td>2022</td>\n",
              "      <td>5</td>\n",
              "      <td>11</td>\n",
              "      <td>2022</td>\n",
              "      <td>0</td>\n",
              "      <td>2022-01-01</td>\n",
              "      <td>1</td>\n",
              "      <td>1</td>\n",
              "    </tr>\n",
              "    <tr>\n",
              "      <th>3</th>\n",
              "      <td>01-01-2022</td>\n",
              "      <td>0</td>\n",
              "      <td>2355</td>\n",
              "      <td>2022-01-01</td>\n",
              "      <td>2022</td>\n",
              "      <td>5</td>\n",
              "      <td>11</td>\n",
              "      <td>2022</td>\n",
              "      <td>0</td>\n",
              "      <td>2022-01-01</td>\n",
              "      <td>1</td>\n",
              "      <td>1</td>\n",
              "    </tr>\n",
              "    <tr>\n",
              "      <th>4</th>\n",
              "      <td>01-01-2022</td>\n",
              "      <td>0</td>\n",
              "      <td>2355</td>\n",
              "      <td>2022-01-01</td>\n",
              "      <td>2022</td>\n",
              "      <td>3</td>\n",
              "      <td>11</td>\n",
              "      <td>2022</td>\n",
              "      <td>0</td>\n",
              "      <td>2022-01-01</td>\n",
              "      <td>1</td>\n",
              "      <td>1</td>\n",
              "    </tr>\n",
              "  </tbody>\n",
              "</table>\n",
              "</div>\n",
              "      <button class=\"colab-df-convert\" onclick=\"convertToInteractive('df-9bfbe213-abf9-4d8b-8595-7ccebf4f1de2')\"\n",
              "              title=\"Convert this dataframe to an interactive table.\"\n",
              "              style=\"display:none;\">\n",
              "        \n",
              "  <svg xmlns=\"http://www.w3.org/2000/svg\" height=\"24px\"viewBox=\"0 0 24 24\"\n",
              "       width=\"24px\">\n",
              "    <path d=\"M0 0h24v24H0V0z\" fill=\"none\"/>\n",
              "    <path d=\"M18.56 5.44l.94 2.06.94-2.06 2.06-.94-2.06-.94-.94-2.06-.94 2.06-2.06.94zm-11 1L8.5 8.5l.94-2.06 2.06-.94-2.06-.94L8.5 2.5l-.94 2.06-2.06.94zm10 10l.94 2.06.94-2.06 2.06-.94-2.06-.94-.94-2.06-.94 2.06-2.06.94z\"/><path d=\"M17.41 7.96l-1.37-1.37c-.4-.4-.92-.59-1.43-.59-.52 0-1.04.2-1.43.59L10.3 9.45l-7.72 7.72c-.78.78-.78 2.05 0 2.83L4 21.41c.39.39.9.59 1.41.59.51 0 1.02-.2 1.41-.59l7.78-7.78 2.81-2.81c.8-.78.8-2.07 0-2.86zM5.41 20L4 18.59l7.72-7.72 1.47 1.35L5.41 20z\"/>\n",
              "  </svg>\n",
              "      </button>\n",
              "      \n",
              "  <style>\n",
              "    .colab-df-container {\n",
              "      display:flex;\n",
              "      flex-wrap:wrap;\n",
              "      gap: 12px;\n",
              "    }\n",
              "\n",
              "    .colab-df-convert {\n",
              "      background-color: #E8F0FE;\n",
              "      border: none;\n",
              "      border-radius: 50%;\n",
              "      cursor: pointer;\n",
              "      display: none;\n",
              "      fill: #1967D2;\n",
              "      height: 32px;\n",
              "      padding: 0 0 0 0;\n",
              "      width: 32px;\n",
              "    }\n",
              "\n",
              "    .colab-df-convert:hover {\n",
              "      background-color: #E2EBFA;\n",
              "      box-shadow: 0px 1px 2px rgba(60, 64, 67, 0.3), 0px 1px 3px 1px rgba(60, 64, 67, 0.15);\n",
              "      fill: #174EA6;\n",
              "    }\n",
              "\n",
              "    [theme=dark] .colab-df-convert {\n",
              "      background-color: #3B4455;\n",
              "      fill: #D2E3FC;\n",
              "    }\n",
              "\n",
              "    [theme=dark] .colab-df-convert:hover {\n",
              "      background-color: #434B5C;\n",
              "      box-shadow: 0px 1px 3px 1px rgba(0, 0, 0, 0.15);\n",
              "      filter: drop-shadow(0px 1px 2px rgba(0, 0, 0, 0.3));\n",
              "      fill: #FFFFFF;\n",
              "    }\n",
              "  </style>\n",
              "\n",
              "      <script>\n",
              "        const buttonEl =\n",
              "          document.querySelector('#df-9bfbe213-abf9-4d8b-8595-7ccebf4f1de2 button.colab-df-convert');\n",
              "        buttonEl.style.display =\n",
              "          google.colab.kernel.accessAllowed ? 'block' : 'none';\n",
              "\n",
              "        async function convertToInteractive(key) {\n",
              "          const element = document.querySelector('#df-9bfbe213-abf9-4d8b-8595-7ccebf4f1de2');\n",
              "          const dataTable =\n",
              "            await google.colab.kernel.invokeFunction('convertToInteractive',\n",
              "                                                     [key], {});\n",
              "          if (!dataTable) return;\n",
              "\n",
              "          const docLinkHtml = 'Like what you see? Visit the ' +\n",
              "            '<a target=\"_blank\" href=https://colab.research.google.com/notebooks/data_table.ipynb>data table notebook</a>'\n",
              "            + ' to learn more about interactive tables.';\n",
              "          element.innerHTML = '';\n",
              "          dataTable['output_type'] = 'display_data';\n",
              "          await google.colab.output.renderOutput(dataTable, element);\n",
              "          const docLink = document.createElement('div');\n",
              "          docLink.innerHTML = docLinkHtml;\n",
              "          element.appendChild(docLink);\n",
              "        }\n",
              "      </script>\n",
              "    </div>\n",
              "  </div>\n",
              "  "
            ]
          },
          "metadata": {},
          "execution_count": 26
        }
      ],
      "source": [
        "dfs=dfm.loc[dfm['transaction_date_x']== \"01-01-2022\"]\n",
        "dfs.head()"
      ]
    },
    {
      "cell_type": "code",
      "execution_count": null,
      "metadata": {
        "id": "Dvb5bEuC1zA5",
        "colab": {
          "base_uri": "https://localhost:8080/",
          "height": 398
        },
        "outputId": "f75a3e05-9f80-4222-9c44-6fd89d87c37f"
      },
      "outputs": [
        {
          "output_type": "stream",
          "name": "stderr",
          "text": [
            "/usr/local/lib/python3.7/dist-packages/seaborn/_decorators.py:43: FutureWarning:\n",
            "\n",
            "Pass the following variables as keyword args: x, y. From version 0.12, the only valid positional argument will be `data`, and passing other arguments without an explicit keyword will result in an error or misinterpretation.\n",
            "\n"
          ]
        },
        {
          "output_type": "execute_result",
          "data": {
            "text/plain": [
              "<matplotlib.axes._subplots.AxesSubplot at 0x7f40e5919550>"
            ]
          },
          "metadata": {},
          "execution_count": 45
        },
        {
          "output_type": "display_data",
          "data": {
            "text/plain": [
              "<Figure size 432x288 with 1 Axes>"
            ],
            "image/png": "[encoded data removed]"
          },
          "metadata": {
            "needs_background": "light"
          }
        }
      ],
      "source": [
        "sns.lineplot('hour_y', 'kill_switch_txns', data=dfm, sort=True)"
      ]
    },
    {
      "cell_type": "code",
      "source": [
        "dfm.dtypes"
      ],
      "metadata": {
        "colab": {
          "base_uri": "https://localhost:8080/"
        },
        "id": "55rAc_CDrRE1",
        "outputId": "68c48286-bead-4360-c6fd-785cbd02e66b"
      },
      "execution_count": null,
      "outputs": [
        {
          "output_type": "execute_result",
          "data": {
            "text/plain": [
              "transaction_date_x            object\n",
              "hour_x                        object\n",
              "kill_switch_txns               int64\n",
              "Date&Hour             datetime64[ns]\n",
              "Year_x                         int64\n",
              "Star Rating                    int64\n",
              "Language                       int64\n",
              "Year_y                         int64\n",
              "hour_y                         int64\n",
              "transaction_date_y            object\n",
              "Month                          int64\n",
              "Day                            int64\n",
              "dtype: object"
            ]
          },
          "metadata": {},
          "execution_count": 44
        }
      ]
    },
    {
      "cell_type": "code",
      "execution_count": null,
      "metadata": {
        "id": "pJUyfb-6DK9U",
        "colab": {
          "base_uri": "https://localhost:8080/",
          "height": 352
        },
        "outputId": "bfe35895-5bf4-4821-bfe3-7a77a3acddf9"
      },
      "outputs": [
        {
          "output_type": "execute_result",
          "data": {
            "text/plain": [
              "<matplotlib.axes._subplots.AxesSubplot at 0x7f40e54b9fd0>"
            ]
          },
          "metadata": {},
          "execution_count": 49
        },
        {
          "output_type": "display_data",
          "data": {
            "text/plain": [
              "<Figure size 504x360 with 1 Axes>"
            ],
            "image/png": "[encoded data removed]"
          },
          "metadata": {
            "needs_background": "light"
          }
        }
      ],
      "source": [
        "#stacked bar chart\n",
        "f=plt.figure(figsize=(7,5))\n",
        "ax=f.add_subplot(1,1,1)\n",
        "sns.histplot(data=dfm, ax=ax, stat=\"count\", multiple=\"stack\", x=\"hour_x\", \n",
        "             kde=False, palette=\"pastel\", hue=\"Star Rating\", element=\"bars\", legend=True)"
      ]
    },
    {
      "cell_type": "code",
      "execution_count": null,
      "metadata": {
        "id": "HAkH9rrmFjgv"
      },
      "outputs": [],
      "source": [
        "dff=dfm.groupby(['Date&Hour'])['Star Rating'].count().reset_index()"
      ]
    },
    {
      "cell_type": "code",
      "execution_count": null,
      "metadata": {
        "id": "ghmId7C5F-x0",
        "colab": {
          "base_uri": "https://localhost:8080/"
        },
        "outputId": "4f24966b-e6aa-49d6-eb0c-9767054afa51"
      },
      "outputs": [
        {
          "output_type": "stream",
          "name": "stdout",
          "text": [
            "<class 'pandas.core.frame.DataFrame'>\n"
          ]
        }
      ],
      "source": [
        "print(type(dff))"
      ]
    },
    {
      "cell_type": "code",
      "execution_count": null,
      "metadata": {
        "id": "f0lyRD4mF8bB",
        "colab": {
          "base_uri": "https://localhost:8080/",
          "height": 206
        },
        "outputId": "54ed1e58-6b57-49ce-b0e3-b8461b824c71"
      },
      "outputs": [
        {
          "output_type": "execute_result",
          "data": {
            "text/plain": [
              "            Date&Hour  Star Rating\n",
              "0 2022-01-01 00:00:00           39\n",
              "1 2022-01-01 01:00:00           83\n",
              "2 2022-01-01 02:00:00          141\n",
              "3 2022-01-01 03:00:00          227\n",
              "4 2022-01-01 04:00:00          263"
            ],
            "text/html": [
              "\n",
              "  <div id=\"df-64f85628-d570-42e4-b24b-5131f6a6c816\">\n",
              "    <div class=\"colab-df-container\">\n",
              "      <div>\n",
              "<style scoped>\n",
              "    .dataframe tbody tr th:only-of-type {\n",
              "        vertical-align: middle;\n",
              "    }\n",
              "\n",
              "    .dataframe tbody tr th {\n",
              "        vertical-align: top;\n",
              "    }\n",
              "\n",
              "    .dataframe thead th {\n",
              "        text-align: right;\n",
              "    }\n",
              "</style>\n",
              "<table border=\"1\" class=\"dataframe\">\n",
              "  <thead>\n",
              "    <tr style=\"text-align: right;\">\n",
              "      <th></th>\n",
              "      <th>Date&amp;Hour</th>\n",
              "      <th>Star Rating</th>\n",
              "    </tr>\n",
              "  </thead>\n",
              "  <tbody>\n",
              "    <tr>\n",
              "      <th>0</th>\n",
              "      <td>2022-01-01 00:00:00</td>\n",
              "      <td>39</td>\n",
              "    </tr>\n",
              "    <tr>\n",
              "      <th>1</th>\n",
              "      <td>2022-01-01 01:00:00</td>\n",
              "      <td>83</td>\n",
              "    </tr>\n",
              "    <tr>\n",
              "      <th>2</th>\n",
              "      <td>2022-01-01 02:00:00</td>\n",
              "      <td>141</td>\n",
              "    </tr>\n",
              "    <tr>\n",
              "      <th>3</th>\n",
              "      <td>2022-01-01 03:00:00</td>\n",
              "      <td>227</td>\n",
              "    </tr>\n",
              "    <tr>\n",
              "      <th>4</th>\n",
              "      <td>2022-01-01 04:00:00</td>\n",
              "      <td>263</td>\n",
              "    </tr>\n",
              "  </tbody>\n",
              "</table>\n",
              "</div>\n",
              "      <button class=\"colab-df-convert\" onclick=\"convertToInteractive('df-64f85628-d570-42e4-b24b-5131f6a6c816')\"\n",
              "              title=\"Convert this dataframe to an interactive table.\"\n",
              "              style=\"display:none;\">\n",
              "        \n",
              "  <svg xmlns=\"http://www.w3.org/2000/svg\" height=\"24px\"viewBox=\"0 0 24 24\"\n",
              "       width=\"24px\">\n",
              "    <path d=\"M0 0h24v24H0V0z\" fill=\"none\"/>\n",
              "    <path d=\"M18.56 5.44l.94 2.06.94-2.06 2.06-.94-2.06-.94-.94-2.06-.94 2.06-2.06.94zm-11 1L8.5 8.5l.94-2.06 2.06-.94-2.06-.94L8.5 2.5l-.94 2.06-2.06.94zm10 10l.94 2.06.94-2.06 2.06-.94-2.06-.94-.94-2.06-.94 2.06-2.06.94z\"/><path d=\"M17.41 7.96l-1.37-1.37c-.4-.4-.92-.59-1.43-.59-.52 0-1.04.2-1.43.59L10.3 9.45l-7.72 7.72c-.78.78-.78 2.05 0 2.83L4 21.41c.39.39.9.59 1.41.59.51 0 1.02-.2 1.41-.59l7.78-7.78 2.81-2.81c.8-.78.8-2.07 0-2.86zM5.41 20L4 18.59l7.72-7.72 1.47 1.35L5.41 20z\"/>\n",
              "  </svg>\n",
              "      </button>\n",
              "      \n",
              "  <style>\n",
              "    .colab-df-container {\n",
              "      display:flex;\n",
              "      flex-wrap:wrap;\n",
              "      gap: 12px;\n",
              "    }\n",
              "\n",
              "    .colab-df-convert {\n",
              "      background-color: #E8F0FE;\n",
              "      border: none;\n",
              "      border-radius: 50%;\n",
              "      cursor: pointer;\n",
              "      display: none;\n",
              "      fill: #1967D2;\n",
              "      height: 32px;\n",
              "      padding: 0 0 0 0;\n",
              "      width: 32px;\n",
              "    }\n",
              "\n",
              "    .colab-df-convert:hover {\n",
              "      background-color: #E2EBFA;\n",
              "      box-shadow: 0px 1px 2px rgba(60, 64, 67, 0.3), 0px 1px 3px 1px rgba(60, 64, 67, 0.15);\n",
              "      fill: #174EA6;\n",
              "    }\n",
              "\n",
              "    [theme=dark] .colab-df-convert {\n",
              "      background-color: #3B4455;\n",
              "      fill: #D2E3FC;\n",
              "    }\n",
              "\n",
              "    [theme=dark] .colab-df-convert:hover {\n",
              "      background-color: #434B5C;\n",
              "      box-shadow: 0px 1px 3px 1px rgba(0, 0, 0, 0.15);\n",
              "      filter: drop-shadow(0px 1px 2px rgba(0, 0, 0, 0.3));\n",
              "      fill: #FFFFFF;\n",
              "    }\n",
              "  </style>\n",
              "\n",
              "      <script>\n",
              "        const buttonEl =\n",
              "          document.querySelector('#df-64f85628-d570-42e4-b24b-5131f6a6c816 button.colab-df-convert');\n",
              "        buttonEl.style.display =\n",
              "          google.colab.kernel.accessAllowed ? 'block' : 'none';\n",
              "\n",
              "        async function convertToInteractive(key) {\n",
              "          const element = document.querySelector('#df-64f85628-d570-42e4-b24b-5131f6a6c816');\n",
              "          const dataTable =\n",
              "            await google.colab.kernel.invokeFunction('convertToInteractive',\n",
              "                                                     [key], {});\n",
              "          if (!dataTable) return;\n",
              "\n",
              "          const docLinkHtml = 'Like what you see? Visit the ' +\n",
              "            '<a target=\"_blank\" href=https://colab.research.google.com/notebooks/data_table.ipynb>data table notebook</a>'\n",
              "            + ' to learn more about interactive tables.';\n",
              "          element.innerHTML = '';\n",
              "          dataTable['output_type'] = 'display_data';\n",
              "          await google.colab.output.renderOutput(dataTable, element);\n",
              "          const docLink = document.createElement('div');\n",
              "          docLink.innerHTML = docLinkHtml;\n",
              "          element.appendChild(docLink);\n",
              "        }\n",
              "      </script>\n",
              "    </div>\n",
              "  </div>\n",
              "  "
            ]
          },
          "metadata": {},
          "execution_count": 32
        }
      ],
      "source": [
        "dff.head()"
      ]
    },
    {
      "cell_type": "code",
      "execution_count": null,
      "metadata": {
        "id": "3jBSg_KxGAaJ",
        "colab": {
          "base_uri": "https://localhost:8080/",
          "height": 542
        },
        "outputId": "df2159c6-ceeb-4c59-ff19-e4f1aa45e918"
      },
      "outputs": [
        {
          "output_type": "display_data",
          "data": {
            "text/html": [
              "<html>\n",
              "<head><meta charset=\"utf-8\" /></head>\n",
              "<body>\n",
              "    <div>            <script src=\"https://cdnjs.cloudflare.com/ajax/libs/mathjax/2.7.5/MathJax.js?config=TeX-AMS-MML_SVG\"></script><script type=\"text/javascript\">if (window.MathJax) {MathJax.Hub.Config({SVG: {font: \"STIX-Web\"}});}</script>                <script type=\"text/javascript\">window.PlotlyConfig = {MathJaxConfig: 'local'};</script>\n",
              "        <script src=\"https://cdn.plot.ly/plotly-2.8.3.min.js\"></script>                <div id=\"b4d0c62c-6f2b-43df-bc66-7c3162059bab\" class=\"plotly-graph-div\" style=\"height:525px; width:100%;\"></div>            <script type=\"text/javascript\">                                    window.PLOTLYENV=window.PLOTLYENV || {};                                    if (document.getElementById(\"b4d0c62c-6f2b-43df-bc66-7c3162059bab\")) {                    Plotly.newPlot(                        \"b4d0c62c-6f2b-43df-bc66-7c3162059bab\",                        [{\"hovertemplate\":\"Date&Hour=%{x}<br>Star Rating=%{y}<extra></extra>\",\"legendgroup\":\"\",\"line\":{\"color\":\"#636efa\",\"dash\":\"solid\"},\"marker\":{\"symbol\":\"circle\"},\"mode\":\"lines\",\"name\":\"\",\"showlegend\":false,\"x\":[\"2022-01-01T00:00:00\",\"2022-01-01T01:00:00\",\"2022-01-01T02:00:00\",\"2022-01-01T03:00:00\",\"2022-01-01T04:00:00\",\"2022-01-01T05:00:00\",\"2022-01-01T06:00:00\",\"2022-01-01T07:00:00\",\"2022-01-01T08:00:00\",\"2022-01-01T09:00:00\",\"2022-01-01T10:00:00\",\"2022-01-01T11:00:00\",\"2022-01-01T12:00:00\",\"2022-01-01T13:00:00\",\"2022-01-01T14:00:00\",\"2022-01-01T15:00:00\",\"2022-01-01T16:00:00\",\"2022-01-01T17:00:00\",\"2022-01-01T18:00:00\",\"2022-01-01T19:00:00\",\"2022-01-01T20:00:00\",\"2022-01-01T21:00:00\",\"2022-01-01T22:00:00\",\"2022-01-01T23:00:00\",\"2022-01-02T00:00:00\",\"2022-01-02T01:00:00\",\"2022-01-02T02:00:00\",\"2022-01-02T03:00:00\",\"2022-01-02T04:00:00\",\"2022-01-02T05:00:00\",\"2022-01-02T06:00:00\",\"2022-01-02T07:00:00\",\"2022-01-02T08:00:00\",\"2022-01-02T09:00:00\",\"2022-01-02T10:00:00\",\"2022-01-02T11:00:00\",\"2022-01-02T12:00:00\",\"2022-01-02T13:00:00\",\"2022-01-02T14:00:00\",\"2022-01-02T15:00:00\",\"2022-01-02T16:00:00\",\"2022-01-02T17:00:00\",\"2022-01-02T18:00:00\",\"2022-01-02T19:00:00\",\"2022-01-02T20:00:00\",\"2022-01-02T21:00:00\",\"2022-01-02T22:00:00\",\"2022-01-02T23:00:00\",\"2022-01-03T00:00:00\",\"2022-01-03T01:00:00\",\"2022-01-03T02:00:00\",\"2022-01-03T03:00:00\",\"2022-01-03T04:00:00\",\"2022-01-03T05:00:00\",\"2022-01-03T06:00:00\",\"2022-01-03T07:00:00\",\"2022-01-03T08:00:00\",\"2022-01-03T09:00:00\",\"2022-01-03T10:00:00\",\"2022-01-03T11:00:00\",\"2022-01-03T12:00:00\",\"2022-01-03T13:00:00\",\"2022-01-03T14:00:00\",\"2022-01-03T15:00:00\",\"2022-01-03T16:00:00\",\"2022-01-03T17:00:00\",\"2022-01-03T18:00:00\",\"2022-01-03T19:00:00\",\"2022-01-03T20:00:00\",\"2022-01-03T21:00:00\",\"2022-01-03T22:00:00\",\"2022-01-03T23:00:00\",\"2022-01-04T00:00:00\",\"2022-01-04T01:00:00\",\"2022-01-04T02:00:00\",\"2022-01-04T03:00:00\",\"2022-01-04T04:00:00\",\"2022-01-04T05:00:00\",\"2022-01-04T06:00:00\",\"2022-01-04T07:00:00\",\"2022-01-04T08:00:00\",\"2022-01-04T09:00:00\",\"2022-01-04T10:00:00\",\"2022-01-04T11:00:00\",\"2022-01-04T12:00:00\",\"2022-01-04T13:00:00\",\"2022-01-04T14:00:00\",\"2022-01-04T15:00:00\",\"2022-01-04T16:00:00\",\"2022-01-04T17:00:00\",\"2022-01-04T18:00:00\",\"2022-01-04T19:00:00\",\"2022-01-04T20:00:00\",\"2022-01-04T21:00:00\",\"2022-01-04T22:00:00\",\"2022-01-04T23:00:00\",\"2022-01-05T00:00:00\",\"2022-01-05T01:00:00\",\"2022-01-05T02:00:00\",\"2022-01-05T03:00:00\",\"2022-01-05T04:00:00\",\"2022-01-05T05:00:00\",\"2022-01-05T06:00:00\",\"2022-01-05T07:00:00\",\"2022-01-05T08:00:00\",\"2022-01-05T09:00:00\",\"2022-01-05T10:00:00\",\"2022-01-05T11:00:00\",\"2022-01-05T12:00:00\",\"2022-01-05T13:00:00\",\"2022-01-05T14:00:00\",\"2022-01-05T15:00:00\",\"2022-01-05T16:00:00\",\"2022-01-05T17:00:00\",\"2022-01-05T18:00:00\",\"2022-01-05T19:00:00\",\"2022-01-05T20:00:00\",\"2022-01-05T21:00:00\",\"2022-01-05T22:00:00\",\"2022-01-05T23:00:00\",\"2022-01-06T00:00:00\",\"2022-01-06T01:00:00\",\"2022-01-06T02:00:00\",\"2022-01-06T03:00:00\",\"2022-01-06T04:00:00\",\"2022-01-06T05:00:00\",\"2022-01-06T06:00:00\",\"2022-01-06T07:00:00\",\"2022-01-06T08:00:00\",\"2022-01-06T09:00:00\",\"2022-01-06T10:00:00\",\"2022-01-06T11:00:00\",\"2022-01-06T12:00:00\",\"2022-01-06T13:00:00\",\"2022-01-06T14:00:00\",\"2022-01-06T15:00:00\",\"2022-01-06T16:00:00\",\"2022-01-06T17:00:00\",\"2022-01-06T18:00:00\",\"2022-01-06T19:00:00\",\"2022-01-06T20:00:00\",\"2022-01-06T21:00:00\",\"2022-01-06T22:00:00\",\"2022-01-06T23:00:00\",\"2022-01-07T00:00:00\",\"2022-01-07T01:00:00\",\"2022-01-07T02:00:00\",\"2022-01-07T03:00:00\",\"2022-01-07T04:00:00\",\"2022-01-07T05:00:00\",\"2022-01-07T06:00:00\",\"2022-01-07T07:00:00\",\"2022-01-07T08:00:00\",\"2022-01-07T09:00:00\",\"2022-01-07T10:00:00\",\"2022-01-07T11:00:00\",\"2022-01-07T12:00:00\",\"2022-01-07T13:00:00\",\"2022-01-07T14:00:00\",\"2022-01-07T15:00:00\",\"2022-01-07T16:00:00\",\"2022-01-07T17:00:00\",\"2022-01-07T18:00:00\",\"2022-01-07T19:00:00\",\"2022-01-07T20:00:00\",\"2022-01-07T21:00:00\",\"2022-01-07T22:00:00\",\"2022-01-07T23:00:00\",\"2022-01-08T00:00:00\",\"2022-01-08T01:00:00\",\"2022-01-08T02:00:00\",\"2022-01-08T03:00:00\",\"2022-01-08T04:00:00\",\"2022-01-08T05:00:00\",\"2022-01-08T06:00:00\",\"2022-01-08T07:00:00\",\"2022-01-08T08:00:00\",\"2022-01-08T09:00:00\",\"2022-01-08T10:00:00\",\"2022-01-08T11:00:00\",\"2022-01-08T12:00:00\",\"2022-01-08T13:00:00\",\"2022-01-08T14:00:00\",\"2022-01-08T15:00:00\",\"2022-01-08T16:00:00\",\"2022-01-08T17:00:00\",\"2022-01-08T18:00:00\",\"2022-01-08T19:00:00\",\"2022-01-08T20:00:00\",\"2022-01-08T21:00:00\",\"2022-01-08T22:00:00\",\"2022-01-08T23:00:00\",\"2022-01-09T00:00:00\",\"2022-01-09T01:00:00\",\"2022-01-09T02:00:00\",\"2022-01-09T03:00:00\",\"2022-01-09T04:00:00\",\"2022-01-09T05:00:00\",\"2022-01-09T06:00:00\",\"2022-01-09T07:00:00\",\"2022-01-09T08:00:00\",\"2022-01-09T09:00:00\",\"2022-01-09T10:00:00\",\"2022-01-09T11:00:00\",\"2022-01-09T12:00:00\",\"2022-01-09T13:00:00\",\"2022-01-09T14:00:00\",\"2022-01-09T15:00:00\",\"2022-01-09T16:00:00\",\"2022-01-09T17:00:00\",\"2022-01-09T18:00:00\",\"2022-01-09T19:00:00\",\"2022-01-09T20:00:00\",\"2022-01-09T21:00:00\",\"2022-01-09T22:00:00\",\"2022-01-09T23:00:00\",\"2022-01-10T00:00:00\",\"2022-01-10T01:00:00\",\"2022-01-10T02:00:00\",\"2022-01-10T03:00:00\",\"2022-01-10T04:00:00\",\"2022-01-10T05:00:00\",\"2022-01-10T06:00:00\",\"2022-01-10T07:00:00\",\"2022-01-10T08:00:00\",\"2022-01-10T09:00:00\",\"2022-01-10T10:00:00\",\"2022-01-10T11:00:00\",\"2022-01-10T12:00:00\",\"2022-01-10T13:00:00\",\"2022-01-10T14:00:00\",\"2022-01-10T15:00:00\",\"2022-01-10T16:00:00\",\"2022-01-10T17:00:00\",\"2022-01-10T18:00:00\",\"2022-01-10T19:00:00\",\"2022-01-10T20:00:00\",\"2022-01-10T21:00:00\",\"2022-01-10T22:00:00\",\"2022-01-10T23:00:00\",\"2022-01-11T00:00:00\",\"2022-01-11T01:00:00\",\"2022-01-11T02:00:00\",\"2022-01-11T03:00:00\",\"2022-01-11T04:00:00\",\"2022-01-11T05:00:00\",\"2022-01-11T06:00:00\",\"2022-01-11T07:00:00\",\"2022-01-11T08:00:00\",\"2022-01-11T09:00:00\",\"2022-01-11T10:00:00\",\"2022-01-11T11:00:00\",\"2022-01-11T12:00:00\",\"2022-01-11T13:00:00\",\"2022-01-11T14:00:00\",\"2022-01-11T15:00:00\",\"2022-01-11T16:00:00\",\"2022-01-11T17:00:00\",\"2022-01-11T18:00:00\",\"2022-01-11T19:00:00\",\"2022-01-11T20:00:00\",\"2022-01-11T21:00:00\",\"2022-01-11T22:00:00\",\"2022-01-11T23:00:00\",\"2022-01-12T00:00:00\",\"2022-01-12T01:00:00\",\"2022-01-12T02:00:00\",\"2022-01-12T03:00:00\",\"2022-01-12T04:00:00\",\"2022-01-12T05:00:00\",\"2022-01-12T06:00:00\",\"2022-01-12T07:00:00\",\"2022-01-12T08:00:00\",\"2022-01-12T09:00:00\",\"2022-01-12T10:00:00\",\"2022-01-12T11:00:00\",\"2022-01-12T12:00:00\",\"2022-01-12T13:00:00\",\"2022-01-12T14:00:00\",\"2022-01-12T15:00:00\",\"2022-01-12T16:00:00\",\"2022-01-12T17:00:00\",\"2022-01-12T18:00:00\",\"2022-01-12T19:00:00\",\"2022-01-12T20:00:00\",\"2022-01-12T21:00:00\",\"2022-01-12T22:00:00\",\"2022-01-12T23:00:00\",\"2022-01-13T00:00:00\",\"2022-01-13T01:00:00\",\"2022-01-13T02:00:00\",\"2022-01-13T03:00:00\",\"2022-01-13T04:00:00\",\"2022-01-13T05:00:00\",\"2022-01-13T06:00:00\",\"2022-01-13T07:00:00\",\"2022-01-13T08:00:00\",\"2022-01-13T09:00:00\",\"2022-01-13T10:00:00\",\"2022-01-13T11:00:00\",\"2022-01-13T12:00:00\",\"2022-01-13T13:00:00\",\"2022-01-13T14:00:00\",\"2022-01-13T15:00:00\",\"2022-01-13T16:00:00\",\"2022-01-13T17:00:00\",\"2022-01-13T18:00:00\",\"2022-01-13T19:00:00\",\"2022-01-13T20:00:00\",\"2022-01-13T21:00:00\",\"2022-01-13T22:00:00\",\"2022-01-13T23:00:00\",\"2022-01-14T00:00:00\",\"2022-01-14T01:00:00\",\"2022-01-14T02:00:00\",\"2022-01-14T03:00:00\",\"2022-01-14T04:00:00\",\"2022-01-14T05:00:00\",\"2022-01-14T06:00:00\",\"2022-01-14T07:00:00\",\"2022-01-14T08:00:00\",\"2022-01-14T09:00:00\",\"2022-01-14T10:00:00\",\"2022-01-14T11:00:00\",\"2022-01-14T12:00:00\",\"2022-01-14T13:00:00\",\"2022-01-14T14:00:00\",\"2022-01-14T15:00:00\",\"2022-01-14T16:00:00\",\"2022-01-14T17:00:00\",\"2022-01-14T18:00:00\",\"2022-01-14T19:00:00\",\"2022-01-14T20:00:00\",\"2022-01-14T21:00:00\",\"2022-01-14T22:00:00\",\"2022-01-14T23:00:00\",\"2022-01-15T00:00:00\",\"2022-01-15T01:00:00\",\"2022-01-15T02:00:00\",\"2022-01-15T03:00:00\",\"2022-01-15T04:00:00\",\"2022-01-15T05:00:00\",\"2022-01-15T06:00:00\",\"2022-01-15T07:00:00\",\"2022-01-15T08:00:00\",\"2022-01-15T09:00:00\",\"2022-01-15T10:00:00\",\"2022-01-15T11:00:00\",\"2022-01-15T12:00:00\",\"2022-01-15T13:00:00\",\"2022-01-15T14:00:00\",\"2022-01-15T15:00:00\",\"2022-01-15T16:00:00\",\"2022-01-15T17:00:00\",\"2022-01-15T18:00:00\",\"2022-01-15T19:00:00\",\"2022-01-15T20:00:00\",\"2022-01-15T21:00:00\",\"2022-01-15T22:00:00\",\"2022-01-15T23:00:00\",\"2022-01-16T00:00:00\",\"2022-01-16T01:00:00\",\"2022-01-16T02:00:00\",\"2022-01-16T03:00:00\",\"2022-01-16T04:00:00\",\"2022-01-16T05:00:00\",\"2022-01-16T06:00:00\",\"2022-01-16T07:00:00\",\"2022-01-16T08:00:00\",\"2022-01-16T09:00:00\",\"2022-01-16T10:00:00\",\"2022-01-16T11:00:00\",\"2022-01-16T12:00:00\",\"2022-01-16T13:00:00\",\"2022-01-16T14:00:00\",\"2022-01-16T15:00:00\",\"2022-01-16T16:00:00\",\"2022-01-16T17:00:00\",\"2022-01-16T18:00:00\",\"2022-01-16T19:00:00\",\"2022-01-16T20:00:00\",\"2022-01-16T21:00:00\",\"2022-01-16T22:00:00\",\"2022-01-16T23:00:00\",\"2022-01-17T00:00:00\",\"2022-01-17T01:00:00\",\"2022-01-17T02:00:00\",\"2022-01-17T03:00:00\",\"2022-01-17T04:00:00\",\"2022-01-17T05:00:00\",\"2022-01-17T06:00:00\",\"2022-01-17T07:00:00\",\"2022-01-17T08:00:00\",\"2022-01-17T09:00:00\",\"2022-01-17T10:00:00\",\"2022-01-17T11:00:00\",\"2022-01-17T12:00:00\",\"2022-01-17T13:00:00\",\"2022-01-17T14:00:00\",\"2022-01-17T15:00:00\",\"2022-01-17T16:00:00\",\"2022-01-17T17:00:00\",\"2022-01-17T18:00:00\",\"2022-01-17T19:00:00\",\"2022-01-17T20:00:00\",\"2022-01-17T21:00:00\",\"2022-01-17T22:00:00\",\"2022-01-17T23:00:00\",\"2022-01-18T00:00:00\",\"2022-01-18T01:00:00\",\"2022-01-18T02:00:00\",\"2022-01-18T03:00:00\",\"2022-01-18T04:00:00\",\"2022-01-18T05:00:00\",\"2022-01-18T06:00:00\",\"2022-01-18T07:00:00\",\"2022-01-18T08:00:00\",\"2022-01-18T09:00:00\",\"2022-01-18T10:00:00\",\"2022-01-18T11:00:00\",\"2022-01-18T12:00:00\",\"2022-01-18T13:00:00\",\"2022-01-18T14:00:00\",\"2022-01-18T15:00:00\",\"2022-01-18T16:00:00\",\"2022-01-18T17:00:00\",\"2022-01-18T18:00:00\",\"2022-01-18T19:00:00\",\"2022-01-18T20:00:00\",\"2022-01-18T21:00:00\",\"2022-01-18T22:00:00\",\"2022-01-18T23:00:00\",\"2022-01-19T00:00:00\",\"2022-01-19T01:00:00\",\"2022-01-19T02:00:00\",\"2022-01-19T03:00:00\",\"2022-01-19T04:00:00\",\"2022-01-19T05:00:00\",\"2022-01-19T06:00:00\",\"2022-01-19T07:00:00\",\"2022-01-19T08:00:00\",\"2022-01-19T09:00:00\",\"2022-01-19T10:00:00\",\"2022-01-19T11:00:00\",\"2022-01-19T12:00:00\",\"2022-01-19T13:00:00\",\"2022-01-19T14:00:00\",\"2022-01-19T15:00:00\",\"2022-01-19T16:00:00\",\"2022-01-19T17:00:00\",\"2022-01-19T18:00:00\",\"2022-01-19T19:00:00\",\"2022-01-19T20:00:00\",\"2022-01-19T21:00:00\",\"2022-01-19T22:00:00\",\"2022-01-19T23:00:00\",\"2022-01-20T00:00:00\",\"2022-01-20T01:00:00\",\"2022-01-20T02:00:00\",\"2022-01-20T03:00:00\",\"2022-01-20T04:00:00\",\"2022-01-20T05:00:00\",\"2022-01-20T06:00:00\",\"2022-01-20T07:00:00\",\"2022-01-20T08:00:00\",\"2022-01-20T09:00:00\",\"2022-01-20T10:00:00\",\"2022-01-20T11:00:00\",\"2022-01-20T12:00:00\",\"2022-01-20T13:00:00\",\"2022-01-20T14:00:00\",\"2022-01-20T15:00:00\",\"2022-01-20T16:00:00\",\"2022-01-20T17:00:00\",\"2022-01-20T18:00:00\",\"2022-01-20T19:00:00\",\"2022-01-20T20:00:00\",\"2022-01-20T21:00:00\",\"2022-01-20T22:00:00\",\"2022-01-20T23:00:00\",\"2022-01-21T00:00:00\",\"2022-01-21T01:00:00\",\"2022-01-21T02:00:00\",\"2022-01-21T03:00:00\",\"2022-01-21T04:00:00\",\"2022-01-21T05:00:00\",\"2022-01-21T06:00:00\",\"2022-01-21T07:00:00\",\"2022-01-21T08:00:00\",\"2022-01-21T09:00:00\",\"2022-01-21T10:00:00\",\"2022-01-21T11:00:00\",\"2022-01-21T12:00:00\",\"2022-01-21T13:00:00\",\"2022-01-21T14:00:00\",\"2022-01-21T15:00:00\",\"2022-01-21T16:00:00\",\"2022-01-21T17:00:00\",\"2022-01-21T18:00:00\",\"2022-01-21T19:00:00\",\"2022-01-21T20:00:00\",\"2022-01-21T21:00:00\",\"2022-01-21T22:00:00\",\"2022-01-21T23:00:00\",\"2022-01-22T01:00:00\",\"2022-01-22T02:00:00\",\"2022-01-22T03:00:00\",\"2022-01-22T04:00:00\",\"2022-01-22T05:00:00\",\"2022-01-22T06:00:00\",\"2022-01-22T07:00:00\",\"2022-01-22T08:00:00\",\"2022-01-22T09:00:00\",\"2022-01-22T10:00:00\",\"2022-01-22T11:00:00\",\"2022-01-22T12:00:00\",\"2022-01-22T13:00:00\",\"2022-01-22T14:00:00\",\"2022-01-22T15:00:00\",\"2022-01-22T16:00:00\",\"2022-01-22T17:00:00\",\"2022-01-22T18:00:00\",\"2022-01-22T19:00:00\",\"2022-01-22T20:00:00\",\"2022-01-22T21:00:00\",\"2022-01-22T22:00:00\",\"2022-01-22T23:00:00\",\"2022-01-23T00:00:00\",\"2022-01-23T01:00:00\",\"2022-01-23T02:00:00\",\"2022-01-23T03:00:00\",\"2022-01-23T04:00:00\",\"2022-01-23T05:00:00\",\"2022-01-23T06:00:00\",\"2022-01-23T07:00:00\",\"2022-01-23T08:00:00\",\"2022-01-23T09:00:00\",\"2022-01-23T10:00:00\",\"2022-01-23T11:00:00\",\"2022-01-23T12:00:00\",\"2022-01-23T13:00:00\",\"2022-01-23T14:00:00\",\"2022-01-23T15:00:00\",\"2022-01-23T16:00:00\",\"2022-01-23T17:00:00\",\"2022-01-23T18:00:00\",\"2022-01-23T19:00:00\",\"2022-01-23T20:00:00\",\"2022-01-23T21:00:00\",\"2022-01-23T22:00:00\",\"2022-01-23T23:00:00\",\"2022-01-24T01:00:00\",\"2022-01-24T02:00:00\",\"2022-01-24T03:00:00\",\"2022-01-24T04:00:00\",\"2022-01-24T05:00:00\",\"2022-01-24T06:00:00\",\"2022-01-24T07:00:00\",\"2022-01-24T08:00:00\",\"2022-01-24T09:00:00\",\"2022-01-24T10:00:00\",\"2022-01-24T11:00:00\",\"2022-01-24T12:00:00\",\"2022-01-24T13:00:00\",\"2022-01-24T14:00:00\",\"2022-01-24T15:00:00\",\"2022-01-24T16:00:00\",\"2022-01-24T17:00:00\",\"2022-01-24T18:00:00\",\"2022-01-24T19:00:00\",\"2022-01-24T20:00:00\",\"2022-01-24T21:00:00\",\"2022-01-24T22:00:00\",\"2022-01-24T23:00:00\",\"2022-01-25T00:00:00\",\"2022-01-25T01:00:00\",\"2022-01-25T02:00:00\",\"2022-01-25T03:00:00\",\"2022-01-25T04:00:00\",\"2022-01-25T05:00:00\",\"2022-01-25T06:00:00\",\"2022-01-25T07:00:00\",\"2022-01-25T08:00:00\",\"2022-01-25T09:00:00\",\"2022-01-25T10:00:00\",\"2022-01-25T11:00:00\",\"2022-01-25T12:00:00\",\"2022-01-25T13:00:00\",\"2022-01-25T14:00:00\",\"2022-01-25T15:00:00\",\"2022-01-25T16:00:00\",\"2022-01-25T17:00:00\",\"2022-01-25T18:00:00\",\"2022-01-25T19:00:00\",\"2022-01-25T20:00:00\",\"2022-01-25T21:00:00\",\"2022-01-25T22:00:00\",\"2022-01-25T23:00:00\",\"2022-01-26T00:00:00\",\"2022-01-26T01:00:00\",\"2022-01-26T02:00:00\",\"2022-01-26T03:00:00\",\"2022-01-26T04:00:00\",\"2022-01-26T05:00:00\",\"2022-01-26T06:00:00\",\"2022-01-26T07:00:00\",\"2022-01-26T08:00:00\",\"2022-01-26T09:00:00\",\"2022-01-26T10:00:00\",\"2022-01-26T11:00:00\",\"2022-01-26T12:00:00\",\"2022-01-26T13:00:00\",\"2022-01-26T14:00:00\",\"2022-01-26T15:00:00\",\"2022-01-26T16:00:00\",\"2022-01-26T17:00:00\",\"2022-01-26T18:00:00\",\"2022-01-26T19:00:00\",\"2022-01-26T20:00:00\",\"2022-01-26T21:00:00\",\"2022-01-26T22:00:00\",\"2022-01-26T23:00:00\",\"2022-01-27T00:00:00\",\"2022-01-27T01:00:00\",\"2022-01-27T02:00:00\",\"2022-01-27T03:00:00\",\"2022-01-27T04:00:00\",\"2022-01-27T05:00:00\",\"2022-01-27T06:00:00\",\"2022-01-27T07:00:00\",\"2022-01-27T08:00:00\",\"2022-01-27T09:00:00\",\"2022-01-27T10:00:00\",\"2022-01-27T11:00:00\",\"2022-01-27T12:00:00\",\"2022-01-27T13:00:00\",\"2022-01-27T14:00:00\",\"2022-01-27T15:00:00\",\"2022-01-27T16:00:00\",\"2022-01-27T17:00:00\",\"2022-01-27T18:00:00\",\"2022-01-27T19:00:00\",\"2022-01-27T20:00:00\",\"2022-01-27T21:00:00\",\"2022-01-27T22:00:00\",\"2022-01-27T23:00:00\",\"2022-01-28T00:00:00\",\"2022-01-28T01:00:00\",\"2022-01-28T02:00:00\",\"2022-01-28T03:00:00\",\"2022-01-28T04:00:00\",\"2022-01-28T05:00:00\",\"2022-01-28T06:00:00\",\"2022-01-28T07:00:00\",\"2022-01-28T08:00:00\",\"2022-01-28T09:00:00\",\"2022-01-28T10:00:00\",\"2022-01-28T11:00:00\",\"2022-01-28T12:00:00\",\"2022-01-28T13:00:00\",\"2022-01-28T14:00:00\",\"2022-01-28T15:00:00\",\"2022-01-28T16:00:00\",\"2022-01-28T17:00:00\",\"2022-01-28T18:00:00\",\"2022-01-28T19:00:00\",\"2022-01-28T20:00:00\",\"2022-01-28T21:00:00\",\"2022-01-28T22:00:00\",\"2022-01-28T23:00:00\",\"2022-01-29T00:00:00\",\"2022-01-29T01:00:00\",\"2022-01-29T02:00:00\",\"2022-01-29T03:00:00\",\"2022-01-29T04:00:00\",\"2022-01-29T05:00:00\",\"2022-01-29T06:00:00\",\"2022-01-29T07:00:00\",\"2022-01-29T08:00:00\",\"2022-01-29T09:00:00\",\"2022-01-29T10:00:00\",\"2022-01-29T11:00:00\",\"2022-01-29T12:00:00\",\"2022-01-29T13:00:00\",\"2022-01-29T14:00:00\",\"2022-01-29T15:00:00\",\"2022-01-29T16:00:00\",\"2022-01-29T17:00:00\",\"2022-01-29T18:00:00\",\"2022-01-29T19:00:00\",\"2022-01-29T20:00:00\",\"2022-01-29T21:00:00\",\"2022-01-29T22:00:00\",\"2022-01-29T23:00:00\",\"2022-01-30T00:00:00\",\"2022-01-30T01:00:00\",\"2022-01-30T02:00:00\",\"2022-01-30T03:00:00\",\"2022-01-30T04:00:00\",\"2022-01-30T05:00:00\",\"2022-01-30T06:00:00\",\"2022-01-30T07:00:00\",\"2022-01-30T08:00:00\",\"2022-01-30T09:00:00\",\"2022-01-30T10:00:00\",\"2022-01-30T11:00:00\",\"2022-01-30T12:00:00\",\"2022-01-30T13:00:00\",\"2022-01-30T14:00:00\",\"2022-01-30T15:00:00\",\"2022-01-30T16:00:00\",\"2022-01-30T17:00:00\",\"2022-01-30T18:00:00\",\"2022-01-30T19:00:00\",\"2022-01-30T20:00:00\",\"2022-01-30T21:00:00\",\"2022-01-30T22:00:00\",\"2022-01-30T23:00:00\",\"2022-01-31T00:00:00\",\"2022-01-31T01:00:00\",\"2022-01-31T02:00:00\",\"2022-01-31T03:00:00\",\"2022-01-31T04:00:00\",\"2022-01-31T05:00:00\",\"2022-01-31T06:00:00\",\"2022-01-31T07:00:00\",\"2022-01-31T08:00:00\",\"2022-01-31T09:00:00\",\"2022-01-31T10:00:00\",\"2022-01-31T11:00:00\",\"2022-01-31T12:00:00\",\"2022-01-31T13:00:00\",\"2022-01-31T14:00:00\",\"2022-01-31T15:00:00\",\"2022-01-31T16:00:00\",\"2022-01-31T17:00:00\",\"2022-01-31T18:00:00\",\"2022-01-31T19:00:00\",\"2022-01-31T20:00:00\",\"2022-01-31T21:00:00\",\"2022-01-31T22:00:00\",\"2022-01-31T23:00:00\",\"2022-02-01T00:00:00\",\"2022-02-01T05:00:00\",\"2022-02-01T06:00:00\",\"2022-02-01T07:00:00\",\"2022-02-01T08:00:00\",\"2022-02-01T09:00:00\",\"2022-02-01T10:00:00\",\"2022-02-01T11:00:00\",\"2022-02-01T12:00:00\",\"2022-02-01T13:00:00\",\"2022-02-01T14:00:00\",\"2022-02-01T15:00:00\",\"2022-02-01T16:00:00\",\"2022-02-01T17:00:00\",\"2022-02-01T18:00:00\",\"2022-02-01T19:00:00\",\"2022-02-01T20:00:00\",\"2022-02-01T21:00:00\",\"2022-02-01T22:00:00\",\"2022-02-01T23:00:00\",\"2022-02-02T01:00:00\",\"2022-02-02T05:00:00\",\"2022-02-02T07:00:00\",\"2022-02-02T08:00:00\",\"2022-02-02T09:00:00\",\"2022-02-02T10:00:00\",\"2022-02-02T11:00:00\",\"2022-02-02T12:00:00\",\"2022-02-02T13:00:00\",\"2022-02-02T14:00:00\",\"2022-02-02T15:00:00\",\"2022-02-02T16:00:00\",\"2022-02-02T17:00:00\",\"2022-02-02T18:00:00\",\"2022-02-02T19:00:00\",\"2022-02-02T20:00:00\",\"2022-02-02T21:00:00\",\"2022-02-02T22:00:00\",\"2022-02-02T23:00:00\",\"2022-02-03T00:00:00\",\"2022-02-03T01:00:00\",\"2022-02-03T02:00:00\",\"2022-02-03T03:00:00\",\"2022-02-03T04:00:00\",\"2022-02-03T06:00:00\",\"2022-02-03T07:00:00\",\"2022-02-03T08:00:00\",\"2022-02-03T09:00:00\",\"2022-02-03T10:00:00\",\"2022-02-03T11:00:00\",\"2022-02-03T12:00:00\",\"2022-02-03T13:00:00\",\"2022-02-03T14:00:00\",\"2022-02-03T15:00:00\",\"2022-02-03T16:00:00\",\"2022-02-03T17:00:00\",\"2022-02-03T18:00:00\",\"2022-02-03T19:00:00\",\"2022-02-03T20:00:00\",\"2022-02-03T21:00:00\",\"2022-02-03T22:00:00\",\"2022-02-03T23:00:00\",\"2022-02-04T00:00:00\",\"2022-02-04T01:00:00\",\"2022-02-04T02:00:00\",\"2022-02-04T03:00:00\",\"2022-02-04T04:00:00\",\"2022-02-04T05:00:00\",\"2022-02-04T06:00:00\",\"2022-02-04T07:00:00\",\"2022-02-04T08:00:00\",\"2022-02-04T09:00:00\",\"2022-02-04T10:00:00\",\"2022-02-04T11:00:00\",\"2022-02-04T12:00:00\",\"2022-02-04T13:00:00\",\"2022-02-04T14:00:00\",\"2022-02-04T15:00:00\",\"2022-02-04T16:00:00\",\"2022-02-04T17:00:00\",\"2022-02-04T18:00:00\",\"2022-02-04T19:00:00\",\"2022-02-04T20:00:00\",\"2022-02-04T21:00:00\",\"2022-02-04T22:00:00\",\"2022-02-04T23:00:00\",\"2022-02-05T00:00:00\",\"2022-02-05T01:00:00\",\"2022-02-05T02:00:00\",\"2022-02-05T03:00:00\",\"2022-02-05T04:00:00\",\"2022-02-05T05:00:00\",\"2022-02-05T06:00:00\",\"2022-02-05T07:00:00\",\"2022-02-05T08:00:00\",\"2022-02-05T09:00:00\",\"2022-02-05T10:00:00\",\"2022-02-05T11:00:00\",\"2022-02-05T12:00:00\",\"2022-02-05T13:00:00\",\"2022-02-05T14:00:00\",\"2022-02-05T15:00:00\",\"2022-02-05T16:00:00\",\"2022-02-05T17:00:00\",\"2022-02-05T18:00:00\",\"2022-02-05T19:00:00\",\"2022-02-05T20:00:00\",\"2022-02-05T21:00:00\",\"2022-02-05T22:00:00\",\"2022-02-05T23:00:00\",\"2022-02-06T00:00:00\",\"2022-02-06T01:00:00\",\"2022-02-06T02:00:00\",\"2022-02-06T03:00:00\",\"2022-02-06T04:00:00\",\"2022-02-06T05:00:00\",\"2022-02-06T06:00:00\",\"2022-02-06T07:00:00\",\"2022-02-06T08:00:00\",\"2022-02-06T09:00:00\",\"2022-02-06T10:00:00\",\"2022-02-06T11:00:00\",\"2022-02-06T12:00:00\",\"2022-02-06T13:00:00\",\"2022-02-06T14:00:00\",\"2022-02-06T15:00:00\",\"2022-02-06T16:00:00\",\"2022-02-06T17:00:00\",\"2022-02-06T18:00:00\",\"2022-02-06T19:00:00\",\"2022-02-06T20:00:00\",\"2022-02-06T21:00:00\",\"2022-02-06T22:00:00\",\"2022-02-06T23:00:00\",\"2022-02-07T00:00:00\",\"2022-02-07T01:00:00\",\"2022-02-07T02:00:00\",\"2022-02-07T03:00:00\",\"2022-02-07T04:00:00\",\"2022-02-07T05:00:00\",\"2022-02-07T06:00:00\",\"2022-02-07T07:00:00\",\"2022-02-07T08:00:00\",\"2022-02-07T09:00:00\",\"2022-02-07T10:00:00\",\"2022-02-07T11:00:00\",\"2022-02-07T12:00:00\",\"2022-02-07T13:00:00\",\"2022-02-07T14:00:00\",\"2022-02-07T15:00:00\",\"2022-02-07T16:00:00\",\"2022-02-07T17:00:00\",\"2022-02-07T18:00:00\",\"2022-02-07T19:00:00\",\"2022-02-07T20:00:00\",\"2022-02-07T21:00:00\",\"2022-02-07T22:00:00\",\"2022-02-07T23:00:00\",\"2022-02-08T00:00:00\",\"2022-02-08T01:00:00\",\"2022-02-08T02:00:00\",\"2022-02-08T03:00:00\",\"2022-02-08T04:00:00\",\"2022-02-08T05:00:00\",\"2022-02-08T06:00:00\",\"2022-02-08T07:00:00\",\"2022-02-08T08:00:00\",\"2022-02-08T09:00:00\",\"2022-02-08T10:00:00\",\"2022-02-08T11:00:00\",\"2022-02-08T12:00:00\",\"2022-02-08T13:00:00\",\"2022-02-08T14:00:00\",\"2022-02-08T15:00:00\",\"2022-02-08T16:00:00\",\"2022-02-08T17:00:00\",\"2022-02-08T18:00:00\",\"2022-02-08T19:00:00\",\"2022-02-08T20:00:00\",\"2022-02-08T21:00:00\",\"2022-02-08T22:00:00\",\"2022-02-08T23:00:00\",\"2022-02-09T00:00:00\",\"2022-02-09T01:00:00\",\"2022-02-09T02:00:00\",\"2022-02-09T03:00:00\",\"2022-02-09T04:00:00\",\"2022-02-09T05:00:00\",\"2022-02-09T06:00:00\",\"2022-02-09T07:00:00\",\"2022-02-09T08:00:00\",\"2022-02-09T09:00:00\",\"2022-02-09T10:00:00\",\"2022-02-09T11:00:00\",\"2022-02-09T12:00:00\",\"2022-02-09T13:00:00\",\"2022-02-09T14:00:00\",\"2022-02-09T15:00:00\",\"2022-02-09T16:00:00\",\"2022-02-09T17:00:00\",\"2022-02-09T18:00:00\",\"2022-02-09T19:00:00\",\"2022-02-09T20:00:00\",\"2022-02-09T21:00:00\",\"2022-02-09T22:00:00\",\"2022-02-09T23:00:00\",\"2022-02-10T00:00:00\",\"2022-02-10T01:00:00\",\"2022-02-10T02:00:00\",\"2022-02-10T03:00:00\",\"2022-02-10T04:00:00\",\"2022-02-10T05:00:00\",\"2022-02-10T06:00:00\",\"2022-02-10T07:00:00\",\"2022-02-10T08:00:00\",\"2022-02-10T09:00:00\",\"2022-02-10T10:00:00\",\"2022-02-10T11:00:00\",\"2022-02-10T12:00:00\",\"2022-02-10T13:00:00\",\"2022-02-10T14:00:00\",\"2022-02-10T15:00:00\",\"2022-02-10T16:00:00\",\"2022-02-10T17:00:00\",\"2022-02-10T18:00:00\",\"2022-02-10T19:00:00\",\"2022-02-10T20:00:00\",\"2022-02-10T21:00:00\",\"2022-02-10T22:00:00\",\"2022-02-10T23:00:00\",\"2022-02-11T00:00:00\",\"2022-02-11T01:00:00\",\"2022-02-11T02:00:00\",\"2022-02-11T03:00:00\",\"2022-02-11T04:00:00\",\"2022-02-11T05:00:00\",\"2022-02-11T06:00:00\",\"2022-02-11T07:00:00\",\"2022-02-11T08:00:00\",\"2022-02-11T09:00:00\",\"2022-02-11T10:00:00\",\"2022-02-11T11:00:00\",\"2022-02-11T12:00:00\",\"2022-02-11T13:00:00\",\"2022-02-11T14:00:00\",\"2022-02-11T15:00:00\",\"2022-02-11T16:00:00\",\"2022-02-11T17:00:00\",\"2022-02-11T18:00:00\",\"2022-02-11T19:00:00\",\"2022-02-11T20:00:00\",\"2022-02-11T21:00:00\",\"2022-02-11T22:00:00\",\"2022-02-11T23:00:00\",\"2022-02-12T00:00:00\",\"2022-02-12T01:00:00\",\"2022-02-12T02:00:00\",\"2022-02-12T03:00:00\",\"2022-02-12T04:00:00\",\"2022-02-12T05:00:00\",\"2022-02-12T06:00:00\",\"2022-02-12T07:00:00\",\"2022-02-12T08:00:00\",\"2022-02-12T09:00:00\",\"2022-02-12T10:00:00\",\"2022-02-12T11:00:00\",\"2022-02-12T12:00:00\",\"2022-02-12T13:00:00\",\"2022-02-12T14:00:00\",\"2022-02-12T15:00:00\",\"2022-02-12T16:00:00\",\"2022-02-12T17:00:00\",\"2022-02-12T18:00:00\",\"2022-02-12T19:00:00\",\"2022-02-12T20:00:00\",\"2022-02-12T21:00:00\",\"2022-02-12T22:00:00\",\"2022-02-12T23:00:00\",\"2022-02-13T00:00:00\",\"2022-02-13T01:00:00\",\"2022-02-13T02:00:00\",\"2022-02-13T03:00:00\",\"2022-02-13T04:00:00\",\"2022-02-13T05:00:00\",\"2022-02-13T06:00:00\",\"2022-02-13T07:00:00\",\"2022-02-13T08:00:00\",\"2022-02-13T09:00:00\",\"2022-02-13T10:00:00\",\"2022-02-13T11:00:00\",\"2022-02-13T12:00:00\",\"2022-02-13T13:00:00\",\"2022-02-13T14:00:00\",\"2022-02-13T15:00:00\",\"2022-02-13T16:00:00\",\"2022-02-13T17:00:00\",\"2022-02-13T18:00:00\",\"2022-02-13T19:00:00\",\"2022-02-13T20:00:00\",\"2022-02-13T21:00:00\",\"2022-02-13T22:00:00\",\"2022-02-13T23:00:00\",\"2022-02-14T00:00:00\",\"2022-02-14T01:00:00\",\"2022-02-14T02:00:00\",\"2022-02-14T03:00:00\",\"2022-02-14T04:00:00\",\"2022-02-14T05:00:00\",\"2022-02-14T06:00:00\",\"2022-02-14T07:00:00\",\"2022-02-14T08:00:00\",\"2022-02-14T09:00:00\",\"2022-02-14T10:00:00\",\"2022-02-14T11:00:00\",\"2022-02-14T12:00:00\",\"2022-02-14T13:00:00\",\"2022-02-14T14:00:00\",\"2022-02-14T15:00:00\",\"2022-02-14T16:00:00\",\"2022-02-14T17:00:00\",\"2022-02-14T18:00:00\",\"2022-02-14T19:00:00\",\"2022-02-14T20:00:00\",\"2022-02-14T21:00:00\",\"2022-02-14T22:00:00\",\"2022-02-14T23:00:00\",\"2022-02-15T00:00:00\",\"2022-02-15T01:00:00\",\"2022-02-15T02:00:00\",\"2022-02-15T03:00:00\",\"2022-02-15T04:00:00\",\"2022-02-15T05:00:00\",\"2022-02-15T06:00:00\",\"2022-02-15T07:00:00\",\"2022-02-15T08:00:00\",\"2022-02-15T09:00:00\",\"2022-02-15T10:00:00\",\"2022-02-15T11:00:00\",\"2022-02-15T12:00:00\",\"2022-02-15T13:00:00\",\"2022-02-15T14:00:00\",\"2022-02-15T15:00:00\",\"2022-02-15T16:00:00\",\"2022-02-15T17:00:00\",\"2022-02-15T18:00:00\",\"2022-02-15T19:00:00\",\"2022-02-15T20:00:00\",\"2022-02-15T21:00:00\",\"2022-02-15T22:00:00\",\"2022-02-15T23:00:00\",\"2022-02-16T00:00:00\",\"2022-02-16T01:00:00\",\"2022-02-16T02:00:00\",\"2022-02-16T03:00:00\",\"2022-02-16T04:00:00\",\"2022-02-16T05:00:00\",\"2022-02-16T06:00:00\",\"2022-02-16T07:00:00\",\"2022-02-16T08:00:00\",\"2022-02-16T09:00:00\",\"2022-02-16T10:00:00\",\"2022-02-16T11:00:00\",\"2022-02-16T12:00:00\",\"2022-02-16T13:00:00\",\"2022-02-16T14:00:00\",\"2022-02-16T15:00:00\",\"2022-02-16T16:00:00\",\"2022-02-16T17:00:00\",\"2022-02-16T18:00:00\",\"2022-02-16T19:00:00\",\"2022-02-16T20:00:00\",\"2022-02-16T21:00:00\",\"2022-02-16T22:00:00\",\"2022-02-16T23:00:00\",\"2022-02-17T00:00:00\",\"2022-02-17T01:00:00\",\"2022-02-17T02:00:00\",\"2022-02-17T03:00:00\",\"2022-02-17T04:00:00\",\"2022-02-17T05:00:00\",\"2022-02-17T06:00:00\",\"2022-02-17T07:00:00\",\"2022-02-17T08:00:00\",\"2022-02-17T09:00:00\",\"2022-02-17T10:00:00\",\"2022-02-17T11:00:00\",\"2022-02-17T12:00:00\",\"2022-02-17T13:00:00\",\"2022-02-17T14:00:00\",\"2022-02-17T15:00:00\",\"2022-02-17T16:00:00\",\"2022-02-17T17:00:00\",\"2022-02-17T18:00:00\",\"2022-02-17T19:00:00\",\"2022-02-17T20:00:00\",\"2022-02-17T21:00:00\",\"2022-02-17T22:00:00\",\"2022-02-17T23:00:00\",\"2022-02-18T00:00:00\",\"2022-02-18T01:00:00\",\"2022-02-18T02:00:00\",\"2022-02-18T03:00:00\",\"2022-02-18T04:00:00\",\"2022-02-18T05:00:00\",\"2022-02-18T06:00:00\",\"2022-02-18T07:00:00\",\"2022-02-18T08:00:00\",\"2022-02-18T09:00:00\",\"2022-02-18T10:00:00\",\"2022-02-18T11:00:00\",\"2022-02-18T12:00:00\",\"2022-02-18T13:00:00\",\"2022-02-18T14:00:00\",\"2022-02-18T15:00:00\",\"2022-02-18T16:00:00\",\"2022-02-18T17:00:00\",\"2022-02-18T18:00:00\",\"2022-02-18T19:00:00\",\"2022-02-18T20:00:00\",\"2022-02-18T21:00:00\",\"2022-02-18T22:00:00\",\"2022-02-18T23:00:00\",\"2022-02-19T00:00:00\",\"2022-02-19T01:00:00\",\"2022-02-19T02:00:00\",\"2022-02-19T03:00:00\",\"2022-02-19T04:00:00\",\"2022-02-19T05:00:00\",\"2022-02-19T06:00:00\",\"2022-02-19T07:00:00\",\"2022-02-19T08:00:00\",\"2022-02-19T09:00:00\",\"2022-02-19T10:00:00\",\"2022-02-19T11:00:00\",\"2022-02-19T12:00:00\",\"2022-02-19T13:00:00\",\"2022-02-19T14:00:00\",\"2022-02-19T15:00:00\",\"2022-02-19T16:00:00\",\"2022-02-19T17:00:00\",\"2022-02-19T18:00:00\",\"2022-02-19T19:00:00\",\"2022-02-19T20:00:00\",\"2022-02-19T21:00:00\",\"2022-02-19T22:00:00\",\"2022-02-19T23:00:00\",\"2022-02-20T00:00:00\",\"2022-02-20T01:00:00\",\"2022-02-20T02:00:00\",\"2022-02-20T03:00:00\",\"2022-02-20T04:00:00\",\"2022-02-20T05:00:00\",\"2022-02-20T06:00:00\",\"2022-02-20T07:00:00\",\"2022-02-20T08:00:00\",\"2022-02-20T09:00:00\",\"2022-02-20T10:00:00\",\"2022-02-20T11:00:00\",\"2022-02-20T12:00:00\",\"2022-02-20T13:00:00\",\"2022-02-20T14:00:00\",\"2022-02-20T15:00:00\",\"2022-02-20T16:00:00\",\"2022-02-20T17:00:00\",\"2022-02-20T18:00:00\",\"2022-02-20T19:00:00\",\"2022-02-20T20:00:00\",\"2022-02-20T21:00:00\",\"2022-02-20T22:00:00\",\"2022-02-20T23:00:00\",\"2022-02-21T00:00:00\",\"2022-02-21T01:00:00\",\"2022-02-21T02:00:00\",\"2022-02-21T03:00:00\",\"2022-02-21T04:00:00\",\"2022-02-21T05:00:00\",\"2022-02-21T06:00:00\",\"2022-02-21T07:00:00\",\"2022-02-21T08:00:00\",\"2022-02-21T09:00:00\",\"2022-02-21T10:00:00\",\"2022-02-21T11:00:00\",\"2022-02-21T12:00:00\",\"2022-02-21T13:00:00\",\"2022-02-21T14:00:00\",\"2022-02-21T15:00:00\",\"2022-02-21T16:00:00\",\"2022-02-21T17:00:00\",\"2022-02-21T18:00:00\",\"2022-02-21T19:00:00\",\"2022-02-21T20:00:00\",\"2022-02-21T21:00:00\",\"2022-02-21T22:00:00\",\"2022-02-21T23:00:00\",\"2022-02-22T00:00:00\",\"2022-02-22T01:00:00\",\"2022-02-22T02:00:00\",\"2022-02-22T03:00:00\",\"2022-02-22T04:00:00\",\"2022-02-22T05:00:00\",\"2022-02-22T06:00:00\",\"2022-02-22T07:00:00\",\"2022-02-22T08:00:00\",\"2022-02-22T09:00:00\",\"2022-02-22T10:00:00\",\"2022-02-22T11:00:00\",\"2022-02-22T12:00:00\",\"2022-02-22T13:00:00\",\"2022-02-22T14:00:00\",\"2022-02-22T15:00:00\",\"2022-02-22T16:00:00\",\"2022-02-22T17:00:00\",\"2022-02-22T18:00:00\",\"2022-02-22T19:00:00\",\"2022-02-22T20:00:00\",\"2022-02-22T21:00:00\",\"2022-02-22T22:00:00\",\"2022-02-22T23:00:00\",\"2022-02-23T00:00:00\",\"2022-02-23T01:00:00\",\"2022-02-23T02:00:00\",\"2022-02-23T06:00:00\",\"2022-02-23T07:00:00\",\"2022-02-23T08:00:00\",\"2022-02-23T09:00:00\",\"2022-02-23T10:00:00\",\"2022-02-23T11:00:00\",\"2022-02-23T12:00:00\",\"2022-02-23T13:00:00\",\"2022-02-23T14:00:00\",\"2022-02-23T15:00:00\",\"2022-02-23T16:00:00\",\"2022-02-23T17:00:00\",\"2022-02-23T18:00:00\",\"2022-02-23T19:00:00\",\"2022-02-23T20:00:00\",\"2022-02-23T21:00:00\",\"2022-02-23T22:00:00\",\"2022-02-23T23:00:00\",\"2022-02-24T00:00:00\",\"2022-02-24T01:00:00\",\"2022-02-24T02:00:00\",\"2022-02-24T03:00:00\",\"2022-02-24T04:00:00\",\"2022-02-24T05:00:00\",\"2022-02-24T06:00:00\",\"2022-02-24T07:00:00\",\"2022-02-24T08:00:00\",\"2022-02-24T09:00:00\",\"2022-02-24T10:00:00\",\"2022-02-24T11:00:00\",\"2022-02-24T12:00:00\",\"2022-02-24T13:00:00\",\"2022-02-24T14:00:00\",\"2022-02-24T15:00:00\",\"2022-02-24T16:00:00\",\"2022-02-24T17:00:00\",\"2022-02-24T18:00:00\",\"2022-02-24T19:00:00\",\"2022-02-24T20:00:00\",\"2022-02-24T21:00:00\",\"2022-02-24T22:00:00\",\"2022-02-24T23:00:00\",\"2022-02-25T00:00:00\",\"2022-02-25T01:00:00\",\"2022-02-25T02:00:00\",\"2022-02-25T03:00:00\",\"2022-02-25T04:00:00\",\"2022-02-25T05:00:00\",\"2022-02-25T06:00:00\",\"2022-02-25T07:00:00\",\"2022-02-25T08:00:00\",\"2022-02-25T09:00:00\",\"2022-02-25T10:00:00\",\"2022-02-25T11:00:00\",\"2022-02-25T12:00:00\",\"2022-02-25T13:00:00\",\"2022-02-25T14:00:00\",\"2022-02-25T15:00:00\",\"2022-02-25T16:00:00\",\"2022-02-25T17:00:00\",\"2022-02-25T18:00:00\",\"2022-02-25T19:00:00\",\"2022-02-25T20:00:00\",\"2022-02-25T21:00:00\",\"2022-02-25T22:00:00\",\"2022-02-25T23:00:00\",\"2022-02-26T00:00:00\",\"2022-02-26T01:00:00\",\"2022-02-26T02:00:00\",\"2022-02-26T03:00:00\",\"2022-02-26T04:00:00\",\"2022-02-26T05:00:00\",\"2022-02-26T06:00:00\",\"2022-02-26T07:00:00\",\"2022-02-26T08:00:00\",\"2022-02-26T09:00:00\",\"2022-02-26T10:00:00\",\"2022-02-26T11:00:00\",\"2022-02-26T12:00:00\",\"2022-02-26T13:00:00\",\"2022-02-26T14:00:00\",\"2022-02-26T15:00:00\",\"2022-02-26T16:00:00\",\"2022-02-26T17:00:00\",\"2022-02-26T18:00:00\",\"2022-02-26T19:00:00\",\"2022-02-26T20:00:00\",\"2022-02-26T21:00:00\",\"2022-02-26T22:00:00\",\"2022-02-26T23:00:00\",\"2022-02-27T00:00:00\",\"2022-02-27T01:00:00\",\"2022-02-27T02:00:00\",\"2022-02-27T03:00:00\",\"2022-02-27T04:00:00\",\"2022-02-27T05:00:00\",\"2022-02-27T06:00:00\",\"2022-02-27T07:00:00\",\"2022-02-27T08:00:00\",\"2022-02-27T09:00:00\",\"2022-02-27T10:00:00\",\"2022-02-27T11:00:00\",\"2022-02-27T12:00:00\",\"2022-02-27T13:00:00\",\"2022-02-27T14:00:00\",\"2022-02-27T15:00:00\",\"2022-02-27T16:00:00\",\"2022-02-27T17:00:00\",\"2022-02-27T18:00:00\",\"2022-02-27T19:00:00\",\"2022-02-27T20:00:00\",\"2022-02-27T21:00:00\",\"2022-02-27T22:00:00\",\"2022-02-27T23:00:00\",\"2022-02-28T00:00:00\",\"2022-02-28T01:00:00\",\"2022-02-28T02:00:00\",\"2022-02-28T03:00:00\",\"2022-02-28T04:00:00\",\"2022-02-28T05:00:00\",\"2022-02-28T06:00:00\",\"2022-02-28T07:00:00\",\"2022-02-28T08:00:00\",\"2022-02-28T09:00:00\",\"2022-02-28T10:00:00\",\"2022-02-28T11:00:00\",\"2022-02-28T12:00:00\",\"2022-02-28T13:00:00\",\"2022-02-28T14:00:00\",\"2022-02-28T15:00:00\",\"2022-02-28T16:00:00\",\"2022-02-28T17:00:00\",\"2022-02-28T18:00:00\",\"2022-02-28T19:00:00\",\"2022-02-28T20:00:00\",\"2022-02-28T21:00:00\",\"2022-02-28T22:00:00\",\"2022-02-28T23:00:00\",\"2022-03-11T00:00:00\",\"2022-03-11T01:00:00\",\"2022-03-11T02:00:00\",\"2022-03-11T03:00:00\",\"2022-03-11T04:00:00\",\"2022-03-11T05:00:00\",\"2022-03-11T06:00:00\",\"2022-03-11T07:00:00\",\"2022-03-11T08:00:00\",\"2022-03-11T09:00:00\",\"2022-03-11T10:00:00\",\"2022-03-11T11:00:00\",\"2022-03-11T12:00:00\",\"2022-03-11T13:00:00\",\"2022-03-11T14:00:00\",\"2022-03-11T15:00:00\",\"2022-03-11T16:00:00\",\"2022-03-11T17:00:00\",\"2022-03-11T18:00:00\",\"2022-03-11T19:00:00\",\"2022-03-11T20:00:00\",\"2022-03-11T21:00:00\",\"2022-03-11T22:00:00\",\"2022-03-11T23:00:00\",\"2022-03-12T00:00:00\",\"2022-03-12T01:00:00\",\"2022-03-12T02:00:00\",\"2022-03-12T03:00:00\",\"2022-03-12T04:00:00\",\"2022-03-12T05:00:00\",\"2022-03-12T06:00:00\",\"2022-03-12T07:00:00\",\"2022-03-12T08:00:00\",\"2022-03-12T09:00:00\",\"2022-03-12T10:00:00\",\"2022-03-12T11:00:00\",\"2022-03-12T12:00:00\",\"2022-03-12T13:00:00\",\"2022-03-12T14:00:00\",\"2022-03-12T15:00:00\",\"2022-03-12T16:00:00\",\"2022-03-12T18:00:00\",\"2022-03-12T19:00:00\",\"2022-03-12T20:00:00\",\"2022-03-12T21:00:00\",\"2022-03-12T22:00:00\",\"2022-03-12T23:00:00\",\"2022-03-13T00:00:00\",\"2022-03-13T01:00:00\",\"2022-03-13T02:00:00\",\"2022-03-13T03:00:00\",\"2022-03-13T04:00:00\",\"2022-03-13T05:00:00\",\"2022-03-13T06:00:00\",\"2022-03-13T07:00:00\",\"2022-03-13T08:00:00\",\"2022-03-13T09:00:00\",\"2022-03-13T10:00:00\",\"2022-03-13T11:00:00\",\"2022-03-13T12:00:00\",\"2022-03-13T13:00:00\",\"2022-03-13T14:00:00\",\"2022-03-13T15:00:00\",\"2022-03-13T16:00:00\",\"2022-03-13T17:00:00\",\"2022-03-13T18:00:00\",\"2022-03-13T19:00:00\",\"2022-03-13T20:00:00\",\"2022-03-13T21:00:00\",\"2022-03-13T22:00:00\",\"2022-03-13T23:00:00\",\"2022-03-14T00:00:00\",\"2022-03-14T01:00:00\",\"2022-03-14T02:00:00\",\"2022-03-14T03:00:00\",\"2022-03-14T04:00:00\",\"2022-03-14T05:00:00\",\"2022-03-14T06:00:00\",\"2022-03-14T07:00:00\",\"2022-03-14T08:00:00\",\"2022-03-14T09:00:00\",\"2022-03-14T10:00:00\",\"2022-03-14T11:00:00\",\"2022-03-14T12:00:00\",\"2022-03-14T13:00:00\",\"2022-03-14T14:00:00\",\"2022-03-14T15:00:00\",\"2022-03-14T16:00:00\",\"2022-03-14T17:00:00\",\"2022-03-14T18:00:00\",\"2022-03-14T19:00:00\",\"2022-03-14T20:00:00\",\"2022-03-14T21:00:00\",\"2022-03-14T22:00:00\",\"2022-03-14T23:00:00\",\"2022-03-15T00:00:00\",\"2022-03-15T01:00:00\",\"2022-03-15T02:00:00\",\"2022-03-15T03:00:00\",\"2022-03-15T04:00:00\",\"2022-03-15T05:00:00\",\"2022-03-15T06:00:00\",\"2022-03-15T07:00:00\",\"2022-03-15T08:00:00\",\"2022-03-15T09:00:00\",\"2022-03-15T10:00:00\",\"2022-03-15T11:00:00\",\"2022-03-15T12:00:00\",\"2022-03-15T13:00:00\",\"2022-03-15T14:00:00\",\"2022-03-15T15:00:00\",\"2022-03-15T16:00:00\",\"2022-03-15T17:00:00\",\"2022-03-15T18:00:00\",\"2022-03-15T19:00:00\",\"2022-03-15T20:00:00\",\"2022-03-15T21:00:00\",\"2022-03-15T22:00:00\",\"2022-03-15T23:00:00\",\"2022-03-16T00:00:00\",\"2022-03-16T01:00:00\",\"2022-03-16T02:00:00\",\"2022-03-16T03:00:00\",\"2022-03-16T04:00:00\",\"2022-03-16T05:00:00\",\"2022-03-16T06:00:00\",\"2022-03-16T07:00:00\",\"2022-03-16T08:00:00\",\"2022-03-16T09:00:00\",\"2022-03-16T10:00:00\",\"2022-03-16T11:00:00\",\"2022-03-16T12:00:00\",\"2022-03-16T13:00:00\",\"2022-03-16T14:00:00\",\"2022-03-16T15:00:00\",\"2022-03-16T16:00:00\",\"2022-03-16T17:00:00\",\"2022-03-16T18:00:00\",\"2022-03-16T19:00:00\",\"2022-03-16T20:00:00\",\"2022-03-16T21:00:00\",\"2022-03-16T22:00:00\",\"2022-03-16T23:00:00\",\"2022-03-17T00:00:00\",\"2022-03-17T01:00:00\",\"2022-03-17T02:00:00\",\"2022-03-17T03:00:00\",\"2022-03-17T04:00:00\",\"2022-03-17T05:00:00\",\"2022-03-17T06:00:00\",\"2022-03-17T07:00:00\",\"2022-03-17T08:00:00\",\"2022-03-17T09:00:00\",\"2022-03-17T10:00:00\",\"2022-03-17T11:00:00\",\"2022-03-17T12:00:00\",\"2022-03-17T13:00:00\",\"2022-03-17T14:00:00\",\"2022-03-17T15:00:00\",\"2022-03-17T16:00:00\",\"2022-03-17T17:00:00\",\"2022-03-17T18:00:00\",\"2022-03-17T19:00:00\",\"2022-03-17T20:00:00\",\"2022-03-17T21:00:00\",\"2022-03-17T22:00:00\",\"2022-03-17T23:00:00\",\"2022-03-18T00:00:00\",\"2022-03-18T01:00:00\",\"2022-03-18T02:00:00\",\"2022-03-18T03:00:00\",\"2022-03-18T04:00:00\",\"2022-03-18T05:00:00\",\"2022-03-18T06:00:00\",\"2022-03-18T07:00:00\",\"2022-03-18T08:00:00\",\"2022-03-18T09:00:00\",\"2022-03-18T10:00:00\",\"2022-03-18T11:00:00\",\"2022-03-18T12:00:00\",\"2022-03-18T13:00:00\",\"2022-03-18T14:00:00\",\"2022-03-18T15:00:00\",\"2022-03-18T16:00:00\",\"2022-03-18T17:00:00\",\"2022-03-18T18:00:00\",\"2022-03-18T19:00:00\",\"2022-03-18T20:00:00\",\"2022-03-18T21:00:00\",\"2022-03-18T22:00:00\",\"2022-03-18T23:00:00\",\"2022-03-19T00:00:00\",\"2022-03-19T01:00:00\",\"2022-03-19T02:00:00\",\"2022-03-19T03:00:00\",\"2022-03-19T04:00:00\",\"2022-03-19T05:00:00\",\"2022-03-19T06:00:00\",\"2022-03-19T07:00:00\",\"2022-03-19T08:00:00\",\"2022-03-19T09:00:00\",\"2022-03-19T10:00:00\",\"2022-03-19T11:00:00\",\"2022-03-19T12:00:00\",\"2022-03-19T13:00:00\",\"2022-03-19T14:00:00\",\"2022-03-19T15:00:00\",\"2022-03-19T16:00:00\",\"2022-03-19T17:00:00\",\"2022-03-19T18:00:00\",\"2022-03-19T19:00:00\",\"2022-03-19T20:00:00\",\"2022-03-19T21:00:00\",\"2022-03-19T22:00:00\",\"2022-03-19T23:00:00\",\"2022-03-20T00:00:00\",\"2022-03-20T01:00:00\",\"2022-03-20T02:00:00\",\"2022-03-20T03:00:00\",\"2022-03-20T04:00:00\",\"2022-03-20T05:00:00\",\"2022-03-20T06:00:00\",\"2022-03-20T07:00:00\",\"2022-03-20T08:00:00\",\"2022-03-20T09:00:00\",\"2022-03-20T10:00:00\",\"2022-03-20T11:00:00\",\"2022-03-20T12:00:00\",\"2022-03-20T14:00:00\",\"2022-03-20T15:00:00\",\"2022-03-20T16:00:00\",\"2022-03-20T17:00:00\",\"2022-03-20T18:00:00\",\"2022-03-20T19:00:00\",\"2022-03-20T20:00:00\",\"2022-03-20T21:00:00\",\"2022-03-20T22:00:00\",\"2022-03-20T23:00:00\",\"2022-03-21T00:00:00\",\"2022-03-21T01:00:00\",\"2022-03-21T02:00:00\",\"2022-03-21T03:00:00\",\"2022-03-21T04:00:00\",\"2022-03-21T05:00:00\",\"2022-03-21T06:00:00\",\"2022-03-21T07:00:00\",\"2022-03-21T08:00:00\",\"2022-03-21T09:00:00\",\"2022-03-21T10:00:00\",\"2022-03-21T11:00:00\",\"2022-03-21T12:00:00\",\"2022-03-21T13:00:00\",\"2022-03-21T14:00:00\",\"2022-03-21T15:00:00\",\"2022-03-21T16:00:00\",\"2022-03-21T17:00:00\",\"2022-03-21T18:00:00\",\"2022-03-21T19:00:00\",\"2022-03-21T20:00:00\",\"2022-03-21T21:00:00\",\"2022-03-21T22:00:00\",\"2022-03-21T23:00:00\",\"2022-03-22T00:00:00\",\"2022-03-22T01:00:00\",\"2022-03-22T02:00:00\",\"2022-03-22T03:00:00\",\"2022-03-22T04:00:00\",\"2022-03-22T05:00:00\",\"2022-03-22T06:00:00\",\"2022-03-22T08:00:00\",\"2022-03-22T09:00:00\",\"2022-03-22T10:00:00\",\"2022-03-22T11:00:00\",\"2022-03-22T12:00:00\",\"2022-03-22T13:00:00\",\"2022-03-22T14:00:00\",\"2022-03-22T15:00:00\",\"2022-03-22T16:00:00\",\"2022-03-22T18:00:00\",\"2022-03-22T19:00:00\",\"2022-03-22T20:00:00\",\"2022-03-22T21:00:00\",\"2022-03-22T22:00:00\",\"2022-03-22T23:00:00\",\"2022-03-23T00:00:00\",\"2022-03-23T01:00:00\",\"2022-03-23T02:00:00\",\"2022-03-23T03:00:00\",\"2022-03-23T04:00:00\",\"2022-03-23T05:00:00\",\"2022-03-23T06:00:00\",\"2022-03-23T07:00:00\",\"2022-03-23T08:00:00\",\"2022-03-23T09:00:00\",\"2022-03-23T10:00:00\",\"2022-03-23T11:00:00\",\"2022-03-23T12:00:00\",\"2022-03-23T13:00:00\",\"2022-03-23T14:00:00\",\"2022-03-23T15:00:00\",\"2022-03-23T16:00:00\",\"2022-03-23T17:00:00\",\"2022-03-23T18:00:00\",\"2022-03-23T19:00:00\",\"2022-03-23T20:00:00\",\"2022-03-23T21:00:00\",\"2022-03-23T22:00:00\",\"2022-03-23T23:00:00\",\"2022-03-24T00:00:00\",\"2022-03-24T01:00:00\",\"2022-03-24T02:00:00\",\"2022-03-24T03:00:00\",\"2022-03-24T04:00:00\",\"2022-03-24T05:00:00\",\"2022-03-24T06:00:00\",\"2022-03-24T07:00:00\",\"2022-03-24T08:00:00\",\"2022-03-24T09:00:00\",\"2022-03-24T11:00:00\",\"2022-03-24T12:00:00\",\"2022-03-24T13:00:00\",\"2022-03-24T14:00:00\",\"2022-03-24T15:00:00\",\"2022-03-24T16:00:00\",\"2022-03-24T17:00:00\",\"2022-03-24T18:00:00\",\"2022-03-24T19:00:00\",\"2022-03-24T20:00:00\",\"2022-03-24T21:00:00\",\"2022-03-24T22:00:00\",\"2022-03-24T23:00:00\",\"2022-03-25T00:00:00\",\"2022-03-25T01:00:00\",\"2022-03-25T02:00:00\",\"2022-03-25T03:00:00\",\"2022-03-25T04:00:00\",\"2022-03-25T05:00:00\",\"2022-03-25T06:00:00\",\"2022-03-25T07:00:00\",\"2022-03-25T08:00:00\",\"2022-03-25T09:00:00\",\"2022-03-25T10:00:00\",\"2022-03-25T11:00:00\",\"2022-03-25T12:00:00\",\"2022-03-25T13:00:00\",\"2022-03-25T14:00:00\",\"2022-03-25T15:00:00\",\"2022-03-25T16:00:00\",\"2022-03-25T17:00:00\",\"2022-03-25T18:00:00\",\"2022-03-25T19:00:00\",\"2022-03-25T20:00:00\",\"2022-03-25T21:00:00\",\"2022-03-25T22:00:00\",\"2022-03-25T23:00:00\",\"2022-03-26T00:00:00\",\"2022-03-26T01:00:00\",\"2022-03-26T02:00:00\",\"2022-03-26T03:00:00\",\"2022-03-26T04:00:00\",\"2022-03-26T05:00:00\",\"2022-03-26T06:00:00\",\"2022-03-26T07:00:00\",\"2022-03-26T08:00:00\",\"2022-03-26T09:00:00\",\"2022-03-26T10:00:00\",\"2022-03-26T11:00:00\",\"2022-03-26T12:00:00\",\"2022-03-26T13:00:00\",\"2022-03-26T14:00:00\",\"2022-03-26T15:00:00\",\"2022-03-26T16:00:00\",\"2022-03-26T17:00:00\",\"2022-03-26T18:00:00\",\"2022-03-26T19:00:00\",\"2022-03-26T20:00:00\",\"2022-03-26T21:00:00\",\"2022-03-26T22:00:00\",\"2022-03-26T23:00:00\",\"2022-03-27T00:00:00\",\"2022-03-27T01:00:00\",\"2022-03-27T02:00:00\",\"2022-03-27T03:00:00\",\"2022-03-27T04:00:00\",\"2022-03-27T05:00:00\",\"2022-03-27T06:00:00\",\"2022-03-27T07:00:00\",\"2022-03-27T08:00:00\",\"2022-03-27T10:00:00\",\"2022-03-27T11:00:00\",\"2022-03-27T12:00:00\",\"2022-03-27T13:00:00\",\"2022-03-27T14:00:00\",\"2022-03-27T15:00:00\",\"2022-03-27T16:00:00\",\"2022-03-27T17:00:00\",\"2022-03-27T18:00:00\",\"2022-03-27T19:00:00\",\"2022-03-27T20:00:00\",\"2022-03-27T21:00:00\",\"2022-03-27T22:00:00\",\"2022-03-27T23:00:00\",\"2022-03-28T00:00:00\",\"2022-03-28T01:00:00\",\"2022-03-28T02:00:00\",\"2022-03-28T03:00:00\",\"2022-03-28T04:00:00\",\"2022-03-28T05:00:00\",\"2022-03-28T06:00:00\",\"2022-03-28T07:00:00\",\"2022-03-28T08:00:00\",\"2022-03-28T09:00:00\",\"2022-03-28T10:00:00\",\"2022-03-28T11:00:00\",\"2022-03-28T12:00:00\",\"2022-03-28T13:00:00\",\"2022-03-28T14:00:00\",\"2022-03-28T15:00:00\",\"2022-03-28T16:00:00\",\"2022-03-28T17:00:00\",\"2022-03-28T18:00:00\",\"2022-03-28T19:00:00\",\"2022-03-28T20:00:00\",\"2022-03-28T21:00:00\",\"2022-03-28T22:00:00\",\"2022-03-28T23:00:00\",\"2022-03-29T00:00:00\",\"2022-03-29T01:00:00\",\"2022-03-29T02:00:00\",\"2022-03-29T03:00:00\",\"2022-03-29T04:00:00\",\"2022-03-29T05:00:00\",\"2022-03-29T06:00:00\",\"2022-03-29T07:00:00\",\"2022-03-29T08:00:00\",\"2022-03-29T09:00:00\",\"2022-03-29T10:00:00\",\"2022-03-29T11:00:00\",\"2022-03-29T12:00:00\",\"2022-03-29T13:00:00\",\"2022-03-29T14:00:00\",\"2022-03-29T15:00:00\",\"2022-03-29T16:00:00\",\"2022-03-29T17:00:00\",\"2022-03-29T18:00:00\",\"2022-03-29T19:00:00\",\"2022-03-29T20:00:00\",\"2022-03-29T21:00:00\",\"2022-03-29T22:00:00\",\"2022-03-29T23:00:00\",\"2022-03-30T00:00:00\",\"2022-03-30T01:00:00\",\"2022-03-30T02:00:00\",\"2022-03-30T03:00:00\",\"2022-03-30T04:00:00\",\"2022-03-30T05:00:00\",\"2022-03-30T06:00:00\",\"2022-03-30T07:00:00\",\"2022-03-30T09:00:00\",\"2022-03-30T10:00:00\",\"2022-03-30T11:00:00\",\"2022-03-30T12:00:00\",\"2022-03-30T13:00:00\",\"2022-03-30T14:00:00\",\"2022-03-30T15:00:00\",\"2022-03-30T16:00:00\",\"2022-03-30T17:00:00\",\"2022-03-30T18:00:00\",\"2022-03-30T19:00:00\",\"2022-03-30T20:00:00\",\"2022-03-30T21:00:00\",\"2022-03-30T22:00:00\",\"2022-03-30T23:00:00\",\"2022-03-31T00:00:00\",\"2022-03-31T01:00:00\",\"2022-03-31T02:00:00\",\"2022-03-31T03:00:00\",\"2022-03-31T04:00:00\",\"2022-03-31T05:00:00\",\"2022-03-31T06:00:00\",\"2022-03-31T07:00:00\",\"2022-03-31T08:00:00\",\"2022-03-31T09:00:00\",\"2022-03-31T10:00:00\",\"2022-03-31T11:00:00\",\"2022-03-31T12:00:00\",\"2022-03-31T13:00:00\",\"2022-03-31T14:00:00\",\"2022-03-31T15:00:00\",\"2022-03-31T16:00:00\",\"2022-03-31T17:00:00\",\"2022-03-31T18:00:00\",\"2022-03-31T19:00:00\",\"2022-03-31T20:00:00\",\"2022-03-31T21:00:00\",\"2022-03-31T22:00:00\",\"2022-03-31T23:00:00\"],\"xaxis\":\"x\",\"y\":[39,83,141,227,263,270,303,303,275,292,245,284,312,354,359,308,256,192,105,59,31,13,17,16,54,97,195,301,312,343,348,324,306,273,264,325,355,429,487,451,389,242,98,40,33,10,16,10,49,86,191,248,313,340,331,360,363,295,304,390,515,633,708,665,496,253,142,64,38,17,23,31,54,150,244,289,317,389,358,353,347,333,375,411,460,638,581,566,419,220,124,58,29,21,14,26,64,142,240,316,337,319,377,350,345,333,270,339,385,495,540,528,380,224,139,64,30,17,13,24,53,117,201,272,320,336,369,352,367,336,309,382,379,594,554,497,356,208,119,64,24,22,14,15,41,125,222,270,291,322,364,349,362,293,312,317,384,512,504,462,334,240,108,59,35,10,11,20,48,128,177,279,307,340,376,323,313,303,289,300,335,362,399,285,269,185,137,59,20,17,19,17,44,95,195,233,309,299,325,304,305,481,488,495,418,438,415,348,264,170,111,53,22,10,12,27,38,102,197,232,280,314,344,313,290,331,284,295,324,382,392,346,295,189,105,43,20,21,15,27,48,122,218,225,284,316,309,337,289,297,303,319,348,392,452,420,297,196,107,46,28,21,14,23,49,103,192,246,281,301,306,316,316,279,298,282,326,380,411,342,291,173,108,54,26,17,18,16,32,98,182,228,271,305,304,301,297,301,261,259,353,370,477,350,287,177,109,48,20,22,13,22,33,98,181,234,254,295,303,282,260,254,279,256,311,378,348,282,256,168,103,51,23,20,18,23,48,73,162,230,240,284,299,283,271,252,235,283,273,307,330,346,243,168,89,58,27,15,12,22,42,69,161,226,248,327,284,281,250,235,273,239,279,340,348,269,229,176,103,49,25,15,12,10,43,86,170,223,246,293,305,305,273,273,298,303,315,380,353,338,258,176,98,50,24,22,11,16,39,80,154,243,274,298,319,291,334,288,287,292,311,412,361,362,257,202,107,45,27,23,19,18,35,76,157,257,252,323,341,319,320,285,320,323,315,353,444,385,269,209,124,57,23,19,17,35,46,109,224,293,282,330,344,334,342,318,314,330,360,480,612,419,340,224,125,56,33,20,16,23,31,106,194,248,302,311,337,338,306,283,316,294,341,421,500,365,298,193,111,68,24,21,14,25,127,191,252,308,319,308,321,295,308,263,300,298,367,409,342,267,175,113,36,21,17,18,16,33,78,172,222,281,271,292,265,245,250,238,225,246,385,315,268,216,156,97,37,22,15,14,16,67,154,195,227,240,238,287,249,279,247,246,287,365,404,293,265,154,69,31,20,18,14,20,34,88,163,205,263,288,290,291,280,269,276,252,316,397,370,290,256,169,105,51,25,24,14,15,36,91,138,228,316,300,314,286,295,258,263,275,290,325,353,299,268,173,99,48,17,19,9,13,47,63,172,200,225,283,321,298,279,274,266,258,314,356,333,330,243,179,92,49,25,9,24,22,30,81,151,205,258,301,317,262,257,284,248,273,284,357,334,301,229,168,104,55,24,17,15,18,31,87,155,195,258,288,292,322,308,257,266,254,314,402,388,390,292,185,112,66,18,12,17,20,30,99,175,235,282,273,256,285,245,248,225,235,248,282,295,258,199,169,98,58,26,11,11,15,30,100,160,210,270,274,297,312,309,303,266,265,303,388,391,344,274,206,104,54,21,11,23,21,46,319,372,331,324,267,288,309,335,364,409,372,315,224,158,49,27,12,14,16,100,337,330,287,294,307,283,375,410,437,370,294,196,112,43,32,11,14,21,42,105,163,230,245,292,340,319,292,254,286,313,400,348,335,298,205,101,52,25,12,17,18,41,95,175,215,233,302,292,278,265,285,235,280,267,328,331,317,263,197,129,48,24,13,12,18,40,88,161,209,247,263,251,259,288,247,225,247,266,311,291,273,245,171,118,57,34,18,15,19,41,89,144,225,243,278,233,227,254,213,208,246,262,287,273,249,230,170,95,57,15,16,8,10,24,81,157,179,197,224,258,270,247,245,243,239,242,339,310,319,259,199,99,38,19,13,13,12,34,93,169,203,229,245,271,275,260,258,252,265,289,355,369,346,260,179,115,48,19,14,14,17,37,108,193,226,268,271,275,273,310,258,244,266,291,361,374,316,271,185,89,56,24,16,9,21,47,118,191,283,362,363,337,299,304,268,264,261,282,342,357,347,266,193,111,51,33,23,8,22,46,81,169,207,265,231,306,265,250,263,265,277,259,353,377,351,277,190,107,52,41,19,22,21,58,108,197,205,278,250,282,278,238,251,262,266,258,310,358,343,276,185,96,54,20,15,16,11,37,80,148,221,267,278,226,255,224,242,211,238,234,311,282,290,246,174,111,55,21,18,11,12,43,107,188,220,254,292,270,310,278,282,258,264,316,368,395,357,322,197,120,63,29,9,18,16,54,111,194,241,267,285,278,295,298,278,288,253,262,400,450,384,311,221,133,54,32,35,15,27,38,102,208,284,273,282,310,263,290,256,265,322,309,397,407,330,293,220,111,51,33,15,7,21,44,100,177,220,264,277,266,273,296,243,250,250,247,323,363,354,256,194,113,52,24,18,14,18,55,106,186,233,251,274,329,295,287,261,241,239,282,335,358,286,228,167,126,51,37,10,14,15,39,93,165,214,227,271,292,279,278,306,254,248,288,370,403,326,274,213,115,62,29,19,14,21,49,93,191,226,269,299,311,303,283,261,253,262,298,318,306,297,237,180,107,48,30,17,16,21,37,92,157,210,251,279,254,271,276,252,259,281,297,362,382,346,301,201,123,62,34,17,16,20,41,93,188,243,250,311,307,327,323,301,254,317,321,452,440,452,366,217,127,53,29,17,19,19,49,124,188,328,360,356,354,389,377,430,486,569,485,403,249,137,81,36,12,12,24,63,150,238,292,332,378,314,320,352,284,323,289,317,365,410,402,338,202,112,52,35,20,17,32,42,109,169,234,257,292,307,308,283,294,304,301,302,370,341,345,283,199,117,57,38,20,21,15,46,115,182,249,276,301,301,323,294,240,251,314,328,378,385,353,290,199,109,63,38,21,12,27,44,97,208,256,228,281,299,276,265,269,254,235,278,339,328,325,250,169,92,45,22,19,13,20,44,115,205,205,250,301,290,311,329,302,305,339,386,502,619,442,386,256,151,93,36,28,19,32,45,136,194,247,295,305,313,330,309,310,267,296,287,403,382,378,305,227,144,49,24,16,17,21,45,130,203,282,263,334,313,314,294,261,262,284,260,338,339,329,303,115,55,22,12,10,24,55,91,211,219,282,270,286,239,242,216,187,216,230,295,307,275,235,173,97,59,22,16,15,25,49,122,172,223,254,249,259,263,290,250,275,277,283,288,364,353,306,165,120,47,27,10,20,14,42,115,173,217,248,269,274,292,268,281,262,274,280,323,363,340,307,197,110,57,26,17,14,21,53,119,197,269,258,302,271,290,281,282,257,270,314,344,440,321,279,198,112,42,31,23,15,30,39,115,188,224,266,314,279,276,305,253,251,235,273,296,313,320,282,195,110,56,29,25,17,20,42,100,184,214,238,246,232,237,217,237,206,218,259,294,290,262,236,158,99,49,20,17,9,21,40,95,175,225,221,296,294,288,272,239,232,235,235,257,317,311,234,171,106,65,33,15,19,13,49,112,175,226,243,271,291,260,243,249,247,222,208,355,340,258,166,101,39,25,18,13,14,39,106,164,214,276,277,288,299,259,246,251,255,261,329,341,343,273,174,107,62,25,15,13,12,45,116,183,211,249,272,265,308,254,217,246,273,284,333,337,295,99,43,27,15,12,22,33,99,170,242,232,261,295,265,285,251,260,219,238,339,333,332,242,197,139,54,40,17,20,18,44,105,182,239,274,250,295,258,253,235,254,271,352,330,314,277,216,101,45,28,14,14,12,55,88,176,238,231,285,284,272,286,269,232,247,272,328,343,299,279,192,104,66,24,15,16,11,36,109,166,221,229,244,246,247,276,252,233,257,261,266,329,317,231,196,104,54,32,20,12,22,51,95,174,208,262,281,271,296,247,219,237,205,242,276,248,217,146,113,52,27,13,7,20,40,114,148,194,215,254,271,275,237,216,202,259,237,320,286,269,261,158,95,47,22,11,9,17,47,108,201,164,232,276,245,242,263,238,239,204,242,276,376,292,275,204,120,57,26,10,18,19,54,105,206,211,236,265,289,301,225,245,280,277,373,395,308,290,207,127,51,26,20,20,30,48,125,199,229,287,274,314,273,290,271,244,271,263,363,442,356,297,190,150,64,38,22,20,20],\"yaxis\":\"y\",\"type\":\"scattergl\"}],                        {\"template\":{\"data\":{\"bar\":[{\"error_x\":{\"color\":\"#2a3f5f\"},\"error_y\":{\"color\":\"#2a3f5f\"},\"marker\":{\"line\":{\"color\":\"#E5ECF6\",\"width\":0.5},\"pattern\":{\"fillmode\":\"overlay\",\"size\":10,\"solidity\":0.2}},\"type\":\"bar\"}],\"barpolar\":[{\"marker\":{\"line\":{\"color\":\"#E5ECF6\",\"width\":0.5},\"pattern\":{\"fillmode\":\"overlay\",\"size\":10,\"solidity\":0.2}},\"type\":\"barpolar\"}],\"carpet\":[{\"aaxis\":{\"endlinecolor\":\"#2a3f5f\",\"gridcolor\":\"white\",\"linecolor\":\"white\",\"minorgridcolor\":\"white\",\"startlinecolor\":\"#2a3f5f\"},\"baxis\":{\"endlinecolor\":\"#2a3f5f\",\"gridcolor\":\"white\",\"linecolor\":\"white\",\"minorgridcolor\":\"white\",\"startlinecolor\":\"#2a3f5f\"},\"type\":\"carpet\"}],\"choropleth\":[{\"colorbar\":{\"outlinewidth\":0,\"ticks\":\"\"},\"type\":\"choropleth\"}],\"contour\":[{\"colorbar\":{\"outlinewidth\":0,\"ticks\":\"\"},\"colorscale\":[[0.0,\"#0d0887\"],[0.1111111111111111,\"#46039f\"],[0.2222222222222222,\"#7201a8\"],[0.3333333333333333,\"#9c179e\"],[0.4444444444444444,\"#bd3786\"],[0.5555555555555556,\"#d8576b\"],[0.6666666666666666,\"#ed7953\"],[0.7777777777777778,\"#fb9f3a\"],[0.8888888888888888,\"#fdca26\"],[1.0,\"#f0f921\"]],\"type\":\"contour\"}],\"contourcarpet\":[{\"colorbar\":{\"outlinewidth\":0,\"ticks\":\"\"},\"type\":\"contourcarpet\"}],\"heatmap\":[{\"colorbar\":{\"outlinewidth\":0,\"ticks\":\"\"},\"colorscale\":[[0.0,\"#0d0887\"],[0.1111111111111111,\"#46039f\"],[0.2222222222222222,\"#7201a8\"],[0.3333333333333333,\"#9c179e\"],[0.4444444444444444,\"#bd3786\"],[0.5555555555555556,\"#d8576b\"],[0.6666666666666666,\"#ed7953\"],[0.7777777777777778,\"#fb9f3a\"],[0.8888888888888888,\"#fdca26\"],[1.0,\"#f0f921\"]],\"type\":\"heatmap\"}],\"heatmapgl\":[{\"colorbar\":{\"outlinewidth\":0,\"ticks\":\"\"},\"colorscale\":[[0.0,\"#0d0887\"],[0.1111111111111111,\"#46039f\"],[0.2222222222222222,\"#7201a8\"],[0.3333333333333333,\"#9c179e\"],[0.4444444444444444,\"#bd3786\"],[0.5555555555555556,\"#d8576b\"],[0.6666666666666666,\"#ed7953\"],[0.7777777777777778,\"#fb9f3a\"],[0.8888888888888888,\"#fdca26\"],[1.0,\"#f0f921\"]],\"type\":\"heatmapgl\"}],\"histogram\":[{\"marker\":{\"pattern\":{\"fillmode\":\"overlay\",\"size\":10,\"solidity\":0.2}},\"type\":\"histogram\"}],\"histogram2d\":[{\"colorbar\":{\"outlinewidth\":0,\"ticks\":\"\"},\"colorscale\":[[0.0,\"#0d0887\"],[0.1111111111111111,\"#46039f\"],[0.2222222222222222,\"#7201a8\"],[0.3333333333333333,\"#9c179e\"],[0.4444444444444444,\"#bd3786\"],[0.5555555555555556,\"#d8576b\"],[0.6666666666666666,\"#ed7953\"],[0.7777777777777778,\"#fb9f3a\"],[0.8888888888888888,\"#fdca26\"],[1.0,\"#f0f921\"]],\"type\":\"histogram2d\"}],\"histogram2dcontour\":[{\"colorbar\":{\"outlinewidth\":0,\"ticks\":\"\"},\"colorscale\":[[0.0,\"#0d0887\"],[0.1111111111111111,\"#46039f\"],[0.2222222222222222,\"#7201a8\"],[0.3333333333333333,\"#9c179e\"],[0.4444444444444444,\"#bd3786\"],[0.5555555555555556,\"#d8576b\"],[0.6666666666666666,\"#ed7953\"],[0.7777777777777778,\"#fb9f3a\"],[0.8888888888888888,\"#fdca26\"],[1.0,\"#f0f921\"]],\"type\":\"histogram2dcontour\"}],\"mesh3d\":[{\"colorbar\":{\"outlinewidth\":0,\"ticks\":\"\"},\"type\":\"mesh3d\"}],\"parcoords\":[{\"line\":{\"colorbar\":{\"outlinewidth\":0,\"ticks\":\"\"}},\"type\":\"parcoords\"}],\"pie\":[{\"automargin\":true,\"type\":\"pie\"}],\"scatter\":[{\"marker\":{\"colorbar\":{\"outlinewidth\":0,\"ticks\":\"\"}},\"type\":\"scatter\"}],\"scatter3d\":[{\"line\":{\"colorbar\":{\"outlinewidth\":0,\"ticks\":\"\"}},\"marker\":{\"colorbar\":{\"outlinewidth\":0,\"ticks\":\"\"}},\"type\":\"scatter3d\"}],\"scattercarpet\":[{\"marker\":{\"colorbar\":{\"outlinewidth\":0,\"ticks\":\"\"}},\"type\":\"scattercarpet\"}],\"scattergeo\":[{\"marker\":{\"colorbar\":{\"outlinewidth\":0,\"ticks\":\"\"}},\"type\":\"scattergeo\"}],\"scattergl\":[{\"marker\":{\"colorbar\":{\"outlinewidth\":0,\"ticks\":\"\"}},\"type\":\"scattergl\"}],\"scattermapbox\":[{\"marker\":{\"colorbar\":{\"outlinewidth\":0,\"ticks\":\"\"}},\"type\":\"scattermapbox\"}],\"scatterpolar\":[{\"marker\":{\"colorbar\":{\"outlinewidth\":0,\"ticks\":\"\"}},\"type\":\"scatterpolar\"}],\"scatterpolargl\":[{\"marker\":{\"colorbar\":{\"outlinewidth\":0,\"ticks\":\"\"}},\"type\":\"scatterpolargl\"}],\"scatterternary\":[{\"marker\":{\"colorbar\":{\"outlinewidth\":0,\"ticks\":\"\"}},\"type\":\"scatterternary\"}],\"surface\":[{\"colorbar\":{\"outlinewidth\":0,\"ticks\":\"\"},\"colorscale\":[[0.0,\"#0d0887\"],[0.1111111111111111,\"#46039f\"],[0.2222222222222222,\"#7201a8\"],[0.3333333333333333,\"#9c179e\"],[0.4444444444444444,\"#bd3786\"],[0.5555555555555556,\"#d8576b\"],[0.6666666666666666,\"#ed7953\"],[0.7777777777777778,\"#fb9f3a\"],[0.8888888888888888,\"#fdca26\"],[1.0,\"#f0f921\"]],\"type\":\"surface\"}],\"table\":[{\"cells\":{\"fill\":{\"color\":\"#EBF0F8\"},\"line\":{\"color\":\"white\"}},\"header\":{\"fill\":{\"color\":\"#C8D4E3\"},\"line\":{\"color\":\"white\"}},\"type\":\"table\"}]},\"layout\":{\"annotationdefaults\":{\"arrowcolor\":\"#2a3f5f\",\"arrowhead\":0,\"arrowwidth\":1},\"autotypenumbers\":\"strict\",\"coloraxis\":{\"colorbar\":{\"outlinewidth\":0,\"ticks\":\"\"}},\"colorscale\":{\"diverging\":[[0,\"#8e0152\"],[0.1,\"#c51b7d\"],[0.2,\"#de77ae\"],[0.3,\"#f1b6da\"],[0.4,\"#fde0ef\"],[0.5,\"#f7f7f7\"],[0.6,\"#e6f5d0\"],[0.7,\"#b8e186\"],[0.8,\"#7fbc41\"],[0.9,\"#4d9221\"],[1,\"#276419\"]],\"sequential\":[[0.0,\"#0d0887\"],[0.1111111111111111,\"#46039f\"],[0.2222222222222222,\"#7201a8\"],[0.3333333333333333,\"#9c179e\"],[0.4444444444444444,\"#bd3786\"],[0.5555555555555556,\"#d8576b\"],[0.6666666666666666,\"#ed7953\"],[0.7777777777777778,\"#fb9f3a\"],[0.8888888888888888,\"#fdca26\"],[1.0,\"#f0f921\"]],\"sequentialminus\":[[0.0,\"#0d0887\"],[0.1111111111111111,\"#46039f\"],[0.2222222222222222,\"#7201a8\"],[0.3333333333333333,\"#9c179e\"],[0.4444444444444444,\"#bd3786\"],[0.5555555555555556,\"#d8576b\"],[0.6666666666666666,\"#ed7953\"],[0.7777777777777778,\"#fb9f3a\"],[0.8888888888888888,\"#fdca26\"],[1.0,\"#f0f921\"]]},\"colorway\":[\"#636efa\",\"#EF553B\",\"#00cc96\",\"#ab63fa\",\"#FFA15A\",\"#19d3f3\",\"#FF6692\",\"#B6E880\",\"#FF97FF\",\"#FECB52\"],\"font\":{\"color\":\"#2a3f5f\"},\"geo\":{\"bgcolor\":\"white\",\"lakecolor\":\"white\",\"landcolor\":\"#E5ECF6\",\"showlakes\":true,\"showland\":true,\"subunitcolor\":\"white\"},\"hoverlabel\":{\"align\":\"left\"},\"hovermode\":\"closest\",\"mapbox\":{\"style\":\"light\"},\"paper_bgcolor\":\"white\",\"plot_bgcolor\":\"#E5ECF6\",\"polar\":{\"angularaxis\":{\"gridcolor\":\"white\",\"linecolor\":\"white\",\"ticks\":\"\"},\"bgcolor\":\"#E5ECF6\",\"radialaxis\":{\"gridcolor\":\"white\",\"linecolor\":\"white\",\"ticks\":\"\"}},\"scene\":{\"xaxis\":{\"backgroundcolor\":\"#E5ECF6\",\"gridcolor\":\"white\",\"gridwidth\":2,\"linecolor\":\"white\",\"showbackground\":true,\"ticks\":\"\",\"zerolinecolor\":\"white\"},\"yaxis\":{\"backgroundcolor\":\"#E5ECF6\",\"gridcolor\":\"white\",\"gridwidth\":2,\"linecolor\":\"white\",\"showbackground\":true,\"ticks\":\"\",\"zerolinecolor\":\"white\"},\"zaxis\":{\"backgroundcolor\":\"#E5ECF6\",\"gridcolor\":\"white\",\"gridwidth\":2,\"linecolor\":\"white\",\"showbackground\":true,\"ticks\":\"\",\"zerolinecolor\":\"white\"}},\"shapedefaults\":{\"line\":{\"color\":\"#2a3f5f\"}},\"ternary\":{\"aaxis\":{\"gridcolor\":\"white\",\"linecolor\":\"white\",\"ticks\":\"\"},\"baxis\":{\"gridcolor\":\"white\",\"linecolor\":\"white\",\"ticks\":\"\"},\"bgcolor\":\"#E5ECF6\",\"caxis\":{\"gridcolor\":\"white\",\"linecolor\":\"white\",\"ticks\":\"\"}},\"title\":{\"x\":0.05},\"xaxis\":{\"automargin\":true,\"gridcolor\":\"white\",\"linecolor\":\"white\",\"ticks\":\"\",\"title\":{\"standoff\":15},\"zerolinecolor\":\"white\",\"zerolinewidth\":2},\"yaxis\":{\"automargin\":true,\"gridcolor\":\"white\",\"linecolor\":\"white\",\"ticks\":\"\",\"title\":{\"standoff\":15},\"zerolinecolor\":\"white\",\"zerolinewidth\":2}}},\"xaxis\":{\"anchor\":\"y\",\"domain\":[0.0,1.0],\"title\":{\"text\":\"Date&Hour\"},\"rangeslider\":{\"visible\":true}},\"yaxis\":{\"anchor\":\"x\",\"domain\":[0.0,1.0],\"title\":{\"text\":\"Star Rating\"}},\"legend\":{\"tracegroupgap\":0},\"title\":{\"text\":\"Star Rating with Slider\"}},                        {\"responsive\": true}                    ).then(function(){\n",
              "                            \n",
              "var gd = document.getElementById('b4d0c62c-6f2b-43df-bc66-7c3162059bab');\n",
              "var x = new MutationObserver(function (mutations, observer) {{\n",
              "        var display = window.getComputedStyle(gd).display;\n",
              "        if (!display || display === 'none') {{\n",
              "            console.log([gd, 'removed!']);\n",
              "            Plotly.purge(gd);\n",
              "            observer.disconnect();\n",
              "        }}\n",
              "}});\n",
              "\n",
              "// Listen for the removal of the full notebook cells\n",
              "var notebookContainer = gd.closest('#notebook-container');\n",
              "if (notebookContainer) {{\n",
              "    x.observe(notebookContainer, {childList: true});\n",
              "}}\n",
              "\n",
              "// Listen for the clearing of the current output cell\n",
              "var outputEl = gd.closest('.output');\n",
              "if (outputEl) {{\n",
              "    x.observe(outputEl, {childList: true});\n",
              "}}\n",
              "\n",
              "                        })                };                            </script>        </div>\n",
              "</body>\n",
              "</html>"
            ]
          },
          "metadata": {}
        }
      ],
      "source": [
        "import plotly.express as px\n",
        "fig=px.line(dff, x='Date&Hour', y='Star Rating', title='Star Rating with Slider')\n",
        "fig.update_xaxes(rangeslider_visible=True)\n",
        "fig.show()"
      ]
    },
    {
      "cell_type": "code",
      "execution_count": null,
      "metadata": {
        "id": "UroHgB92GPKR"
      },
      "outputs": [],
      "source": [
        "dff['Date&Hour']=pd.to_datetime(dff['Date&Hour'], format=\"%d-%m-%Y %H\")\n",
        "dff.set_index('Date&Hour', inplace=True)\n",
        "dff= dff.asfreq(freq='h')\n",
        "dff = dff.fillna(method='bfill').fillna(method='ffill')"
      ]
    },
    {
      "cell_type": "code",
      "execution_count": null,
      "metadata": {
        "id": "3nTVDBf1GWkX",
        "colab": {
          "base_uri": "https://localhost:8080/",
          "height": 319
        },
        "outputId": "4a1377a4-e354-45f1-e3b1-362c7c298e25"
      },
      "outputs": [
        {
          "output_type": "execute_result",
          "data": {
            "text/plain": [
              "Text(0.5, 0.98, 'Additive Decompose')"
            ]
          },
          "metadata": {},
          "execution_count": 50
        },
        {
          "output_type": "display_data",
          "data": {
            "text/plain": [
              "<Figure size 432x288 with 4 Axes>"
            ],
            "image/png": "[encoded data removed]"
          },
          "metadata": {
            "needs_background": "light"
          }
        }
      ],
      "source": [
        "from statsmodels.tsa.seasonal import seasonal_decompose\n",
        "from dateutil.parser import parse\n",
        "# Additive Decomposition\n",
        "result_add = seasonal_decompose(dff['Star Rating'], model='additive')\n",
        "# Plot\n",
        "result_add.plot().suptitle('Additive Decompose')"
      ]
    },
    {
      "cell_type": "code",
      "source": [
        "from statsmodels.tsa.seasonal import seasonal_decompose\n",
        "from dateutil.parser import parse\n",
        "# Additive Decomposition\n",
        "result_add = seasonal_decompose(dff['Star Rating'], model='multiplicative')\n",
        "# Plot\n",
        "result_add.plot().suptitle('Multiplicative Decompose', fontsize=22)"
      ],
      "metadata": {
        "colab": {
          "base_uri": "https://localhost:8080/",
          "height": 319
        },
        "id": "kz1xmtchf0Mh",
        "outputId": "2659ce67-953e-48f3-bddf-2c7761ac2946"
      },
      "execution_count": null,
      "outputs": [
        {
          "output_type": "execute_result",
          "data": {
            "text/plain": [
              "Text(0.5, 0.98, 'Multiplicative Decompose')"
            ]
          },
          "metadata": {},
          "execution_count": 37
        },
        {
          "output_type": "display_data",
          "data": {
            "text/plain": [
              "<Figure size 432x288 with 4 Axes>"
            ],
            "image/png": "[encoded data removed]"
          },
          "metadata": {
            "needs_background": "light"
          }
        }
      ]
    },
    {
      "cell_type": "code",
      "execution_count": null,
      "metadata": {
        "id": "JjlWWnUrGlM8"
      },
      "outputs": [],
      "source": [
        "#get dummies to check individual ratings"
      ]
    },
    {
      "cell_type": "markdown",
      "metadata": {
        "id": "9LPXkSQoGc5F"
      },
      "source": [
        "**Checking Stationarity**"
      ]
    },
    {
      "cell_type": "code",
      "execution_count": null,
      "metadata": {
        "id": "hVHjkHHTGGa6",
        "colab": {
          "base_uri": "https://localhost:8080/"
        },
        "outputId": "4bcbedc0-eda4-4a8c-95bc-a60479760e2b"
      },
      "outputs": [
        {
          "output_type": "stream",
          "name": "stdout",
          "text": [
            "ADF Statistic: -3.0753246158891994\n",
            "p-value: 0.02843399242602672\n",
            "Series is Stationary\n",
            "KPSS Test Statistics: 0.2982711493775768\n",
            "p-value: 0.01\n",
            "Series is not Stationary\n"
          ]
        },
        {
          "output_type": "stream",
          "name": "stderr",
          "text": [
            "/usr/local/lib/python3.7/dist-packages/statsmodels/tsa/stattools.py:1685: FutureWarning:\n",
            "\n",
            "The behavior of using lags=None will change in the next release. Currently lags=None is the same as lags='legacy', and so a sample-size lag length is used. After the next release, the default will change to be the same as lags='auto' which uses an automatic lag length selection method. To silence this warning, either use 'auto' or 'legacy'\n",
            "\n",
            "/usr/local/lib/python3.7/dist-packages/statsmodels/tsa/stattools.py:1709: InterpolationWarning:\n",
            "\n",
            "p-value is smaller than the indicated p-value\n",
            "\n"
          ]
        }
      ],
      "source": [
        "from statsmodels.tsa.stattools import adfuller, kpss\n",
        "\n",
        "# ADF Test\n",
        "result = adfuller(dff['Star Rating'], autolag='AIC')\n",
        "print(f'ADF Statistic: {result[0]}')\n",
        "print(f'p-value: {result[1]}')\n",
        "\n",
        "if result[1] > 0.05:\n",
        "    print('Series is not Stationary')\n",
        "else:\n",
        "    print('Series is Stationary')\n",
        "\n",
        "\n",
        "# KPSS Test\n",
        "stats, p, lags, critical_values = kpss(dff['Star Rating'], 'ct')\n",
        "print(f'KPSS Test Statistics: {stats}')\n",
        "print(f'p-value: {p}')\n",
        "\n",
        "if p<0.05:\n",
        "      print('Series is not Stationary')\n",
        "else:\n",
        "      print('Series is Stationary')"
      ]
    },
    {
      "cell_type": "code",
      "execution_count": null,
      "metadata": {
        "id": "nWxOeMm4CvT-"
      },
      "outputs": [],
      "source": []
    }
  ],
  "metadata": {
    "colab": {
      "provenance": []
    },
    "kernelspec": {
      "display_name": "Python 3",
      "language": "python",
      "name": "python3"
    },
    "language_info": {
      "codemirror_mode": {
        "name": "ipython",
        "version": 3
      },
      "file_extension": ".py",
      "mimetype": "text/x-python",
      "name": "python",
      "nbconvert_exporter": "python",
      "pygments_lexer": "ipython3",
      "version": "3.8.3"
    }
  },
  "nbformat": 4,
  "nbformat_minor": 0
}